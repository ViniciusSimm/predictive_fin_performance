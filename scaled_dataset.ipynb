{
 "cells": [
  {
   "cell_type": "code",
   "execution_count": 1,
   "metadata": {},
   "outputs": [
    {
     "data": {
      "text/html": [
       "<div>\n",
       "<style scoped>\n",
       "    .dataframe tbody tr th:only-of-type {\n",
       "        vertical-align: middle;\n",
       "    }\n",
       "\n",
       "    .dataframe tbody tr th {\n",
       "        vertical-align: top;\n",
       "    }\n",
       "\n",
       "    .dataframe thead th {\n",
       "        text-align: right;\n",
       "    }\n",
       "</style>\n",
       "<table border=\"1\" class=\"dataframe\">\n",
       "  <thead>\n",
       "    <tr style=\"text-align: right;\">\n",
       "      <th></th>\n",
       "      <th>A</th>\n",
       "      <th>E</th>\n",
       "      <th>N</th>\n",
       "      <th>Tmax</th>\n",
       "    </tr>\n",
       "  </thead>\n",
       "  <tbody>\n",
       "    <tr>\n",
       "      <th>0</th>\n",
       "      <td>25</td>\n",
       "      <td>1</td>\n",
       "      <td>11</td>\n",
       "      <td>67.67</td>\n",
       "    </tr>\n",
       "    <tr>\n",
       "      <th>1</th>\n",
       "      <td>25</td>\n",
       "      <td>1</td>\n",
       "      <td>5</td>\n",
       "      <td>126.85</td>\n",
       "    </tr>\n",
       "    <tr>\n",
       "      <th>2</th>\n",
       "      <td>25</td>\n",
       "      <td>2</td>\n",
       "      <td>8</td>\n",
       "      <td>72.71</td>\n",
       "    </tr>\n",
       "    <tr>\n",
       "      <th>3</th>\n",
       "      <td>25</td>\n",
       "      <td>3</td>\n",
       "      <td>11</td>\n",
       "      <td>162.85</td>\n",
       "    </tr>\n",
       "    <tr>\n",
       "      <th>4</th>\n",
       "      <td>25</td>\n",
       "      <td>3</td>\n",
       "      <td>5</td>\n",
       "      <td>94.85</td>\n",
       "    </tr>\n",
       "    <tr>\n",
       "      <th>5</th>\n",
       "      <td>35</td>\n",
       "      <td>1</td>\n",
       "      <td>8</td>\n",
       "      <td>61.15</td>\n",
       "    </tr>\n",
       "    <tr>\n",
       "      <th>6</th>\n",
       "      <td>35</td>\n",
       "      <td>2</td>\n",
       "      <td>11</td>\n",
       "      <td>63.03</td>\n",
       "    </tr>\n",
       "    <tr>\n",
       "      <th>7</th>\n",
       "      <td>35</td>\n",
       "      <td>2</td>\n",
       "      <td>5</td>\n",
       "      <td>77.35</td>\n",
       "    </tr>\n",
       "    <tr>\n",
       "      <th>8</th>\n",
       "      <td>35</td>\n",
       "      <td>3</td>\n",
       "      <td>8</td>\n",
       "      <td>63.25</td>\n",
       "    </tr>\n",
       "    <tr>\n",
       "      <th>9</th>\n",
       "      <td>25</td>\n",
       "      <td>1</td>\n",
       "      <td>8</td>\n",
       "      <td>76.30</td>\n",
       "    </tr>\n",
       "    <tr>\n",
       "      <th>10</th>\n",
       "      <td>25</td>\n",
       "      <td>2</td>\n",
       "      <td>5</td>\n",
       "      <td>98.76</td>\n",
       "    </tr>\n",
       "    <tr>\n",
       "      <th>11</th>\n",
       "      <td>35</td>\n",
       "      <td>3</td>\n",
       "      <td>11</td>\n",
       "      <td>94.70</td>\n",
       "    </tr>\n",
       "  </tbody>\n",
       "</table>\n",
       "</div>"
      ],
      "text/plain": [
       "     A  E   N    Tmax\n",
       "0   25  1  11   67.67\n",
       "1   25  1   5  126.85\n",
       "2   25  2   8   72.71\n",
       "3   25  3  11  162.85\n",
       "4   25  3   5   94.85\n",
       "5   35  1   8   61.15\n",
       "6   35  2  11   63.03\n",
       "7   35  2   5   77.35\n",
       "8   35  3   8   63.25\n",
       "9   25  1   8   76.30\n",
       "10  25  2   5   98.76\n",
       "11  35  3  11   94.70"
      ]
     },
     "execution_count": 1,
     "metadata": {},
     "output_type": "execute_result"
    }
   ],
   "source": [
    "import pandas as pd\n",
    "database = pd.read_excel('database_TCC.xlsx')\n",
    "database = database[['A','E','N','Tmax']]\n",
    "database"
   ]
  },
  {
   "cell_type": "code",
   "execution_count": 2,
   "metadata": {},
   "outputs": [],
   "source": [
    "from sklearn.preprocessing import StandardScaler\n",
    "standardscaler = StandardScaler()\n",
    "standardscaler.fit(database)\n",
    "data = standardscaler.transform(database)\n",
    "database = pd.DataFrame(data,columns=database.columns)"
   ]
  },
  {
   "cell_type": "code",
   "execution_count": 3,
   "metadata": {},
   "outputs": [],
   "source": [
    "from sklearn.metrics import r2_score,mean_squared_error,mean_absolute_error,max_error\n",
    "\n",
    "def split_x_and_y(database,x,y):\n",
    "  dataset_x = database[x]\n",
    "  dataset_y = database[y]\n",
    "  return dataset_x,dataset_y\n",
    "\n",
    "\n",
    "def scores(Y_true, Y_predicted):\n",
    "  r2 = r2_score(Y_true, Y_predicted)\n",
    "  meansquarederror = mean_squared_error(Y_true, Y_predicted)\n",
    "  meanabsoluteerror = mean_absolute_error(Y_true, Y_predicted)\n",
    "  maxerror = max_error(Y_true, Y_predicted)\n",
    "\n",
    "  print('r2:',r2,'meansquarederror:',meansquarederror,'meanabsoluteerror:',meanabsoluteerror,'maxerror:',maxerror)\n",
    "  return r2,meansquarederror,meanabsoluteerror,maxerror\n"
   ]
  },
  {
   "cell_type": "markdown",
   "metadata": {},
   "source": [
    "# Random Forest Regressor"
   ]
  },
  {
   "cell_type": "code",
   "execution_count": 4,
   "metadata": {},
   "outputs": [],
   "source": [
    "dataset_x,dataset_y = split_x_and_y(database,['A','E','N'],'Tmax')"
   ]
  },
  {
   "cell_type": "code",
   "execution_count": 5,
   "metadata": {},
   "outputs": [
    {
     "data": {
      "text/plain": [
       "0.8342861330829303"
      ]
     },
     "execution_count": 5,
     "metadata": {},
     "output_type": "execute_result"
    }
   ],
   "source": [
    "from sklearn.ensemble import RandomForestRegressor\n",
    "RFR = RandomForestRegressor(n_estimators=1000)\n",
    "RFR.fit(dataset_x,dataset_y)\n",
    "RFR.score(dataset_x,dataset_y)"
   ]
  },
  {
   "cell_type": "code",
   "execution_count": 6,
   "metadata": {},
   "outputs": [
    {
     "data": {
      "text/plain": [
       "0.6983549982813197"
      ]
     },
     "execution_count": 6,
     "metadata": {},
     "output_type": "execute_result"
    }
   ],
   "source": [
    "# database.iloc[[0,2,4,5,7,8]]\n",
    "\n",
    "dataset_x,dataset_y = split_x_and_y(database.iloc[[0,1,2,3,4,5,6,7,8]],['A','E','N'],'Tmax')\n",
    "\n",
    "test_x,test_y = split_x_and_y(database.iloc[[9,10,11]],['A','E','N'],'Tmax')\n",
    "\n",
    "from sklearn.ensemble import RandomForestRegressor\n",
    "RFR = RandomForestRegressor(n_estimators=1000)\n",
    "RFR.fit(dataset_x,dataset_y)\n",
    "RFR.score(test_x,test_y)"
   ]
  },
  {
   "cell_type": "code",
   "execution_count": 7,
   "metadata": {},
   "outputs": [
    {
     "name": "stdout",
     "output_type": "stream",
     "text": [
      "[-0.10245767  0.39924701  0.28871631]\n",
      "9    -0.411774\n",
      "10    0.359626\n",
      "11    0.220183\n",
      "Name: Tmax, dtype: float64\n"
     ]
    }
   ],
   "source": [
    "print(RFR.predict(X = test_x))\n",
    "print(test_y)"
   ]
  },
  {
   "cell_type": "markdown",
   "metadata": {},
   "source": [
    "# SVM"
   ]
  },
  {
   "cell_type": "code",
   "execution_count": 8,
   "metadata": {},
   "outputs": [
    {
     "data": {
      "text/plain": [
       "0.6195483027312697"
      ]
     },
     "execution_count": 8,
     "metadata": {},
     "output_type": "execute_result"
    }
   ],
   "source": [
    "from sklearn import svm\n",
    "regr = svm.SVR()\n",
    "dataset_x,dataset_y = split_x_and_y(database,['A','E','N'],'Tmax')\n",
    "regr.fit(dataset_x,dataset_y)\n",
    "regr.score(dataset_x,dataset_y)"
   ]
  },
  {
   "cell_type": "code",
   "execution_count": 9,
   "metadata": {},
   "outputs": [
    {
     "data": {
      "text/plain": [
       "-0.6642206122135585"
      ]
     },
     "execution_count": 9,
     "metadata": {},
     "output_type": "execute_result"
    }
   ],
   "source": [
    "dataset_x,dataset_y = split_x_and_y(database.iloc[[0,1,2,3,4,5,6,7,8]],['A','E','N'],'Tmax')\n",
    "\n",
    "test_x,test_y = split_x_and_y(database.iloc[[9,10,11]],['A','E','N'],'Tmax')\n",
    "\n",
    "from sklearn import svm\n",
    "regr = svm.SVR()\n",
    "regr.fit(dataset_x,dataset_y)\n",
    "regr.score(test_x,test_y)"
   ]
  },
  {
   "cell_type": "markdown",
   "metadata": {},
   "source": [
    "# Linear Regression"
   ]
  },
  {
   "cell_type": "code",
   "execution_count": 10,
   "metadata": {},
   "outputs": [
    {
     "data": {
      "text/plain": [
       "0.38788075648747644"
      ]
     },
     "execution_count": 10,
     "metadata": {},
     "output_type": "execute_result"
    }
   ],
   "source": [
    "from sklearn.linear_model import LinearRegression\n",
    "LR = LinearRegression()\n",
    "dataset_x,dataset_y = split_x_and_y(database,['A','E','N'],'Tmax')\n",
    "LR.fit(dataset_x,dataset_y)\n",
    "LR.score(dataset_x,dataset_y)"
   ]
  },
  {
   "cell_type": "code",
   "execution_count": 11,
   "metadata": {},
   "outputs": [
    {
     "data": {
      "text/plain": [
       "-1.4847075093225235"
      ]
     },
     "execution_count": 11,
     "metadata": {},
     "output_type": "execute_result"
    }
   ],
   "source": [
    "dataset_x,dataset_y = split_x_and_y(database.iloc[[0,1,2,3,4,5,6,7,8]],['A','E','N'],'Tmax')\n",
    "\n",
    "test_x,test_y = split_x_and_y(database.iloc[[9,10,11]],['A','E','N'],'Tmax')\n",
    "\n",
    "from sklearn.linear_model import LinearRegression\n",
    "LR = LinearRegression()\n",
    "LR.fit(dataset_x,dataset_y)\n",
    "LR.score(test_x,test_y)"
   ]
  },
  {
   "cell_type": "markdown",
   "metadata": {},
   "source": [
    "# SGD"
   ]
  },
  {
   "cell_type": "code",
   "execution_count": 14,
   "metadata": {},
   "outputs": [
    {
     "data": {
      "text/plain": [
       "0.3498448241678096"
      ]
     },
     "execution_count": 14,
     "metadata": {},
     "output_type": "execute_result"
    }
   ],
   "source": [
    "from sklearn.linear_model import SGDRegressor\n",
    "SGD = SGDRegressor()\n",
    "dataset_x,dataset_y = split_x_and_y(database,['A','E','N'],'Tmax')\n",
    "SGD.fit(dataset_x,dataset_y)\n",
    "SGD.score(dataset_x,dataset_y)"
   ]
  },
  {
   "cell_type": "code",
   "execution_count": 15,
   "metadata": {},
   "outputs": [
    {
     "data": {
      "text/plain": [
       "-0.7712996868222046"
      ]
     },
     "execution_count": 15,
     "metadata": {},
     "output_type": "execute_result"
    }
   ],
   "source": [
    "dataset_x,dataset_y = split_x_and_y(database.iloc[[0,1,2,3,4,5,6,7,8]],['A','E','N'],'Tmax')\n",
    "\n",
    "test_x,test_y = split_x_and_y(database.iloc[[9,10,11]],['A','E','N'],'Tmax')\n",
    "\n",
    "from sklearn.linear_model import SGDRegressor\n",
    "SGD = SGDRegressor()\n",
    "SGD.fit(dataset_x,dataset_y)\n",
    "SGD.score(test_x,test_y)"
   ]
  },
  {
   "cell_type": "markdown",
   "metadata": {},
   "source": [
    "# BayesianRidge"
   ]
  },
  {
   "cell_type": "code",
   "execution_count": 19,
   "metadata": {},
   "outputs": [
    {
     "data": {
      "text/plain": [
       "0.24011573474862025"
      ]
     },
     "execution_count": 19,
     "metadata": {},
     "output_type": "execute_result"
    }
   ],
   "source": [
    "from sklearn.linear_model import BayesianRidge\n",
    "bayesian = BayesianRidge()\n",
    "dataset_x,dataset_y = split_x_and_y(database,['A','E','N'],'Tmax')\n",
    "bayesian.fit(dataset_x,dataset_y)\n",
    "bayesian.score(dataset_x,dataset_y)"
   ]
  },
  {
   "cell_type": "code",
   "execution_count": 20,
   "metadata": {},
   "outputs": [
    {
     "data": {
      "text/plain": [
       "-0.11081781340792429"
      ]
     },
     "execution_count": 20,
     "metadata": {},
     "output_type": "execute_result"
    }
   ],
   "source": [
    "dataset_x,dataset_y = split_x_and_y(database.iloc[[0,1,2,3,4,5,6,7,8]],['A','E','N'],'Tmax')\n",
    "\n",
    "test_x,test_y = split_x_and_y(database.iloc[[9,10,11]],['A','E','N'],'Tmax')\n",
    "\n",
    "from sklearn.linear_model import BayesianRidge\n",
    "bayesian = BayesianRidge()\n",
    "bayesian.fit(dataset_x,dataset_y)\n",
    "bayesian.score(test_x,test_y)"
   ]
  },
  {
   "cell_type": "markdown",
   "metadata": {},
   "source": [
    "# MLP"
   ]
  },
  {
   "cell_type": "code",
   "execution_count": 21,
   "metadata": {},
   "outputs": [
    {
     "data": {
      "text/plain": [
       "0.9942359828807333"
      ]
     },
     "execution_count": 21,
     "metadata": {},
     "output_type": "execute_result"
    }
   ],
   "source": [
    "from sklearn.neural_network import MLPRegressor\n",
    "MLP = MLPRegressor(max_iter=1000)\n",
    "dataset_x,dataset_y = split_x_and_y(database,['A','E','N'],'Tmax')\n",
    "MLP.fit(dataset_x,dataset_y)\n",
    "MLP.score(dataset_x,dataset_y)"
   ]
  },
  {
   "cell_type": "code",
   "execution_count": 24,
   "metadata": {},
   "outputs": [
    {
     "data": {
      "text/plain": [
       "0.6823247327121325"
      ]
     },
     "execution_count": 24,
     "metadata": {},
     "output_type": "execute_result"
    }
   ],
   "source": [
    "dataset_x,dataset_y = split_x_and_y(database.iloc[[0,1,2,3,4,5,6,7,8]],['A','E','N'],'Tmax')\n",
    "\n",
    "test_x,test_y = split_x_and_y(database.iloc[[9,10,11]],['A','E','N'],'Tmax')\n",
    "\n",
    "from sklearn.neural_network import MLPRegressor\n",
    "MLP = MLPRegressor(max_iter=1000)\n",
    "MLP.fit(dataset_x,dataset_y)\n",
    "MLP.score(test_x,test_y)"
   ]
  },
  {
   "cell_type": "markdown",
   "metadata": {},
   "source": [
    "# Polynomial and Linear"
   ]
  },
  {
   "cell_type": "code",
   "execution_count": 25,
   "metadata": {},
   "outputs": [
    {
     "data": {
      "text/plain": [
       "0.9887947794348647"
      ]
     },
     "execution_count": 25,
     "metadata": {},
     "output_type": "execute_result"
    }
   ],
   "source": [
    "from sklearn.preprocessing import PolynomialFeatures\n",
    "from sklearn.linear_model import LinearRegression\n",
    "\n",
    "poly = PolynomialFeatures(2)\n",
    "LR = LinearRegression()\n",
    "\n",
    "dataset_x,dataset_y = split_x_and_y(database,['A','E','N'],'Tmax')\n",
    "\n",
    "dataset_x_transformed = poly.fit_transform(dataset_x)\n",
    "\n",
    "LR.fit(dataset_x_transformed,dataset_y)\n",
    "LR.score(dataset_x_transformed,dataset_y)"
   ]
  },
  {
   "cell_type": "code",
   "execution_count": 1,
   "metadata": {},
   "outputs": [
    {
     "ename": "NameError",
     "evalue": "name 'split_x_and_y' is not defined",
     "output_type": "error",
     "traceback": [
      "\u001b[1;31m---------------------------------------------------------------------------\u001b[0m",
      "\u001b[1;31mNameError\u001b[0m                                 Traceback (most recent call last)",
      "\u001b[1;32mc:\\Users\\vinao\\OneDrive\\Documents\\Github\\predictive_fin_performance\\predictive_fin_performance\\scaled_dataset.ipynb Cell 1'\u001b[0m in \u001b[0;36m<cell line: 1>\u001b[1;34m()\u001b[0m\n\u001b[1;32m----> <a href='vscode-notebook-cell:/c%3A/Users/vinao/OneDrive/Documents/Github/predictive_fin_performance/predictive_fin_performance/scaled_dataset.ipynb#ch0000000?line=0'>1</a>\u001b[0m dataset_x,dataset_y \u001b[39m=\u001b[39m split_x_and_y(database\u001b[39m.\u001b[39miloc[[\u001b[39m0\u001b[39m,\u001b[39m1\u001b[39m,\u001b[39m2\u001b[39m,\u001b[39m3\u001b[39m,\u001b[39m4\u001b[39m,\u001b[39m5\u001b[39m,\u001b[39m6\u001b[39m,\u001b[39m7\u001b[39m,\u001b[39m8\u001b[39m]],[\u001b[39m'\u001b[39m\u001b[39mA\u001b[39m\u001b[39m'\u001b[39m,\u001b[39m'\u001b[39m\u001b[39mE\u001b[39m\u001b[39m'\u001b[39m,\u001b[39m'\u001b[39m\u001b[39mN\u001b[39m\u001b[39m'\u001b[39m],\u001b[39m'\u001b[39m\u001b[39mTmax\u001b[39m\u001b[39m'\u001b[39m)\n\u001b[0;32m      <a href='vscode-notebook-cell:/c%3A/Users/vinao/OneDrive/Documents/Github/predictive_fin_performance/predictive_fin_performance/scaled_dataset.ipynb#ch0000000?line=2'>3</a>\u001b[0m test_x,test_y \u001b[39m=\u001b[39m split_x_and_y(database\u001b[39m.\u001b[39miloc[[\u001b[39m9\u001b[39m,\u001b[39m10\u001b[39m,\u001b[39m11\u001b[39m]],[\u001b[39m'\u001b[39m\u001b[39mA\u001b[39m\u001b[39m'\u001b[39m,\u001b[39m'\u001b[39m\u001b[39mE\u001b[39m\u001b[39m'\u001b[39m,\u001b[39m'\u001b[39m\u001b[39mN\u001b[39m\u001b[39m'\u001b[39m],\u001b[39m'\u001b[39m\u001b[39mTmax\u001b[39m\u001b[39m'\u001b[39m)\n\u001b[0;32m      <a href='vscode-notebook-cell:/c%3A/Users/vinao/OneDrive/Documents/Github/predictive_fin_performance/predictive_fin_performance/scaled_dataset.ipynb#ch0000000?line=4'>5</a>\u001b[0m \u001b[39mfrom\u001b[39;00m \u001b[39msklearn\u001b[39;00m\u001b[39m.\u001b[39;00m\u001b[39mpreprocessing\u001b[39;00m \u001b[39mimport\u001b[39;00m PolynomialFeatures\n",
      "\u001b[1;31mNameError\u001b[0m: name 'split_x_and_y' is not defined"
     ]
    }
   ],
   "source": [
    "dataset_x,dataset_y = split_x_and_y(database.iloc[[0,1,2,3,4,5,6,7,8]],['A','E','N'],'Tmax')\n",
    "\n",
    "test_x,test_y = split_x_and_y(database.iloc[[9,10,11]],['A','E','N'],'Tmax')\n",
    "\n",
    "from sklearn.preprocessing import PolynomialFeatures\n",
    "from sklearn.linear_model import LinearRegression\n",
    "\n",
    "poly = PolynomialFeatures(5)\n",
    "LR = LinearRegression()\n",
    "\n",
    "dataset_x_transformed = poly.fit_transform(dataset_x)\n",
    "test_x_transformed = poly.fit_transform(test_x)\n",
    "\n",
    "LR.fit(dataset_x_transformed,dataset_y)\n",
    "LR.score(test_x_transformed,test_y)"
   ]
  },
  {
   "cell_type": "markdown",
   "metadata": {},
   "source": [
    "# Ridge"
   ]
  },
  {
   "cell_type": "code",
   "execution_count": 34,
   "metadata": {},
   "outputs": [
    {
     "data": {
      "text/plain": [
       "0.38436590454105013"
      ]
     },
     "execution_count": 34,
     "metadata": {},
     "output_type": "execute_result"
    }
   ],
   "source": [
    "from sklearn.linear_model import Ridge\n",
    "ridge = Ridge()\n",
    "dataset_x,dataset_y = split_x_and_y(database,['A','E','N'],'Tmax')\n",
    "ridge.fit(dataset_x,dataset_y)\n",
    "ridge.score(dataset_x,dataset_y)"
   ]
  },
  {
   "cell_type": "code",
   "execution_count": 35,
   "metadata": {},
   "outputs": [
    {
     "data": {
      "text/plain": [
       "-1.1902408075718736"
      ]
     },
     "execution_count": 35,
     "metadata": {},
     "output_type": "execute_result"
    }
   ],
   "source": [
    "dataset_x,dataset_y = split_x_and_y(database.iloc[[0,1,2,3,4,5,6,7,8]],['A','E','N'],'Tmax')\n",
    "\n",
    "test_x,test_y = split_x_and_y(database.iloc[[9,10,11]],['A','E','N'],'Tmax')\n",
    "\n",
    "from sklearn.linear_model import Ridge\n",
    "ridge = Ridge()\n",
    "ridge.fit(dataset_x,dataset_y)\n",
    "ridge.score(test_x,test_y)"
   ]
  },
  {
   "cell_type": "markdown",
   "metadata": {},
   "source": [
    "# Keras"
   ]
  },
  {
   "cell_type": "code",
   "execution_count": 36,
   "metadata": {},
   "outputs": [
    {
     "data": {
      "text/plain": [
       "(12, 3)"
      ]
     },
     "execution_count": 36,
     "metadata": {},
     "output_type": "execute_result"
    }
   ],
   "source": [
    "variables,results = split_x_and_y(database,['A','E','N'],'Tmax')\n",
    "variables.values.shape"
   ]
  },
  {
   "cell_type": "code",
   "execution_count": 37,
   "metadata": {},
   "outputs": [
    {
     "name": "stdout",
     "output_type": "stream",
     "text": [
      "Epoch 1/300\n",
      "1/1 [==============================] - 1s 557ms/step - loss: 2.1789 - accuracy: 0.0000e+00\n",
      "Epoch 2/300\n",
      "1/1 [==============================] - 0s 5ms/step - loss: 2.1249 - accuracy: 0.0000e+00\n",
      "Epoch 3/300\n",
      "1/1 [==============================] - 0s 5ms/step - loss: 2.0728 - accuracy: 0.0000e+00\n",
      "Epoch 4/300\n",
      "1/1 [==============================] - 0s 5ms/step - loss: 2.0227 - accuracy: 0.0000e+00\n",
      "Epoch 5/300\n",
      "1/1 [==============================] - 0s 6ms/step - loss: 1.9747 - accuracy: 0.0000e+00\n",
      "Epoch 6/300\n",
      "1/1 [==============================] - 0s 6ms/step - loss: 1.9290 - accuracy: 0.0000e+00\n",
      "Epoch 7/300\n",
      "1/1 [==============================] - 0s 6ms/step - loss: 1.8856 - accuracy: 0.0000e+00\n",
      "Epoch 8/300\n",
      "1/1 [==============================] - 0s 5ms/step - loss: 1.8445 - accuracy: 0.0000e+00\n",
      "Epoch 9/300\n",
      "1/1 [==============================] - 0s 5ms/step - loss: 1.8057 - accuracy: 0.0000e+00\n",
      "Epoch 10/300\n",
      "1/1 [==============================] - 0s 4ms/step - loss: 1.7692 - accuracy: 0.0000e+00\n",
      "Epoch 11/300\n",
      "1/1 [==============================] - 0s 4ms/step - loss: 1.7349 - accuracy: 0.0000e+00\n",
      "Epoch 12/300\n",
      "1/1 [==============================] - 0s 5ms/step - loss: 1.7029 - accuracy: 0.0000e+00\n",
      "Epoch 13/300\n",
      "1/1 [==============================] - 0s 5ms/step - loss: 1.6729 - accuracy: 0.0000e+00\n",
      "Epoch 14/300\n",
      "1/1 [==============================] - 0s 4ms/step - loss: 1.6450 - accuracy: 0.0000e+00\n",
      "Epoch 15/300\n",
      "1/1 [==============================] - 0s 4ms/step - loss: 1.6191 - accuracy: 0.0000e+00\n",
      "Epoch 16/300\n",
      "1/1 [==============================] - 0s 6ms/step - loss: 1.5950 - accuracy: 0.0000e+00\n",
      "Epoch 17/300\n",
      "1/1 [==============================] - 0s 5ms/step - loss: 1.5727 - accuracy: 0.0000e+00\n",
      "Epoch 18/300\n",
      "1/1 [==============================] - 0s 5ms/step - loss: 1.5520 - accuracy: 0.0000e+00\n",
      "Epoch 19/300\n",
      "1/1 [==============================] - 0s 7ms/step - loss: 1.5328 - accuracy: 0.0000e+00\n",
      "Epoch 20/300\n",
      "1/1 [==============================] - 0s 5ms/step - loss: 1.5151 - accuracy: 0.0000e+00\n",
      "Epoch 21/300\n",
      "1/1 [==============================] - 0s 4ms/step - loss: 1.4987 - accuracy: 0.0000e+00\n",
      "Epoch 22/300\n",
      "1/1 [==============================] - 0s 4ms/step - loss: 1.4836 - accuracy: 0.0000e+00\n",
      "Epoch 23/300\n",
      "1/1 [==============================] - 0s 4ms/step - loss: 1.4696 - accuracy: 0.0000e+00\n",
      "Epoch 24/300\n",
      "1/1 [==============================] - 0s 3ms/step - loss: 1.4567 - accuracy: 0.0000e+00\n",
      "Epoch 25/300\n",
      "1/1 [==============================] - 0s 5ms/step - loss: 1.4447 - accuracy: 0.0000e+00\n",
      "Epoch 26/300\n",
      "1/1 [==============================] - 0s 5ms/step - loss: 1.4337 - accuracy: 0.0000e+00\n",
      "Epoch 27/300\n",
      "1/1 [==============================] - 0s 5ms/step - loss: 1.4235 - accuracy: 0.0000e+00\n",
      "Epoch 28/300\n",
      "1/1 [==============================] - 0s 5ms/step - loss: 1.4140 - accuracy: 0.0000e+00\n",
      "Epoch 29/300\n",
      "1/1 [==============================] - 0s 5ms/step - loss: 1.4053 - accuracy: 0.0000e+00\n",
      "Epoch 30/300\n",
      "1/1 [==============================] - 0s 4ms/step - loss: 1.3972 - accuracy: 0.0000e+00\n",
      "Epoch 31/300\n",
      "1/1 [==============================] - 0s 6ms/step - loss: 1.3897 - accuracy: 0.0000e+00\n",
      "Epoch 32/300\n",
      "1/1 [==============================] - 0s 5ms/step - loss: 1.3827 - accuracy: 0.0000e+00\n",
      "Epoch 33/300\n",
      "1/1 [==============================] - 0s 5ms/step - loss: 1.3763 - accuracy: 0.0000e+00\n",
      "Epoch 34/300\n",
      "1/1 [==============================] - 0s 5ms/step - loss: 1.3703 - accuracy: 0.0000e+00\n",
      "Epoch 35/300\n",
      "1/1 [==============================] - 0s 5ms/step - loss: 1.3648 - accuracy: 0.0000e+00\n",
      "Epoch 36/300\n",
      "1/1 [==============================] - 0s 5ms/step - loss: 1.3597 - accuracy: 0.0000e+00\n",
      "Epoch 37/300\n",
      "1/1 [==============================] - 0s 6ms/step - loss: 1.3549 - accuracy: 0.0000e+00\n",
      "Epoch 38/300\n",
      "1/1 [==============================] - 0s 4ms/step - loss: 1.3505 - accuracy: 0.0000e+00\n",
      "Epoch 39/300\n",
      "1/1 [==============================] - 0s 4ms/step - loss: 1.3464 - accuracy: 0.0000e+00\n",
      "Epoch 40/300\n",
      "1/1 [==============================] - 0s 22ms/step - loss: 1.3426 - accuracy: 0.0000e+00\n",
      "Epoch 41/300\n",
      "1/1 [==============================] - 0s 5ms/step - loss: 1.3390 - accuracy: 0.0000e+00\n",
      "Epoch 42/300\n",
      "1/1 [==============================] - 0s 6ms/step - loss: 1.3357 - accuracy: 0.0000e+00\n",
      "Epoch 43/300\n",
      "1/1 [==============================] - 0s 5ms/step - loss: 1.3327 - accuracy: 0.0000e+00\n",
      "Epoch 44/300\n",
      "1/1 [==============================] - 0s 5ms/step - loss: 1.3299 - accuracy: 0.0000e+00\n",
      "Epoch 45/300\n",
      "1/1 [==============================] - 0s 4ms/step - loss: 1.3272 - accuracy: 0.0000e+00\n",
      "Epoch 46/300\n",
      "1/1 [==============================] - 0s 4ms/step - loss: 1.3248 - accuracy: 0.0000e+00\n",
      "Epoch 47/300\n",
      "1/1 [==============================] - 0s 5ms/step - loss: 1.3225 - accuracy: 0.0000e+00\n",
      "Epoch 48/300\n",
      "1/1 [==============================] - 0s 4ms/step - loss: 1.3204 - accuracy: 0.0000e+00\n",
      "Epoch 49/300\n",
      "1/1 [==============================] - 0s 6ms/step - loss: 1.3184 - accuracy: 0.0000e+00\n",
      "Epoch 50/300\n",
      "1/1 [==============================] - 0s 6ms/step - loss: 1.3166 - accuracy: 0.0000e+00\n",
      "Epoch 51/300\n",
      "1/1 [==============================] - 0s 5ms/step - loss: 1.3149 - accuracy: 0.0000e+00\n",
      "Epoch 52/300\n",
      "1/1 [==============================] - 0s 6ms/step - loss: 1.3133 - accuracy: 0.0000e+00\n",
      "Epoch 53/300\n",
      "1/1 [==============================] - 0s 5ms/step - loss: 1.3119 - accuracy: 0.0000e+00\n",
      "Epoch 54/300\n",
      "1/1 [==============================] - 0s 5ms/step - loss: 1.3105 - accuracy: 0.0000e+00\n",
      "Epoch 55/300\n",
      "1/1 [==============================] - 0s 5ms/step - loss: 1.3093 - accuracy: 0.0000e+00\n",
      "Epoch 56/300\n",
      "1/1 [==============================] - 0s 5ms/step - loss: 1.3081 - accuracy: 0.0000e+00\n",
      "Epoch 57/300\n",
      "1/1 [==============================] - 0s 4ms/step - loss: 1.3070 - accuracy: 0.0000e+00\n",
      "Epoch 58/300\n",
      "1/1 [==============================] - 0s 6ms/step - loss: 1.3060 - accuracy: 0.0000e+00\n",
      "Epoch 59/300\n",
      "1/1 [==============================] - 0s 4ms/step - loss: 1.3051 - accuracy: 0.0000e+00\n",
      "Epoch 60/300\n",
      "1/1 [==============================] - 0s 5ms/step - loss: 1.3042 - accuracy: 0.0000e+00\n",
      "Epoch 61/300\n",
      "1/1 [==============================] - 0s 4ms/step - loss: 1.3034 - accuracy: 0.0000e+00\n",
      "Epoch 62/300\n",
      "1/1 [==============================] - 0s 3ms/step - loss: 1.3027 - accuracy: 0.0000e+00\n",
      "Epoch 63/300\n",
      "1/1 [==============================] - 0s 3ms/step - loss: 1.3020 - accuracy: 0.0000e+00\n",
      "Epoch 64/300\n",
      "1/1 [==============================] - 0s 3ms/step - loss: 1.3014 - accuracy: 0.0000e+00\n",
      "Epoch 65/300\n",
      "1/1 [==============================] - 0s 3ms/step - loss: 1.3008 - accuracy: 0.0000e+00\n",
      "Epoch 66/300\n",
      "1/1 [==============================] - 0s 4ms/step - loss: 1.3002 - accuracy: 0.0000e+00\n",
      "Epoch 67/300\n",
      "1/1 [==============================] - 0s 3ms/step - loss: 1.2997 - accuracy: 0.0000e+00\n",
      "Epoch 68/300\n",
      "1/1 [==============================] - 0s 3ms/step - loss: 1.2993 - accuracy: 0.0000e+00\n",
      "Epoch 69/300\n",
      "1/1 [==============================] - 0s 4ms/step - loss: 1.2988 - accuracy: 0.0000e+00\n",
      "Epoch 70/300\n",
      "1/1 [==============================] - 0s 3ms/step - loss: 1.2984 - accuracy: 0.0000e+00\n",
      "Epoch 71/300\n",
      "1/1 [==============================] - 0s 3ms/step - loss: 1.2981 - accuracy: 0.0000e+00\n",
      "Epoch 72/300\n",
      "1/1 [==============================] - 0s 3ms/step - loss: 1.2977 - accuracy: 0.0000e+00\n",
      "Epoch 73/300\n",
      "1/1 [==============================] - 0s 5ms/step - loss: 1.2974 - accuracy: 0.0000e+00\n",
      "Epoch 74/300\n",
      "1/1 [==============================] - 0s 4ms/step - loss: 1.2971 - accuracy: 0.0000e+00\n",
      "Epoch 75/300\n",
      "1/1 [==============================] - 0s 3ms/step - loss: 1.2969 - accuracy: 0.0000e+00\n",
      "Epoch 76/300\n",
      "1/1 [==============================] - 0s 5ms/step - loss: 1.2966 - accuracy: 0.0000e+00\n",
      "Epoch 77/300\n",
      "1/1 [==============================] - 0s 3ms/step - loss: 1.2964 - accuracy: 0.0000e+00\n",
      "Epoch 78/300\n",
      "1/1 [==============================] - 0s 4ms/step - loss: 1.2962 - accuracy: 0.0000e+00\n",
      "Epoch 79/300\n",
      "1/1 [==============================] - 0s 4ms/step - loss: 1.2960 - accuracy: 0.0000e+00\n",
      "Epoch 80/300\n",
      "1/1 [==============================] - 0s 3ms/step - loss: 1.2958 - accuracy: 0.0000e+00\n",
      "Epoch 81/300\n",
      "1/1 [==============================] - 0s 3ms/step - loss: 1.2957 - accuracy: 0.0000e+00\n",
      "Epoch 82/300\n",
      "1/1 [==============================] - 0s 3ms/step - loss: 1.2955 - accuracy: 0.0000e+00\n",
      "Epoch 83/300\n",
      "1/1 [==============================] - 0s 3ms/step - loss: 1.2954 - accuracy: 0.0000e+00\n",
      "Epoch 84/300\n",
      "1/1 [==============================] - 0s 3ms/step - loss: 1.2953 - accuracy: 0.0000e+00\n",
      "Epoch 85/300\n",
      "1/1 [==============================] - 0s 3ms/step - loss: 1.2951 - accuracy: 0.0000e+00\n",
      "Epoch 86/300\n",
      "1/1 [==============================] - 0s 3ms/step - loss: 1.2950 - accuracy: 0.0000e+00\n",
      "Epoch 87/300\n",
      "1/1 [==============================] - 0s 3ms/step - loss: 1.2949 - accuracy: 0.0000e+00\n",
      "Epoch 88/300\n",
      "1/1 [==============================] - 0s 3ms/step - loss: 1.2948 - accuracy: 0.0000e+00\n",
      "Epoch 89/300\n",
      "1/1 [==============================] - 0s 2ms/step - loss: 1.2948 - accuracy: 0.0000e+00\n",
      "Epoch 90/300\n",
      "1/1 [==============================] - 0s 3ms/step - loss: 1.2947 - accuracy: 0.0000e+00\n",
      "Epoch 91/300\n",
      "1/1 [==============================] - 0s 3ms/step - loss: 1.2946 - accuracy: 0.0000e+00\n",
      "Epoch 92/300\n",
      "1/1 [==============================] - 0s 2ms/step - loss: 1.2946 - accuracy: 0.0000e+00\n",
      "Epoch 93/300\n",
      "1/1 [==============================] - 0s 3ms/step - loss: 1.2945 - accuracy: 0.0000e+00\n",
      "Epoch 94/300\n",
      "1/1 [==============================] - 0s 3ms/step - loss: 1.2945 - accuracy: 0.0000e+00\n",
      "Epoch 95/300\n",
      "1/1 [==============================] - 0s 2ms/step - loss: 1.2944 - accuracy: 0.0000e+00\n",
      "Epoch 96/300\n",
      "1/1 [==============================] - 0s 3ms/step - loss: 1.2944 - accuracy: 0.0000e+00\n",
      "Epoch 97/300\n",
      "1/1 [==============================] - 0s 4ms/step - loss: 1.2943 - accuracy: 0.0000e+00\n",
      "Epoch 98/300\n",
      "1/1 [==============================] - 0s 2ms/step - loss: 1.2943 - accuracy: 0.0000e+00\n",
      "Epoch 99/300\n",
      "1/1 [==============================] - 0s 4ms/step - loss: 1.2943 - accuracy: 0.0000e+00\n",
      "Epoch 100/300\n",
      "1/1 [==============================] - 0s 3ms/step - loss: 1.2942 - accuracy: 0.0000e+00\n",
      "Epoch 101/300\n",
      "1/1 [==============================] - 0s 3ms/step - loss: 1.2942 - accuracy: 0.0000e+00\n",
      "Epoch 102/300\n",
      "1/1 [==============================] - 0s 3ms/step - loss: 1.2942 - accuracy: 0.0000e+00\n",
      "Epoch 103/300\n",
      "1/1 [==============================] - 0s 2ms/step - loss: 1.2941 - accuracy: 0.0000e+00\n",
      "Epoch 104/300\n",
      "1/1 [==============================] - 0s 2ms/step - loss: 1.2941 - accuracy: 0.0000e+00\n",
      "Epoch 105/300\n",
      "1/1 [==============================] - 0s 2ms/step - loss: 1.2941 - accuracy: 0.0000e+00\n",
      "Epoch 106/300\n",
      "1/1 [==============================] - 0s 4ms/step - loss: 1.2941 - accuracy: 0.0000e+00\n",
      "Epoch 107/300\n",
      "1/1 [==============================] - 0s 4ms/step - loss: 1.2941 - accuracy: 0.0000e+00\n",
      "Epoch 108/300\n",
      "1/1 [==============================] - 0s 3ms/step - loss: 1.2941 - accuracy: 0.0000e+00\n",
      "Epoch 109/300\n",
      "1/1 [==============================] - 0s 4ms/step - loss: 1.2940 - accuracy: 0.0000e+00\n",
      "Epoch 110/300\n",
      "1/1 [==============================] - 0s 5ms/step - loss: 1.2940 - accuracy: 0.0000e+00\n",
      "Epoch 111/300\n",
      "1/1 [==============================] - 0s 5ms/step - loss: 1.2940 - accuracy: 0.0000e+00\n",
      "Epoch 112/300\n",
      "1/1 [==============================] - 0s 5ms/step - loss: 1.2940 - accuracy: 0.0000e+00\n",
      "Epoch 113/300\n",
      "1/1 [==============================] - 0s 4ms/step - loss: 1.2940 - accuracy: 0.0000e+00\n",
      "Epoch 114/300\n",
      "1/1 [==============================] - 0s 5ms/step - loss: 1.2940 - accuracy: 0.0000e+00\n",
      "Epoch 115/300\n",
      "1/1 [==============================] - 0s 6ms/step - loss: 1.2940 - accuracy: 0.0000e+00\n",
      "Epoch 116/300\n",
      "1/1 [==============================] - 0s 5ms/step - loss: 1.2940 - accuracy: 0.0000e+00\n",
      "Epoch 117/300\n",
      "1/1 [==============================] - 0s 5ms/step - loss: 1.2940 - accuracy: 0.0000e+00\n",
      "Epoch 118/300\n",
      "1/1 [==============================] - 0s 6ms/step - loss: 1.2940 - accuracy: 0.0000e+00\n",
      "Epoch 119/300\n",
      "1/1 [==============================] - 0s 4ms/step - loss: 1.2939 - accuracy: 0.0000e+00\n",
      "Epoch 120/300\n",
      "1/1 [==============================] - 0s 3ms/step - loss: 1.2939 - accuracy: 0.0000e+00\n",
      "Epoch 121/300\n",
      "1/1 [==============================] - 0s 4ms/step - loss: 1.2939 - accuracy: 0.0000e+00\n",
      "Epoch 122/300\n",
      "1/1 [==============================] - 0s 4ms/step - loss: 1.2939 - accuracy: 0.0000e+00\n",
      "Epoch 123/300\n",
      "1/1 [==============================] - 0s 6ms/step - loss: 1.2939 - accuracy: 0.0000e+00\n",
      "Epoch 124/300\n",
      "1/1 [==============================] - 0s 4ms/step - loss: 1.2939 - accuracy: 0.0000e+00\n",
      "Epoch 125/300\n",
      "1/1 [==============================] - 0s 4ms/step - loss: 1.2939 - accuracy: 0.0000e+00\n",
      "Epoch 126/300\n",
      "1/1 [==============================] - 0s 4ms/step - loss: 1.2939 - accuracy: 0.0000e+00\n",
      "Epoch 127/300\n",
      "1/1 [==============================] - 0s 4ms/step - loss: 1.2939 - accuracy: 0.0000e+00\n",
      "Epoch 128/300\n",
      "1/1 [==============================] - 0s 5ms/step - loss: 1.2939 - accuracy: 0.0000e+00\n",
      "Epoch 129/300\n",
      "1/1 [==============================] - 0s 3ms/step - loss: 1.2939 - accuracy: 0.0000e+00\n",
      "Epoch 130/300\n",
      "1/1 [==============================] - 0s 3ms/step - loss: 1.2939 - accuracy: 0.0000e+00\n",
      "Epoch 131/300\n",
      "1/1 [==============================] - 0s 3ms/step - loss: 1.2939 - accuracy: 0.0000e+00\n",
      "Epoch 132/300\n",
      "1/1 [==============================] - 0s 4ms/step - loss: 1.2939 - accuracy: 0.0000e+00\n",
      "Epoch 133/300\n",
      "1/1 [==============================] - 0s 5ms/step - loss: 1.2939 - accuracy: 0.0000e+00\n",
      "Epoch 134/300\n",
      "1/1 [==============================] - 0s 5ms/step - loss: 1.2939 - accuracy: 0.0000e+00\n",
      "Epoch 135/300\n",
      "1/1 [==============================] - 0s 4ms/step - loss: 1.2938 - accuracy: 0.0000e+00\n",
      "Epoch 136/300\n",
      "1/1 [==============================] - 0s 4ms/step - loss: 1.2938 - accuracy: 0.0000e+00\n",
      "Epoch 137/300\n",
      "1/1 [==============================] - 0s 3ms/step - loss: 1.2938 - accuracy: 0.0000e+00\n",
      "Epoch 138/300\n",
      "1/1 [==============================] - 0s 5ms/step - loss: 1.2938 - accuracy: 0.0000e+00\n",
      "Epoch 139/300\n",
      "1/1 [==============================] - 0s 3ms/step - loss: 1.2938 - accuracy: 0.0000e+00\n",
      "Epoch 140/300\n",
      "1/1 [==============================] - 0s 5ms/step - loss: 1.2938 - accuracy: 0.0000e+00\n",
      "Epoch 141/300\n",
      "1/1 [==============================] - 0s 4ms/step - loss: 1.2938 - accuracy: 0.0000e+00\n",
      "Epoch 142/300\n",
      "1/1 [==============================] - 0s 3ms/step - loss: 1.2938 - accuracy: 0.0000e+00\n",
      "Epoch 143/300\n",
      "1/1 [==============================] - 0s 4ms/step - loss: 1.2938 - accuracy: 0.0000e+00\n",
      "Epoch 144/300\n",
      "1/1 [==============================] - 0s 5ms/step - loss: 1.2938 - accuracy: 0.0000e+00\n",
      "Epoch 145/300\n",
      "1/1 [==============================] - 0s 4ms/step - loss: 1.2938 - accuracy: 0.0000e+00\n",
      "Epoch 146/300\n",
      "1/1 [==============================] - 0s 6ms/step - loss: 1.2938 - accuracy: 0.0000e+00\n",
      "Epoch 147/300\n",
      "1/1 [==============================] - 0s 5ms/step - loss: 1.2938 - accuracy: 0.0000e+00\n",
      "Epoch 148/300\n",
      "1/1 [==============================] - 0s 5ms/step - loss: 1.2938 - accuracy: 0.0000e+00\n",
      "Epoch 149/300\n",
      "1/1 [==============================] - 0s 3ms/step - loss: 1.2938 - accuracy: 0.0000e+00\n",
      "Epoch 150/300\n",
      "1/1 [==============================] - 0s 4ms/step - loss: 1.2938 - accuracy: 0.0000e+00\n",
      "Epoch 151/300\n",
      "1/1 [==============================] - 0s 4ms/step - loss: 1.2938 - accuracy: 0.0000e+00\n",
      "Epoch 152/300\n",
      "1/1 [==============================] - 0s 5ms/step - loss: 1.2937 - accuracy: 0.0000e+00\n",
      "Epoch 153/300\n",
      "1/1 [==============================] - 0s 4ms/step - loss: 1.2937 - accuracy: 0.0000e+00\n",
      "Epoch 154/300\n",
      "1/1 [==============================] - 0s 3ms/step - loss: 1.2937 - accuracy: 0.0000e+00\n",
      "Epoch 155/300\n",
      "1/1 [==============================] - 0s 5ms/step - loss: 1.2937 - accuracy: 0.0000e+00\n",
      "Epoch 156/300\n",
      "1/1 [==============================] - 0s 5ms/step - loss: 1.2937 - accuracy: 0.0000e+00\n",
      "Epoch 157/300\n",
      "1/1 [==============================] - 0s 3ms/step - loss: 1.2937 - accuracy: 0.0000e+00\n",
      "Epoch 158/300\n",
      "1/1 [==============================] - 0s 3ms/step - loss: 1.2937 - accuracy: 0.0000e+00\n",
      "Epoch 159/300\n",
      "1/1 [==============================] - 0s 3ms/step - loss: 1.2937 - accuracy: 0.0000e+00\n",
      "Epoch 160/300\n",
      "1/1 [==============================] - 0s 3ms/step - loss: 1.2937 - accuracy: 0.0000e+00\n",
      "Epoch 161/300\n",
      "1/1 [==============================] - 0s 4ms/step - loss: 1.2937 - accuracy: 0.0000e+00\n",
      "Epoch 162/300\n",
      "1/1 [==============================] - 0s 3ms/step - loss: 1.2937 - accuracy: 0.0000e+00\n",
      "Epoch 163/300\n",
      "1/1 [==============================] - 0s 4ms/step - loss: 1.2937 - accuracy: 0.0000e+00\n",
      "Epoch 164/300\n",
      "1/1 [==============================] - 0s 4ms/step - loss: 1.2937 - accuracy: 0.0000e+00\n",
      "Epoch 165/300\n",
      "1/1 [==============================] - 0s 6ms/step - loss: 1.2937 - accuracy: 0.0000e+00\n",
      "Epoch 166/300\n",
      "1/1 [==============================] - 0s 4ms/step - loss: 1.2936 - accuracy: 0.0000e+00\n",
      "Epoch 167/300\n",
      "1/1 [==============================] - 0s 2ms/step - loss: 1.2936 - accuracy: 0.0000e+00\n",
      "Epoch 168/300\n",
      "1/1 [==============================] - 0s 3ms/step - loss: 1.2936 - accuracy: 0.0000e+00\n",
      "Epoch 169/300\n",
      "1/1 [==============================] - 0s 3ms/step - loss: 1.2936 - accuracy: 0.0000e+00\n",
      "Epoch 170/300\n",
      "1/1 [==============================] - 0s 2ms/step - loss: 1.2936 - accuracy: 0.0000e+00\n",
      "Epoch 171/300\n",
      "1/1 [==============================] - 0s 3ms/step - loss: 1.2936 - accuracy: 0.0000e+00\n",
      "Epoch 172/300\n",
      "1/1 [==============================] - 0s 3ms/step - loss: 1.2936 - accuracy: 0.0000e+00\n",
      "Epoch 173/300\n",
      "1/1 [==============================] - 0s 4ms/step - loss: 1.2936 - accuracy: 0.0000e+00\n",
      "Epoch 174/300\n",
      "1/1 [==============================] - 0s 3ms/step - loss: 1.2936 - accuracy: 0.0000e+00\n",
      "Epoch 175/300\n",
      "1/1 [==============================] - 0s 4ms/step - loss: 1.2936 - accuracy: 0.0000e+00\n",
      "Epoch 176/300\n",
      "1/1 [==============================] - 0s 3ms/step - loss: 1.2936 - accuracy: 0.0000e+00\n",
      "Epoch 177/300\n",
      "1/1 [==============================] - 0s 3ms/step - loss: 1.2936 - accuracy: 0.0000e+00\n",
      "Epoch 178/300\n",
      "1/1 [==============================] - 0s 3ms/step - loss: 1.2935 - accuracy: 0.0000e+00\n",
      "Epoch 179/300\n",
      "1/1 [==============================] - 0s 3ms/step - loss: 1.2935 - accuracy: 0.0000e+00\n",
      "Epoch 180/300\n",
      "1/1 [==============================] - 0s 4ms/step - loss: 1.2935 - accuracy: 0.0000e+00\n",
      "Epoch 181/300\n",
      "1/1 [==============================] - 0s 3ms/step - loss: 1.2935 - accuracy: 0.0000e+00\n",
      "Epoch 182/300\n",
      "1/1 [==============================] - 0s 4ms/step - loss: 1.2935 - accuracy: 0.0000e+00\n",
      "Epoch 183/300\n",
      "1/1 [==============================] - 0s 4ms/step - loss: 1.2935 - accuracy: 0.0000e+00\n",
      "Epoch 184/300\n",
      "1/1 [==============================] - 0s 3ms/step - loss: 1.2935 - accuracy: 0.0000e+00\n",
      "Epoch 185/300\n",
      "1/1 [==============================] - 0s 3ms/step - loss: 1.2935 - accuracy: 0.0000e+00\n",
      "Epoch 186/300\n",
      "1/1 [==============================] - 0s 5ms/step - loss: 1.2935 - accuracy: 0.0000e+00\n",
      "Epoch 187/300\n",
      "1/1 [==============================] - 0s 4ms/step - loss: 1.2935 - accuracy: 0.0000e+00\n",
      "Epoch 188/300\n",
      "1/1 [==============================] - 0s 4ms/step - loss: 1.2934 - accuracy: 0.0000e+00\n",
      "Epoch 189/300\n",
      "1/1 [==============================] - 0s 4ms/step - loss: 1.2934 - accuracy: 0.0000e+00\n",
      "Epoch 190/300\n",
      "1/1 [==============================] - 0s 4ms/step - loss: 1.2934 - accuracy: 0.0000e+00\n",
      "Epoch 191/300\n",
      "1/1 [==============================] - 0s 3ms/step - loss: 1.2934 - accuracy: 0.0000e+00\n",
      "Epoch 192/300\n",
      "1/1 [==============================] - 0s 3ms/step - loss: 1.2934 - accuracy: 0.0000e+00\n",
      "Epoch 193/300\n",
      "1/1 [==============================] - 0s 4ms/step - loss: 1.2934 - accuracy: 0.0000e+00\n",
      "Epoch 194/300\n",
      "1/1 [==============================] - 0s 4ms/step - loss: 1.2934 - accuracy: 0.0000e+00\n",
      "Epoch 195/300\n",
      "1/1 [==============================] - 0s 4ms/step - loss: 1.2934 - accuracy: 0.0000e+00\n",
      "Epoch 196/300\n",
      "1/1 [==============================] - 0s 4ms/step - loss: 1.2934 - accuracy: 0.0000e+00\n",
      "Epoch 197/300\n",
      "1/1 [==============================] - 0s 4ms/step - loss: 1.2934 - accuracy: 0.0000e+00\n",
      "Epoch 198/300\n",
      "1/1 [==============================] - 0s 4ms/step - loss: 1.2933 - accuracy: 0.0000e+00\n",
      "Epoch 199/300\n",
      "1/1 [==============================] - 0s 3ms/step - loss: 1.2933 - accuracy: 0.0000e+00\n",
      "Epoch 200/300\n",
      "1/1 [==============================] - 0s 7ms/step - loss: 1.2933 - accuracy: 0.0000e+00\n",
      "Epoch 201/300\n",
      "1/1 [==============================] - 0s 3ms/step - loss: 1.2933 - accuracy: 0.0000e+00\n",
      "Epoch 202/300\n",
      "1/1 [==============================] - 0s 3ms/step - loss: 1.2933 - accuracy: 0.0000e+00\n",
      "Epoch 203/300\n",
      "1/1 [==============================] - 0s 4ms/step - loss: 1.2933 - accuracy: 0.0000e+00\n",
      "Epoch 204/300\n",
      "1/1 [==============================] - 0s 4ms/step - loss: 1.2933 - accuracy: 0.0000e+00\n",
      "Epoch 205/300\n",
      "1/1 [==============================] - 0s 7ms/step - loss: 1.2933 - accuracy: 0.0000e+00\n",
      "Epoch 206/300\n",
      "1/1 [==============================] - 0s 4ms/step - loss: 1.2932 - accuracy: 0.0000e+00\n",
      "Epoch 207/300\n",
      "1/1 [==============================] - 0s 3ms/step - loss: 1.2932 - accuracy: 0.0000e+00\n",
      "Epoch 208/300\n",
      "1/1 [==============================] - 0s 5ms/step - loss: 1.2932 - accuracy: 0.0000e+00\n",
      "Epoch 209/300\n",
      "1/1 [==============================] - 0s 4ms/step - loss: 1.2932 - accuracy: 0.0000e+00\n",
      "Epoch 210/300\n",
      "1/1 [==============================] - 0s 4ms/step - loss: 1.2932 - accuracy: 0.0000e+00\n",
      "Epoch 211/300\n",
      "1/1 [==============================] - 0s 7ms/step - loss: 1.2932 - accuracy: 0.0000e+00\n",
      "Epoch 212/300\n",
      "1/1 [==============================] - 0s 6ms/step - loss: 1.2932 - accuracy: 0.0000e+00\n",
      "Epoch 213/300\n",
      "1/1 [==============================] - 0s 4ms/step - loss: 1.2931 - accuracy: 0.0000e+00\n",
      "Epoch 214/300\n",
      "1/1 [==============================] - 0s 3ms/step - loss: 1.2931 - accuracy: 0.0000e+00\n",
      "Epoch 215/300\n",
      "1/1 [==============================] - 0s 3ms/step - loss: 1.2931 - accuracy: 0.0000e+00\n",
      "Epoch 216/300\n",
      "1/1 [==============================] - 0s 3ms/step - loss: 1.2931 - accuracy: 0.0000e+00\n",
      "Epoch 217/300\n",
      "1/1 [==============================] - 0s 4ms/step - loss: 1.2931 - accuracy: 0.0000e+00\n",
      "Epoch 218/300\n",
      "1/1 [==============================] - 0s 4ms/step - loss: 1.2931 - accuracy: 0.0000e+00\n",
      "Epoch 219/300\n",
      "1/1 [==============================] - 0s 3ms/step - loss: 1.2930 - accuracy: 0.0000e+00\n",
      "Epoch 220/300\n",
      "1/1 [==============================] - 0s 3ms/step - loss: 1.2930 - accuracy: 0.0000e+00\n",
      "Epoch 221/300\n",
      "1/1 [==============================] - 0s 3ms/step - loss: 1.2930 - accuracy: 0.0000e+00\n",
      "Epoch 222/300\n",
      "1/1 [==============================] - 0s 4ms/step - loss: 1.2930 - accuracy: 0.0000e+00\n",
      "Epoch 223/300\n",
      "1/1 [==============================] - 0s 3ms/step - loss: 1.2930 - accuracy: 0.0000e+00\n",
      "Epoch 224/300\n",
      "1/1 [==============================] - 0s 4ms/step - loss: 1.2930 - accuracy: 0.0000e+00\n",
      "Epoch 225/300\n",
      "1/1 [==============================] - 0s 3ms/step - loss: 1.2929 - accuracy: 0.0000e+00\n",
      "Epoch 226/300\n",
      "1/1 [==============================] - 0s 2ms/step - loss: 1.2929 - accuracy: 0.0000e+00\n",
      "Epoch 227/300\n",
      "1/1 [==============================] - 0s 3ms/step - loss: 1.2929 - accuracy: 0.0000e+00\n",
      "Epoch 228/300\n",
      "1/1 [==============================] - 0s 3ms/step - loss: 1.2929 - accuracy: 0.0000e+00\n",
      "Epoch 229/300\n",
      "1/1 [==============================] - 0s 3ms/step - loss: 1.2929 - accuracy: 0.0000e+00\n",
      "Epoch 230/300\n",
      "1/1 [==============================] - 0s 4ms/step - loss: 1.2928 - accuracy: 0.0000e+00\n",
      "Epoch 231/300\n",
      "1/1 [==============================] - 0s 4ms/step - loss: 1.2928 - accuracy: 0.0000e+00\n",
      "Epoch 232/300\n",
      "1/1 [==============================] - 0s 3ms/step - loss: 1.2928 - accuracy: 0.0000e+00\n",
      "Epoch 233/300\n",
      "1/1 [==============================] - 0s 4ms/step - loss: 1.2928 - accuracy: 0.0000e+00\n",
      "Epoch 234/300\n",
      "1/1 [==============================] - 0s 3ms/step - loss: 1.2928 - accuracy: 0.0000e+00\n",
      "Epoch 235/300\n",
      "1/1 [==============================] - 0s 3ms/step - loss: 1.2927 - accuracy: 0.0000e+00\n",
      "Epoch 236/300\n",
      "1/1 [==============================] - 0s 3ms/step - loss: 1.2927 - accuracy: 0.0000e+00\n",
      "Epoch 237/300\n",
      "1/1 [==============================] - 0s 3ms/step - loss: 1.2927 - accuracy: 0.0000e+00\n",
      "Epoch 238/300\n",
      "1/1 [==============================] - 0s 3ms/step - loss: 1.2927 - accuracy: 0.0000e+00\n",
      "Epoch 239/300\n",
      "1/1 [==============================] - 0s 2ms/step - loss: 1.2927 - accuracy: 0.0000e+00\n",
      "Epoch 240/300\n",
      "1/1 [==============================] - 0s 4ms/step - loss: 1.2926 - accuracy: 0.0000e+00\n",
      "Epoch 241/300\n",
      "1/1 [==============================] - 0s 3ms/step - loss: 1.2926 - accuracy: 0.0000e+00\n",
      "Epoch 242/300\n",
      "1/1 [==============================] - 0s 3ms/step - loss: 1.2926 - accuracy: 0.0000e+00\n",
      "Epoch 243/300\n",
      "1/1 [==============================] - 0s 2ms/step - loss: 1.2926 - accuracy: 0.0000e+00\n",
      "Epoch 244/300\n",
      "1/1 [==============================] - 0s 4ms/step - loss: 1.2925 - accuracy: 0.0000e+00\n",
      "Epoch 245/300\n",
      "1/1 [==============================] - 0s 3ms/step - loss: 1.2925 - accuracy: 0.0000e+00\n",
      "Epoch 246/300\n",
      "1/1 [==============================] - 0s 6ms/step - loss: 1.2925 - accuracy: 0.0000e+00\n",
      "Epoch 247/300\n",
      "1/1 [==============================] - 0s 4ms/step - loss: 1.2924 - accuracy: 0.0000e+00\n",
      "Epoch 248/300\n",
      "1/1 [==============================] - 0s 3ms/step - loss: 1.2924 - accuracy: 0.0000e+00\n",
      "Epoch 249/300\n",
      "1/1 [==============================] - 0s 4ms/step - loss: 1.2924 - accuracy: 0.0000e+00\n",
      "Epoch 250/300\n",
      "1/1 [==============================] - 0s 3ms/step - loss: 1.2924 - accuracy: 0.0000e+00\n",
      "Epoch 251/300\n",
      "1/1 [==============================] - 0s 3ms/step - loss: 1.2923 - accuracy: 0.0000e+00\n",
      "Epoch 252/300\n",
      "1/1 [==============================] - 0s 3ms/step - loss: 1.2923 - accuracy: 0.0000e+00\n",
      "Epoch 253/300\n",
      "1/1 [==============================] - 0s 4ms/step - loss: 1.2923 - accuracy: 0.0000e+00\n",
      "Epoch 254/300\n",
      "1/1 [==============================] - 0s 3ms/step - loss: 1.2922 - accuracy: 0.0000e+00\n",
      "Epoch 255/300\n",
      "1/1 [==============================] - 0s 3ms/step - loss: 1.2922 - accuracy: 0.0000e+00\n",
      "Epoch 256/300\n",
      "1/1 [==============================] - 0s 4ms/step - loss: 1.2922 - accuracy: 0.0000e+00\n",
      "Epoch 257/300\n",
      "1/1 [==============================] - 0s 3ms/step - loss: 1.2921 - accuracy: 0.0000e+00\n",
      "Epoch 258/300\n",
      "1/1 [==============================] - 0s 3ms/step - loss: 1.2921 - accuracy: 0.0000e+00\n",
      "Epoch 259/300\n",
      "1/1 [==============================] - 0s 4ms/step - loss: 1.2921 - accuracy: 0.0000e+00\n",
      "Epoch 260/300\n",
      "1/1 [==============================] - 0s 3ms/step - loss: 1.2920 - accuracy: 0.0000e+00\n",
      "Epoch 261/300\n",
      "1/1 [==============================] - 0s 3ms/step - loss: 1.2920 - accuracy: 0.0000e+00\n",
      "Epoch 262/300\n",
      "1/1 [==============================] - 0s 3ms/step - loss: 1.2919 - accuracy: 0.0000e+00\n",
      "Epoch 263/300\n",
      "1/1 [==============================] - 0s 3ms/step - loss: 1.2919 - accuracy: 0.0000e+00\n",
      "Epoch 264/300\n",
      "1/1 [==============================] - 0s 3ms/step - loss: 1.2919 - accuracy: 0.0000e+00\n",
      "Epoch 265/300\n",
      "1/1 [==============================] - 0s 2ms/step - loss: 1.2918 - accuracy: 0.0000e+00\n",
      "Epoch 266/300\n",
      "1/1 [==============================] - 0s 3ms/step - loss: 1.2918 - accuracy: 0.0000e+00\n",
      "Epoch 267/300\n",
      "1/1 [==============================] - 0s 3ms/step - loss: 1.2917 - accuracy: 0.0000e+00\n",
      "Epoch 268/300\n",
      "1/1 [==============================] - 0s 3ms/step - loss: 1.2917 - accuracy: 0.0000e+00\n",
      "Epoch 269/300\n",
      "1/1 [==============================] - 0s 2ms/step - loss: 1.2916 - accuracy: 0.0000e+00\n",
      "Epoch 270/300\n",
      "1/1 [==============================] - 0s 4ms/step - loss: 1.2916 - accuracy: 0.0000e+00\n",
      "Epoch 271/300\n",
      "1/1 [==============================] - 0s 3ms/step - loss: 1.2915 - accuracy: 0.0000e+00\n",
      "Epoch 272/300\n",
      "1/1 [==============================] - 0s 2ms/step - loss: 1.2915 - accuracy: 0.0000e+00\n",
      "Epoch 273/300\n",
      "1/1 [==============================] - 0s 4ms/step - loss: 1.2914 - accuracy: 0.0000e+00\n",
      "Epoch 274/300\n",
      "1/1 [==============================] - 0s 3ms/step - loss: 1.2914 - accuracy: 0.0000e+00\n",
      "Epoch 275/300\n",
      "1/1 [==============================] - 0s 3ms/step - loss: 1.2913 - accuracy: 0.0000e+00\n",
      "Epoch 276/300\n",
      "1/1 [==============================] - 0s 4ms/step - loss: 1.2913 - accuracy: 0.0000e+00\n",
      "Epoch 277/300\n",
      "1/1 [==============================] - 0s 4ms/step - loss: 1.2912 - accuracy: 0.0000e+00\n",
      "Epoch 278/300\n",
      "1/1 [==============================] - 0s 4ms/step - loss: 1.2912 - accuracy: 0.0000e+00\n",
      "Epoch 279/300\n",
      "1/1 [==============================] - 0s 5ms/step - loss: 1.2911 - accuracy: 0.0000e+00\n",
      "Epoch 280/300\n",
      "1/1 [==============================] - 0s 4ms/step - loss: 1.2910 - accuracy: 0.0000e+00\n",
      "Epoch 281/300\n",
      "1/1 [==============================] - 0s 6ms/step - loss: 1.2910 - accuracy: 0.0000e+00\n",
      "Epoch 282/300\n",
      "1/1 [==============================] - 0s 5ms/step - loss: 1.2909 - accuracy: 0.0000e+00\n",
      "Epoch 283/300\n",
      "1/1 [==============================] - 0s 5ms/step - loss: 1.2908 - accuracy: 0.0000e+00\n",
      "Epoch 284/300\n",
      "1/1 [==============================] - 0s 5ms/step - loss: 1.2908 - accuracy: 0.0000e+00\n",
      "Epoch 285/300\n",
      "1/1 [==============================] - 0s 5ms/step - loss: 1.2907 - accuracy: 0.0000e+00\n",
      "Epoch 286/300\n",
      "1/1 [==============================] - 0s 6ms/step - loss: 1.2906 - accuracy: 0.0000e+00\n",
      "Epoch 287/300\n",
      "1/1 [==============================] - 0s 5ms/step - loss: 1.2905 - accuracy: 0.0000e+00\n",
      "Epoch 288/300\n",
      "1/1 [==============================] - 0s 5ms/step - loss: 1.2904 - accuracy: 0.0000e+00\n",
      "Epoch 289/300\n",
      "1/1 [==============================] - 0s 4ms/step - loss: 1.2904 - accuracy: 0.0000e+00\n",
      "Epoch 290/300\n",
      "1/1 [==============================] - 0s 4ms/step - loss: 1.2903 - accuracy: 0.0000e+00\n",
      "Epoch 291/300\n",
      "1/1 [==============================] - 0s 4ms/step - loss: 1.2902 - accuracy: 0.0000e+00\n",
      "Epoch 292/300\n",
      "1/1 [==============================] - 0s 4ms/step - loss: 1.2901 - accuracy: 0.0000e+00\n",
      "Epoch 293/300\n",
      "1/1 [==============================] - 0s 4ms/step - loss: 1.2900 - accuracy: 0.0000e+00\n",
      "Epoch 294/300\n",
      "1/1 [==============================] - 0s 4ms/step - loss: 1.2899 - accuracy: 0.0000e+00\n",
      "Epoch 295/300\n",
      "1/1 [==============================] - 0s 5ms/step - loss: 1.2898 - accuracy: 0.0000e+00\n",
      "Epoch 296/300\n",
      "1/1 [==============================] - 0s 4ms/step - loss: 1.2897 - accuracy: 0.0000e+00\n",
      "Epoch 297/300\n",
      "1/1 [==============================] - 0s 4ms/step - loss: 1.2896 - accuracy: 0.0000e+00\n",
      "Epoch 298/300\n",
      "1/1 [==============================] - 0s 4ms/step - loss: 1.2895 - accuracy: 0.0000e+00\n",
      "Epoch 299/300\n",
      "1/1 [==============================] - 0s 5ms/step - loss: 1.2893 - accuracy: 0.0000e+00\n",
      "Epoch 300/300\n",
      "1/1 [==============================] - 0s 5ms/step - loss: 1.2892 - accuracy: 0.0000e+00\n"
     ]
    },
    {
     "data": {
      "text/plain": [
       "<keras.callbacks.History at 0x2638de578e0>"
      ]
     },
     "execution_count": 37,
     "metadata": {},
     "output_type": "execute_result"
    }
   ],
   "source": [
    "import tensorflow as tf\n",
    "from tensorflow import keras\n",
    "# from tensorflow.python.keras.layers import Dense\n",
    "import pandas as pd\n",
    "from tensorflow.keras import layers\n",
    "\n",
    "import keras\n",
    "from keras.models import Sequential\n",
    "from keras.layers import Dense\n",
    "\n",
    "variables,results = split_x_and_y(database.iloc[[0,1,2,3,4,5,6,7,8]],['A','E','N'],'Tmax')\n",
    "test_x,test_y = split_x_and_y(database.iloc[[9,10,11]],['A','E','N'],'Tmax')\n",
    "\n",
    "model = keras.Sequential([\n",
    "  layers.Dense(64, activation='sigmoid', input_shape=[len(variables.keys())]),\n",
    "  # layers.Dropout(0.1),\n",
    "  layers.Dense(128, activation='sigmoid'),\n",
    "  layers.Dense(64, activation='sigmoid'),\n",
    "  layers.Dense(16, activation='sigmoid'),\n",
    "  layers.Dense(8, activation='sigmoid'),\n",
    "  # layers.Dense(8, activation='relu'),\n",
    "  layers.Dense(1)\n",
    "])\n",
    "\n",
    "# optimizer = tf.keras.optimizers.RMSprop(0.001)\n",
    "\n",
    "model.compile(optimizer='adam',loss='mean_squared_error',metrics=['accuracy'])\n",
    "\n",
    "model.fit(variables.values,results.values,epochs=300)"
   ]
  },
  {
   "cell_type": "code",
   "execution_count": 38,
   "metadata": {},
   "outputs": [
    {
     "name": "stdout",
     "output_type": "stream",
     "text": [
      "1/1 [==============================] - 0s 83ms/step\n"
     ]
    },
    {
     "data": {
      "text/plain": [
       "array([[-0.02458519],\n",
       "       [-0.01972732],\n",
       "       [-0.02600938]], dtype=float32)"
      ]
     },
     "execution_count": 38,
     "metadata": {},
     "output_type": "execute_result"
    }
   ],
   "source": [
    "guess = model.predict(test_x.values)\n",
    "guess"
   ]
  },
  {
   "cell_type": "code",
   "execution_count": 39,
   "metadata": {},
   "outputs": [
    {
     "data": {
      "text/html": [
       "<div>\n",
       "<style scoped>\n",
       "    .dataframe tbody tr th:only-of-type {\n",
       "        vertical-align: middle;\n",
       "    }\n",
       "\n",
       "    .dataframe tbody tr th {\n",
       "        vertical-align: top;\n",
       "    }\n",
       "\n",
       "    .dataframe thead th {\n",
       "        text-align: right;\n",
       "    }\n",
       "</style>\n",
       "<table border=\"1\" class=\"dataframe\">\n",
       "  <thead>\n",
       "    <tr style=\"text-align: right;\">\n",
       "      <th></th>\n",
       "      <th>A</th>\n",
       "      <th>E</th>\n",
       "      <th>N</th>\n",
       "      <th>Tmax</th>\n",
       "    </tr>\n",
       "  </thead>\n",
       "  <tbody>\n",
       "    <tr>\n",
       "      <th>9</th>\n",
       "      <td>-0.845154</td>\n",
       "      <td>-1.224745</td>\n",
       "      <td>0.000000</td>\n",
       "      <td>-0.024585</td>\n",
       "    </tr>\n",
       "    <tr>\n",
       "      <th>10</th>\n",
       "      <td>-0.845154</td>\n",
       "      <td>0.000000</td>\n",
       "      <td>-1.224745</td>\n",
       "      <td>-0.019727</td>\n",
       "    </tr>\n",
       "    <tr>\n",
       "      <th>11</th>\n",
       "      <td>1.183216</td>\n",
       "      <td>1.224745</td>\n",
       "      <td>1.224745</td>\n",
       "      <td>-0.026009</td>\n",
       "    </tr>\n",
       "  </tbody>\n",
       "</table>\n",
       "</div>"
      ],
      "text/plain": [
       "           A         E         N      Tmax\n",
       "9  -0.845154 -1.224745  0.000000 -0.024585\n",
       "10 -0.845154  0.000000 -1.224745 -0.019727\n",
       "11  1.183216  1.224745  1.224745 -0.026009"
      ]
     },
     "execution_count": 39,
     "metadata": {},
     "output_type": "execute_result"
    }
   ],
   "source": [
    "desnormalizar = test_x.copy()\n",
    "desnormalizar['Tmax'] = guess\n",
    "desnormalizar"
   ]
  },
  {
   "cell_type": "code",
   "execution_count": 40,
   "metadata": {},
   "outputs": [
    {
     "data": {
      "text/plain": [
       "array([[25.        ,  1.        ,  8.        , 87.57334697],\n",
       "       [25.        ,  2.        ,  5.        , 87.71478813],\n",
       "       [35.        ,  3.        , 11.        , 87.5318803 ]])"
      ]
     },
     "execution_count": 40,
     "metadata": {},
     "output_type": "execute_result"
    }
   ],
   "source": [
    "desnormalizado_teste = standardscaler.inverse_transform(desnormalizar)\n",
    "desnormalizado_teste"
   ]
  },
  {
   "cell_type": "code",
   "execution_count": 41,
   "metadata": {},
   "outputs": [
    {
     "data": {
      "text/html": [
       "<div>\n",
       "<style scoped>\n",
       "    .dataframe tbody tr th:only-of-type {\n",
       "        vertical-align: middle;\n",
       "    }\n",
       "\n",
       "    .dataframe tbody tr th {\n",
       "        vertical-align: top;\n",
       "    }\n",
       "\n",
       "    .dataframe thead th {\n",
       "        text-align: right;\n",
       "    }\n",
       "</style>\n",
       "<table border=\"1\" class=\"dataframe\">\n",
       "  <thead>\n",
       "    <tr style=\"text-align: right;\">\n",
       "      <th></th>\n",
       "      <th>A</th>\n",
       "      <th>E</th>\n",
       "      <th>N</th>\n",
       "      <th>Tmax</th>\n",
       "    </tr>\n",
       "  </thead>\n",
       "  <tbody>\n",
       "    <tr>\n",
       "      <th>9</th>\n",
       "      <td>-0.845154</td>\n",
       "      <td>-1.224745</td>\n",
       "      <td>0.000000</td>\n",
       "      <td>-0.411774</td>\n",
       "    </tr>\n",
       "    <tr>\n",
       "      <th>10</th>\n",
       "      <td>-0.845154</td>\n",
       "      <td>0.000000</td>\n",
       "      <td>-1.224745</td>\n",
       "      <td>0.359626</td>\n",
       "    </tr>\n",
       "    <tr>\n",
       "      <th>11</th>\n",
       "      <td>1.183216</td>\n",
       "      <td>1.224745</td>\n",
       "      <td>1.224745</td>\n",
       "      <td>0.220183</td>\n",
       "    </tr>\n",
       "  </tbody>\n",
       "</table>\n",
       "</div>"
      ],
      "text/plain": [
       "           A         E         N      Tmax\n",
       "9  -0.845154 -1.224745  0.000000 -0.411774\n",
       "10 -0.845154  0.000000 -1.224745  0.359626\n",
       "11  1.183216  1.224745  1.224745  0.220183"
      ]
     },
     "execution_count": 41,
     "metadata": {},
     "output_type": "execute_result"
    }
   ],
   "source": [
    "desnormalizar = test_x.copy()\n",
    "desnormalizar['Tmax'] = test_y\n",
    "desnormalizar"
   ]
  },
  {
   "cell_type": "code",
   "execution_count": 42,
   "metadata": {},
   "outputs": [
    {
     "data": {
      "text/plain": [
       "array([[25.  ,  1.  ,  8.  , 76.3 ],\n",
       "       [25.  ,  2.  ,  5.  , 98.76],\n",
       "       [35.  ,  3.  , 11.  , 94.7 ]])"
      ]
     },
     "execution_count": 42,
     "metadata": {},
     "output_type": "execute_result"
    }
   ],
   "source": [
    "desnormalizado_resultado = standardscaler.inverse_transform(desnormalizar)\n",
    "desnormalizado_resultado"
   ]
  },
  {
   "cell_type": "code",
   "execution_count": 43,
   "metadata": {},
   "outputs": [
    {
     "name": "stdout",
     "output_type": "stream",
     "text": [
      "r2: -0.048756282771498904 meansquarederror: 100.15566566799407 meanabsoluteerror: 9.828892843458997 maxerror: 11.273346966219052\n"
     ]
    },
    {
     "data": {
      "text/plain": [
       "(-0.048756282771498904,\n",
       " 100.15566566799407,\n",
       " 9.828892843458997,\n",
       " 11.273346966219052)"
      ]
     },
     "execution_count": 43,
     "metadata": {},
     "output_type": "execute_result"
    }
   ],
   "source": [
    "scores(desnormalizado_resultado[:,-1],desnormalizado_teste[:,-1])"
   ]
  },
  {
   "cell_type": "code",
   "execution_count": null,
   "metadata": {},
   "outputs": [],
   "source": []
  }
 ],
 "metadata": {
  "interpreter": {
   "hash": "edbada794071f9c875b2bc5e0e869a1d746a19a0ba8801f10239845106c51c5a"
  },
  "kernelspec": {
   "display_name": "Python 3.8.8 ('base')",
   "language": "python",
   "name": "python3"
  },
  "language_info": {
   "codemirror_mode": {
    "name": "ipython",
    "version": 3
   },
   "file_extension": ".py",
   "mimetype": "text/x-python",
   "name": "python",
   "nbconvert_exporter": "python",
   "pygments_lexer": "ipython3",
   "version": "3.8.8"
  },
  "orig_nbformat": 4
 },
 "nbformat": 4,
 "nbformat_minor": 2
}
