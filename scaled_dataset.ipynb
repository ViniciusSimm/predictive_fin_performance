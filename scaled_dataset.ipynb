{
 "cells": [
  {
   "cell_type": "code",
   "execution_count": 3,
   "metadata": {},
   "outputs": [
    {
     "data": {
      "text/html": [
       "<div>\n",
       "<style scoped>\n",
       "    .dataframe tbody tr th:only-of-type {\n",
       "        vertical-align: middle;\n",
       "    }\n",
       "\n",
       "    .dataframe tbody tr th {\n",
       "        vertical-align: top;\n",
       "    }\n",
       "\n",
       "    .dataframe thead th {\n",
       "        text-align: right;\n",
       "    }\n",
       "</style>\n",
       "<table border=\"1\" class=\"dataframe\">\n",
       "  <thead>\n",
       "    <tr style=\"text-align: right;\">\n",
       "      <th></th>\n",
       "      <th>A</th>\n",
       "      <th>E</th>\n",
       "      <th>N</th>\n",
       "      <th>Rt</th>\n",
       "    </tr>\n",
       "  </thead>\n",
       "  <tbody>\n",
       "    <tr>\n",
       "      <th>0</th>\n",
       "      <td>25</td>\n",
       "      <td>1</td>\n",
       "      <td>11</td>\n",
       "      <td>1.638</td>\n",
       "    </tr>\n",
       "    <tr>\n",
       "      <th>1</th>\n",
       "      <td>25</td>\n",
       "      <td>1</td>\n",
       "      <td>5</td>\n",
       "      <td>2.595</td>\n",
       "    </tr>\n",
       "    <tr>\n",
       "      <th>2</th>\n",
       "      <td>25</td>\n",
       "      <td>2</td>\n",
       "      <td>8</td>\n",
       "      <td>1.976</td>\n",
       "    </tr>\n",
       "    <tr>\n",
       "      <th>3</th>\n",
       "      <td>25</td>\n",
       "      <td>3</td>\n",
       "      <td>11</td>\n",
       "      <td>4.164</td>\n",
       "    </tr>\n",
       "    <tr>\n",
       "      <th>4</th>\n",
       "      <td>25</td>\n",
       "      <td>3</td>\n",
       "      <td>5</td>\n",
       "      <td>2.869</td>\n",
       "    </tr>\n",
       "    <tr>\n",
       "      <th>5</th>\n",
       "      <td>35</td>\n",
       "      <td>1</td>\n",
       "      <td>8</td>\n",
       "      <td>1.421</td>\n",
       "    </tr>\n",
       "    <tr>\n",
       "      <th>6</th>\n",
       "      <td>35</td>\n",
       "      <td>2</td>\n",
       "      <td>11</td>\n",
       "      <td>1.564</td>\n",
       "    </tr>\n",
       "    <tr>\n",
       "      <th>7</th>\n",
       "      <td>35</td>\n",
       "      <td>2</td>\n",
       "      <td>5</td>\n",
       "      <td>2.101</td>\n",
       "    </tr>\n",
       "    <tr>\n",
       "      <th>8</th>\n",
       "      <td>35</td>\n",
       "      <td>3</td>\n",
       "      <td>8</td>\n",
       "      <td>1.591</td>\n",
       "    </tr>\n",
       "    <tr>\n",
       "      <th>9</th>\n",
       "      <td>25</td>\n",
       "      <td>1</td>\n",
       "      <td>8</td>\n",
       "      <td>1.946</td>\n",
       "    </tr>\n",
       "    <tr>\n",
       "      <th>10</th>\n",
       "      <td>25</td>\n",
       "      <td>2</td>\n",
       "      <td>5</td>\n",
       "      <td>2.991</td>\n",
       "    </tr>\n",
       "    <tr>\n",
       "      <th>11</th>\n",
       "      <td>35</td>\n",
       "      <td>3</td>\n",
       "      <td>11</td>\n",
       "      <td>2.896</td>\n",
       "    </tr>\n",
       "  </tbody>\n",
       "</table>\n",
       "</div>"
      ],
      "text/plain": [
       "     A  E   N     Rt\n",
       "0   25  1  11  1.638\n",
       "1   25  1   5  2.595\n",
       "2   25  2   8  1.976\n",
       "3   25  3  11  4.164\n",
       "4   25  3   5  2.869\n",
       "5   35  1   8  1.421\n",
       "6   35  2  11  1.564\n",
       "7   35  2   5  2.101\n",
       "8   35  3   8  1.591\n",
       "9   25  1   8  1.946\n",
       "10  25  2   5  2.991\n",
       "11  35  3  11  2.896"
      ]
     },
     "execution_count": 3,
     "metadata": {},
     "output_type": "execute_result"
    }
   ],
   "source": [
    "import pandas as pd\n",
    "database = pd.read_excel('database_TCC.xlsx')\n",
    "database = database[['A','E','N','Rt']]\n",
    "database"
   ]
  },
  {
   "cell_type": "code",
   "execution_count": 4,
   "metadata": {},
   "outputs": [],
   "source": [
    "from sklearn.preprocessing import StandardScaler\n",
    "standardscaler = StandardScaler()\n",
    "standardscaler.fit(database)\n",
    "data = standardscaler.transform(database)\n",
    "database = pd.DataFrame(data,columns=database.columns)"
   ]
  },
  {
   "cell_type": "code",
   "execution_count": 5,
   "metadata": {},
   "outputs": [],
   "source": [
    "from sklearn.metrics import r2_score,mean_squared_error,mean_absolute_error,max_error\n",
    "\n",
    "def split_x_and_y(database,x,y):\n",
    "  dataset_x = database[x]\n",
    "  dataset_y = database[y]\n",
    "  return dataset_x,dataset_y\n",
    "\n",
    "\n",
    "def scores(Y_true, Y_predicted):\n",
    "  r2 = r2_score(Y_true, Y_predicted)\n",
    "  meansquarederror = mean_squared_error(Y_true, Y_predicted)\n",
    "  meanabsoluteerror = mean_absolute_error(Y_true, Y_predicted)\n",
    "  maxerror = max_error(Y_true, Y_predicted)\n",
    "\n",
    "  print('r2:',r2,'meansquarederror:',meansquarederror,'meanabsoluteerror:',meanabsoluteerror,'maxerror:',maxerror)\n",
    "  return r2,meansquarederror,meanabsoluteerror,maxerror\n"
   ]
  },
  {
   "cell_type": "markdown",
   "metadata": {},
   "source": [
    "# Random Forest Regressor"
   ]
  },
  {
   "cell_type": "code",
   "execution_count": 6,
   "metadata": {},
   "outputs": [],
   "source": [
    "dataset_x,dataset_y = split_x_and_y(database,['A','E','N'],'Rt')"
   ]
  },
  {
   "cell_type": "code",
   "execution_count": 7,
   "metadata": {},
   "outputs": [
    {
     "data": {
      "text/plain": [
       "0.8832211469208688"
      ]
     },
     "execution_count": 7,
     "metadata": {},
     "output_type": "execute_result"
    }
   ],
   "source": [
    "from sklearn.ensemble import RandomForestRegressor\n",
    "RFR = RandomForestRegressor(n_estimators=1000)\n",
    "RFR.fit(dataset_x,dataset_y)\n",
    "RFR.score(dataset_x,dataset_y)"
   ]
  },
  {
   "cell_type": "code",
   "execution_count": 8,
   "metadata": {},
   "outputs": [
    {
     "data": {
      "text/plain": [
       "0.2890939594804205"
      ]
     },
     "execution_count": 8,
     "metadata": {},
     "output_type": "execute_result"
    }
   ],
   "source": [
    "# database.iloc[[0,2,4,5,7,8]]\n",
    "\n",
    "dataset_x,dataset_y = split_x_and_y(database.iloc[[0,1,2,3,4,5,6,7,8]],['A','E','N'],'Rt')\n",
    "\n",
    "test_x,test_y = split_x_and_y(database.iloc[[9,10,11]],['A','E','N'],'Rt')\n",
    "\n",
    "from sklearn.ensemble import RandomForestRegressor\n",
    "RFR = RandomForestRegressor(n_estimators=1000)\n",
    "RFR.fit(dataset_x,dataset_y)\n",
    "RFR.score(test_x,test_y)"
   ]
  },
  {
   "cell_type": "code",
   "execution_count": 9,
   "metadata": {},
   "outputs": [
    {
     "name": "stdout",
     "output_type": "stream",
     "text": [
      "[-0.46632199  0.09000826  0.33460856]\n",
      "9    -0.472016\n",
      "10    0.873229\n",
      "11    0.750934\n",
      "Name: Rt, dtype: float64\n"
     ]
    }
   ],
   "source": [
    "print(RFR.predict(X = test_x))\n",
    "print(test_y)"
   ]
  },
  {
   "cell_type": "markdown",
   "metadata": {},
   "source": [
    "# SVM"
   ]
  },
  {
   "cell_type": "code",
   "execution_count": 10,
   "metadata": {},
   "outputs": [
    {
     "data": {
      "text/plain": [
       "0.6652552209232103"
      ]
     },
     "execution_count": 10,
     "metadata": {},
     "output_type": "execute_result"
    }
   ],
   "source": [
    "from sklearn import svm\n",
    "regr = svm.SVR()\n",
    "dataset_x,dataset_y = split_x_and_y(database,['A','E','N'],'Rt')\n",
    "regr.fit(dataset_x,dataset_y)\n",
    "regr.score(dataset_x,dataset_y)"
   ]
  },
  {
   "cell_type": "code",
   "execution_count": 11,
   "metadata": {},
   "outputs": [
    {
     "data": {
      "text/plain": [
       "-0.8498515390854082"
      ]
     },
     "execution_count": 11,
     "metadata": {},
     "output_type": "execute_result"
    }
   ],
   "source": [
    "dataset_x,dataset_y = split_x_and_y(database.iloc[[0,1,2,3,4,5,6,7,8]],['A','E','N'],'Rt')\n",
    "\n",
    "test_x,test_y = split_x_and_y(database.iloc[[9,10,11]],['A','E','N'],'Rt')\n",
    "\n",
    "from sklearn import svm\n",
    "regr = svm.SVR()\n",
    "regr.fit(dataset_x,dataset_y)\n",
    "regr.score(test_x,test_y)"
   ]
  },
  {
   "cell_type": "markdown",
   "metadata": {},
   "source": [
    "# Linear Regression"
   ]
  },
  {
   "cell_type": "code",
   "execution_count": 12,
   "metadata": {},
   "outputs": [
    {
     "data": {
      "text/plain": [
       "0.5695908689603328"
      ]
     },
     "execution_count": 12,
     "metadata": {},
     "output_type": "execute_result"
    }
   ],
   "source": [
    "from sklearn.linear_model import LinearRegression\n",
    "LR = LinearRegression()\n",
    "dataset_x,dataset_y = split_x_and_y(database,['A','E','N'],'Rt')\n",
    "LR.fit(dataset_x,dataset_y)\n",
    "LR.score(dataset_x,dataset_y)"
   ]
  },
  {
   "cell_type": "code",
   "execution_count": 13,
   "metadata": {},
   "outputs": [
    {
     "data": {
      "text/plain": [
       "-0.08386801635430441"
      ]
     },
     "execution_count": 13,
     "metadata": {},
     "output_type": "execute_result"
    }
   ],
   "source": [
    "dataset_x,dataset_y = split_x_and_y(database.iloc[[0,1,2,3,4,5,6,7,8]],['A','E','N'],'Rt')\n",
    "\n",
    "test_x,test_y = split_x_and_y(database.iloc[[9,10,11]],['A','E','N'],'Rt')\n",
    "\n",
    "from sklearn.linear_model import LinearRegression\n",
    "LR = LinearRegression()\n",
    "LR.fit(dataset_x,dataset_y)\n",
    "LR.score(test_x,test_y)"
   ]
  },
  {
   "cell_type": "markdown",
   "metadata": {},
   "source": [
    "# SGD"
   ]
  },
  {
   "cell_type": "code",
   "execution_count": 14,
   "metadata": {},
   "outputs": [
    {
     "data": {
      "text/plain": [
       "0.528407588315263"
      ]
     },
     "execution_count": 14,
     "metadata": {},
     "output_type": "execute_result"
    }
   ],
   "source": [
    "from sklearn.linear_model import SGDRegressor\n",
    "SGD = SGDRegressor()\n",
    "dataset_x,dataset_y = split_x_and_y(database,['A','E','N'],'Rt')\n",
    "SGD.fit(dataset_x,dataset_y)\n",
    "SGD.score(dataset_x,dataset_y)"
   ]
  },
  {
   "cell_type": "code",
   "execution_count": 15,
   "metadata": {},
   "outputs": [
    {
     "data": {
      "text/plain": [
       "-0.1395375699193988"
      ]
     },
     "execution_count": 15,
     "metadata": {},
     "output_type": "execute_result"
    }
   ],
   "source": [
    "dataset_x,dataset_y = split_x_and_y(database.iloc[[0,1,2,3,4,5,6,7,8]],['A','E','N'],'Rt')\n",
    "\n",
    "test_x,test_y = split_x_and_y(database.iloc[[9,10,11]],['A','E','N'],'Rt')\n",
    "\n",
    "from sklearn.linear_model import SGDRegressor\n",
    "SGD = SGDRegressor()\n",
    "SGD.fit(dataset_x,dataset_y)\n",
    "SGD.score(test_x,test_y)"
   ]
  },
  {
   "cell_type": "markdown",
   "metadata": {},
   "source": [
    "# BayesianRidge"
   ]
  },
  {
   "cell_type": "code",
   "execution_count": 16,
   "metadata": {},
   "outputs": [
    {
     "data": {
      "text/plain": [
       "0.5286310907728824"
      ]
     },
     "execution_count": 16,
     "metadata": {},
     "output_type": "execute_result"
    }
   ],
   "source": [
    "from sklearn.linear_model import BayesianRidge\n",
    "bayesian = BayesianRidge()\n",
    "dataset_x,dataset_y = split_x_and_y(database,['A','E','N'],'Rt')\n",
    "bayesian.fit(dataset_x,dataset_y)\n",
    "bayesian.score(dataset_x,dataset_y)"
   ]
  },
  {
   "cell_type": "code",
   "execution_count": 17,
   "metadata": {},
   "outputs": [
    {
     "data": {
      "text/plain": [
       "-0.2350156608473719"
      ]
     },
     "execution_count": 17,
     "metadata": {},
     "output_type": "execute_result"
    }
   ],
   "source": [
    "dataset_x,dataset_y = split_x_and_y(database.iloc[[0,1,2,3,4,5,6,7,8]],['A','E','N'],'Rt')\n",
    "\n",
    "test_x,test_y = split_x_and_y(database.iloc[[9,10,11]],['A','E','N'],'Rt')\n",
    "\n",
    "from sklearn.linear_model import BayesianRidge\n",
    "bayesian = BayesianRidge()\n",
    "bayesian.fit(dataset_x,dataset_y)\n",
    "bayesian.score(test_x,test_y)"
   ]
  },
  {
   "cell_type": "markdown",
   "metadata": {},
   "source": [
    "# MLP"
   ]
  },
  {
   "cell_type": "code",
   "execution_count": 18,
   "metadata": {},
   "outputs": [
    {
     "data": {
      "text/plain": [
       "0.9896211893559368"
      ]
     },
     "execution_count": 18,
     "metadata": {},
     "output_type": "execute_result"
    }
   ],
   "source": [
    "from sklearn.neural_network import MLPRegressor\n",
    "MLP = MLPRegressor(max_iter=1000)\n",
    "dataset_x,dataset_y = split_x_and_y(database,['A','E','N'],'Rt')\n",
    "MLP.fit(dataset_x,dataset_y)\n",
    "MLP.score(dataset_x,dataset_y)"
   ]
  },
  {
   "cell_type": "code",
   "execution_count": 19,
   "metadata": {},
   "outputs": [
    {
     "data": {
      "text/plain": [
       "0.11597948956103554"
      ]
     },
     "execution_count": 19,
     "metadata": {},
     "output_type": "execute_result"
    }
   ],
   "source": [
    "dataset_x,dataset_y = split_x_and_y(database.iloc[[0,1,2,3,4,5,6,7,8]],['A','E','N'],'Rt')\n",
    "\n",
    "test_x,test_y = split_x_and_y(database.iloc[[9,10,11]],['A','E','N'],'Rt')\n",
    "\n",
    "from sklearn.neural_network import MLPRegressor\n",
    "MLP = MLPRegressor(max_iter=1000)\n",
    "MLP.fit(dataset_x,dataset_y)\n",
    "MLP.score(test_x,test_y)"
   ]
  },
  {
   "cell_type": "markdown",
   "metadata": {},
   "source": [
    "# Polynomial and Linear"
   ]
  },
  {
   "cell_type": "code",
   "execution_count": 20,
   "metadata": {},
   "outputs": [
    {
     "data": {
      "text/plain": [
       "0.9543474864060848"
      ]
     },
     "execution_count": 20,
     "metadata": {},
     "output_type": "execute_result"
    }
   ],
   "source": [
    "from sklearn.preprocessing import PolynomialFeatures\n",
    "from sklearn.linear_model import LinearRegression\n",
    "\n",
    "poly = PolynomialFeatures(2)\n",
    "LR = LinearRegression()\n",
    "\n",
    "dataset_x,dataset_y = split_x_and_y(database,['A','E','N'],'Rt')\n",
    "\n",
    "dataset_x_transformed = poly.fit_transform(dataset_x)\n",
    "\n",
    "LR.fit(dataset_x_transformed,dataset_y)\n",
    "LR.score(dataset_x_transformed,dataset_y)"
   ]
  },
  {
   "cell_type": "code",
   "execution_count": 44,
   "metadata": {},
   "outputs": [
    {
     "data": {
      "text/plain": [
       "0.07291457662648648"
      ]
     },
     "execution_count": 44,
     "metadata": {},
     "output_type": "execute_result"
    }
   ],
   "source": [
    "dataset_x,dataset_y = split_x_and_y(database.iloc[[0,1,2,3,4,5,6,7,8]],['A','E','N'],'Rt')\n",
    "\n",
    "test_x,test_y = split_x_and_y(database.iloc[[9,10,11]],['A','E','N'],'Rt')\n",
    "\n",
    "from sklearn.preprocessing import PolynomialFeatures\n",
    "from sklearn.linear_model import LinearRegression\n",
    "\n",
    "poly = PolynomialFeatures(2)\n",
    "LR = LinearRegression()\n",
    "\n",
    "dataset_x_transformed = poly.fit_transform(dataset_x)\n",
    "test_x_transformed = poly.fit_transform(test_x)\n",
    "\n",
    "LR.fit(dataset_x_transformed,dataset_y)\n",
    "LR.score(test_x_transformed,test_y)"
   ]
  },
  {
   "cell_type": "markdown",
   "metadata": {},
   "source": [
    "# Ridge"
   ]
  },
  {
   "cell_type": "code",
   "execution_count": 28,
   "metadata": {},
   "outputs": [
    {
     "data": {
      "text/plain": [
       "0.5644440727450447"
      ]
     },
     "execution_count": 28,
     "metadata": {},
     "output_type": "execute_result"
    }
   ],
   "source": [
    "from sklearn.linear_model import Ridge\n",
    "ridge = Ridge()\n",
    "dataset_x,dataset_y = split_x_and_y(database,['A','E','N'],'Rt')\n",
    "ridge.fit(dataset_x,dataset_y)\n",
    "ridge.score(dataset_x,dataset_y)"
   ]
  },
  {
   "cell_type": "code",
   "execution_count": 29,
   "metadata": {},
   "outputs": [
    {
     "data": {
      "text/plain": [
       "-0.11708240725810781"
      ]
     },
     "execution_count": 29,
     "metadata": {},
     "output_type": "execute_result"
    }
   ],
   "source": [
    "dataset_x,dataset_y = split_x_and_y(database.iloc[[0,1,2,3,4,5,6,7,8]],['A','E','N'],'Rt')\n",
    "\n",
    "test_x,test_y = split_x_and_y(database.iloc[[9,10,11]],['A','E','N'],'Rt')\n",
    "\n",
    "from sklearn.linear_model import Ridge\n",
    "ridge = Ridge()\n",
    "ridge.fit(dataset_x,dataset_y)\n",
    "ridge.score(test_x,test_y)"
   ]
  },
  {
   "cell_type": "markdown",
   "metadata": {},
   "source": [
    "# Keras"
   ]
  },
  {
   "cell_type": "code",
   "execution_count": 30,
   "metadata": {},
   "outputs": [
    {
     "data": {
      "text/plain": [
       "(12, 3)"
      ]
     },
     "execution_count": 30,
     "metadata": {},
     "output_type": "execute_result"
    }
   ],
   "source": [
    "variables,results = split_x_and_y(database,['A','E','N'],'Rt')\n",
    "variables.values.shape"
   ]
  },
  {
   "cell_type": "code",
   "execution_count": 31,
   "metadata": {},
   "outputs": [
    {
     "name": "stdout",
     "output_type": "stream",
     "text": [
      "Epoch 1/300\n",
      "1/1 [==============================] - 0s 427ms/step - loss: 1.2388 - accuracy: 0.0000e+00\n",
      "Epoch 2/300\n",
      "1/1 [==============================] - 0s 3ms/step - loss: 1.2194 - accuracy: 0.0000e+00\n",
      "Epoch 3/300\n",
      "1/1 [==============================] - 0s 4ms/step - loss: 1.2025 - accuracy: 0.0000e+00\n",
      "Epoch 4/300\n",
      "1/1 [==============================] - 0s 2ms/step - loss: 1.1880 - accuracy: 0.0000e+00\n",
      "Epoch 5/300\n",
      "1/1 [==============================] - 0s 3ms/step - loss: 1.1759 - accuracy: 0.0000e+00\n",
      "Epoch 6/300\n",
      "1/1 [==============================] - 0s 2ms/step - loss: 1.1661 - accuracy: 0.0000e+00\n",
      "Epoch 7/300\n",
      "1/1 [==============================] - 0s 2ms/step - loss: 1.1584 - accuracy: 0.0000e+00\n",
      "Epoch 8/300\n",
      "1/1 [==============================] - 0s 2ms/step - loss: 1.1527 - accuracy: 0.0000e+00\n",
      "Epoch 9/300\n",
      "1/1 [==============================] - 0s 2ms/step - loss: 1.1486 - accuracy: 0.0000e+00\n",
      "Epoch 10/300\n",
      "1/1 [==============================] - 0s 3ms/step - loss: 1.1460 - accuracy: 0.0000e+00\n",
      "Epoch 11/300\n",
      "1/1 [==============================] - 0s 3ms/step - loss: 1.1446 - accuracy: 0.0000e+00\n",
      "Epoch 12/300\n",
      "1/1 [==============================] - 0s 3ms/step - loss: 1.1441 - accuracy: 0.0000e+00\n",
      "Epoch 13/300\n",
      "1/1 [==============================] - 0s 3ms/step - loss: 1.1443 - accuracy: 0.0000e+00\n",
      "Epoch 14/300\n",
      "1/1 [==============================] - 0s 2ms/step - loss: 1.1450 - accuracy: 0.0000e+00\n",
      "Epoch 15/300\n",
      "1/1 [==============================] - 0s 3ms/step - loss: 1.1459 - accuracy: 0.0000e+00\n",
      "Epoch 16/300\n",
      "1/1 [==============================] - 0s 3ms/step - loss: 1.1468 - accuracy: 0.0000e+00\n",
      "Epoch 17/300\n",
      "1/1 [==============================] - 0s 4ms/step - loss: 1.1476 - accuracy: 0.0000e+00\n",
      "Epoch 18/300\n",
      "1/1 [==============================] - 0s 4ms/step - loss: 1.1483 - accuracy: 0.0000e+00\n",
      "Epoch 19/300\n",
      "1/1 [==============================] - 0s 3ms/step - loss: 1.1487 - accuracy: 0.0000e+00\n",
      "Epoch 20/300\n",
      "1/1 [==============================] - 0s 3ms/step - loss: 1.1489 - accuracy: 0.0000e+00\n",
      "Epoch 21/300\n",
      "1/1 [==============================] - 0s 2ms/step - loss: 1.1488 - accuracy: 0.0000e+00\n",
      "Epoch 22/300\n",
      "1/1 [==============================] - 0s 4ms/step - loss: 1.1485 - accuracy: 0.0000e+00\n",
      "Epoch 23/300\n",
      "1/1 [==============================] - 0s 4ms/step - loss: 1.1479 - accuracy: 0.0000e+00\n",
      "Epoch 24/300\n",
      "1/1 [==============================] - 0s 3ms/step - loss: 1.1473 - accuracy: 0.0000e+00\n",
      "Epoch 25/300\n",
      "1/1 [==============================] - 0s 3ms/step - loss: 1.1465 - accuracy: 0.0000e+00\n",
      "Epoch 26/300\n",
      "1/1 [==============================] - 0s 4ms/step - loss: 1.1458 - accuracy: 0.0000e+00\n",
      "Epoch 27/300\n",
      "1/1 [==============================] - 0s 3ms/step - loss: 1.1450 - accuracy: 0.0000e+00\n",
      "Epoch 28/300\n",
      "1/1 [==============================] - 0s 4ms/step - loss: 1.1442 - accuracy: 0.0000e+00\n",
      "Epoch 29/300\n",
      "1/1 [==============================] - 0s 2ms/step - loss: 1.1436 - accuracy: 0.0000e+00\n",
      "Epoch 30/300\n",
      "1/1 [==============================] - 0s 3ms/step - loss: 1.1430 - accuracy: 0.0000e+00\n",
      "Epoch 31/300\n",
      "1/1 [==============================] - 0s 3ms/step - loss: 1.1425 - accuracy: 0.0000e+00\n",
      "Epoch 32/300\n",
      "1/1 [==============================] - 0s 2ms/step - loss: 1.1422 - accuracy: 0.0000e+00\n",
      "Epoch 33/300\n",
      "1/1 [==============================] - 0s 3ms/step - loss: 1.1419 - accuracy: 0.0000e+00\n",
      "Epoch 34/300\n",
      "1/1 [==============================] - 0s 2ms/step - loss: 1.1417 - accuracy: 0.0000e+00\n",
      "Epoch 35/300\n",
      "1/1 [==============================] - 0s 3ms/step - loss: 1.1416 - accuracy: 0.0000e+00\n",
      "Epoch 36/300\n",
      "1/1 [==============================] - 0s 3ms/step - loss: 1.1415 - accuracy: 0.0000e+00\n",
      "Epoch 37/300\n",
      "1/1 [==============================] - 0s 4ms/step - loss: 1.1415 - accuracy: 0.0000e+00\n",
      "Epoch 38/300\n",
      "1/1 [==============================] - 0s 3ms/step - loss: 1.1414 - accuracy: 0.0000e+00\n",
      "Epoch 39/300\n",
      "1/1 [==============================] - 0s 4ms/step - loss: 1.1414 - accuracy: 0.0000e+00\n",
      "Epoch 40/300\n",
      "1/1 [==============================] - 0s 3ms/step - loss: 1.1413 - accuracy: 0.0000e+00\n",
      "Epoch 41/300\n",
      "1/1 [==============================] - 0s 3ms/step - loss: 1.1412 - accuracy: 0.0000e+00\n",
      "Epoch 42/300\n",
      "1/1 [==============================] - 0s 4ms/step - loss: 1.1410 - accuracy: 0.0000e+00\n",
      "Epoch 43/300\n",
      "1/1 [==============================] - 0s 4ms/step - loss: 1.1408 - accuracy: 0.0000e+00\n",
      "Epoch 44/300\n",
      "1/1 [==============================] - 0s 5ms/step - loss: 1.1405 - accuracy: 0.0000e+00\n",
      "Epoch 45/300\n",
      "1/1 [==============================] - 0s 3ms/step - loss: 1.1402 - accuracy: 0.0000e+00\n",
      "Epoch 46/300\n",
      "1/1 [==============================] - 0s 4ms/step - loss: 1.1399 - accuracy: 0.0000e+00\n",
      "Epoch 47/300\n",
      "1/1 [==============================] - 0s 2ms/step - loss: 1.1396 - accuracy: 0.0000e+00\n",
      "Epoch 48/300\n",
      "1/1 [==============================] - 0s 4ms/step - loss: 1.1392 - accuracy: 0.0000e+00\n",
      "Epoch 49/300\n",
      "1/1 [==============================] - 0s 2ms/step - loss: 1.1389 - accuracy: 0.0000e+00\n",
      "Epoch 50/300\n",
      "1/1 [==============================] - 0s 3ms/step - loss: 1.1385 - accuracy: 0.0000e+00\n",
      "Epoch 51/300\n",
      "1/1 [==============================] - 0s 3ms/step - loss: 1.1381 - accuracy: 0.0000e+00\n",
      "Epoch 52/300\n",
      "1/1 [==============================] - 0s 3ms/step - loss: 1.1378 - accuracy: 0.0000e+00\n",
      "Epoch 53/300\n",
      "1/1 [==============================] - 0s 3ms/step - loss: 1.1374 - accuracy: 0.0000e+00\n",
      "Epoch 54/300\n",
      "1/1 [==============================] - 0s 3ms/step - loss: 1.1370 - accuracy: 0.0000e+00\n",
      "Epoch 55/300\n",
      "1/1 [==============================] - 0s 3ms/step - loss: 1.1366 - accuracy: 0.0000e+00\n",
      "Epoch 56/300\n",
      "1/1 [==============================] - 0s 2ms/step - loss: 1.1362 - accuracy: 0.0000e+00\n",
      "Epoch 57/300\n",
      "1/1 [==============================] - 0s 3ms/step - loss: 1.1358 - accuracy: 0.0000e+00\n",
      "Epoch 58/300\n",
      "1/1 [==============================] - 0s 3ms/step - loss: 1.1353 - accuracy: 0.0000e+00\n",
      "Epoch 59/300\n",
      "1/1 [==============================] - 0s 3ms/step - loss: 1.1348 - accuracy: 0.0000e+00\n",
      "Epoch 60/300\n",
      "1/1 [==============================] - 0s 3ms/step - loss: 1.1343 - accuracy: 0.0000e+00\n",
      "Epoch 61/300\n",
      "1/1 [==============================] - 0s 2ms/step - loss: 1.1337 - accuracy: 0.0000e+00\n",
      "Epoch 62/300\n",
      "1/1 [==============================] - 0s 2ms/step - loss: 1.1331 - accuracy: 0.0000e+00\n",
      "Epoch 63/300\n",
      "1/1 [==============================] - 0s 3ms/step - loss: 1.1324 - accuracy: 0.0000e+00\n",
      "Epoch 64/300\n",
      "1/1 [==============================] - 0s 2ms/step - loss: 1.1317 - accuracy: 0.0000e+00\n",
      "Epoch 65/300\n",
      "1/1 [==============================] - 0s 2ms/step - loss: 1.1310 - accuracy: 0.0000e+00\n",
      "Epoch 66/300\n",
      "1/1 [==============================] - 0s 3ms/step - loss: 1.1301 - accuracy: 0.0000e+00\n",
      "Epoch 67/300\n",
      "1/1 [==============================] - 0s 3ms/step - loss: 1.1293 - accuracy: 0.0000e+00\n",
      "Epoch 68/300\n",
      "1/1 [==============================] - 0s 3ms/step - loss: 1.1283 - accuracy: 0.0000e+00\n",
      "Epoch 69/300\n",
      "1/1 [==============================] - 0s 3ms/step - loss: 1.1273 - accuracy: 0.0000e+00\n",
      "Epoch 70/300\n",
      "1/1 [==============================] - 0s 3ms/step - loss: 1.1262 - accuracy: 0.0000e+00\n",
      "Epoch 71/300\n",
      "1/1 [==============================] - 0s 5ms/step - loss: 1.1251 - accuracy: 0.0000e+00\n",
      "Epoch 72/300\n",
      "1/1 [==============================] - 0s 3ms/step - loss: 1.1238 - accuracy: 0.0000e+00\n",
      "Epoch 73/300\n",
      "1/1 [==============================] - 0s 4ms/step - loss: 1.1225 - accuracy: 0.0000e+00\n",
      "Epoch 74/300\n",
      "1/1 [==============================] - 0s 3ms/step - loss: 1.1210 - accuracy: 0.0000e+00\n",
      "Epoch 75/300\n",
      "1/1 [==============================] - 0s 3ms/step - loss: 1.1194 - accuracy: 0.0000e+00\n",
      "Epoch 76/300\n",
      "1/1 [==============================] - 0s 3ms/step - loss: 1.1177 - accuracy: 0.0000e+00\n",
      "Epoch 77/300\n",
      "1/1 [==============================] - 0s 4ms/step - loss: 1.1158 - accuracy: 0.0000e+00\n",
      "Epoch 78/300\n",
      "1/1 [==============================] - 0s 3ms/step - loss: 1.1138 - accuracy: 0.0000e+00\n",
      "Epoch 79/300\n",
      "1/1 [==============================] - 0s 2ms/step - loss: 1.1116 - accuracy: 0.0000e+00\n",
      "Epoch 80/300\n",
      "1/1 [==============================] - 0s 3ms/step - loss: 1.1092 - accuracy: 0.0000e+00\n",
      "Epoch 81/300\n",
      "1/1 [==============================] - 0s 4ms/step - loss: 1.1066 - accuracy: 0.0000e+00\n",
      "Epoch 82/300\n",
      "1/1 [==============================] - 0s 4ms/step - loss: 1.1037 - accuracy: 0.0000e+00\n",
      "Epoch 83/300\n",
      "1/1 [==============================] - 0s 4ms/step - loss: 1.1006 - accuracy: 0.0000e+00\n",
      "Epoch 84/300\n",
      "1/1 [==============================] - 0s 4ms/step - loss: 1.0972 - accuracy: 0.0000e+00\n",
      "Epoch 85/300\n",
      "1/1 [==============================] - 0s 4ms/step - loss: 1.0935 - accuracy: 0.0000e+00\n",
      "Epoch 86/300\n",
      "1/1 [==============================] - 0s 2ms/step - loss: 1.0894 - accuracy: 0.0000e+00\n",
      "Epoch 87/300\n",
      "1/1 [==============================] - 0s 4ms/step - loss: 1.0850 - accuracy: 0.0000e+00\n",
      "Epoch 88/300\n",
      "1/1 [==============================] - 0s 4ms/step - loss: 1.0802 - accuracy: 0.0000e+00\n",
      "Epoch 89/300\n",
      "1/1 [==============================] - 0s 4ms/step - loss: 1.0750 - accuracy: 0.0000e+00\n",
      "Epoch 90/300\n",
      "1/1 [==============================] - 0s 3ms/step - loss: 1.0693 - accuracy: 0.0000e+00\n",
      "Epoch 91/300\n",
      "1/1 [==============================] - 0s 4ms/step - loss: 1.0631 - accuracy: 0.0000e+00\n",
      "Epoch 92/300\n",
      "1/1 [==============================] - 0s 3ms/step - loss: 1.0563 - accuracy: 0.0000e+00\n",
      "Epoch 93/300\n",
      "1/1 [==============================] - 0s 4ms/step - loss: 1.0490 - accuracy: 0.0000e+00\n",
      "Epoch 94/300\n",
      "1/1 [==============================] - 0s 3ms/step - loss: 1.0410 - accuracy: 0.0000e+00\n",
      "Epoch 95/300\n",
      "1/1 [==============================] - 0s 3ms/step - loss: 1.0325 - accuracy: 0.0000e+00\n",
      "Epoch 96/300\n",
      "1/1 [==============================] - 0s 3ms/step - loss: 1.0232 - accuracy: 0.0000e+00\n",
      "Epoch 97/300\n",
      "1/1 [==============================] - 0s 2ms/step - loss: 1.0132 - accuracy: 0.0000e+00\n",
      "Epoch 98/300\n",
      "1/1 [==============================] - 0s 3ms/step - loss: 1.0025 - accuracy: 0.0000e+00\n",
      "Epoch 99/300\n",
      "1/1 [==============================] - 0s 3ms/step - loss: 0.9911 - accuracy: 0.0000e+00\n",
      "Epoch 100/300\n",
      "1/1 [==============================] - 0s 4ms/step - loss: 0.9789 - accuracy: 0.0000e+00\n",
      "Epoch 101/300\n",
      "1/1 [==============================] - 0s 3ms/step - loss: 0.9659 - accuracy: 0.0000e+00\n",
      "Epoch 102/300\n",
      "1/1 [==============================] - 0s 3ms/step - loss: 0.9523 - accuracy: 0.0000e+00\n",
      "Epoch 103/300\n",
      "1/1 [==============================] - 0s 4ms/step - loss: 0.9378 - accuracy: 0.0000e+00\n",
      "Epoch 104/300\n",
      "1/1 [==============================] - 0s 2ms/step - loss: 0.9228 - accuracy: 0.0000e+00\n",
      "Epoch 105/300\n",
      "1/1 [==============================] - 0s 2ms/step - loss: 0.9070 - accuracy: 0.0000e+00\n",
      "Epoch 106/300\n",
      "1/1 [==============================] - 0s 3ms/step - loss: 0.8908 - accuracy: 0.0000e+00\n",
      "Epoch 107/300\n",
      "1/1 [==============================] - 0s 3ms/step - loss: 0.8740 - accuracy: 0.0000e+00\n",
      "Epoch 108/300\n",
      "1/1 [==============================] - 0s 2ms/step - loss: 0.8568 - accuracy: 0.0000e+00\n",
      "Epoch 109/300\n",
      "1/1 [==============================] - 0s 3ms/step - loss: 0.8394 - accuracy: 0.0000e+00\n",
      "Epoch 110/300\n",
      "1/1 [==============================] - 0s 3ms/step - loss: 0.8216 - accuracy: 0.0000e+00\n",
      "Epoch 111/300\n",
      "1/1 [==============================] - 0s 2ms/step - loss: 0.8038 - accuracy: 0.0000e+00\n",
      "Epoch 112/300\n",
      "1/1 [==============================] - 0s 3ms/step - loss: 0.7860 - accuracy: 0.0000e+00\n",
      "Epoch 113/300\n",
      "1/1 [==============================] - 0s 4ms/step - loss: 0.7683 - accuracy: 0.0000e+00\n",
      "Epoch 114/300\n",
      "1/1 [==============================] - 0s 3ms/step - loss: 0.7507 - accuracy: 0.0000e+00\n",
      "Epoch 115/300\n",
      "1/1 [==============================] - 0s 3ms/step - loss: 0.7335 - accuracy: 0.0000e+00\n",
      "Epoch 116/300\n",
      "1/1 [==============================] - 0s 3ms/step - loss: 0.7166 - accuracy: 0.0000e+00\n",
      "Epoch 117/300\n",
      "1/1 [==============================] - 0s 3ms/step - loss: 0.7002 - accuracy: 0.0000e+00\n",
      "Epoch 118/300\n",
      "1/1 [==============================] - 0s 3ms/step - loss: 0.6843 - accuracy: 0.0000e+00\n",
      "Epoch 119/300\n",
      "1/1 [==============================] - 0s 3ms/step - loss: 0.6689 - accuracy: 0.0000e+00\n",
      "Epoch 120/300\n",
      "1/1 [==============================] - 0s 3ms/step - loss: 0.6541 - accuracy: 0.0000e+00\n",
      "Epoch 121/300\n",
      "1/1 [==============================] - 0s 3ms/step - loss: 0.6399 - accuracy: 0.0000e+00\n",
      "Epoch 122/300\n",
      "1/1 [==============================] - 0s 3ms/step - loss: 0.6263 - accuracy: 0.0000e+00\n",
      "Epoch 123/300\n",
      "1/1 [==============================] - 0s 4ms/step - loss: 0.6132 - accuracy: 0.0000e+00\n",
      "Epoch 124/300\n",
      "1/1 [==============================] - 0s 5ms/step - loss: 0.6007 - accuracy: 0.0000e+00\n",
      "Epoch 125/300\n",
      "1/1 [==============================] - 0s 3ms/step - loss: 0.5888 - accuracy: 0.0000e+00\n",
      "Epoch 126/300\n",
      "1/1 [==============================] - 0s 3ms/step - loss: 0.5774 - accuracy: 0.0000e+00\n",
      "Epoch 127/300\n",
      "1/1 [==============================] - 0s 3ms/step - loss: 0.5666 - accuracy: 0.0000e+00\n",
      "Epoch 128/300\n",
      "1/1 [==============================] - 0s 3ms/step - loss: 0.5562 - accuracy: 0.0000e+00\n",
      "Epoch 129/300\n",
      "1/1 [==============================] - 0s 3ms/step - loss: 0.5464 - accuracy: 0.0000e+00\n",
      "Epoch 130/300\n",
      "1/1 [==============================] - 0s 3ms/step - loss: 0.5370 - accuracy: 0.0000e+00\n",
      "Epoch 131/300\n",
      "1/1 [==============================] - 0s 3ms/step - loss: 0.5282 - accuracy: 0.0000e+00\n",
      "Epoch 132/300\n",
      "1/1 [==============================] - 0s 3ms/step - loss: 0.5200 - accuracy: 0.0000e+00\n",
      "Epoch 133/300\n",
      "1/1 [==============================] - 0s 3ms/step - loss: 0.5123 - accuracy: 0.0000e+00\n",
      "Epoch 134/300\n",
      "1/1 [==============================] - 0s 3ms/step - loss: 0.5051 - accuracy: 0.0000e+00\n",
      "Epoch 135/300\n",
      "1/1 [==============================] - 0s 3ms/step - loss: 0.4986 - accuracy: 0.0000e+00\n",
      "Epoch 136/300\n",
      "1/1 [==============================] - 0s 4ms/step - loss: 0.4927 - accuracy: 0.0000e+00\n",
      "Epoch 137/300\n",
      "1/1 [==============================] - 0s 4ms/step - loss: 0.4874 - accuracy: 0.0000e+00\n",
      "Epoch 138/300\n",
      "1/1 [==============================] - 0s 4ms/step - loss: 0.4827 - accuracy: 0.0000e+00\n",
      "Epoch 139/300\n",
      "1/1 [==============================] - 0s 4ms/step - loss: 0.4786 - accuracy: 0.0000e+00\n",
      "Epoch 140/300\n",
      "1/1 [==============================] - 0s 5ms/step - loss: 0.4749 - accuracy: 0.0000e+00\n",
      "Epoch 141/300\n",
      "1/1 [==============================] - 0s 3ms/step - loss: 0.4717 - accuracy: 0.0000e+00\n",
      "Epoch 142/300\n",
      "1/1 [==============================] - 0s 2ms/step - loss: 0.4689 - accuracy: 0.0000e+00\n",
      "Epoch 143/300\n",
      "1/1 [==============================] - 0s 4ms/step - loss: 0.4665 - accuracy: 0.0000e+00\n",
      "Epoch 144/300\n",
      "1/1 [==============================] - 0s 12ms/step - loss: 0.4642 - accuracy: 0.0000e+00\n",
      "Epoch 145/300\n",
      "1/1 [==============================] - 0s 5ms/step - loss: 0.4622 - accuracy: 0.0000e+00\n",
      "Epoch 146/300\n",
      "1/1 [==============================] - 0s 4ms/step - loss: 0.4604 - accuracy: 0.0000e+00\n",
      "Epoch 147/300\n",
      "1/1 [==============================] - 0s 5ms/step - loss: 0.4586 - accuracy: 0.0000e+00\n",
      "Epoch 148/300\n",
      "1/1 [==============================] - 0s 4ms/step - loss: 0.4570 - accuracy: 0.0000e+00\n",
      "Epoch 149/300\n",
      "1/1 [==============================] - 0s 4ms/step - loss: 0.4554 - accuracy: 0.0000e+00\n",
      "Epoch 150/300\n",
      "1/1 [==============================] - 0s 3ms/step - loss: 0.4539 - accuracy: 0.0000e+00\n",
      "Epoch 151/300\n",
      "1/1 [==============================] - 0s 3ms/step - loss: 0.4525 - accuracy: 0.0000e+00\n",
      "Epoch 152/300\n",
      "1/1 [==============================] - 0s 3ms/step - loss: 0.4512 - accuracy: 0.0000e+00\n",
      "Epoch 153/300\n",
      "1/1 [==============================] - 0s 3ms/step - loss: 0.4500 - accuracy: 0.0000e+00\n",
      "Epoch 154/300\n",
      "1/1 [==============================] - 0s 2ms/step - loss: 0.4489 - accuracy: 0.0000e+00\n",
      "Epoch 155/300\n",
      "1/1 [==============================] - 0s 3ms/step - loss: 0.4478 - accuracy: 0.0000e+00\n",
      "Epoch 156/300\n",
      "1/1 [==============================] - 0s 3ms/step - loss: 0.4468 - accuracy: 0.0000e+00\n",
      "Epoch 157/300\n",
      "1/1 [==============================] - 0s 4ms/step - loss: 0.4458 - accuracy: 0.0000e+00\n",
      "Epoch 158/300\n",
      "1/1 [==============================] - 0s 4ms/step - loss: 0.4448 - accuracy: 0.0000e+00\n",
      "Epoch 159/300\n",
      "1/1 [==============================] - 0s 3ms/step - loss: 0.4439 - accuracy: 0.0000e+00\n",
      "Epoch 160/300\n",
      "1/1 [==============================] - 0s 3ms/step - loss: 0.4430 - accuracy: 0.0000e+00\n",
      "Epoch 161/300\n",
      "1/1 [==============================] - 0s 3ms/step - loss: 0.4421 - accuracy: 0.0000e+00\n",
      "Epoch 162/300\n",
      "1/1 [==============================] - 0s 2ms/step - loss: 0.4411 - accuracy: 0.0000e+00\n",
      "Epoch 163/300\n",
      "1/1 [==============================] - 0s 2ms/step - loss: 0.4402 - accuracy: 0.0000e+00\n",
      "Epoch 164/300\n",
      "1/1 [==============================] - 0s 3ms/step - loss: 0.4393 - accuracy: 0.0000e+00\n",
      "Epoch 165/300\n",
      "1/1 [==============================] - 0s 2ms/step - loss: 0.4385 - accuracy: 0.0000e+00\n",
      "Epoch 166/300\n",
      "1/1 [==============================] - 0s 3ms/step - loss: 0.4376 - accuracy: 0.0000e+00\n",
      "Epoch 167/300\n",
      "1/1 [==============================] - 0s 3ms/step - loss: 0.4368 - accuracy: 0.0000e+00\n",
      "Epoch 168/300\n",
      "1/1 [==============================] - 0s 3ms/step - loss: 0.4361 - accuracy: 0.0000e+00\n",
      "Epoch 169/300\n",
      "1/1 [==============================] - 0s 3ms/step - loss: 0.4353 - accuracy: 0.0000e+00\n",
      "Epoch 170/300\n",
      "1/1 [==============================] - 0s 3ms/step - loss: 0.4346 - accuracy: 0.0000e+00\n",
      "Epoch 171/300\n",
      "1/1 [==============================] - 0s 2ms/step - loss: 0.4339 - accuracy: 0.0000e+00\n",
      "Epoch 172/300\n",
      "1/1 [==============================] - 0s 3ms/step - loss: 0.4331 - accuracy: 0.0000e+00\n",
      "Epoch 173/300\n",
      "1/1 [==============================] - 0s 3ms/step - loss: 0.4324 - accuracy: 0.0000e+00\n",
      "Epoch 174/300\n",
      "1/1 [==============================] - 0s 2ms/step - loss: 0.4317 - accuracy: 0.0000e+00\n",
      "Epoch 175/300\n",
      "1/1 [==============================] - 0s 3ms/step - loss: 0.4309 - accuracy: 0.0000e+00\n",
      "Epoch 176/300\n",
      "1/1 [==============================] - 0s 5ms/step - loss: 0.4301 - accuracy: 0.0000e+00\n",
      "Epoch 177/300\n",
      "1/1 [==============================] - 0s 2ms/step - loss: 0.4293 - accuracy: 0.0000e+00\n",
      "Epoch 178/300\n",
      "1/1 [==============================] - 0s 3ms/step - loss: 0.4285 - accuracy: 0.0000e+00\n",
      "Epoch 179/300\n",
      "1/1 [==============================] - 0s 4ms/step - loss: 0.4277 - accuracy: 0.0000e+00\n",
      "Epoch 180/300\n",
      "1/1 [==============================] - 0s 3ms/step - loss: 0.4268 - accuracy: 0.0000e+00\n",
      "Epoch 181/300\n",
      "1/1 [==============================] - 0s 3ms/step - loss: 0.4260 - accuracy: 0.0000e+00\n",
      "Epoch 182/300\n",
      "1/1 [==============================] - 0s 4ms/step - loss: 0.4251 - accuracy: 0.0000e+00\n",
      "Epoch 183/300\n",
      "1/1 [==============================] - 0s 4ms/step - loss: 0.4242 - accuracy: 0.0000e+00\n",
      "Epoch 184/300\n",
      "1/1 [==============================] - 0s 3ms/step - loss: 0.4232 - accuracy: 0.0000e+00\n",
      "Epoch 185/300\n",
      "1/1 [==============================] - 0s 2ms/step - loss: 0.4222 - accuracy: 0.0000e+00\n",
      "Epoch 186/300\n",
      "1/1 [==============================] - 0s 3ms/step - loss: 0.4212 - accuracy: 0.0000e+00\n",
      "Epoch 187/300\n",
      "1/1 [==============================] - 0s 6ms/step - loss: 0.4202 - accuracy: 0.0000e+00\n",
      "Epoch 188/300\n",
      "1/1 [==============================] - 0s 4ms/step - loss: 0.4191 - accuracy: 0.0000e+00\n",
      "Epoch 189/300\n",
      "1/1 [==============================] - 0s 2ms/step - loss: 0.4180 - accuracy: 0.0000e+00\n",
      "Epoch 190/300\n",
      "1/1 [==============================] - 0s 3ms/step - loss: 0.4168 - accuracy: 0.0000e+00\n",
      "Epoch 191/300\n",
      "1/1 [==============================] - 0s 4ms/step - loss: 0.4156 - accuracy: 0.0000e+00\n",
      "Epoch 192/300\n",
      "1/1 [==============================] - 0s 4ms/step - loss: 0.4143 - accuracy: 0.0000e+00\n",
      "Epoch 193/300\n",
      "1/1 [==============================] - 0s 4ms/step - loss: 0.4130 - accuracy: 0.0000e+00\n",
      "Epoch 194/300\n",
      "1/1 [==============================] - 0s 4ms/step - loss: 0.4116 - accuracy: 0.0000e+00\n",
      "Epoch 195/300\n",
      "1/1 [==============================] - 0s 3ms/step - loss: 0.4101 - accuracy: 0.0000e+00\n",
      "Epoch 196/300\n",
      "1/1 [==============================] - 0s 3ms/step - loss: 0.4086 - accuracy: 0.0000e+00\n",
      "Epoch 197/300\n",
      "1/1 [==============================] - 0s 3ms/step - loss: 0.4070 - accuracy: 0.0000e+00\n",
      "Epoch 198/300\n",
      "1/1 [==============================] - 0s 3ms/step - loss: 0.4053 - accuracy: 0.0000e+00\n",
      "Epoch 199/300\n",
      "1/1 [==============================] - 0s 2ms/step - loss: 0.4035 - accuracy: 0.0000e+00\n",
      "Epoch 200/300\n",
      "1/1 [==============================] - 0s 3ms/step - loss: 0.4017 - accuracy: 0.0000e+00\n",
      "Epoch 201/300\n",
      "1/1 [==============================] - 0s 3ms/step - loss: 0.3997 - accuracy: 0.0000e+00\n",
      "Epoch 202/300\n",
      "1/1 [==============================] - 0s 2ms/step - loss: 0.3977 - accuracy: 0.0000e+00\n",
      "Epoch 203/300\n",
      "1/1 [==============================] - 0s 3ms/step - loss: 0.3956 - accuracy: 0.0000e+00\n",
      "Epoch 204/300\n",
      "1/1 [==============================] - 0s 4ms/step - loss: 0.3935 - accuracy: 0.0000e+00\n",
      "Epoch 205/300\n",
      "1/1 [==============================] - 0s 3ms/step - loss: 0.3912 - accuracy: 0.0000e+00\n",
      "Epoch 206/300\n",
      "1/1 [==============================] - 0s 3ms/step - loss: 0.3889 - accuracy: 0.0000e+00\n",
      "Epoch 207/300\n",
      "1/1 [==============================] - 0s 2ms/step - loss: 0.3866 - accuracy: 0.0000e+00\n",
      "Epoch 208/300\n",
      "1/1 [==============================] - 0s 5ms/step - loss: 0.3842 - accuracy: 0.0000e+00\n",
      "Epoch 209/300\n",
      "1/1 [==============================] - 0s 2ms/step - loss: 0.3817 - accuracy: 0.0000e+00\n",
      "Epoch 210/300\n",
      "1/1 [==============================] - 0s 3ms/step - loss: 0.3792 - accuracy: 0.0000e+00\n",
      "Epoch 211/300\n",
      "1/1 [==============================] - 0s 3ms/step - loss: 0.3767 - accuracy: 0.0000e+00\n",
      "Epoch 212/300\n",
      "1/1 [==============================] - 0s 3ms/step - loss: 0.3743 - accuracy: 0.0000e+00\n",
      "Epoch 213/300\n",
      "1/1 [==============================] - 0s 3ms/step - loss: 0.3718 - accuracy: 0.0000e+00\n",
      "Epoch 214/300\n",
      "1/1 [==============================] - 0s 3ms/step - loss: 0.3693 - accuracy: 0.0000e+00\n",
      "Epoch 215/300\n",
      "1/1 [==============================] - 0s 4ms/step - loss: 0.3669 - accuracy: 0.0000e+00\n",
      "Epoch 216/300\n",
      "1/1 [==============================] - 0s 3ms/step - loss: 0.3645 - accuracy: 0.0000e+00\n",
      "Epoch 217/300\n",
      "1/1 [==============================] - 0s 3ms/step - loss: 0.3621 - accuracy: 0.0000e+00\n",
      "Epoch 218/300\n",
      "1/1 [==============================] - 0s 3ms/step - loss: 0.3598 - accuracy: 0.0000e+00\n",
      "Epoch 219/300\n",
      "1/1 [==============================] - 0s 3ms/step - loss: 0.3576 - accuracy: 0.0000e+00\n",
      "Epoch 220/300\n",
      "1/1 [==============================] - 0s 3ms/step - loss: 0.3555 - accuracy: 0.0000e+00\n",
      "Epoch 221/300\n",
      "1/1 [==============================] - 0s 3ms/step - loss: 0.3534 - accuracy: 0.0000e+00\n",
      "Epoch 222/300\n",
      "1/1 [==============================] - 0s 3ms/step - loss: 0.3514 - accuracy: 0.0000e+00\n",
      "Epoch 223/300\n",
      "1/1 [==============================] - 0s 3ms/step - loss: 0.3494 - accuracy: 0.0000e+00\n",
      "Epoch 224/300\n",
      "1/1 [==============================] - 0s 5ms/step - loss: 0.3476 - accuracy: 0.0000e+00\n",
      "Epoch 225/300\n",
      "1/1 [==============================] - 0s 4ms/step - loss: 0.3458 - accuracy: 0.0000e+00\n",
      "Epoch 226/300\n",
      "1/1 [==============================] - 0s 4ms/step - loss: 0.3441 - accuracy: 0.0000e+00\n",
      "Epoch 227/300\n",
      "1/1 [==============================] - 0s 3ms/step - loss: 0.3424 - accuracy: 0.0000e+00\n",
      "Epoch 228/300\n",
      "1/1 [==============================] - 0s 3ms/step - loss: 0.3408 - accuracy: 0.0000e+00\n",
      "Epoch 229/300\n",
      "1/1 [==============================] - 0s 2ms/step - loss: 0.3393 - accuracy: 0.0000e+00\n",
      "Epoch 230/300\n",
      "1/1 [==============================] - 0s 3ms/step - loss: 0.3378 - accuracy: 0.0000e+00\n",
      "Epoch 231/300\n",
      "1/1 [==============================] - 0s 4ms/step - loss: 0.3364 - accuracy: 0.0000e+00\n",
      "Epoch 232/300\n",
      "1/1 [==============================] - 0s 3ms/step - loss: 0.3351 - accuracy: 0.0000e+00\n",
      "Epoch 233/300\n",
      "1/1 [==============================] - 0s 3ms/step - loss: 0.3338 - accuracy: 0.0000e+00\n",
      "Epoch 234/300\n",
      "1/1 [==============================] - 0s 4ms/step - loss: 0.3325 - accuracy: 0.0000e+00\n",
      "Epoch 235/300\n",
      "1/1 [==============================] - 0s 4ms/step - loss: 0.3313 - accuracy: 0.0000e+00\n",
      "Epoch 236/300\n",
      "1/1 [==============================] - 0s 4ms/step - loss: 0.3301 - accuracy: 0.0000e+00\n",
      "Epoch 237/300\n",
      "1/1 [==============================] - 0s 4ms/step - loss: 0.3290 - accuracy: 0.0000e+00\n",
      "Epoch 238/300\n",
      "1/1 [==============================] - 0s 3ms/step - loss: 0.3279 - accuracy: 0.0000e+00\n",
      "Epoch 239/300\n",
      "1/1 [==============================] - 0s 8ms/step - loss: 0.3268 - accuracy: 0.0000e+00\n",
      "Epoch 240/300\n",
      "1/1 [==============================] - 0s 3ms/step - loss: 0.3258 - accuracy: 0.0000e+00\n",
      "Epoch 241/300\n",
      "1/1 [==============================] - 0s 4ms/step - loss: 0.3248 - accuracy: 0.0000e+00\n",
      "Epoch 242/300\n",
      "1/1 [==============================] - 0s 5ms/step - loss: 0.3239 - accuracy: 0.0000e+00\n",
      "Epoch 243/300\n",
      "1/1 [==============================] - 0s 4ms/step - loss: 0.3229 - accuracy: 0.0000e+00\n",
      "Epoch 244/300\n",
      "1/1 [==============================] - 0s 4ms/step - loss: 0.3220 - accuracy: 0.0000e+00\n",
      "Epoch 245/300\n",
      "1/1 [==============================] - 0s 3ms/step - loss: 0.3211 - accuracy: 0.0000e+00\n",
      "Epoch 246/300\n",
      "1/1 [==============================] - 0s 4ms/step - loss: 0.3202 - accuracy: 0.0000e+00\n",
      "Epoch 247/300\n",
      "1/1 [==============================] - 0s 4ms/step - loss: 0.3193 - accuracy: 0.0000e+00\n",
      "Epoch 248/300\n",
      "1/1 [==============================] - 0s 3ms/step - loss: 0.3185 - accuracy: 0.0000e+00\n",
      "Epoch 249/300\n",
      "1/1 [==============================] - 0s 2ms/step - loss: 0.3176 - accuracy: 0.0000e+00\n",
      "Epoch 250/300\n",
      "1/1 [==============================] - 0s 4ms/step - loss: 0.3168 - accuracy: 0.0000e+00\n",
      "Epoch 251/300\n",
      "1/1 [==============================] - 0s 4ms/step - loss: 0.3159 - accuracy: 0.0000e+00\n",
      "Epoch 252/300\n",
      "1/1 [==============================] - 0s 3ms/step - loss: 0.3150 - accuracy: 0.0000e+00\n",
      "Epoch 253/300\n",
      "1/1 [==============================] - 0s 4ms/step - loss: 0.3141 - accuracy: 0.0000e+00\n",
      "Epoch 254/300\n",
      "1/1 [==============================] - 0s 3ms/step - loss: 0.3132 - accuracy: 0.0000e+00\n",
      "Epoch 255/300\n",
      "1/1 [==============================] - 0s 3ms/step - loss: 0.3123 - accuracy: 0.0000e+00\n",
      "Epoch 256/300\n",
      "1/1 [==============================] - 0s 4ms/step - loss: 0.3113 - accuracy: 0.0000e+00\n",
      "Epoch 257/300\n",
      "1/1 [==============================] - 0s 2ms/step - loss: 0.3103 - accuracy: 0.0000e+00\n",
      "Epoch 258/300\n",
      "1/1 [==============================] - 0s 2ms/step - loss: 0.3092 - accuracy: 0.0000e+00\n",
      "Epoch 259/300\n",
      "1/1 [==============================] - 0s 10ms/step - loss: 0.3080 - accuracy: 0.0000e+00\n",
      "Epoch 260/300\n",
      "1/1 [==============================] - 0s 5ms/step - loss: 0.3066 - accuracy: 0.0000e+00\n",
      "Epoch 261/300\n",
      "1/1 [==============================] - 0s 4ms/step - loss: 0.3051 - accuracy: 0.0000e+00\n",
      "Epoch 262/300\n",
      "1/1 [==============================] - 0s 5ms/step - loss: 0.3033 - accuracy: 0.0000e+00\n",
      "Epoch 263/300\n",
      "1/1 [==============================] - 0s 4ms/step - loss: 0.3010 - accuracy: 0.0000e+00\n",
      "Epoch 264/300\n",
      "1/1 [==============================] - 0s 4ms/step - loss: 0.2981 - accuracy: 0.0000e+00\n",
      "Epoch 265/300\n",
      "1/1 [==============================] - 0s 4ms/step - loss: 0.2943 - accuracy: 0.0000e+00\n",
      "Epoch 266/300\n",
      "1/1 [==============================] - 0s 4ms/step - loss: 0.2895 - accuracy: 0.0000e+00\n",
      "Epoch 267/300\n",
      "1/1 [==============================] - 0s 3ms/step - loss: 0.2839 - accuracy: 0.0000e+00\n",
      "Epoch 268/300\n",
      "1/1 [==============================] - 0s 4ms/step - loss: 0.2791 - accuracy: 0.0000e+00\n",
      "Epoch 269/300\n",
      "1/1 [==============================] - 0s 6ms/step - loss: 0.2743 - accuracy: 0.0000e+00\n",
      "Epoch 270/300\n",
      "1/1 [==============================] - 0s 3ms/step - loss: 0.2675 - accuracy: 0.0000e+00\n",
      "Epoch 271/300\n",
      "1/1 [==============================] - 0s 4ms/step - loss: 0.2610 - accuracy: 0.0000e+00\n",
      "Epoch 272/300\n",
      "1/1 [==============================] - 0s 9ms/step - loss: 0.2558 - accuracy: 0.0000e+00\n",
      "Epoch 273/300\n",
      "1/1 [==============================] - 0s 4ms/step - loss: 0.2505 - accuracy: 0.0000e+00\n",
      "Epoch 274/300\n",
      "1/1 [==============================] - 0s 4ms/step - loss: 0.2448 - accuracy: 0.0000e+00\n",
      "Epoch 275/300\n",
      "1/1 [==============================] - 0s 4ms/step - loss: 0.2402 - accuracy: 0.0000e+00\n",
      "Epoch 276/300\n",
      "1/1 [==============================] - 0s 3ms/step - loss: 0.2365 - accuracy: 0.0000e+00\n",
      "Epoch 277/300\n",
      "1/1 [==============================] - 0s 3ms/step - loss: 0.2322 - accuracy: 0.0000e+00\n",
      "Epoch 278/300\n",
      "1/1 [==============================] - 0s 3ms/step - loss: 0.2282 - accuracy: 0.0000e+00\n",
      "Epoch 279/300\n",
      "1/1 [==============================] - 0s 4ms/step - loss: 0.2250 - accuracy: 0.0000e+00\n",
      "Epoch 280/300\n",
      "1/1 [==============================] - 0s 2ms/step - loss: 0.2219 - accuracy: 0.0000e+00\n",
      "Epoch 281/300\n",
      "1/1 [==============================] - 0s 3ms/step - loss: 0.2185 - accuracy: 0.0000e+00\n",
      "Epoch 282/300\n",
      "1/1 [==============================] - 0s 3ms/step - loss: 0.2156 - accuracy: 0.0000e+00\n",
      "Epoch 283/300\n",
      "1/1 [==============================] - 0s 3ms/step - loss: 0.2130 - accuracy: 0.0000e+00\n",
      "Epoch 284/300\n",
      "1/1 [==============================] - 0s 3ms/step - loss: 0.2101 - accuracy: 0.0000e+00\n",
      "Epoch 285/300\n",
      "1/1 [==============================] - 0s 4ms/step - loss: 0.2072 - accuracy: 0.0000e+00\n",
      "Epoch 286/300\n",
      "1/1 [==============================] - 0s 4ms/step - loss: 0.2047 - accuracy: 0.0000e+00\n",
      "Epoch 287/300\n",
      "1/1 [==============================] - 0s 4ms/step - loss: 0.2022 - accuracy: 0.0000e+00\n",
      "Epoch 288/300\n",
      "1/1 [==============================] - 0s 5ms/step - loss: 0.1995 - accuracy: 0.0000e+00\n",
      "Epoch 289/300\n",
      "1/1 [==============================] - 0s 4ms/step - loss: 0.1969 - accuracy: 0.0000e+00\n",
      "Epoch 290/300\n",
      "1/1 [==============================] - 0s 4ms/step - loss: 0.1946 - accuracy: 0.0000e+00\n",
      "Epoch 291/300\n",
      "1/1 [==============================] - 0s 5ms/step - loss: 0.1921 - accuracy: 0.0000e+00\n",
      "Epoch 292/300\n",
      "1/1 [==============================] - 0s 4ms/step - loss: 0.1896 - accuracy: 0.0000e+00\n",
      "Epoch 293/300\n",
      "1/1 [==============================] - 0s 4ms/step - loss: 0.1873 - accuracy: 0.0000e+00\n",
      "Epoch 294/300\n",
      "1/1 [==============================] - 0s 4ms/step - loss: 0.1851 - accuracy: 0.0000e+00\n",
      "Epoch 295/300\n",
      "1/1 [==============================] - 0s 4ms/step - loss: 0.1827 - accuracy: 0.0000e+00\n",
      "Epoch 296/300\n",
      "1/1 [==============================] - 0s 3ms/step - loss: 0.1806 - accuracy: 0.0000e+00\n",
      "Epoch 297/300\n",
      "1/1 [==============================] - 0s 4ms/step - loss: 0.1785 - accuracy: 0.0000e+00\n",
      "Epoch 298/300\n",
      "1/1 [==============================] - 0s 4ms/step - loss: 0.1763 - accuracy: 0.0000e+00\n",
      "Epoch 299/300\n",
      "1/1 [==============================] - 0s 5ms/step - loss: 0.1742 - accuracy: 0.0000e+00\n",
      "Epoch 300/300\n",
      "1/1 [==============================] - 0s 3ms/step - loss: 0.1722 - accuracy: 0.0000e+00\n"
     ]
    },
    {
     "data": {
      "text/plain": [
       "<keras.callbacks.History at 0x234b1becb20>"
      ]
     },
     "execution_count": 31,
     "metadata": {},
     "output_type": "execute_result"
    }
   ],
   "source": [
    "import tensorflow as tf\n",
    "from tensorflow import keras\n",
    "# from tensorflow.python.keras.layers import Dense\n",
    "import pandas as pd\n",
    "from tensorflow.keras import layers\n",
    "\n",
    "import keras\n",
    "from keras.models import Sequential\n",
    "from keras.layers import Dense\n",
    "\n",
    "variables,results = split_x_and_y(database.iloc[[0,1,2,3,4,5,6,7,8]],['A','E','N'],'Rt')\n",
    "test_x,test_y = split_x_and_y(database.iloc[[9,10,11]],['A','E','N'],'Rt')\n",
    "\n",
    "model = keras.Sequential([\n",
    "  layers.Dense(64, activation='sigmoid', input_shape=[len(variables.keys())]),\n",
    "  # layers.Dropout(0.1),\n",
    "  layers.Dense(128, activation='sigmoid'),\n",
    "  layers.Dense(64, activation='sigmoid'),\n",
    "  layers.Dense(16, activation='sigmoid'),\n",
    "  layers.Dense(8, activation='sigmoid'),\n",
    "  # layers.Dense(8, activation='relu'),\n",
    "  layers.Dense(1)\n",
    "])\n",
    "\n",
    "# optimizer = tf.keras.optimizers.RMSprop(0.001)\n",
    "\n",
    "model.compile(optimizer='adam',loss='mean_squared_error',metrics=['accuracy'])\n",
    "\n",
    "model.fit(variables.values,results.values,epochs=300)"
   ]
  },
  {
   "cell_type": "code",
   "execution_count": 32,
   "metadata": {},
   "outputs": [
    {
     "name": "stdout",
     "output_type": "stream",
     "text": [
      "1/1 [==============================] - 0s 88ms/step\n"
     ]
    },
    {
     "data": {
      "text/plain": [
       "array([[-0.44369394],\n",
       "       [-0.33617368],\n",
       "       [-0.62389463]], dtype=float32)"
      ]
     },
     "execution_count": 32,
     "metadata": {},
     "output_type": "execute_result"
    }
   ],
   "source": [
    "guess = model.predict(test_x.values)\n",
    "guess"
   ]
  },
  {
   "cell_type": "code",
   "execution_count": 33,
   "metadata": {},
   "outputs": [
    {
     "data": {
      "text/html": [
       "<div>\n",
       "<style scoped>\n",
       "    .dataframe tbody tr th:only-of-type {\n",
       "        vertical-align: middle;\n",
       "    }\n",
       "\n",
       "    .dataframe tbody tr th {\n",
       "        vertical-align: top;\n",
       "    }\n",
       "\n",
       "    .dataframe thead th {\n",
       "        text-align: right;\n",
       "    }\n",
       "</style>\n",
       "<table border=\"1\" class=\"dataframe\">\n",
       "  <thead>\n",
       "    <tr style=\"text-align: right;\">\n",
       "      <th></th>\n",
       "      <th>A</th>\n",
       "      <th>E</th>\n",
       "      <th>N</th>\n",
       "      <th>Tmax</th>\n",
       "    </tr>\n",
       "  </thead>\n",
       "  <tbody>\n",
       "    <tr>\n",
       "      <th>9</th>\n",
       "      <td>-0.845154</td>\n",
       "      <td>-1.224745</td>\n",
       "      <td>0.000000</td>\n",
       "      <td>-0.443694</td>\n",
       "    </tr>\n",
       "    <tr>\n",
       "      <th>10</th>\n",
       "      <td>-0.845154</td>\n",
       "      <td>0.000000</td>\n",
       "      <td>-1.224745</td>\n",
       "      <td>-0.336174</td>\n",
       "    </tr>\n",
       "    <tr>\n",
       "      <th>11</th>\n",
       "      <td>1.183216</td>\n",
       "      <td>1.224745</td>\n",
       "      <td>1.224745</td>\n",
       "      <td>-0.623895</td>\n",
       "    </tr>\n",
       "  </tbody>\n",
       "</table>\n",
       "</div>"
      ],
      "text/plain": [
       "           A         E         N      Tmax\n",
       "9  -0.845154 -1.224745  0.000000 -0.443694\n",
       "10 -0.845154  0.000000 -1.224745 -0.336174\n",
       "11  1.183216  1.224745  1.224745 -0.623895"
      ]
     },
     "execution_count": 33,
     "metadata": {},
     "output_type": "execute_result"
    }
   ],
   "source": [
    "desnormalizar = test_x.copy()\n",
    "desnormalizar['Tmax'] = guess\n",
    "desnormalizar"
   ]
  },
  {
   "cell_type": "code",
   "execution_count": 34,
   "metadata": {},
   "outputs": [
    {
     "data": {
      "text/plain": [
       "array([[25.        ,  1.        ,  8.        ,  1.9680007 ],\n",
       "       [25.        ,  2.        ,  5.        ,  2.05152353],\n",
       "       [35.        ,  3.        , 11.        ,  1.82801897]])"
      ]
     },
     "execution_count": 34,
     "metadata": {},
     "output_type": "execute_result"
    }
   ],
   "source": [
    "desnormalizado_teste = standardscaler.inverse_transform(desnormalizar)\n",
    "desnormalizado_teste"
   ]
  },
  {
   "cell_type": "code",
   "execution_count": 35,
   "metadata": {},
   "outputs": [
    {
     "data": {
      "text/html": [
       "<div>\n",
       "<style scoped>\n",
       "    .dataframe tbody tr th:only-of-type {\n",
       "        vertical-align: middle;\n",
       "    }\n",
       "\n",
       "    .dataframe tbody tr th {\n",
       "        vertical-align: top;\n",
       "    }\n",
       "\n",
       "    .dataframe thead th {\n",
       "        text-align: right;\n",
       "    }\n",
       "</style>\n",
       "<table border=\"1\" class=\"dataframe\">\n",
       "  <thead>\n",
       "    <tr style=\"text-align: right;\">\n",
       "      <th></th>\n",
       "      <th>A</th>\n",
       "      <th>E</th>\n",
       "      <th>N</th>\n",
       "      <th>Tmax</th>\n",
       "    </tr>\n",
       "  </thead>\n",
       "  <tbody>\n",
       "    <tr>\n",
       "      <th>9</th>\n",
       "      <td>-0.845154</td>\n",
       "      <td>-1.224745</td>\n",
       "      <td>0.000000</td>\n",
       "      <td>-0.472016</td>\n",
       "    </tr>\n",
       "    <tr>\n",
       "      <th>10</th>\n",
       "      <td>-0.845154</td>\n",
       "      <td>0.000000</td>\n",
       "      <td>-1.224745</td>\n",
       "      <td>0.873229</td>\n",
       "    </tr>\n",
       "    <tr>\n",
       "      <th>11</th>\n",
       "      <td>1.183216</td>\n",
       "      <td>1.224745</td>\n",
       "      <td>1.224745</td>\n",
       "      <td>0.750934</td>\n",
       "    </tr>\n",
       "  </tbody>\n",
       "</table>\n",
       "</div>"
      ],
      "text/plain": [
       "           A         E         N      Tmax\n",
       "9  -0.845154 -1.224745  0.000000 -0.472016\n",
       "10 -0.845154  0.000000 -1.224745  0.873229\n",
       "11  1.183216  1.224745  1.224745  0.750934"
      ]
     },
     "execution_count": 35,
     "metadata": {},
     "output_type": "execute_result"
    }
   ],
   "source": [
    "desnormalizar = test_x.copy()\n",
    "desnormalizar['Tmax'] = test_y\n",
    "desnormalizar"
   ]
  },
  {
   "cell_type": "code",
   "execution_count": 36,
   "metadata": {},
   "outputs": [
    {
     "data": {
      "text/plain": [
       "array([[25.   ,  1.   ,  8.   ,  1.946],\n",
       "       [25.   ,  2.   ,  5.   ,  2.991],\n",
       "       [35.   ,  3.   , 11.   ,  2.896]])"
      ]
     },
     "execution_count": 36,
     "metadata": {},
     "output_type": "execute_result"
    }
   ],
   "source": [
    "desnormalizado_resultado = standardscaler.inverse_transform(desnormalizar)\n",
    "desnormalizado_resultado"
   ]
  },
  {
   "cell_type": "code",
   "execution_count": 37,
   "metadata": {},
   "outputs": [
    {
     "name": "stdout",
     "output_type": "stream",
     "text": [
      "r2: -2.030146835225691 meansquarederror: 0.6745611879684926 meanabsoluteerror: 0.6764860692914995 maxerror: 1.0679810345328444\n"
     ]
    },
    {
     "data": {
      "text/plain": [
       "(-2.030146835225691,\n",
       " 0.6745611879684926,\n",
       " 0.6764860692914995,\n",
       " 1.0679810345328444)"
      ]
     },
     "execution_count": 37,
     "metadata": {},
     "output_type": "execute_result"
    }
   ],
   "source": [
    "scores(desnormalizado_resultado[:,-1],desnormalizado_teste[:,-1])"
   ]
  },
  {
   "cell_type": "code",
   "execution_count": null,
   "metadata": {},
   "outputs": [],
   "source": []
  }
 ],
 "metadata": {
  "interpreter": {
   "hash": "edbada794071f9c875b2bc5e0e869a1d746a19a0ba8801f10239845106c51c5a"
  },
  "kernelspec": {
   "display_name": "Python 3.8.8 ('base')",
   "language": "python",
   "name": "python3"
  },
  "language_info": {
   "codemirror_mode": {
    "name": "ipython",
    "version": 3
   },
   "file_extension": ".py",
   "mimetype": "text/x-python",
   "name": "python",
   "nbconvert_exporter": "python",
   "pygments_lexer": "ipython3",
   "version": "3.8.8"
  },
  "orig_nbformat": 4
 },
 "nbformat": 4,
 "nbformat_minor": 2
}
