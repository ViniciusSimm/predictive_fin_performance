{
 "cells": [
  {
   "cell_type": "code",
   "execution_count": 2,
   "metadata": {},
   "outputs": [],
   "source": [
    "import pandas as pd\n",
    "database = pd.read_excel('database_TCC.xlsx')\n",
    "database = database[['A','E','N','Nu']]"
   ]
  },
  {
   "cell_type": "code",
   "execution_count": 3,
   "metadata": {},
   "outputs": [],
   "source": [
    "from sklearn.preprocessing import StandardScaler\n",
    "standardscaler = StandardScaler()\n",
    "standardscaler.fit(database)\n",
    "data = standardscaler.transform(database)\n",
    "database = pd.DataFrame(data,columns=database.columns)"
   ]
  },
  {
   "cell_type": "code",
   "execution_count": 4,
   "metadata": {},
   "outputs": [],
   "source": [
    "from sklearn.metrics import r2_score,mean_squared_error,mean_absolute_error,max_error\n",
    "\n",
    "def split_x_and_y(database,x,y):\n",
    "  dataset_x = database[x]\n",
    "  dataset_y = database[y]\n",
    "  return dataset_x,dataset_y\n",
    "\n",
    "\n",
    "def scores(Y_true, Y_predicted):\n",
    "  r2 = r2_score(Y_true, Y_predicted)\n",
    "  meansquarederror = mean_squared_error(Y_true, Y_predicted)\n",
    "  meanabsoluteerror = mean_absolute_error(Y_true, Y_predicted)\n",
    "  maxerror = max_error(Y_true, Y_predicted)\n",
    "\n",
    "  print('r2:',r2,'meansquarederror:',meansquarederror,'meanabsoluteerror:',meanabsoluteerror,'maxerror:',maxerror)\n",
    "  return r2,meansquarederror,meanabsoluteerror,maxerror\n"
   ]
  },
  {
   "cell_type": "markdown",
   "metadata": {},
   "source": [
    "# Random Forest Regressor"
   ]
  },
  {
   "cell_type": "code",
   "execution_count": 50,
   "metadata": {},
   "outputs": [],
   "source": [
    "dataset_x,dataset_y = split_x_and_y(database,['A','E','N'],'Nu')"
   ]
  },
  {
   "cell_type": "code",
   "execution_count": 51,
   "metadata": {},
   "outputs": [
    {
     "data": {
      "text/plain": [
       "0.9671102471540665"
      ]
     },
     "execution_count": 51,
     "metadata": {},
     "output_type": "execute_result"
    }
   ],
   "source": [
    "from sklearn.ensemble import RandomForestRegressor\n",
    "RFR = RandomForestRegressor(n_estimators=1000)\n",
    "RFR.fit(dataset_x,dataset_y)\n",
    "RFR.score(dataset_x,dataset_y)"
   ]
  },
  {
   "cell_type": "code",
   "execution_count": 52,
   "metadata": {},
   "outputs": [
    {
     "data": {
      "text/plain": [
       "0.8871363931506178"
      ]
     },
     "execution_count": 52,
     "metadata": {},
     "output_type": "execute_result"
    }
   ],
   "source": [
    "# database.iloc[[0,2,4,5,7,8]]\n",
    "\n",
    "dataset_x,dataset_y = split_x_and_y(database.iloc[[0,1,2,3,4,5,6,7,8]],['A','E','N'],'Nu')\n",
    "\n",
    "test_x,test_y = split_x_and_y(database.iloc[[9,10,11]],['A','E','N'],'Nu')\n",
    "\n",
    "from sklearn.ensemble import RandomForestRegressor\n",
    "RFR = RandomForestRegressor(n_estimators=1000)\n",
    "RFR.fit(dataset_x,dataset_y)\n",
    "RFR.score(test_x,test_y)"
   ]
  },
  {
   "cell_type": "code",
   "execution_count": 53,
   "metadata": {},
   "outputs": [
    {
     "name": "stdout",
     "output_type": "stream",
     "text": [
      "[ 0.77459176  0.62905865 -1.27770633]\n",
      "9     0.847698\n",
      "10    0.477469\n",
      "11   -1.991431\n",
      "Name: Nu, dtype: float64\n"
     ]
    }
   ],
   "source": [
    "print(RFR.predict(X = test_x))\n",
    "print(test_y)"
   ]
  },
  {
   "cell_type": "markdown",
   "metadata": {},
   "source": [
    "# SVM"
   ]
  },
  {
   "cell_type": "code",
   "execution_count": 54,
   "metadata": {},
   "outputs": [
    {
     "data": {
      "text/plain": [
       "0.8172304972011419"
      ]
     },
     "execution_count": 54,
     "metadata": {},
     "output_type": "execute_result"
    }
   ],
   "source": [
    "from sklearn import svm\n",
    "regr = svm.SVR()\n",
    "dataset_x,dataset_y = split_x_and_y(database,['A','E','N'],'Nu')\n",
    "regr.fit(dataset_x,dataset_y)\n",
    "regr.score(dataset_x,dataset_y)"
   ]
  },
  {
   "cell_type": "code",
   "execution_count": 1,
   "metadata": {},
   "outputs": [
    {
     "ename": "NameError",
     "evalue": "name 'split_x_and_y' is not defined",
     "output_type": "error",
     "traceback": [
      "\u001b[1;31m---------------------------------------------------------------------------\u001b[0m",
      "\u001b[1;31mNameError\u001b[0m                                 Traceback (most recent call last)",
      "\u001b[1;32mc:\\Users\\vinao\\OneDrive\\Documents\\Github\\predictive_fin_performance\\predictive_fin_performance\\scaled_dataset.ipynb Cell 11'\u001b[0m in \u001b[0;36m<cell line: 1>\u001b[1;34m()\u001b[0m\n\u001b[1;32m----> <a href='vscode-notebook-cell:/c%3A/Users/vinao/OneDrive/Documents/Github/predictive_fin_performance/predictive_fin_performance/scaled_dataset.ipynb#ch0000010?line=0'>1</a>\u001b[0m dataset_x,dataset_y \u001b[39m=\u001b[39m split_x_and_y(database\u001b[39m.\u001b[39miloc[[\u001b[39m0\u001b[39m,\u001b[39m1\u001b[39m,\u001b[39m2\u001b[39m,\u001b[39m3\u001b[39m,\u001b[39m4\u001b[39m,\u001b[39m5\u001b[39m,\u001b[39m6\u001b[39m,\u001b[39m7\u001b[39m,\u001b[39m8\u001b[39m]],[\u001b[39m'\u001b[39m\u001b[39mA\u001b[39m\u001b[39m'\u001b[39m,\u001b[39m'\u001b[39m\u001b[39mE\u001b[39m\u001b[39m'\u001b[39m,\u001b[39m'\u001b[39m\u001b[39mN\u001b[39m\u001b[39m'\u001b[39m],\u001b[39m'\u001b[39m\u001b[39mNu\u001b[39m\u001b[39m'\u001b[39m)\n\u001b[0;32m      <a href='vscode-notebook-cell:/c%3A/Users/vinao/OneDrive/Documents/Github/predictive_fin_performance/predictive_fin_performance/scaled_dataset.ipynb#ch0000010?line=2'>3</a>\u001b[0m test_x,test_y \u001b[39m=\u001b[39m split_x_and_y(database\u001b[39m.\u001b[39miloc[[\u001b[39m9\u001b[39m,\u001b[39m10\u001b[39m,\u001b[39m11\u001b[39m]],[\u001b[39m'\u001b[39m\u001b[39mA\u001b[39m\u001b[39m'\u001b[39m,\u001b[39m'\u001b[39m\u001b[39mE\u001b[39m\u001b[39m'\u001b[39m,\u001b[39m'\u001b[39m\u001b[39mN\u001b[39m\u001b[39m'\u001b[39m],\u001b[39m'\u001b[39m\u001b[39mNu\u001b[39m\u001b[39m'\u001b[39m)\n\u001b[0;32m      <a href='vscode-notebook-cell:/c%3A/Users/vinao/OneDrive/Documents/Github/predictive_fin_performance/predictive_fin_performance/scaled_dataset.ipynb#ch0000010?line=4'>5</a>\u001b[0m \u001b[39mfrom\u001b[39;00m \u001b[39msklearn\u001b[39;00m \u001b[39mimport\u001b[39;00m svm\n",
      "\u001b[1;31mNameError\u001b[0m: name 'split_x_and_y' is not defined"
     ]
    }
   ],
   "source": [
    "dataset_x,dataset_y = split_x_and_y(database.iloc[[0,1,2,3,4,5,6,7,8]],['A','E','N'],'Nu')\n",
    "\n",
    "test_x,test_y = split_x_and_y(database.iloc[[9,10,11]],['A','E','N'],'Nu')\n",
    "\n",
    "from sklearn import svm\n",
    "regr = svm.SVR()\n",
    "regr.fit(dataset_x,dataset_y)\n",
    "regr.score(test_x,test_y)"
   ]
  },
  {
   "cell_type": "markdown",
   "metadata": {},
   "source": [
    "# Linear Regression"
   ]
  },
  {
   "cell_type": "code",
   "execution_count": 56,
   "metadata": {},
   "outputs": [
    {
     "data": {
      "text/plain": [
       "0.8534552882348707"
      ]
     },
     "execution_count": 56,
     "metadata": {},
     "output_type": "execute_result"
    }
   ],
   "source": [
    "from sklearn.linear_model import LinearRegression\n",
    "LR = LinearRegression()\n",
    "dataset_x,dataset_y = split_x_and_y(database,['A','E','N'],'Nu')\n",
    "LR.fit(dataset_x,dataset_y)\n",
    "LR.score(dataset_x,dataset_y)"
   ]
  },
  {
   "cell_type": "code",
   "execution_count": 57,
   "metadata": {},
   "outputs": [
    {
     "data": {
      "text/plain": [
       "0.8326467092134622"
      ]
     },
     "execution_count": 57,
     "metadata": {},
     "output_type": "execute_result"
    }
   ],
   "source": [
    "dataset_x,dataset_y = split_x_and_y(database.iloc[[0,1,2,3,4,5,6,7,8]],['A','E','N'],'Nu')\n",
    "\n",
    "test_x,test_y = split_x_and_y(database.iloc[[9,10,11]],['A','E','N'],'Nu')\n",
    "\n",
    "from sklearn.linear_model import LinearRegression\n",
    "LR = LinearRegression()\n",
    "LR.fit(dataset_x,dataset_y)\n",
    "LR.score(test_x,test_y)"
   ]
  },
  {
   "cell_type": "markdown",
   "metadata": {},
   "source": [
    "# SGD"
   ]
  },
  {
   "cell_type": "code",
   "execution_count": 58,
   "metadata": {},
   "outputs": [
    {
     "data": {
      "text/plain": [
       "0.8220612747160446"
      ]
     },
     "execution_count": 58,
     "metadata": {},
     "output_type": "execute_result"
    }
   ],
   "source": [
    "from sklearn.linear_model import SGDRegressor\n",
    "SGD = SGDRegressor()\n",
    "dataset_x,dataset_y = split_x_and_y(database,['A','E','N'],'Nu')\n",
    "SGD.fit(dataset_x,dataset_y)\n",
    "SGD.score(dataset_x,dataset_y)"
   ]
  },
  {
   "cell_type": "code",
   "execution_count": 59,
   "metadata": {},
   "outputs": [
    {
     "data": {
      "text/plain": [
       "0.7113566713449342"
      ]
     },
     "execution_count": 59,
     "metadata": {},
     "output_type": "execute_result"
    }
   ],
   "source": [
    "dataset_x,dataset_y = split_x_and_y(database.iloc[[0,1,2,3,4,5,6,7,8]],['A','E','N'],'Nu')\n",
    "\n",
    "test_x,test_y = split_x_and_y(database.iloc[[9,10,11]],['A','E','N'],'Nu')\n",
    "\n",
    "from sklearn.linear_model import SGDRegressor\n",
    "SGD = SGDRegressor()\n",
    "SGD.fit(dataset_x,dataset_y)\n",
    "SGD.score(test_x,test_y)"
   ]
  },
  {
   "cell_type": "markdown",
   "metadata": {},
   "source": [
    "# BayesianRidge"
   ]
  },
  {
   "cell_type": "code",
   "execution_count": 60,
   "metadata": {},
   "outputs": [
    {
     "data": {
      "text/plain": [
       "0.8504968238317749"
      ]
     },
     "execution_count": 60,
     "metadata": {},
     "output_type": "execute_result"
    }
   ],
   "source": [
    "from sklearn.linear_model import BayesianRidge\n",
    "bayesian = BayesianRidge()\n",
    "dataset_x,dataset_y = split_x_and_y(database,['A','E','N'],'Nu')\n",
    "bayesian.fit(dataset_x,dataset_y)\n",
    "bayesian.score(dataset_x,dataset_y)"
   ]
  },
  {
   "cell_type": "code",
   "execution_count": 61,
   "metadata": {},
   "outputs": [
    {
     "data": {
      "text/plain": [
       "0.7880374301579827"
      ]
     },
     "execution_count": 61,
     "metadata": {},
     "output_type": "execute_result"
    }
   ],
   "source": [
    "dataset_x,dataset_y = split_x_and_y(database.iloc[[0,1,2,3,4,5,6,7,8]],['A','E','N'],'Nu')\n",
    "\n",
    "test_x,test_y = split_x_and_y(database.iloc[[9,10,11]],['A','E','N'],'Nu')\n",
    "\n",
    "from sklearn.linear_model import BayesianRidge\n",
    "bayesian = BayesianRidge()\n",
    "bayesian.fit(dataset_x,dataset_y)\n",
    "bayesian.score(test_x,test_y)"
   ]
  },
  {
   "cell_type": "markdown",
   "metadata": {},
   "source": [
    "# MLP"
   ]
  },
  {
   "cell_type": "code",
   "execution_count": 62,
   "metadata": {},
   "outputs": [
    {
     "name": "stderr",
     "output_type": "stream",
     "text": [
      "c:\\Users\\vinao\\anaconda3\\lib\\site-packages\\sklearn\\neural_network\\_multilayer_perceptron.py:702: ConvergenceWarning: Stochastic Optimizer: Maximum iterations (200) reached and the optimization hasn't converged yet.\n",
      "  warnings.warn(\n"
     ]
    },
    {
     "data": {
      "text/plain": [
       "0.9910063729658656"
      ]
     },
     "execution_count": 62,
     "metadata": {},
     "output_type": "execute_result"
    }
   ],
   "source": [
    "from sklearn.neural_network import MLPRegressor\n",
    "MLP = MLPRegressor()\n",
    "dataset_x,dataset_y = split_x_and_y(database,['A','E','N'],'Nu')\n",
    "MLP.fit(dataset_x,dataset_y)\n",
    "MLP.score(dataset_x,dataset_y)"
   ]
  },
  {
   "cell_type": "code",
   "execution_count": 63,
   "metadata": {},
   "outputs": [
    {
     "data": {
      "text/plain": [
       "0.9063360435352729"
      ]
     },
     "execution_count": 63,
     "metadata": {},
     "output_type": "execute_result"
    }
   ],
   "source": [
    "dataset_x,dataset_y = split_x_and_y(database.iloc[[0,1,2,3,4,5,6,7,8]],['A','E','N'],'Nu')\n",
    "\n",
    "test_x,test_y = split_x_and_y(database.iloc[[9,10,11]],['A','E','N'],'Nu')\n",
    "\n",
    "from sklearn.neural_network import MLPRegressor\n",
    "MLP = MLPRegressor()\n",
    "MLP.fit(dataset_x,dataset_y)\n",
    "MLP.score(test_x,test_y)"
   ]
  },
  {
   "cell_type": "markdown",
   "metadata": {},
   "source": [
    "# Polynomial and Linear"
   ]
  },
  {
   "cell_type": "code",
   "execution_count": 64,
   "metadata": {},
   "outputs": [
    {
     "data": {
      "text/plain": [
       "0.9860105919141751"
      ]
     },
     "execution_count": 64,
     "metadata": {},
     "output_type": "execute_result"
    }
   ],
   "source": [
    "from sklearn.preprocessing import PolynomialFeatures\n",
    "from sklearn.linear_model import LinearRegression\n",
    "\n",
    "poly = PolynomialFeatures(2)\n",
    "LR = LinearRegression()\n",
    "\n",
    "dataset_x,dataset_y = split_x_and_y(database,['A','E','N'],'Nu')\n",
    "\n",
    "dataset_x_transformed = poly.fit_transform(dataset_x)\n",
    "\n",
    "LR.fit(dataset_x_transformed,dataset_y)\n",
    "LR.score(dataset_x_transformed,dataset_y)"
   ]
  },
  {
   "cell_type": "code",
   "execution_count": 65,
   "metadata": {},
   "outputs": [
    {
     "data": {
      "text/plain": [
       "0.9325286588196521"
      ]
     },
     "execution_count": 65,
     "metadata": {},
     "output_type": "execute_result"
    }
   ],
   "source": [
    "dataset_x,dataset_y = split_x_and_y(database.iloc[[0,1,2,3,4,5,6,7,8]],['A','E','N'],'Nu')\n",
    "\n",
    "test_x,test_y = split_x_and_y(database.iloc[[9,10,11]],['A','E','N'],'Nu')\n",
    "\n",
    "from sklearn.preprocessing import PolynomialFeatures\n",
    "from sklearn.linear_model import LinearRegression\n",
    "\n",
    "poly = PolynomialFeatures(2)\n",
    "LR = LinearRegression()\n",
    "\n",
    "dataset_x_transformed = poly.fit_transform(dataset_x)\n",
    "test_x_transformed = poly.fit_transform(test_x)\n",
    "\n",
    "LR.fit(dataset_x_transformed,dataset_y)\n",
    "LR.score(test_x_transformed,test_y)"
   ]
  },
  {
   "cell_type": "markdown",
   "metadata": {},
   "source": [
    "# Ridge"
   ]
  },
  {
   "cell_type": "code",
   "execution_count": 23,
   "metadata": {},
   "outputs": [
    {
     "data": {
      "text/plain": [
       "0.8489910557649081"
      ]
     },
     "execution_count": 23,
     "metadata": {},
     "output_type": "execute_result"
    }
   ],
   "source": [
    "from sklearn.linear_model import Ridge\n",
    "ridge = Ridge()\n",
    "dataset_x,dataset_y = split_x_and_y(database,['A','E','N'],'Nu')\n",
    "ridge.fit(dataset_x,dataset_y)\n",
    "ridge.score(dataset_x,dataset_y)"
   ]
  },
  {
   "cell_type": "code",
   "execution_count": 24,
   "metadata": {},
   "outputs": [
    {
     "data": {
      "text/plain": [
       "0.7894379091959658"
      ]
     },
     "execution_count": 24,
     "metadata": {},
     "output_type": "execute_result"
    }
   ],
   "source": [
    "dataset_x,dataset_y = split_x_and_y(database.iloc[[0,1,2,3,4,5,6,7,8]],['A','E','N'],'Nu')\n",
    "\n",
    "test_x,test_y = split_x_and_y(database.iloc[[9,10,11]],['A','E','N'],'Nu')\n",
    "\n",
    "from sklearn.linear_model import Ridge\n",
    "ridge = Ridge()\n",
    "ridge.fit(dataset_x,dataset_y)\n",
    "ridge.score(test_x,test_y)"
   ]
  },
  {
   "cell_type": "markdown",
   "metadata": {},
   "source": [
    "# Keras"
   ]
  },
  {
   "cell_type": "code",
   "execution_count": 5,
   "metadata": {},
   "outputs": [
    {
     "data": {
      "text/plain": [
       "(12, 3)"
      ]
     },
     "execution_count": 5,
     "metadata": {},
     "output_type": "execute_result"
    }
   ],
   "source": [
    "variables,results = split_x_and_y(database,['A','E','N'],'Nu')\n",
    "variables.values.shape"
   ]
  },
  {
   "cell_type": "code",
   "execution_count": 6,
   "metadata": {},
   "outputs": [
    {
     "name": "stdout",
     "output_type": "stream",
     "text": [
      "Epoch 1/300\n",
      "1/1 [==============================] - 0s 481ms/step - loss: 0.8247 - accuracy: 0.0000e+00\n",
      "Epoch 2/300\n",
      "1/1 [==============================] - 0s 3ms/step - loss: 0.8110 - accuracy: 0.0000e+00\n",
      "Epoch 3/300\n",
      "1/1 [==============================] - 0s 3ms/step - loss: 0.8002 - accuracy: 0.0000e+00\n",
      "Epoch 4/300\n",
      "1/1 [==============================] - 0s 4ms/step - loss: 0.7922 - accuracy: 0.0000e+00\n",
      "Epoch 5/300\n",
      "1/1 [==============================] - 0s 4ms/step - loss: 0.7867 - accuracy: 0.0000e+00\n",
      "Epoch 6/300\n",
      "1/1 [==============================] - 0s 6ms/step - loss: 0.7834 - accuracy: 0.0000e+00\n",
      "Epoch 7/300\n",
      "1/1 [==============================] - 0s 3ms/step - loss: 0.7820 - accuracy: 0.0000e+00\n",
      "Epoch 8/300\n",
      "1/1 [==============================] - 0s 4ms/step - loss: 0.7820 - accuracy: 0.0000e+00\n",
      "Epoch 9/300\n",
      "1/1 [==============================] - 0s 5ms/step - loss: 0.7827 - accuracy: 0.0000e+00\n",
      "Epoch 10/300\n",
      "1/1 [==============================] - 0s 4ms/step - loss: 0.7839 - accuracy: 0.0000e+00\n",
      "Epoch 11/300\n",
      "1/1 [==============================] - 0s 5ms/step - loss: 0.7850 - accuracy: 0.0000e+00\n",
      "Epoch 12/300\n",
      "1/1 [==============================] - 0s 4ms/step - loss: 0.7858 - accuracy: 0.0000e+00\n",
      "Epoch 13/300\n",
      "1/1 [==============================] - 0s 3ms/step - loss: 0.7862 - accuracy: 0.0000e+00\n",
      "Epoch 14/300\n",
      "1/1 [==============================] - 0s 4ms/step - loss: 0.7861 - accuracy: 0.0000e+00\n",
      "Epoch 15/300\n",
      "1/1 [==============================] - 0s 4ms/step - loss: 0.7857 - accuracy: 0.0000e+00\n",
      "Epoch 16/300\n",
      "1/1 [==============================] - 0s 3ms/step - loss: 0.7849 - accuracy: 0.0000e+00\n",
      "Epoch 17/300\n",
      "1/1 [==============================] - 0s 11ms/step - loss: 0.7839 - accuracy: 0.0000e+00\n",
      "Epoch 18/300\n",
      "1/1 [==============================] - 0s 4ms/step - loss: 0.7829 - accuracy: 0.0000e+00\n",
      "Epoch 19/300\n",
      "1/1 [==============================] - 0s 3ms/step - loss: 0.7819 - accuracy: 0.0000e+00\n",
      "Epoch 20/300\n",
      "1/1 [==============================] - 0s 3ms/step - loss: 0.7810 - accuracy: 0.0000e+00\n",
      "Epoch 21/300\n",
      "1/1 [==============================] - 0s 3ms/step - loss: 0.7803 - accuracy: 0.0000e+00\n",
      "Epoch 22/300\n",
      "1/1 [==============================] - 0s 7ms/step - loss: 0.7798 - accuracy: 0.0000e+00\n",
      "Epoch 23/300\n",
      "1/1 [==============================] - 0s 3ms/step - loss: 0.7795 - accuracy: 0.0000e+00\n",
      "Epoch 24/300\n",
      "1/1 [==============================] - 0s 4ms/step - loss: 0.7794 - accuracy: 0.0000e+00\n",
      "Epoch 25/300\n",
      "1/1 [==============================] - 0s 4ms/step - loss: 0.7793 - accuracy: 0.0000e+00\n",
      "Epoch 26/300\n",
      "1/1 [==============================] - 0s 2ms/step - loss: 0.7794 - accuracy: 0.0000e+00\n",
      "Epoch 27/300\n",
      "1/1 [==============================] - 0s 4ms/step - loss: 0.7794 - accuracy: 0.0000e+00\n",
      "Epoch 28/300\n",
      "1/1 [==============================] - 0s 3ms/step - loss: 0.7794 - accuracy: 0.0000e+00\n",
      "Epoch 29/300\n",
      "1/1 [==============================] - 0s 4ms/step - loss: 0.7793 - accuracy: 0.0000e+00\n",
      "Epoch 30/300\n",
      "1/1 [==============================] - 0s 3ms/step - loss: 0.7791 - accuracy: 0.0000e+00\n",
      "Epoch 31/300\n",
      "1/1 [==============================] - 0s 4ms/step - loss: 0.7788 - accuracy: 0.0000e+00\n",
      "Epoch 32/300\n",
      "1/1 [==============================] - 0s 6ms/step - loss: 0.7784 - accuracy: 0.0000e+00\n",
      "Epoch 33/300\n",
      "1/1 [==============================] - 0s 3ms/step - loss: 0.7780 - accuracy: 0.0000e+00\n",
      "Epoch 34/300\n",
      "1/1 [==============================] - 0s 3ms/step - loss: 0.7775 - accuracy: 0.0000e+00\n",
      "Epoch 35/300\n",
      "1/1 [==============================] - 0s 9ms/step - loss: 0.7770 - accuracy: 0.0000e+00\n",
      "Epoch 36/300\n",
      "1/1 [==============================] - 0s 5ms/step - loss: 0.7766 - accuracy: 0.0000e+00\n",
      "Epoch 37/300\n",
      "1/1 [==============================] - 0s 4ms/step - loss: 0.7762 - accuracy: 0.0000e+00\n",
      "Epoch 38/300\n",
      "1/1 [==============================] - 0s 3ms/step - loss: 0.7758 - accuracy: 0.0000e+00\n",
      "Epoch 39/300\n",
      "1/1 [==============================] - 0s 4ms/step - loss: 0.7754 - accuracy: 0.0000e+00\n",
      "Epoch 40/300\n",
      "1/1 [==============================] - 0s 5ms/step - loss: 0.7750 - accuracy: 0.0000e+00\n",
      "Epoch 41/300\n",
      "1/1 [==============================] - 0s 4ms/step - loss: 0.7747 - accuracy: 0.0000e+00\n",
      "Epoch 42/300\n",
      "1/1 [==============================] - 0s 6ms/step - loss: 0.7743 - accuracy: 0.0000e+00\n",
      "Epoch 43/300\n",
      "1/1 [==============================] - 0s 2ms/step - loss: 0.7738 - accuracy: 0.0000e+00\n",
      "Epoch 44/300\n",
      "1/1 [==============================] - 0s 3ms/step - loss: 0.7734 - accuracy: 0.0000e+00\n",
      "Epoch 45/300\n",
      "1/1 [==============================] - 0s 4ms/step - loss: 0.7728 - accuracy: 0.0000e+00\n",
      "Epoch 46/300\n",
      "1/1 [==============================] - 0s 3ms/step - loss: 0.7722 - accuracy: 0.0000e+00\n",
      "Epoch 47/300\n",
      "1/1 [==============================] - 0s 3ms/step - loss: 0.7715 - accuracy: 0.0000e+00\n",
      "Epoch 48/300\n",
      "1/1 [==============================] - 0s 4ms/step - loss: 0.7708 - accuracy: 0.0000e+00\n",
      "Epoch 49/300\n",
      "1/1 [==============================] - 0s 5ms/step - loss: 0.7700 - accuracy: 0.0000e+00\n",
      "Epoch 50/300\n",
      "1/1 [==============================] - 0s 4ms/step - loss: 0.7692 - accuracy: 0.0000e+00\n",
      "Epoch 51/300\n",
      "1/1 [==============================] - 0s 4ms/step - loss: 0.7683 - accuracy: 0.0000e+00\n",
      "Epoch 52/300\n",
      "1/1 [==============================] - 0s 3ms/step - loss: 0.7674 - accuracy: 0.0000e+00\n",
      "Epoch 53/300\n",
      "1/1 [==============================] - 0s 3ms/step - loss: 0.7664 - accuracy: 0.0000e+00\n",
      "Epoch 54/300\n",
      "1/1 [==============================] - 0s 5ms/step - loss: 0.7654 - accuracy: 0.0000e+00\n",
      "Epoch 55/300\n",
      "1/1 [==============================] - 0s 5ms/step - loss: 0.7643 - accuracy: 0.0000e+00\n",
      "Epoch 56/300\n",
      "1/1 [==============================] - 0s 3ms/step - loss: 0.7630 - accuracy: 0.0000e+00\n",
      "Epoch 57/300\n",
      "1/1 [==============================] - 0s 3ms/step - loss: 0.7617 - accuracy: 0.0000e+00\n",
      "Epoch 58/300\n",
      "1/1 [==============================] - 0s 3ms/step - loss: 0.7603 - accuracy: 0.0000e+00\n",
      "Epoch 59/300\n",
      "1/1 [==============================] - 0s 5ms/step - loss: 0.7587 - accuracy: 0.0000e+00\n",
      "Epoch 60/300\n",
      "1/1 [==============================] - 0s 3ms/step - loss: 0.7569 - accuracy: 0.0000e+00\n",
      "Epoch 61/300\n",
      "1/1 [==============================] - 0s 7ms/step - loss: 0.7551 - accuracy: 0.0000e+00\n",
      "Epoch 62/300\n",
      "1/1 [==============================] - 0s 5ms/step - loss: 0.7530 - accuracy: 0.0000e+00\n",
      "Epoch 63/300\n",
      "1/1 [==============================] - 0s 6ms/step - loss: 0.7508 - accuracy: 0.0000e+00\n",
      "Epoch 64/300\n",
      "1/1 [==============================] - 0s 4ms/step - loss: 0.7484 - accuracy: 0.0000e+00\n",
      "Epoch 65/300\n",
      "1/1 [==============================] - 0s 4ms/step - loss: 0.7458 - accuracy: 0.0000e+00\n",
      "Epoch 66/300\n",
      "1/1 [==============================] - 0s 6ms/step - loss: 0.7430 - accuracy: 0.0000e+00\n",
      "Epoch 67/300\n",
      "1/1 [==============================] - 0s 6ms/step - loss: 0.7399 - accuracy: 0.0000e+00\n",
      "Epoch 68/300\n",
      "1/1 [==============================] - 0s 5ms/step - loss: 0.7365 - accuracy: 0.0000e+00\n",
      "Epoch 69/300\n",
      "1/1 [==============================] - 0s 5ms/step - loss: 0.7329 - accuracy: 0.0000e+00\n",
      "Epoch 70/300\n",
      "1/1 [==============================] - 0s 4ms/step - loss: 0.7289 - accuracy: 0.0000e+00\n",
      "Epoch 71/300\n",
      "1/1 [==============================] - 0s 5ms/step - loss: 0.7246 - accuracy: 0.0000e+00\n",
      "Epoch 72/300\n",
      "1/1 [==============================] - 0s 3ms/step - loss: 0.7199 - accuracy: 0.0000e+00\n",
      "Epoch 73/300\n",
      "1/1 [==============================] - 0s 3ms/step - loss: 0.7148 - accuracy: 0.0000e+00\n",
      "Epoch 74/300\n",
      "1/1 [==============================] - 0s 3ms/step - loss: 0.7093 - accuracy: 0.0000e+00\n",
      "Epoch 75/300\n",
      "1/1 [==============================] - 0s 4ms/step - loss: 0.7033 - accuracy: 0.0000e+00\n",
      "Epoch 76/300\n",
      "1/1 [==============================] - 0s 3ms/step - loss: 0.6968 - accuracy: 0.0000e+00\n",
      "Epoch 77/300\n",
      "1/1 [==============================] - 0s 4ms/step - loss: 0.6897 - accuracy: 0.0000e+00\n",
      "Epoch 78/300\n",
      "1/1 [==============================] - 0s 4ms/step - loss: 0.6821 - accuracy: 0.0000e+00\n",
      "Epoch 79/300\n",
      "1/1 [==============================] - 0s 3ms/step - loss: 0.6739 - accuracy: 0.0000e+00\n",
      "Epoch 80/300\n",
      "1/1 [==============================] - 0s 4ms/step - loss: 0.6651 - accuracy: 0.0000e+00\n",
      "Epoch 81/300\n",
      "1/1 [==============================] - 0s 4ms/step - loss: 0.6556 - accuracy: 0.0000e+00\n",
      "Epoch 82/300\n",
      "1/1 [==============================] - 0s 3ms/step - loss: 0.6455 - accuracy: 0.0000e+00\n",
      "Epoch 83/300\n",
      "1/1 [==============================] - 0s 4ms/step - loss: 0.6346 - accuracy: 0.0000e+00\n",
      "Epoch 84/300\n",
      "1/1 [==============================] - 0s 4ms/step - loss: 0.6231 - accuracy: 0.0000e+00\n",
      "Epoch 85/300\n",
      "1/1 [==============================] - 0s 5ms/step - loss: 0.6108 - accuracy: 0.0000e+00\n",
      "Epoch 86/300\n",
      "1/1 [==============================] - 0s 3ms/step - loss: 0.5979 - accuracy: 0.0000e+00\n",
      "Epoch 87/300\n",
      "1/1 [==============================] - 0s 4ms/step - loss: 0.5843 - accuracy: 0.0000e+00\n",
      "Epoch 88/300\n",
      "1/1 [==============================] - 0s 5ms/step - loss: 0.5701 - accuracy: 0.0000e+00\n",
      "Epoch 89/300\n",
      "1/1 [==============================] - 0s 3ms/step - loss: 0.5553 - accuracy: 0.0000e+00\n",
      "Epoch 90/300\n",
      "1/1 [==============================] - 0s 6ms/step - loss: 0.5400 - accuracy: 0.0000e+00\n",
      "Epoch 91/300\n",
      "1/1 [==============================] - 0s 19ms/step - loss: 0.5242 - accuracy: 0.0000e+00\n",
      "Epoch 92/300\n",
      "1/1 [==============================] - 0s 4ms/step - loss: 0.5081 - accuracy: 0.0000e+00\n",
      "Epoch 93/300\n",
      "1/1 [==============================] - 0s 4ms/step - loss: 0.4917 - accuracy: 0.0000e+00\n",
      "Epoch 94/300\n",
      "1/1 [==============================] - 0s 5ms/step - loss: 0.4751 - accuracy: 0.0000e+00\n",
      "Epoch 95/300\n",
      "1/1 [==============================] - 0s 5ms/step - loss: 0.4585 - accuracy: 0.0000e+00\n",
      "Epoch 96/300\n",
      "1/1 [==============================] - 0s 3ms/step - loss: 0.4419 - accuracy: 0.0000e+00\n",
      "Epoch 97/300\n",
      "1/1 [==============================] - 0s 4ms/step - loss: 0.4254 - accuracy: 0.0000e+00\n",
      "Epoch 98/300\n",
      "1/1 [==============================] - 0s 5ms/step - loss: 0.4091 - accuracy: 0.0000e+00\n",
      "Epoch 99/300\n",
      "1/1 [==============================] - 0s 7ms/step - loss: 0.3932 - accuracy: 0.0000e+00\n",
      "Epoch 100/300\n",
      "1/1 [==============================] - 0s 5ms/step - loss: 0.3776 - accuracy: 0.0000e+00\n",
      "Epoch 101/300\n",
      "1/1 [==============================] - 0s 9ms/step - loss: 0.3624 - accuracy: 0.0000e+00\n",
      "Epoch 102/300\n",
      "1/1 [==============================] - 0s 6ms/step - loss: 0.3476 - accuracy: 0.0000e+00\n",
      "Epoch 103/300\n",
      "1/1 [==============================] - 0s 8ms/step - loss: 0.3334 - accuracy: 0.0000e+00\n",
      "Epoch 104/300\n",
      "1/1 [==============================] - 0s 8ms/step - loss: 0.3197 - accuracy: 0.0000e+00\n",
      "Epoch 105/300\n",
      "1/1 [==============================] - 0s 4ms/step - loss: 0.3065 - accuracy: 0.0000e+00\n",
      "Epoch 106/300\n",
      "1/1 [==============================] - 0s 10ms/step - loss: 0.2939 - accuracy: 0.0000e+00\n",
      "Epoch 107/300\n",
      "1/1 [==============================] - 0s 11ms/step - loss: 0.2818 - accuracy: 0.0000e+00\n",
      "Epoch 108/300\n",
      "1/1 [==============================] - 0s 5ms/step - loss: 0.2703 - accuracy: 0.0000e+00\n",
      "Epoch 109/300\n",
      "1/1 [==============================] - 0s 6ms/step - loss: 0.2594 - accuracy: 0.0000e+00\n",
      "Epoch 110/300\n",
      "1/1 [==============================] - 0s 7ms/step - loss: 0.2491 - accuracy: 0.0000e+00\n",
      "Epoch 111/300\n",
      "1/1 [==============================] - 0s 5ms/step - loss: 0.2394 - accuracy: 0.0000e+00\n",
      "Epoch 112/300\n",
      "1/1 [==============================] - 0s 6ms/step - loss: 0.2302 - accuracy: 0.0000e+00\n",
      "Epoch 113/300\n",
      "1/1 [==============================] - 0s 4ms/step - loss: 0.2217 - accuracy: 0.0000e+00\n",
      "Epoch 114/300\n",
      "1/1 [==============================] - 0s 6ms/step - loss: 0.2137 - accuracy: 0.0000e+00\n",
      "Epoch 115/300\n",
      "1/1 [==============================] - 0s 8ms/step - loss: 0.2063 - accuracy: 0.0000e+00\n",
      "Epoch 116/300\n",
      "1/1 [==============================] - 0s 4ms/step - loss: 0.1993 - accuracy: 0.0000e+00\n",
      "Epoch 117/300\n",
      "1/1 [==============================] - 0s 5ms/step - loss: 0.1929 - accuracy: 0.0000e+00\n",
      "Epoch 118/300\n",
      "1/1 [==============================] - 0s 7ms/step - loss: 0.1870 - accuracy: 0.0000e+00\n",
      "Epoch 119/300\n",
      "1/1 [==============================] - 0s 13ms/step - loss: 0.1814 - accuracy: 0.0000e+00\n",
      "Epoch 120/300\n",
      "1/1 [==============================] - 0s 6ms/step - loss: 0.1762 - accuracy: 0.0000e+00\n",
      "Epoch 121/300\n",
      "1/1 [==============================] - 0s 4ms/step - loss: 0.1713 - accuracy: 0.0000e+00\n",
      "Epoch 122/300\n",
      "1/1 [==============================] - 0s 6ms/step - loss: 0.1666 - accuracy: 0.0000e+00\n",
      "Epoch 123/300\n",
      "1/1 [==============================] - 0s 7ms/step - loss: 0.1621 - accuracy: 0.0000e+00\n",
      "Epoch 124/300\n",
      "1/1 [==============================] - 0s 5ms/step - loss: 0.1578 - accuracy: 0.0000e+00\n",
      "Epoch 125/300\n",
      "1/1 [==============================] - 0s 5ms/step - loss: 0.1536 - accuracy: 0.0000e+00\n",
      "Epoch 126/300\n",
      "1/1 [==============================] - 0s 8ms/step - loss: 0.1495 - accuracy: 0.0000e+00\n",
      "Epoch 127/300\n",
      "1/1 [==============================] - 0s 7ms/step - loss: 0.1455 - accuracy: 0.0000e+00\n",
      "Epoch 128/300\n",
      "1/1 [==============================] - 0s 7ms/step - loss: 0.1417 - accuracy: 0.0000e+00\n",
      "Epoch 129/300\n",
      "1/1 [==============================] - 0s 5ms/step - loss: 0.1379 - accuracy: 0.0000e+00\n",
      "Epoch 130/300\n",
      "1/1 [==============================] - 0s 11ms/step - loss: 0.1343 - accuracy: 0.0000e+00\n",
      "Epoch 131/300\n",
      "1/1 [==============================] - 0s 9ms/step - loss: 0.1309 - accuracy: 0.0000e+00\n",
      "Epoch 132/300\n",
      "1/1 [==============================] - 0s 6ms/step - loss: 0.1277 - accuracy: 0.0000e+00\n",
      "Epoch 133/300\n",
      "1/1 [==============================] - 0s 8ms/step - loss: 0.1246 - accuracy: 0.0000e+00\n",
      "Epoch 134/300\n",
      "1/1 [==============================] - 0s 9ms/step - loss: 0.1217 - accuracy: 0.0000e+00\n",
      "Epoch 135/300\n",
      "1/1 [==============================] - 0s 6ms/step - loss: 0.1189 - accuracy: 0.0000e+00\n",
      "Epoch 136/300\n",
      "1/1 [==============================] - 0s 7ms/step - loss: 0.1163 - accuracy: 0.0000e+00\n",
      "Epoch 137/300\n",
      "1/1 [==============================] - 0s 10ms/step - loss: 0.1138 - accuracy: 0.0000e+00\n",
      "Epoch 138/300\n",
      "1/1 [==============================] - 0s 5ms/step - loss: 0.1115 - accuracy: 0.0000e+00\n",
      "Epoch 139/300\n",
      "1/1 [==============================] - 0s 5ms/step - loss: 0.1092 - accuracy: 0.0000e+00\n",
      "Epoch 140/300\n",
      "1/1 [==============================] - 0s 5ms/step - loss: 0.1070 - accuracy: 0.0000e+00\n",
      "Epoch 141/300\n",
      "1/1 [==============================] - 0s 6ms/step - loss: 0.1049 - accuracy: 0.0000e+00\n",
      "Epoch 142/300\n",
      "1/1 [==============================] - 0s 9ms/step - loss: 0.1029 - accuracy: 0.0000e+00\n",
      "Epoch 143/300\n",
      "1/1 [==============================] - 0s 4ms/step - loss: 0.1009 - accuracy: 0.0000e+00\n",
      "Epoch 144/300\n",
      "1/1 [==============================] - 0s 5ms/step - loss: 0.0990 - accuracy: 0.0000e+00\n",
      "Epoch 145/300\n",
      "1/1 [==============================] - 0s 5ms/step - loss: 0.0971 - accuracy: 0.0000e+00\n",
      "Epoch 146/300\n",
      "1/1 [==============================] - 0s 6ms/step - loss: 0.0953 - accuracy: 0.0000e+00\n",
      "Epoch 147/300\n",
      "1/1 [==============================] - 0s 5ms/step - loss: 0.0935 - accuracy: 0.0000e+00\n",
      "Epoch 148/300\n",
      "1/1 [==============================] - 0s 5ms/step - loss: 0.0917 - accuracy: 0.0000e+00\n",
      "Epoch 149/300\n",
      "1/1 [==============================] - 0s 4ms/step - loss: 0.0900 - accuracy: 0.0000e+00\n",
      "Epoch 150/300\n",
      "1/1 [==============================] - 0s 5ms/step - loss: 0.0884 - accuracy: 0.0000e+00\n",
      "Epoch 151/300\n",
      "1/1 [==============================] - 0s 7ms/step - loss: 0.0868 - accuracy: 0.0000e+00\n",
      "Epoch 152/300\n",
      "1/1 [==============================] - 0s 8ms/step - loss: 0.0853 - accuracy: 0.0000e+00\n",
      "Epoch 153/300\n",
      "1/1 [==============================] - 0s 5ms/step - loss: 0.0838 - accuracy: 0.0000e+00\n",
      "Epoch 154/300\n",
      "1/1 [==============================] - 0s 8ms/step - loss: 0.0823 - accuracy: 0.0000e+00\n",
      "Epoch 155/300\n",
      "1/1 [==============================] - 0s 9ms/step - loss: 0.0809 - accuracy: 0.0000e+00\n",
      "Epoch 156/300\n",
      "1/1 [==============================] - 0s 5ms/step - loss: 0.0796 - accuracy: 0.0000e+00\n",
      "Epoch 157/300\n",
      "1/1 [==============================] - 0s 5ms/step - loss: 0.0782 - accuracy: 0.0000e+00\n",
      "Epoch 158/300\n",
      "1/1 [==============================] - 0s 6ms/step - loss: 0.0769 - accuracy: 0.0000e+00\n",
      "Epoch 159/300\n",
      "1/1 [==============================] - 0s 6ms/step - loss: 0.0757 - accuracy: 0.0000e+00\n",
      "Epoch 160/300\n",
      "1/1 [==============================] - 0s 5ms/step - loss: 0.0744 - accuracy: 0.0000e+00\n",
      "Epoch 161/300\n",
      "1/1 [==============================] - 0s 4ms/step - loss: 0.0732 - accuracy: 0.0000e+00\n",
      "Epoch 162/300\n",
      "1/1 [==============================] - 0s 4ms/step - loss: 0.0720 - accuracy: 0.0000e+00\n",
      "Epoch 163/300\n",
      "1/1 [==============================] - 0s 7ms/step - loss: 0.0708 - accuracy: 0.0000e+00\n",
      "Epoch 164/300\n",
      "1/1 [==============================] - 0s 9ms/step - loss: 0.0696 - accuracy: 0.0000e+00\n",
      "Epoch 165/300\n",
      "1/1 [==============================] - 0s 5ms/step - loss: 0.0685 - accuracy: 0.0000e+00\n",
      "Epoch 166/300\n",
      "1/1 [==============================] - 0s 7ms/step - loss: 0.0674 - accuracy: 0.0000e+00\n",
      "Epoch 167/300\n",
      "1/1 [==============================] - 0s 6ms/step - loss: 0.0663 - accuracy: 0.0000e+00\n",
      "Epoch 168/300\n",
      "1/1 [==============================] - 0s 5ms/step - loss: 0.0652 - accuracy: 0.0000e+00\n",
      "Epoch 169/300\n",
      "1/1 [==============================] - 0s 7ms/step - loss: 0.0642 - accuracy: 0.0000e+00\n",
      "Epoch 170/300\n",
      "1/1 [==============================] - 0s 5ms/step - loss: 0.0631 - accuracy: 0.0000e+00\n",
      "Epoch 171/300\n",
      "1/1 [==============================] - 0s 15ms/step - loss: 0.0621 - accuracy: 0.0000e+00\n",
      "Epoch 172/300\n",
      "1/1 [==============================] - 0s 6ms/step - loss: 0.0612 - accuracy: 0.0000e+00\n",
      "Epoch 173/300\n",
      "1/1 [==============================] - 0s 4ms/step - loss: 0.0602 - accuracy: 0.0000e+00\n",
      "Epoch 174/300\n",
      "1/1 [==============================] - 0s 7ms/step - loss: 0.0593 - accuracy: 0.0000e+00\n",
      "Epoch 175/300\n",
      "1/1 [==============================] - 0s 7ms/step - loss: 0.0584 - accuracy: 0.0000e+00\n",
      "Epoch 176/300\n",
      "1/1 [==============================] - 0s 6ms/step - loss: 0.0575 - accuracy: 0.0000e+00\n",
      "Epoch 177/300\n",
      "1/1 [==============================] - 0s 7ms/step - loss: 0.0566 - accuracy: 0.0000e+00\n",
      "Epoch 178/300\n",
      "1/1 [==============================] - 0s 4ms/step - loss: 0.0557 - accuracy: 0.0000e+00\n",
      "Epoch 179/300\n",
      "1/1 [==============================] - 0s 4ms/step - loss: 0.0549 - accuracy: 0.0000e+00\n",
      "Epoch 180/300\n",
      "1/1 [==============================] - 0s 8ms/step - loss: 0.0540 - accuracy: 0.0000e+00\n",
      "Epoch 181/300\n",
      "1/1 [==============================] - 0s 4ms/step - loss: 0.0532 - accuracy: 0.0000e+00\n",
      "Epoch 182/300\n",
      "1/1 [==============================] - 0s 13ms/step - loss: 0.0524 - accuracy: 0.0000e+00\n",
      "Epoch 183/300\n",
      "1/1 [==============================] - 0s 6ms/step - loss: 0.0517 - accuracy: 0.0000e+00\n",
      "Epoch 184/300\n",
      "1/1 [==============================] - 0s 8ms/step - loss: 0.0509 - accuracy: 0.0000e+00\n",
      "Epoch 185/300\n",
      "1/1 [==============================] - 0s 10ms/step - loss: 0.0501 - accuracy: 0.0000e+00\n",
      "Epoch 186/300\n",
      "1/1 [==============================] - 0s 5ms/step - loss: 0.0494 - accuracy: 0.0000e+00\n",
      "Epoch 187/300\n",
      "1/1 [==============================] - 0s 6ms/step - loss: 0.0487 - accuracy: 0.0000e+00\n",
      "Epoch 188/300\n",
      "1/1 [==============================] - 0s 4ms/step - loss: 0.0480 - accuracy: 0.0000e+00\n",
      "Epoch 189/300\n",
      "1/1 [==============================] - 0s 6ms/step - loss: 0.0473 - accuracy: 0.0000e+00\n",
      "Epoch 190/300\n",
      "1/1 [==============================] - 0s 5ms/step - loss: 0.0466 - accuracy: 0.0000e+00\n",
      "Epoch 191/300\n",
      "1/1 [==============================] - 0s 6ms/step - loss: 0.0460 - accuracy: 0.0000e+00\n",
      "Epoch 192/300\n",
      "1/1 [==============================] - 0s 5ms/step - loss: 0.0453 - accuracy: 0.0000e+00\n",
      "Epoch 193/300\n",
      "1/1 [==============================] - 0s 5ms/step - loss: 0.0447 - accuracy: 0.0000e+00\n",
      "Epoch 194/300\n",
      "1/1 [==============================] - 0s 8ms/step - loss: 0.0441 - accuracy: 0.0000e+00\n",
      "Epoch 195/300\n",
      "1/1 [==============================] - 0s 7ms/step - loss: 0.0435 - accuracy: 0.0000e+00\n",
      "Epoch 196/300\n",
      "1/1 [==============================] - 0s 5ms/step - loss: 0.0429 - accuracy: 0.0000e+00\n",
      "Epoch 197/300\n",
      "1/1 [==============================] - 0s 7ms/step - loss: 0.0423 - accuracy: 0.0000e+00\n",
      "Epoch 198/300\n",
      "1/1 [==============================] - 0s 5ms/step - loss: 0.0417 - accuracy: 0.0000e+00\n",
      "Epoch 199/300\n",
      "1/1 [==============================] - 0s 6ms/step - loss: 0.0411 - accuracy: 0.0000e+00\n",
      "Epoch 200/300\n",
      "1/1 [==============================] - 0s 5ms/step - loss: 0.0406 - accuracy: 0.0000e+00\n",
      "Epoch 201/300\n",
      "1/1 [==============================] - 0s 12ms/step - loss: 0.0400 - accuracy: 0.0000e+00\n",
      "Epoch 202/300\n",
      "1/1 [==============================] - 0s 9ms/step - loss: 0.0395 - accuracy: 0.0000e+00\n",
      "Epoch 203/300\n",
      "1/1 [==============================] - 0s 6ms/step - loss: 0.0390 - accuracy: 0.0000e+00\n",
      "Epoch 204/300\n",
      "1/1 [==============================] - 0s 6ms/step - loss: 0.0385 - accuracy: 0.0000e+00\n",
      "Epoch 205/300\n",
      "1/1 [==============================] - 0s 7ms/step - loss: 0.0380 - accuracy: 0.0000e+00\n",
      "Epoch 206/300\n",
      "1/1 [==============================] - 0s 5ms/step - loss: 0.0375 - accuracy: 0.0000e+00\n",
      "Epoch 207/300\n",
      "1/1 [==============================] - 0s 6ms/step - loss: 0.0370 - accuracy: 0.0000e+00\n",
      "Epoch 208/300\n",
      "1/1 [==============================] - 0s 4ms/step - loss: 0.0365 - accuracy: 0.0000e+00\n",
      "Epoch 209/300\n",
      "1/1 [==============================] - 0s 5ms/step - loss: 0.0360 - accuracy: 0.0000e+00\n",
      "Epoch 210/300\n",
      "1/1 [==============================] - 0s 6ms/step - loss: 0.0356 - accuracy: 0.0000e+00\n",
      "Epoch 211/300\n",
      "1/1 [==============================] - 0s 8ms/step - loss: 0.0351 - accuracy: 0.0000e+00\n",
      "Epoch 212/300\n",
      "1/1 [==============================] - 0s 10ms/step - loss: 0.0347 - accuracy: 0.0000e+00\n",
      "Epoch 213/300\n",
      "1/1 [==============================] - 0s 7ms/step - loss: 0.0342 - accuracy: 0.0000e+00\n",
      "Epoch 214/300\n",
      "1/1 [==============================] - 0s 6ms/step - loss: 0.0338 - accuracy: 0.0000e+00\n",
      "Epoch 215/300\n",
      "1/1 [==============================] - 0s 5ms/step - loss: 0.0334 - accuracy: 0.0000e+00\n",
      "Epoch 216/300\n",
      "1/1 [==============================] - 0s 11ms/step - loss: 0.0330 - accuracy: 0.0000e+00\n",
      "Epoch 217/300\n",
      "1/1 [==============================] - 0s 5ms/step - loss: 0.0326 - accuracy: 0.0000e+00\n",
      "Epoch 218/300\n",
      "1/1 [==============================] - 0s 10ms/step - loss: 0.0322 - accuracy: 0.0000e+00\n",
      "Epoch 219/300\n",
      "1/1 [==============================] - 0s 5ms/step - loss: 0.0318 - accuracy: 0.0000e+00\n",
      "Epoch 220/300\n",
      "1/1 [==============================] - 0s 6ms/step - loss: 0.0314 - accuracy: 0.0000e+00\n",
      "Epoch 221/300\n",
      "1/1 [==============================] - 0s 9ms/step - loss: 0.0310 - accuracy: 0.0000e+00\n",
      "Epoch 222/300\n",
      "1/1 [==============================] - 0s 8ms/step - loss: 0.0307 - accuracy: 0.0000e+00\n",
      "Epoch 223/300\n",
      "1/1 [==============================] - 0s 11ms/step - loss: 0.0303 - accuracy: 0.0000e+00\n",
      "Epoch 224/300\n",
      "1/1 [==============================] - 0s 7ms/step - loss: 0.0300 - accuracy: 0.0000e+00\n",
      "Epoch 225/300\n",
      "1/1 [==============================] - 0s 7ms/step - loss: 0.0296 - accuracy: 0.0000e+00\n",
      "Epoch 226/300\n",
      "1/1 [==============================] - 0s 10ms/step - loss: 0.0293 - accuracy: 0.0000e+00\n",
      "Epoch 227/300\n",
      "1/1 [==============================] - 0s 9ms/step - loss: 0.0289 - accuracy: 0.0000e+00\n",
      "Epoch 228/300\n",
      "1/1 [==============================] - 0s 6ms/step - loss: 0.0286 - accuracy: 0.0000e+00\n",
      "Epoch 229/300\n",
      "1/1 [==============================] - 0s 13ms/step - loss: 0.0283 - accuracy: 0.0000e+00\n",
      "Epoch 230/300\n",
      "1/1 [==============================] - 0s 7ms/step - loss: 0.0280 - accuracy: 0.0000e+00\n",
      "Epoch 231/300\n",
      "1/1 [==============================] - 0s 5ms/step - loss: 0.0276 - accuracy: 0.0000e+00\n",
      "Epoch 232/300\n",
      "1/1 [==============================] - 0s 5ms/step - loss: 0.0273 - accuracy: 0.0000e+00\n",
      "Epoch 233/300\n",
      "1/1 [==============================] - 0s 6ms/step - loss: 0.0270 - accuracy: 0.0000e+00\n",
      "Epoch 234/300\n",
      "1/1 [==============================] - 0s 5ms/step - loss: 0.0267 - accuracy: 0.0000e+00\n",
      "Epoch 235/300\n",
      "1/1 [==============================] - 0s 6ms/step - loss: 0.0265 - accuracy: 0.0000e+00\n",
      "Epoch 236/300\n",
      "1/1 [==============================] - 0s 4ms/step - loss: 0.0262 - accuracy: 0.0000e+00\n",
      "Epoch 237/300\n",
      "1/1 [==============================] - 0s 4ms/step - loss: 0.0259 - accuracy: 0.0000e+00\n",
      "Epoch 238/300\n",
      "1/1 [==============================] - 0s 5ms/step - loss: 0.0256 - accuracy: 0.0000e+00\n",
      "Epoch 239/300\n",
      "1/1 [==============================] - 0s 9ms/step - loss: 0.0254 - accuracy: 0.0000e+00\n",
      "Epoch 240/300\n",
      "1/1 [==============================] - 0s 6ms/step - loss: 0.0251 - accuracy: 0.0000e+00\n",
      "Epoch 241/300\n",
      "1/1 [==============================] - 0s 5ms/step - loss: 0.0248 - accuracy: 0.0000e+00\n",
      "Epoch 242/300\n",
      "1/1 [==============================] - 0s 18ms/step - loss: 0.0246 - accuracy: 0.0000e+00\n",
      "Epoch 243/300\n",
      "1/1 [==============================] - 0s 8ms/step - loss: 0.0243 - accuracy: 0.0000e+00\n",
      "Epoch 244/300\n",
      "1/1 [==============================] - 0s 4ms/step - loss: 0.0241 - accuracy: 0.0000e+00\n",
      "Epoch 245/300\n",
      "1/1 [==============================] - 0s 9ms/step - loss: 0.0238 - accuracy: 0.0000e+00\n",
      "Epoch 246/300\n",
      "1/1 [==============================] - 0s 7ms/step - loss: 0.0236 - accuracy: 0.0000e+00\n",
      "Epoch 247/300\n",
      "1/1 [==============================] - 0s 5ms/step - loss: 0.0234 - accuracy: 0.0000e+00\n",
      "Epoch 248/300\n",
      "1/1 [==============================] - 0s 6ms/step - loss: 0.0232 - accuracy: 0.0000e+00\n",
      "Epoch 249/300\n",
      "1/1 [==============================] - 0s 7ms/step - loss: 0.0229 - accuracy: 0.0000e+00\n",
      "Epoch 250/300\n",
      "1/1 [==============================] - 0s 9ms/step - loss: 0.0227 - accuracy: 0.0000e+00\n",
      "Epoch 251/300\n",
      "1/1 [==============================] - 0s 5ms/step - loss: 0.0225 - accuracy: 0.0000e+00\n",
      "Epoch 252/300\n",
      "1/1 [==============================] - 0s 7ms/step - loss: 0.0223 - accuracy: 0.0000e+00\n",
      "Epoch 253/300\n",
      "1/1 [==============================] - 0s 9ms/step - loss: 0.0221 - accuracy: 0.0000e+00\n",
      "Epoch 254/300\n",
      "1/1 [==============================] - 0s 4ms/step - loss: 0.0219 - accuracy: 0.0000e+00\n",
      "Epoch 255/300\n",
      "1/1 [==============================] - 0s 4ms/step - loss: 0.0217 - accuracy: 0.0000e+00\n",
      "Epoch 256/300\n",
      "1/1 [==============================] - 0s 4ms/step - loss: 0.0215 - accuracy: 0.0000e+00\n",
      "Epoch 257/300\n",
      "1/1 [==============================] - 0s 3ms/step - loss: 0.0213 - accuracy: 0.0000e+00\n",
      "Epoch 258/300\n",
      "1/1 [==============================] - 0s 6ms/step - loss: 0.0211 - accuracy: 0.0000e+00\n",
      "Epoch 259/300\n",
      "1/1 [==============================] - 0s 3ms/step - loss: 0.0209 - accuracy: 0.0000e+00\n",
      "Epoch 260/300\n",
      "1/1 [==============================] - 0s 3ms/step - loss: 0.0207 - accuracy: 0.0000e+00\n",
      "Epoch 261/300\n",
      "1/1 [==============================] - 0s 4ms/step - loss: 0.0205 - accuracy: 0.0000e+00\n",
      "Epoch 262/300\n",
      "1/1 [==============================] - 0s 3ms/step - loss: 0.0204 - accuracy: 0.0000e+00\n",
      "Epoch 263/300\n",
      "1/1 [==============================] - 0s 4ms/step - loss: 0.0202 - accuracy: 0.0000e+00\n",
      "Epoch 264/300\n",
      "1/1 [==============================] - 0s 8ms/step - loss: 0.0200 - accuracy: 0.0000e+00\n",
      "Epoch 265/300\n",
      "1/1 [==============================] - 0s 8ms/step - loss: 0.0199 - accuracy: 0.0000e+00\n",
      "Epoch 266/300\n",
      "1/1 [==============================] - 0s 3ms/step - loss: 0.0197 - accuracy: 0.0000e+00\n",
      "Epoch 267/300\n",
      "1/1 [==============================] - 0s 5ms/step - loss: 0.0195 - accuracy: 0.0000e+00\n",
      "Epoch 268/300\n",
      "1/1 [==============================] - 0s 4ms/step - loss: 0.0194 - accuracy: 0.0000e+00\n",
      "Epoch 269/300\n",
      "1/1 [==============================] - 0s 4ms/step - loss: 0.0192 - accuracy: 0.0000e+00\n",
      "Epoch 270/300\n",
      "1/1 [==============================] - 0s 5ms/step - loss: 0.0191 - accuracy: 0.0000e+00\n",
      "Epoch 271/300\n",
      "1/1 [==============================] - 0s 6ms/step - loss: 0.0189 - accuracy: 0.0000e+00\n",
      "Epoch 272/300\n",
      "1/1 [==============================] - 0s 4ms/step - loss: 0.0188 - accuracy: 0.0000e+00\n",
      "Epoch 273/300\n",
      "1/1 [==============================] - 0s 4ms/step - loss: 0.0186 - accuracy: 0.0000e+00\n",
      "Epoch 274/300\n",
      "1/1 [==============================] - 0s 8ms/step - loss: 0.0185 - accuracy: 0.0000e+00\n",
      "Epoch 275/300\n",
      "1/1 [==============================] - 0s 5ms/step - loss: 0.0184 - accuracy: 0.0000e+00\n",
      "Epoch 276/300\n",
      "1/1 [==============================] - 0s 5ms/step - loss: 0.0182 - accuracy: 0.0000e+00\n",
      "Epoch 277/300\n",
      "1/1 [==============================] - 0s 3ms/step - loss: 0.0181 - accuracy: 0.0000e+00\n",
      "Epoch 278/300\n",
      "1/1 [==============================] - 0s 5ms/step - loss: 0.0180 - accuracy: 0.0000e+00\n",
      "Epoch 279/300\n",
      "1/1 [==============================] - 0s 5ms/step - loss: 0.0178 - accuracy: 0.0000e+00\n",
      "Epoch 280/300\n",
      "1/1 [==============================] - 0s 9ms/step - loss: 0.0177 - accuracy: 0.0000e+00\n",
      "Epoch 281/300\n",
      "1/1 [==============================] - 0s 3ms/step - loss: 0.0176 - accuracy: 0.0000e+00\n",
      "Epoch 282/300\n",
      "1/1 [==============================] - 0s 4ms/step - loss: 0.0175 - accuracy: 0.0000e+00\n",
      "Epoch 283/300\n",
      "1/1 [==============================] - 0s 5ms/step - loss: 0.0174 - accuracy: 0.0000e+00\n",
      "Epoch 284/300\n",
      "1/1 [==============================] - 0s 4ms/step - loss: 0.0172 - accuracy: 0.0000e+00\n",
      "Epoch 285/300\n",
      "1/1 [==============================] - 0s 6ms/step - loss: 0.0171 - accuracy: 0.0000e+00\n",
      "Epoch 286/300\n",
      "1/1 [==============================] - 0s 7ms/step - loss: 0.0170 - accuracy: 0.0000e+00\n",
      "Epoch 287/300\n",
      "1/1 [==============================] - 0s 4ms/step - loss: 0.0169 - accuracy: 0.0000e+00\n",
      "Epoch 288/300\n",
      "1/1 [==============================] - 0s 4ms/step - loss: 0.0168 - accuracy: 0.0000e+00\n",
      "Epoch 289/300\n",
      "1/1 [==============================] - 0s 7ms/step - loss: 0.0167 - accuracy: 0.0000e+00\n",
      "Epoch 290/300\n",
      "1/1 [==============================] - 0s 6ms/step - loss: 0.0166 - accuracy: 0.0000e+00\n",
      "Epoch 291/300\n",
      "1/1 [==============================] - 0s 4ms/step - loss: 0.0165 - accuracy: 0.0000e+00\n",
      "Epoch 292/300\n",
      "1/1 [==============================] - 0s 6ms/step - loss: 0.0164 - accuracy: 0.0000e+00\n",
      "Epoch 293/300\n",
      "1/1 [==============================] - 0s 3ms/step - loss: 0.0163 - accuracy: 0.0000e+00\n",
      "Epoch 294/300\n",
      "1/1 [==============================] - 0s 4ms/step - loss: 0.0162 - accuracy: 0.0000e+00\n",
      "Epoch 295/300\n",
      "1/1 [==============================] - 0s 5ms/step - loss: 0.0161 - accuracy: 0.0000e+00\n",
      "Epoch 296/300\n",
      "1/1 [==============================] - 0s 8ms/step - loss: 0.0160 - accuracy: 0.0000e+00\n",
      "Epoch 297/300\n",
      "1/1 [==============================] - 0s 5ms/step - loss: 0.0159 - accuracy: 0.0000e+00\n",
      "Epoch 298/300\n",
      "1/1 [==============================] - 0s 6ms/step - loss: 0.0158 - accuracy: 0.0000e+00\n",
      "Epoch 299/300\n",
      "1/1 [==============================] - 0s 7ms/step - loss: 0.0157 - accuracy: 0.0000e+00\n",
      "Epoch 300/300\n",
      "1/1 [==============================] - 0s 5ms/step - loss: 0.0157 - accuracy: 0.0000e+00\n"
     ]
    },
    {
     "data": {
      "text/plain": [
       "<keras.callbacks.History at 0x1f5426f92e0>"
      ]
     },
     "execution_count": 6,
     "metadata": {},
     "output_type": "execute_result"
    }
   ],
   "source": [
    "import tensorflow as tf\n",
    "from tensorflow import keras\n",
    "# from tensorflow.python.keras.layers import Dense\n",
    "import pandas as pd\n",
    "from tensorflow.keras import layers\n",
    "\n",
    "import keras\n",
    "from keras.models import Sequential\n",
    "from keras.layers import Dense\n",
    "\n",
    "variables,results = split_x_and_y(database.iloc[[0,1,2,3,4,5,6,7,8]],['A','E','N'],'Nu')\n",
    "test_x,test_y = split_x_and_y(database.iloc[[9,10,11]],['A','E','N'],'Nu')\n",
    "\n",
    "model = keras.Sequential([\n",
    "  layers.Dense(64, activation='sigmoid', input_shape=[len(variables.keys())]),\n",
    "  # layers.Dropout(0.1),\n",
    "  layers.Dense(128, activation='sigmoid'),\n",
    "  layers.Dense(64, activation='sigmoid'),\n",
    "  layers.Dense(16, activation='sigmoid'),\n",
    "  layers.Dense(8, activation='sigmoid'),\n",
    "  # layers.Dense(8, activation='relu'),\n",
    "  layers.Dense(1)\n",
    "])\n",
    "\n",
    "# optimizer = tf.keras.optimizers.RMSprop(0.001)\n",
    "\n",
    "model.compile(optimizer='adam',loss='mean_squared_error',metrics=['accuracy'])\n",
    "\n",
    "model.fit(variables.values,results.values,epochs=300)"
   ]
  },
  {
   "cell_type": "code",
   "execution_count": 7,
   "metadata": {},
   "outputs": [
    {
     "name": "stdout",
     "output_type": "stream",
     "text": [
      "1/1 [==============================] - 0s 141ms/step\n"
     ]
    },
    {
     "data": {
      "text/plain": [
       "array([[ 0.7500581],\n",
       "       [ 0.7697783],\n",
       "       [-1.7955719]], dtype=float32)"
      ]
     },
     "execution_count": 7,
     "metadata": {},
     "output_type": "execute_result"
    }
   ],
   "source": [
    "guess = model.predict(test_x.values)\n",
    "guess"
   ]
  },
  {
   "cell_type": "code",
   "execution_count": 8,
   "metadata": {},
   "outputs": [
    {
     "data": {
      "text/html": [
       "<div>\n",
       "<style scoped>\n",
       "    .dataframe tbody tr th:only-of-type {\n",
       "        vertical-align: middle;\n",
       "    }\n",
       "\n",
       "    .dataframe tbody tr th {\n",
       "        vertical-align: top;\n",
       "    }\n",
       "\n",
       "    .dataframe thead th {\n",
       "        text-align: right;\n",
       "    }\n",
       "</style>\n",
       "<table border=\"1\" class=\"dataframe\">\n",
       "  <thead>\n",
       "    <tr style=\"text-align: right;\">\n",
       "      <th></th>\n",
       "      <th>A</th>\n",
       "      <th>E</th>\n",
       "      <th>N</th>\n",
       "      <th>Nu</th>\n",
       "    </tr>\n",
       "  </thead>\n",
       "  <tbody>\n",
       "    <tr>\n",
       "      <th>9</th>\n",
       "      <td>-0.845154</td>\n",
       "      <td>-1.224745</td>\n",
       "      <td>0.000000</td>\n",
       "      <td>0.750058</td>\n",
       "    </tr>\n",
       "    <tr>\n",
       "      <th>10</th>\n",
       "      <td>-0.845154</td>\n",
       "      <td>0.000000</td>\n",
       "      <td>-1.224745</td>\n",
       "      <td>0.769778</td>\n",
       "    </tr>\n",
       "    <tr>\n",
       "      <th>11</th>\n",
       "      <td>1.183216</td>\n",
       "      <td>1.224745</td>\n",
       "      <td>1.224745</td>\n",
       "      <td>-1.795572</td>\n",
       "    </tr>\n",
       "  </tbody>\n",
       "</table>\n",
       "</div>"
      ],
      "text/plain": [
       "           A         E         N        Nu\n",
       "9  -0.845154 -1.224745  0.000000  0.750058\n",
       "10 -0.845154  0.000000 -1.224745  0.769778\n",
       "11  1.183216  1.224745  1.224745 -1.795572"
      ]
     },
     "execution_count": 8,
     "metadata": {},
     "output_type": "execute_result"
    }
   ],
   "source": [
    "desnormalizar = test_x.copy()\n",
    "desnormalizar['Nu'] = guess\n",
    "desnormalizar"
   ]
  },
  {
   "cell_type": "code",
   "execution_count": 9,
   "metadata": {},
   "outputs": [
    {
     "data": {
      "text/plain": [
       "array([[25.        ,  1.        ,  8.        , 96.04027931],\n",
       "       [25.        ,  2.        ,  5.        , 96.50474895],\n",
       "       [35.        ,  3.        , 11.        , 36.08307582]])"
      ]
     },
     "execution_count": 9,
     "metadata": {},
     "output_type": "execute_result"
    }
   ],
   "source": [
    "desnormalizado_teste = standardscaler.inverse_transform(desnormalizar)\n",
    "desnormalizado_teste"
   ]
  },
  {
   "cell_type": "code",
   "execution_count": 10,
   "metadata": {},
   "outputs": [
    {
     "data": {
      "text/html": [
       "<div>\n",
       "<style scoped>\n",
       "    .dataframe tbody tr th:only-of-type {\n",
       "        vertical-align: middle;\n",
       "    }\n",
       "\n",
       "    .dataframe tbody tr th {\n",
       "        vertical-align: top;\n",
       "    }\n",
       "\n",
       "    .dataframe thead th {\n",
       "        text-align: right;\n",
       "    }\n",
       "</style>\n",
       "<table border=\"1\" class=\"dataframe\">\n",
       "  <thead>\n",
       "    <tr style=\"text-align: right;\">\n",
       "      <th></th>\n",
       "      <th>A</th>\n",
       "      <th>E</th>\n",
       "      <th>N</th>\n",
       "      <th>Nu</th>\n",
       "    </tr>\n",
       "  </thead>\n",
       "  <tbody>\n",
       "    <tr>\n",
       "      <th>9</th>\n",
       "      <td>-0.845154</td>\n",
       "      <td>-1.224745</td>\n",
       "      <td>0.000000</td>\n",
       "      <td>0.847698</td>\n",
       "    </tr>\n",
       "    <tr>\n",
       "      <th>10</th>\n",
       "      <td>-0.845154</td>\n",
       "      <td>0.000000</td>\n",
       "      <td>-1.224745</td>\n",
       "      <td>0.477469</td>\n",
       "    </tr>\n",
       "    <tr>\n",
       "      <th>11</th>\n",
       "      <td>1.183216</td>\n",
       "      <td>1.224745</td>\n",
       "      <td>1.224745</td>\n",
       "      <td>-1.991431</td>\n",
       "    </tr>\n",
       "  </tbody>\n",
       "</table>\n",
       "</div>"
      ],
      "text/plain": [
       "           A         E         N        Nu\n",
       "9  -0.845154 -1.224745  0.000000  0.847698\n",
       "10 -0.845154  0.000000 -1.224745  0.477469\n",
       "11  1.183216  1.224745  1.224745 -1.991431"
      ]
     },
     "execution_count": 10,
     "metadata": {},
     "output_type": "execute_result"
    }
   ],
   "source": [
    "desnormalizar = test_x.copy()\n",
    "desnormalizar['Nu'] = test_y\n",
    "desnormalizar"
   ]
  },
  {
   "cell_type": "code",
   "execution_count": 11,
   "metadata": {},
   "outputs": [
    {
     "data": {
      "text/plain": [
       "array([[25.  ,  1.  ,  8.  , 98.34],\n",
       "       [25.  ,  2.  ,  5.  , 89.62],\n",
       "       [35.  ,  3.  , 11.  , 31.47]])"
      ]
     },
     "execution_count": 11,
     "metadata": {},
     "output_type": "execute_result"
    }
   ],
   "source": [
    "desnormalizado_resultado = standardscaler.inverse_transform(desnormalizar)\n",
    "desnormalizado_resultado"
   ]
  },
  {
   "cell_type": "code",
   "execution_count": 12,
   "metadata": {},
   "outputs": [
    {
     "name": "stdout",
     "output_type": "stream",
     "text": [
      "r2: 0.9720134647717379 meansquarederror: 24.656317271847396 meanabsoluteerror: 4.599181818092923 maxerror: 6.8847489451494965\n"
     ]
    },
    {
     "data": {
      "text/plain": [
       "(0.9720134647717379, 24.656317271847396, 4.599181818092923, 6.8847489451494965)"
      ]
     },
     "execution_count": 12,
     "metadata": {},
     "output_type": "execute_result"
    }
   ],
   "source": [
    "scores(desnormalizado_resultado[:,-1],desnormalizado_teste[:,-1])"
   ]
  },
  {
   "cell_type": "code",
   "execution_count": null,
   "metadata": {},
   "outputs": [],
   "source": []
  }
 ],
 "metadata": {
  "interpreter": {
   "hash": "edbada794071f9c875b2bc5e0e869a1d746a19a0ba8801f10239845106c51c5a"
  },
  "kernelspec": {
   "display_name": "Python 3.8.8 ('base')",
   "language": "python",
   "name": "python3"
  },
  "language_info": {
   "codemirror_mode": {
    "name": "ipython",
    "version": 3
   },
   "file_extension": ".py",
   "mimetype": "text/x-python",
   "name": "python",
   "nbconvert_exporter": "python",
   "pygments_lexer": "ipython3",
   "version": "3.8.8"
  },
  "orig_nbformat": 4
 },
 "nbformat": 4,
 "nbformat_minor": 2
}
