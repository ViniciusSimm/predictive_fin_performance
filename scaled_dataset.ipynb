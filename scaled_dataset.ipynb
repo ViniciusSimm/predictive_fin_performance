{
 "cells": [
  {
   "cell_type": "code",
   "execution_count": 1,
   "metadata": {},
   "outputs": [
    {
     "data": {
      "text/html": [
       "<div>\n",
       "<style scoped>\n",
       "    .dataframe tbody tr th:only-of-type {\n",
       "        vertical-align: middle;\n",
       "    }\n",
       "\n",
       "    .dataframe tbody tr th {\n",
       "        vertical-align: top;\n",
       "    }\n",
       "\n",
       "    .dataframe thead th {\n",
       "        text-align: right;\n",
       "    }\n",
       "</style>\n",
       "<table border=\"1\" class=\"dataframe\">\n",
       "  <thead>\n",
       "    <tr style=\"text-align: right;\">\n",
       "      <th></th>\n",
       "      <th>CASES</th>\n",
       "      <th>A</th>\n",
       "      <th>E</th>\n",
       "      <th>Area</th>\n",
       "      <th>N</th>\n",
       "      <th>hconv</th>\n",
       "      <th>Nu</th>\n",
       "      <th>Tmax</th>\n",
       "      <th>Rt</th>\n",
       "      <th>UA</th>\n",
       "      <th>Afin</th>\n",
       "    </tr>\n",
       "  </thead>\n",
       "  <tbody>\n",
       "    <tr>\n",
       "      <th>0</th>\n",
       "      <td>1</td>\n",
       "      <td>25</td>\n",
       "      <td>1</td>\n",
       "      <td>0.260047</td>\n",
       "      <td>11</td>\n",
       "      <td>27.20</td>\n",
       "      <td>78.62</td>\n",
       "      <td>67.67</td>\n",
       "      <td>1.638</td>\n",
       "      <td>0.610501</td>\n",
       "      <td>0.02103</td>\n",
       "    </tr>\n",
       "    <tr>\n",
       "      <th>1</th>\n",
       "      <td>3</td>\n",
       "      <td>25</td>\n",
       "      <td>1</td>\n",
       "      <td>0.118203</td>\n",
       "      <td>5</td>\n",
       "      <td>35.45</td>\n",
       "      <td>102.00</td>\n",
       "      <td>126.85</td>\n",
       "      <td>2.595</td>\n",
       "      <td>0.385356</td>\n",
       "      <td>0.01087</td>\n",
       "    </tr>\n",
       "    <tr>\n",
       "      <th>2</th>\n",
       "      <td>5</td>\n",
       "      <td>25</td>\n",
       "      <td>2</td>\n",
       "      <td>0.378251</td>\n",
       "      <td>8</td>\n",
       "      <td>29.88</td>\n",
       "      <td>91.57</td>\n",
       "      <td>72.71</td>\n",
       "      <td>1.976</td>\n",
       "      <td>0.506073</td>\n",
       "      <td>0.01694</td>\n",
       "    </tr>\n",
       "    <tr>\n",
       "      <th>3</th>\n",
       "      <td>7</td>\n",
       "      <td>25</td>\n",
       "      <td>3</td>\n",
       "      <td>0.780142</td>\n",
       "      <td>11</td>\n",
       "      <td>10.00</td>\n",
       "      <td>31.00</td>\n",
       "      <td>162.85</td>\n",
       "      <td>4.164</td>\n",
       "      <td>0.240154</td>\n",
       "      <td>0.02370</td>\n",
       "    </tr>\n",
       "    <tr>\n",
       "      <th>4</th>\n",
       "      <td>9</td>\n",
       "      <td>25</td>\n",
       "      <td>3</td>\n",
       "      <td>0.354610</td>\n",
       "      <td>5</td>\n",
       "      <td>29.00</td>\n",
       "      <td>88.97</td>\n",
       "      <td>94.85</td>\n",
       "      <td>2.869</td>\n",
       "      <td>0.348554</td>\n",
       "      <td>0.01200</td>\n",
       "    </tr>\n",
       "    <tr>\n",
       "      <th>5</th>\n",
       "      <td>11</td>\n",
       "      <td>35</td>\n",
       "      <td>1</td>\n",
       "      <td>0.189125</td>\n",
       "      <td>8</td>\n",
       "      <td>31.60</td>\n",
       "      <td>96.90</td>\n",
       "      <td>61.15</td>\n",
       "      <td>1.421</td>\n",
       "      <td>0.703730</td>\n",
       "      <td>0.02220</td>\n",
       "    </tr>\n",
       "    <tr>\n",
       "      <th>6</th>\n",
       "      <td>13</td>\n",
       "      <td>35</td>\n",
       "      <td>2</td>\n",
       "      <td>0.520095</td>\n",
       "      <td>11</td>\n",
       "      <td>20.15</td>\n",
       "      <td>61.80</td>\n",
       "      <td>63.03</td>\n",
       "      <td>1.564</td>\n",
       "      <td>0.639386</td>\n",
       "      <td>0.03170</td>\n",
       "    </tr>\n",
       "    <tr>\n",
       "      <th>7</th>\n",
       "      <td>15</td>\n",
       "      <td>35</td>\n",
       "      <td>2</td>\n",
       "      <td>0.236407</td>\n",
       "      <td>5</td>\n",
       "      <td>30.40</td>\n",
       "      <td>93.30</td>\n",
       "      <td>77.35</td>\n",
       "      <td>2.101</td>\n",
       "      <td>0.475964</td>\n",
       "      <td>0.01560</td>\n",
       "    </tr>\n",
       "    <tr>\n",
       "      <th>8</th>\n",
       "      <td>17</td>\n",
       "      <td>35</td>\n",
       "      <td>3</td>\n",
       "      <td>0.567376</td>\n",
       "      <td>8</td>\n",
       "      <td>25.10</td>\n",
       "      <td>76.90</td>\n",
       "      <td>63.25</td>\n",
       "      <td>1.591</td>\n",
       "      <td>0.628536</td>\n",
       "      <td>0.02500</td>\n",
       "    </tr>\n",
       "  </tbody>\n",
       "</table>\n",
       "</div>"
      ],
      "text/plain": [
       "   CASES   A  E      Area   N  hconv      Nu    Tmax     Rt        UA     Afin\n",
       "0      1  25  1  0.260047  11  27.20   78.62   67.67  1.638  0.610501  0.02103\n",
       "1      3  25  1  0.118203   5  35.45  102.00  126.85  2.595  0.385356  0.01087\n",
       "2      5  25  2  0.378251   8  29.88   91.57   72.71  1.976  0.506073  0.01694\n",
       "3      7  25  3  0.780142  11  10.00   31.00  162.85  4.164  0.240154  0.02370\n",
       "4      9  25  3  0.354610   5  29.00   88.97   94.85  2.869  0.348554  0.01200\n",
       "5     11  35  1  0.189125   8  31.60   96.90   61.15  1.421  0.703730  0.02220\n",
       "6     13  35  2  0.520095  11  20.15   61.80   63.03  1.564  0.639386  0.03170\n",
       "7     15  35  2  0.236407   5  30.40   93.30   77.35  2.101  0.475964  0.01560\n",
       "8     17  35  3  0.567376   8  25.10   76.90   63.25  1.591  0.628536  0.02500"
      ]
     },
     "execution_count": 1,
     "metadata": {},
     "output_type": "execute_result"
    }
   ],
   "source": [
    "import pandas as pd\n",
    "database = pd.read_excel('database_TCC.xlsx')\n",
    "database"
   ]
  },
  {
   "cell_type": "code",
   "execution_count": 2,
   "metadata": {},
   "outputs": [],
   "source": [
    "from sklearn.preprocessing import StandardScaler\n",
    "standardscaler = StandardScaler()\n",
    "standardscaler.fit(database)\n",
    "data = standardscaler.transform(database)\n",
    "database = pd.DataFrame(data,columns=database.columns)"
   ]
  },
  {
   "cell_type": "code",
   "execution_count": 3,
   "metadata": {},
   "outputs": [],
   "source": [
    "from sklearn.metrics import r2_score,mean_squared_error,mean_absolute_error,max_error\n",
    "\n",
    "def split_x_and_y(database,x,y):\n",
    "  dataset_x = database[x]\n",
    "  dataset_y = database[y]\n",
    "  return dataset_x,dataset_y\n",
    "\n",
    "\n",
    "def scores(Y_true, Y_predicted):\n",
    "  r2 = r2_score(Y_true, Y_predicted)\n",
    "  meansquarederror = mean_squared_error(Y_true, Y_predicted)\n",
    "  meanabsoluteerror = mean_absolute_error(Y_true, Y_predicted)\n",
    "  maxerror = max_error(Y_true, Y_predicted)\n",
    "\n",
    "  print('r2:',r2,'meansquarederror:',meansquarederror,'meanabsoluteerror:',meanabsoluteerror,'maxerror:',maxerror)\n",
    "  return r2,meansquarederror,meanabsoluteerror,maxerror\n",
    "\n",
    "\n"
   ]
  },
  {
   "cell_type": "markdown",
   "metadata": {},
   "source": [
    "# Random Forest Regressor"
   ]
  },
  {
   "cell_type": "code",
   "execution_count": 13,
   "metadata": {},
   "outputs": [],
   "source": [
    "dataset_x,dataset_y = split_x_and_y(database,['A','E','N'],'Nu')"
   ]
  },
  {
   "cell_type": "code",
   "execution_count": 14,
   "metadata": {},
   "outputs": [
    {
     "data": {
      "text/plain": [
       "0.9070396635771831"
      ]
     },
     "execution_count": 14,
     "metadata": {},
     "output_type": "execute_result"
    }
   ],
   "source": [
    "from sklearn.ensemble import RandomForestRegressor\n",
    "RFR = RandomForestRegressor(n_estimators=1000)\n",
    "RFR.fit(dataset_x,dataset_y)\n",
    "RFR.score(dataset_x,dataset_y)"
   ]
  },
  {
   "cell_type": "code",
   "execution_count": 16,
   "metadata": {},
   "outputs": [
    {
     "data": {
      "text/plain": [
       "-0.24134573605630205"
      ]
     },
     "execution_count": 16,
     "metadata": {},
     "output_type": "execute_result"
    }
   ],
   "source": [
    "# database.iloc[[0,2,4,5,7,8]]\n",
    "\n",
    "dataset_x,dataset_y = split_x_and_y(database.iloc[[0,2,4,5,7,8]],['A','E','N'],'Nu')\n",
    "\n",
    "test_x,test_y = split_x_and_y(database.iloc[[1,3,6]],['A','E','N'],'Nu')\n",
    "\n",
    "from sklearn.ensemble import RandomForestRegressor\n",
    "RFR = RandomForestRegressor(n_estimators=1000)\n",
    "RFR.fit(dataset_x,dataset_y)\n",
    "RFR.score(test_x,test_y)"
   ]
  },
  {
   "cell_type": "code",
   "execution_count": 19,
   "metadata": {},
   "outputs": [
    {
     "name": "stdout",
     "output_type": "stream",
     "text": [
      "[0.57293013 0.04540846 0.23802727]\n",
      "1    1.050588\n",
      "3   -2.358195\n",
      "6   -0.879455\n",
      "Name: Nu, dtype: float64\n"
     ]
    }
   ],
   "source": [
    "print(RFR.predict(X = test_x))\n",
    "print(test_y)"
   ]
  },
  {
   "cell_type": "markdown",
   "metadata": {},
   "source": [
    "# SVM"
   ]
  },
  {
   "cell_type": "code",
   "execution_count": 21,
   "metadata": {},
   "outputs": [
    {
     "data": {
      "text/plain": [
       "0.7374223616120228"
      ]
     },
     "execution_count": 21,
     "metadata": {},
     "output_type": "execute_result"
    }
   ],
   "source": [
    "from sklearn import svm\n",
    "regr = svm.SVR()\n",
    "dataset_x,dataset_y = split_x_and_y(database,['A','E','N'],'Nu')\n",
    "regr.fit(dataset_x,dataset_y)\n",
    "regr.score(dataset_x,dataset_y)"
   ]
  },
  {
   "cell_type": "code",
   "execution_count": 22,
   "metadata": {},
   "outputs": [
    {
     "data": {
      "text/plain": [
       "-0.4876110426825617"
      ]
     },
     "execution_count": 22,
     "metadata": {},
     "output_type": "execute_result"
    }
   ],
   "source": [
    "dataset_x,dataset_y = split_x_and_y(database.iloc[[0,2,4,5,7,8]],['A','E','N'],'Nu')\n",
    "\n",
    "test_x,test_y = split_x_and_y(database.iloc[[1,3,6]],['A','E','N'],'Nu')\n",
    "\n",
    "from sklearn import svm\n",
    "regr = svm.SVR()\n",
    "regr.fit(dataset_x,dataset_y)\n",
    "regr.score(test_x,test_y)"
   ]
  },
  {
   "cell_type": "markdown",
   "metadata": {},
   "source": [
    "# Linear Regression"
   ]
  },
  {
   "cell_type": "code",
   "execution_count": 6,
   "metadata": {},
   "outputs": [
    {
     "data": {
      "text/plain": [
       "0.8294528465489605"
      ]
     },
     "execution_count": 6,
     "metadata": {},
     "output_type": "execute_result"
    }
   ],
   "source": [
    "from sklearn.linear_model import LinearRegression\n",
    "LR = LinearRegression()\n",
    "dataset_x,dataset_y = split_x_and_y(database,['A','E','N'],'Nu')\n",
    "LR.fit(dataset_x,dataset_y)\n",
    "LR.score(dataset_x,dataset_y)"
   ]
  },
  {
   "cell_type": "code",
   "execution_count": 7,
   "metadata": {},
   "outputs": [
    {
     "data": {
      "text/plain": [
       "0.44246499107684456"
      ]
     },
     "execution_count": 7,
     "metadata": {},
     "output_type": "execute_result"
    }
   ],
   "source": [
    "dataset_x,dataset_y = split_x_and_y(database.iloc[[0,2,4,5,7,8]],['A','E','N'],'Nu')\n",
    "\n",
    "test_x,test_y = split_x_and_y(database.iloc[[1,3,6]],['A','E','N'],'Nu')\n",
    "\n",
    "from sklearn.linear_model import LinearRegression\n",
    "LR = LinearRegression()\n",
    "LR.fit(dataset_x,dataset_y)\n",
    "LR.score(test_x,test_y)"
   ]
  },
  {
   "cell_type": "markdown",
   "metadata": {},
   "source": [
    "# SGD"
   ]
  },
  {
   "cell_type": "code",
   "execution_count": 9,
   "metadata": {},
   "outputs": [
    {
     "data": {
      "text/plain": [
       "0.7876193319160548"
      ]
     },
     "execution_count": 9,
     "metadata": {},
     "output_type": "execute_result"
    }
   ],
   "source": [
    "from sklearn.linear_model import SGDRegressor\n",
    "SGD = SGDRegressor()\n",
    "dataset_x,dataset_y = split_x_and_y(database,['A','E','N'],'Nu')\n",
    "SGD.fit(dataset_x,dataset_y)\n",
    "SGD.score(dataset_x,dataset_y)"
   ]
  },
  {
   "cell_type": "code",
   "execution_count": 10,
   "metadata": {},
   "outputs": [
    {
     "data": {
      "text/plain": [
       "-0.11492141233004882"
      ]
     },
     "execution_count": 10,
     "metadata": {},
     "output_type": "execute_result"
    }
   ],
   "source": [
    "dataset_x,dataset_y = split_x_and_y(database.iloc[[0,2,4,5,7,8]],['A','E','N'],'Nu')\n",
    "\n",
    "test_x,test_y = split_x_and_y(database.iloc[[1,3,6]],['A','E','N'],'Nu')\n",
    "\n",
    "from sklearn.linear_model import SGDRegressor\n",
    "SGD = SGDRegressor()\n",
    "SGD.fit(dataset_x,dataset_y)\n",
    "SGD.score(test_x,test_y)"
   ]
  },
  {
   "cell_type": "markdown",
   "metadata": {},
   "source": [
    "# BayesianRidge"
   ]
  },
  {
   "cell_type": "code",
   "execution_count": 12,
   "metadata": {},
   "outputs": [
    {
     "data": {
      "text/plain": [
       "0.8206876406282794"
      ]
     },
     "execution_count": 12,
     "metadata": {},
     "output_type": "execute_result"
    }
   ],
   "source": [
    "from sklearn.linear_model import BayesianRidge\n",
    "bayesian = BayesianRidge()\n",
    "dataset_x,dataset_y = split_x_and_y(database,['A','E','N'],'Nu')\n",
    "bayesian.fit(dataset_x,dataset_y)\n",
    "bayesian.score(dataset_x,dataset_y)"
   ]
  },
  {
   "cell_type": "code",
   "execution_count": 13,
   "metadata": {},
   "outputs": [
    {
     "data": {
      "text/plain": [
       "-0.6088094712900525"
      ]
     },
     "execution_count": 13,
     "metadata": {},
     "output_type": "execute_result"
    }
   ],
   "source": [
    "dataset_x,dataset_y = split_x_and_y(database.iloc[[0,2,4,5,7,8]],['A','E','N'],'Nu')\n",
    "\n",
    "test_x,test_y = split_x_and_y(database.iloc[[1,3,6]],['A','E','N'],'Nu')\n",
    "\n",
    "from sklearn.linear_model import BayesianRidge\n",
    "bayesian = BayesianRidge()\n",
    "bayesian.fit(dataset_x,dataset_y)\n",
    "bayesian.score(test_x,test_y)"
   ]
  },
  {
   "cell_type": "markdown",
   "metadata": {},
   "source": [
    "# MLP"
   ]
  },
  {
   "cell_type": "code",
   "execution_count": 15,
   "metadata": {},
   "outputs": [
    {
     "data": {
      "text/plain": [
       "0.994181948133519"
      ]
     },
     "execution_count": 15,
     "metadata": {},
     "output_type": "execute_result"
    }
   ],
   "source": [
    "from sklearn.neural_network import MLPRegressor\n",
    "MLP = MLPRegressor()\n",
    "dataset_x,dataset_y = split_x_and_y(database,['A','E','N'],'Nu')\n",
    "MLP.fit(dataset_x,dataset_y)\n",
    "MLP.score(dataset_x,dataset_y)"
   ]
  },
  {
   "cell_type": "code",
   "execution_count": 16,
   "metadata": {},
   "outputs": [
    {
     "data": {
      "text/plain": [
       "0.002407846042779327"
      ]
     },
     "execution_count": 16,
     "metadata": {},
     "output_type": "execute_result"
    }
   ],
   "source": [
    "dataset_x,dataset_y = split_x_and_y(database.iloc[[0,2,4,5,7,8]],['A','E','N'],'Nu')\n",
    "\n",
    "test_x,test_y = split_x_and_y(database.iloc[[1,3,6]],['A','E','N'],'Nu')\n",
    "\n",
    "from sklearn.neural_network import MLPRegressor\n",
    "MLP = MLPRegressor()\n",
    "MLP.fit(dataset_x,dataset_y)\n",
    "MLP.score(test_x,test_y)"
   ]
  },
  {
   "cell_type": "markdown",
   "metadata": {},
   "source": [
    "# Polynomial and Linear"
   ]
  },
  {
   "cell_type": "code",
   "execution_count": 35,
   "metadata": {},
   "outputs": [
    {
     "data": {
      "text/plain": [
       "1.0"
      ]
     },
     "execution_count": 35,
     "metadata": {},
     "output_type": "execute_result"
    }
   ],
   "source": [
    "from sklearn.preprocessing import PolynomialFeatures\n",
    "from sklearn.linear_model import LinearRegression\n",
    "\n",
    "poly = PolynomialFeatures(3)\n",
    "LR = LinearRegression()\n",
    "\n",
    "dataset_x,dataset_y = split_x_and_y(database,['A','E','N'],'Nu')\n",
    "\n",
    "dataset_x_transformed = poly.fit_transform(dataset_x)\n",
    "\n",
    "LR.fit(dataset_x_transformed,dataset_y)\n",
    "LR.score(dataset_x_transformed,dataset_y)"
   ]
  },
  {
   "cell_type": "code",
   "execution_count": 34,
   "metadata": {},
   "outputs": [
    {
     "data": {
      "text/plain": [
       "-0.25153341197455226"
      ]
     },
     "execution_count": 34,
     "metadata": {},
     "output_type": "execute_result"
    }
   ],
   "source": [
    "dataset_x,dataset_y = split_x_and_y(database.iloc[[0,2,4,5,7,8]],['A','E','N'],'Nu')\n",
    "\n",
    "test_x,test_y = split_x_and_y(database.iloc[[1,3,6]],['A','E','N'],'Nu')\n",
    "\n",
    "from sklearn.preprocessing import PolynomialFeatures\n",
    "from sklearn.linear_model import LinearRegression\n",
    "\n",
    "poly = PolynomialFeatures(3)\n",
    "LR = LinearRegression()\n",
    "\n",
    "dataset_x_transformed = poly.fit_transform(dataset_x)\n",
    "test_x_transformed = poly.fit_transform(test_x)\n",
    "\n",
    "LR.fit(dataset_x_transformed,dataset_y)\n",
    "LR.score(test_x_transformed,test_y)"
   ]
  },
  {
   "cell_type": "markdown",
   "metadata": {},
   "source": [
    "# Ridge"
   ]
  },
  {
   "cell_type": "code",
   "execution_count": 22,
   "metadata": {},
   "outputs": [
    {
     "data": {
      "text/plain": [
       "0.8211583180834708"
      ]
     },
     "execution_count": 22,
     "metadata": {},
     "output_type": "execute_result"
    }
   ],
   "source": [
    "from sklearn.linear_model import Ridge\n",
    "ridge = Ridge()\n",
    "dataset_x,dataset_y = split_x_and_y(database,['A','E','N'],'Nu')\n",
    "ridge.fit(dataset_x,dataset_y)\n",
    "ridge.score(dataset_x,dataset_y)"
   ]
  },
  {
   "cell_type": "code",
   "execution_count": 23,
   "metadata": {},
   "outputs": [
    {
     "data": {
      "text/plain": [
       "0.16886386806002773"
      ]
     },
     "execution_count": 23,
     "metadata": {},
     "output_type": "execute_result"
    }
   ],
   "source": [
    "dataset_x,dataset_y = split_x_and_y(database.iloc[[0,2,4,5,7,8]],['A','E','N'],'Nu')\n",
    "\n",
    "test_x,test_y = split_x_and_y(database.iloc[[1,3,6]],['A','E','N'],'Nu')\n",
    "\n",
    "from sklearn.linear_model import Ridge\n",
    "ridge = Ridge()\n",
    "ridge.fit(dataset_x,dataset_y)\n",
    "ridge.score(test_x,test_y)"
   ]
  },
  {
   "cell_type": "markdown",
   "metadata": {},
   "source": [
    "# Keras"
   ]
  },
  {
   "cell_type": "code",
   "execution_count": 23,
   "metadata": {},
   "outputs": [
    {
     "data": {
      "text/plain": [
       "(9, 3)"
      ]
     },
     "execution_count": 23,
     "metadata": {},
     "output_type": "execute_result"
    }
   ],
   "source": [
    "variables,results = split_x_and_y(database,['A','E','N'],'Nu')\n",
    "variables.values.shape"
   ]
  },
  {
   "cell_type": "code",
   "execution_count": 24,
   "metadata": {},
   "outputs": [
    {
     "name": "stdout",
     "output_type": "stream",
     "text": [
      "Unexpected exception formatting exception. Falling back to standard exception\n"
     ]
    },
    {
     "name": "stderr",
     "output_type": "stream",
     "text": [
      "Traceback (most recent call last):\n",
      "  File \"c:\\Users\\vinao\\anaconda3\\lib\\site-packages\\IPython\\core\\interactiveshell.py\", line 3397, in run_code\n",
      "    exec(code_obj, self.user_global_ns, self.user_ns)\n",
      "  File \"C:\\Users\\vinao\\AppData\\Local\\Temp\\ipykernel_25884\\3182353761.py\", line 1, in <cell line: 1>\n",
      "    import tensorflow as tf\n",
      "  File \"c:\\Users\\vinao\\anaconda3\\lib\\site-packages\\tensorflow\\__init__.py\", line 37, in <module>\n",
      "    from tensorflow.python.tools import module_util as _module_util\n",
      "  File \"c:\\Users\\vinao\\anaconda3\\lib\\site-packages\\tensorflow\\python\\__init__.py\", line 45, in <module>\n",
      "    from tensorflow.python.feature_column import feature_column_lib as feature_column\n",
      "  File \"c:\\Users\\vinao\\anaconda3\\lib\\site-packages\\tensorflow\\python\\feature_column\\feature_column_lib.py\", line 18, in <module>\n",
      "    from tensorflow.python.feature_column.feature_column import *\n",
      "  File \"c:\\Users\\vinao\\anaconda3\\lib\\site-packages\\tensorflow\\python\\feature_column\\feature_column.py\", line 143, in <module>\n",
      "    from tensorflow.python.layers import base\n",
      "  File \"c:\\Users\\vinao\\anaconda3\\lib\\site-packages\\tensorflow\\python\\layers\\base.py\", line 16, in <module>\n",
      "    from tensorflow.python.keras.legacy_tf_layers import base\n",
      "  File \"c:\\Users\\vinao\\anaconda3\\lib\\site-packages\\tensorflow\\python\\keras\\__init__.py\", line 25, in <module>\n",
      "    from tensorflow.python.keras import models\n",
      "  File \"c:\\Users\\vinao\\anaconda3\\lib\\site-packages\\tensorflow\\python\\keras\\models.py\", line 20, in <module>\n",
      "    from tensorflow.python.keras import metrics as metrics_module\n",
      "  File \"c:\\Users\\vinao\\anaconda3\\lib\\site-packages\\tensorflow\\python\\keras\\metrics.py\", line 34, in <module>\n",
      "    from tensorflow.python.keras import activations\n",
      "  File \"c:\\Users\\vinao\\anaconda3\\lib\\site-packages\\tensorflow\\python\\keras\\activations.py\", line 18, in <module>\n",
      "    from tensorflow.python.keras.layers import advanced_activations\n",
      "  File \"c:\\Users\\vinao\\anaconda3\\lib\\site-packages\\tensorflow\\python\\keras\\layers\\__init__.py\", line 22, in <module>\n",
      "    from tensorflow.python.keras.engine.input_layer import Input\n",
      "  File \"c:\\Users\\vinao\\anaconda3\\lib\\site-packages\\tensorflow\\python\\keras\\engine\\input_layer.py\", line 24, in <module>\n",
      "    from tensorflow.python.keras.engine import base_layer\n",
      "  File \"c:\\Users\\vinao\\anaconda3\\lib\\site-packages\\tensorflow\\python\\keras\\engine\\base_layer.py\", line 48, in <module>\n",
      "    from tensorflow.python.keras.engine import base_layer_utils\n",
      "  File \"c:\\Users\\vinao\\anaconda3\\lib\\site-packages\\tensorflow\\python\\keras\\engine\\base_layer_utils.py\", line 31, in <module>\n",
      "    from tensorflow.python.keras.utils import tf_utils\n",
      "  File \"c:\\Users\\vinao\\anaconda3\\lib\\site-packages\\tensorflow\\python\\keras\\utils\\tf_utils.py\", line 22, in <module>\n",
      "    from tensorflow.python.distribute.coordinator import cluster_coordinator as coordinator_lib\n",
      "  File \"c:\\Users\\vinao\\anaconda3\\lib\\site-packages\\tensorflow\\python\\distribute\\coordinator\\cluster_coordinator.py\", line 29, in <module>\n",
      "    from tensorflow.python.distribute import parameter_server_strategy_v2\n",
      "  File \"c:\\Users\\vinao\\anaconda3\\lib\\site-packages\\tensorflow\\python\\distribute\\parameter_server_strategy_v2.py\", line 30, in <module>\n",
      "    from tensorflow.python.distribute import parameter_server_strategy\n",
      "  File \"c:\\Users\\vinao\\anaconda3\\lib\\site-packages\\tensorflow\\python\\distribute\\parameter_server_strategy.py\", line 31, in <module>\n",
      "    from tensorflow.python.distribute.cluster_resolver import SimpleClusterResolver\n",
      "  File \"c:\\Users\\vinao\\anaconda3\\lib\\site-packages\\tensorflow\\python\\distribute\\cluster_resolver\\__init__.py\", line 27, in <module>\n",
      "    from tensorflow.python.distribute.cluster_resolver.gce_cluster_resolver import GCEClusterResolver\n",
      "  File \"c:\\Users\\vinao\\anaconda3\\lib\\site-packages\\tensorflow\\python\\distribute\\cluster_resolver\\gce_cluster_resolver.py\", line 24, in <module>\n",
      "    from googleapiclient import discovery  # pylint: disable=g-import-not-at-top\n",
      "  File \"c:\\Users\\vinao\\anaconda3\\lib\\site-packages\\googleapiclient\\discovery.py\", line 42, in <module>\n",
      "    import httplib2\n",
      "  File \"c:\\Users\\vinao\\anaconda3\\lib\\site-packages\\httplib2\\__init__.py\", line 52, in <module>\n",
      "    from . import auth\n",
      "  File \"c:\\Users\\vinao\\anaconda3\\lib\\site-packages\\httplib2\\auth.py\", line 20, in <module>\n",
      "    auth_param_name = token.copy().setName(\"auth-param-name\").addParseAction(pp.downcaseTokens)\n",
      "AttributeError: module 'pyparsing' has no attribute 'downcaseTokens'\n",
      "\n",
      "During handling of the above exception, another exception occurred:\n",
      "\n",
      "Traceback (most recent call last):\n",
      "  File \"c:\\Users\\vinao\\anaconda3\\lib\\site-packages\\IPython\\core\\interactiveshell.py\", line 1992, in showtraceback\n",
      "    stb = self.InteractiveTB.structured_traceback(\n",
      "  File \"c:\\Users\\vinao\\anaconda3\\lib\\site-packages\\IPython\\core\\ultratb.py\", line 1118, in structured_traceback\n",
      "    return FormattedTB.structured_traceback(\n",
      "  File \"c:\\Users\\vinao\\anaconda3\\lib\\site-packages\\IPython\\core\\ultratb.py\", line 1012, in structured_traceback\n",
      "    return VerboseTB.structured_traceback(\n",
      "  File \"c:\\Users\\vinao\\anaconda3\\lib\\site-packages\\IPython\\core\\ultratb.py\", line 865, in structured_traceback\n",
      "    formatted_exception = self.format_exception_as_a_whole(etype, evalue, etb, number_of_lines_of_context,\n",
      "  File \"c:\\Users\\vinao\\anaconda3\\lib\\site-packages\\IPython\\core\\ultratb.py\", line 818, in format_exception_as_a_whole\n",
      "    frames.append(self.format_record(r))\n",
      "  File \"c:\\Users\\vinao\\anaconda3\\lib\\site-packages\\IPython\\core\\ultratb.py\", line 736, in format_record\n",
      "    result += ''.join(_format_traceback_lines(frame_info.lines, Colors, self.has_colors, lvals))\n",
      "  File \"c:\\Users\\vinao\\anaconda3\\lib\\site-packages\\stack_data\\utils.py\", line 145, in cached_property_wrapper\n",
      "    value = obj.__dict__[self.func.__name__] = self.func(obj)\n",
      "  File \"c:\\Users\\vinao\\anaconda3\\lib\\site-packages\\stack_data\\core.py\", line 698, in lines\n",
      "    pieces = self.included_pieces\n",
      "  File \"c:\\Users\\vinao\\anaconda3\\lib\\site-packages\\stack_data\\utils.py\", line 145, in cached_property_wrapper\n",
      "    value = obj.__dict__[self.func.__name__] = self.func(obj)\n",
      "  File \"c:\\Users\\vinao\\anaconda3\\lib\\site-packages\\stack_data\\core.py\", line 649, in included_pieces\n",
      "    pos = scope_pieces.index(self.executing_piece)\n",
      "  File \"c:\\Users\\vinao\\anaconda3\\lib\\site-packages\\stack_data\\utils.py\", line 145, in cached_property_wrapper\n",
      "    value = obj.__dict__[self.func.__name__] = self.func(obj)\n",
      "  File \"c:\\Users\\vinao\\anaconda3\\lib\\site-packages\\stack_data\\core.py\", line 628, in executing_piece\n",
      "    return only(\n",
      "  File \"c:\\Users\\vinao\\anaconda3\\lib\\site-packages\\executing\\executing.py\", line 164, in only\n",
      "    raise NotOneValueFound('Expected one value, found 0')\n",
      "executing.executing.NotOneValueFound: Expected one value, found 0\n"
     ]
    }
   ],
   "source": [
    "import tensorflow as tf\n",
    "from tensorflow import keras\n",
    "# from tensorflow.python.keras.layers import Dense\n",
    "import pandas as pd\n",
    "\n",
    "import keras\n",
    "from keras.models import Sequential\n",
    "from keras.layers import Dense\n",
    "\n",
    "variables,results = split_x_and_y(database,['A','E','N'],'Nu')\n",
    "model = Sequential()\n",
    "model.add(Dense(64, input_dim=3, activation= \"relu\"))\n",
    "model.add(Dense(100, activation= \"relu\"))\n",
    "model.add(Dense(50, activation= \"relu\"))\n",
    "model.add(Dense(1))\n",
    "model.compile(optimizer='adam',loss='mean_squared_error',metrics=['mean_squared_error'])\n",
    "history = model.fit(variables.values,results,batch_size=100,epochs=60)"
   ]
  },
  {
   "cell_type": "code",
   "execution_count": null,
   "metadata": {},
   "outputs": [],
   "source": []
  }
 ],
 "metadata": {
  "interpreter": {
   "hash": "edbada794071f9c875b2bc5e0e869a1d746a19a0ba8801f10239845106c51c5a"
  },
  "kernelspec": {
   "display_name": "Python 3.8.8 ('base')",
   "language": "python",
   "name": "python3"
  },
  "language_info": {
   "codemirror_mode": {
    "name": "ipython",
    "version": 3
   },
   "file_extension": ".py",
   "mimetype": "text/x-python",
   "name": "python",
   "nbconvert_exporter": "python",
   "pygments_lexer": "ipython3",
   "version": "3.8.8"
  },
  "orig_nbformat": 4
 },
 "nbformat": 4,
 "nbformat_minor": 2
}
