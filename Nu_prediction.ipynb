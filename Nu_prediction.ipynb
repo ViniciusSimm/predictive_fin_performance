{
 "cells": [
  {
   "cell_type": "code",
   "execution_count": 1,
   "metadata": {},
   "outputs": [
    {
     "data": {
      "text/html": [
       "<div>\n",
       "<style scoped>\n",
       "    .dataframe tbody tr th:only-of-type {\n",
       "        vertical-align: middle;\n",
       "    }\n",
       "\n",
       "    .dataframe tbody tr th {\n",
       "        vertical-align: top;\n",
       "    }\n",
       "\n",
       "    .dataframe thead th {\n",
       "        text-align: right;\n",
       "    }\n",
       "</style>\n",
       "<table border=\"1\" class=\"dataframe\">\n",
       "  <thead>\n",
       "    <tr style=\"text-align: right;\">\n",
       "      <th></th>\n",
       "      <th>CASES</th>\n",
       "      <th>A</th>\n",
       "      <th>E</th>\n",
       "      <th>Area</th>\n",
       "      <th>N</th>\n",
       "      <th>hconv</th>\n",
       "      <th>Nu</th>\n",
       "      <th>Tmax</th>\n",
       "      <th>Rt</th>\n",
       "      <th>UA</th>\n",
       "      <th>Afin</th>\n",
       "    </tr>\n",
       "  </thead>\n",
       "  <tbody>\n",
       "    <tr>\n",
       "      <th>0</th>\n",
       "      <td>1</td>\n",
       "      <td>25</td>\n",
       "      <td>1</td>\n",
       "      <td>0.260047</td>\n",
       "      <td>11</td>\n",
       "      <td>27.20</td>\n",
       "      <td>78.62</td>\n",
       "      <td>67.67</td>\n",
       "      <td>1.638</td>\n",
       "      <td>0.610501</td>\n",
       "      <td>0.02103</td>\n",
       "    </tr>\n",
       "    <tr>\n",
       "      <th>1</th>\n",
       "      <td>3</td>\n",
       "      <td>25</td>\n",
       "      <td>1</td>\n",
       "      <td>0.118203</td>\n",
       "      <td>5</td>\n",
       "      <td>35.45</td>\n",
       "      <td>102.00</td>\n",
       "      <td>126.85</td>\n",
       "      <td>2.595</td>\n",
       "      <td>0.385356</td>\n",
       "      <td>0.01087</td>\n",
       "    </tr>\n",
       "    <tr>\n",
       "      <th>2</th>\n",
       "      <td>5</td>\n",
       "      <td>25</td>\n",
       "      <td>2</td>\n",
       "      <td>0.378251</td>\n",
       "      <td>8</td>\n",
       "      <td>29.88</td>\n",
       "      <td>91.57</td>\n",
       "      <td>72.71</td>\n",
       "      <td>1.976</td>\n",
       "      <td>0.506073</td>\n",
       "      <td>0.01694</td>\n",
       "    </tr>\n",
       "    <tr>\n",
       "      <th>3</th>\n",
       "      <td>7</td>\n",
       "      <td>25</td>\n",
       "      <td>3</td>\n",
       "      <td>0.780142</td>\n",
       "      <td>11</td>\n",
       "      <td>10.00</td>\n",
       "      <td>31.00</td>\n",
       "      <td>162.85</td>\n",
       "      <td>4.164</td>\n",
       "      <td>0.240154</td>\n",
       "      <td>0.02370</td>\n",
       "    </tr>\n",
       "    <tr>\n",
       "      <th>4</th>\n",
       "      <td>9</td>\n",
       "      <td>25</td>\n",
       "      <td>3</td>\n",
       "      <td>0.354610</td>\n",
       "      <td>5</td>\n",
       "      <td>29.00</td>\n",
       "      <td>88.97</td>\n",
       "      <td>94.85</td>\n",
       "      <td>2.869</td>\n",
       "      <td>0.348554</td>\n",
       "      <td>0.01200</td>\n",
       "    </tr>\n",
       "    <tr>\n",
       "      <th>5</th>\n",
       "      <td>11</td>\n",
       "      <td>35</td>\n",
       "      <td>1</td>\n",
       "      <td>0.189125</td>\n",
       "      <td>8</td>\n",
       "      <td>31.60</td>\n",
       "      <td>96.90</td>\n",
       "      <td>61.15</td>\n",
       "      <td>1.421</td>\n",
       "      <td>0.703730</td>\n",
       "      <td>0.02220</td>\n",
       "    </tr>\n",
       "    <tr>\n",
       "      <th>6</th>\n",
       "      <td>13</td>\n",
       "      <td>35</td>\n",
       "      <td>2</td>\n",
       "      <td>0.520095</td>\n",
       "      <td>11</td>\n",
       "      <td>20.15</td>\n",
       "      <td>61.80</td>\n",
       "      <td>63.03</td>\n",
       "      <td>1.564</td>\n",
       "      <td>0.639386</td>\n",
       "      <td>0.03170</td>\n",
       "    </tr>\n",
       "    <tr>\n",
       "      <th>7</th>\n",
       "      <td>15</td>\n",
       "      <td>35</td>\n",
       "      <td>2</td>\n",
       "      <td>0.236407</td>\n",
       "      <td>5</td>\n",
       "      <td>30.40</td>\n",
       "      <td>93.30</td>\n",
       "      <td>77.35</td>\n",
       "      <td>2.101</td>\n",
       "      <td>0.475964</td>\n",
       "      <td>0.01560</td>\n",
       "    </tr>\n",
       "    <tr>\n",
       "      <th>8</th>\n",
       "      <td>17</td>\n",
       "      <td>35</td>\n",
       "      <td>3</td>\n",
       "      <td>0.567376</td>\n",
       "      <td>8</td>\n",
       "      <td>25.10</td>\n",
       "      <td>76.90</td>\n",
       "      <td>63.25</td>\n",
       "      <td>1.591</td>\n",
       "      <td>0.628536</td>\n",
       "      <td>0.02500</td>\n",
       "    </tr>\n",
       "    <tr>\n",
       "      <th>9</th>\n",
       "      <td>2</td>\n",
       "      <td>25</td>\n",
       "      <td>1</td>\n",
       "      <td>0.189125</td>\n",
       "      <td>8</td>\n",
       "      <td>32.08</td>\n",
       "      <td>98.34</td>\n",
       "      <td>76.30</td>\n",
       "      <td>1.946</td>\n",
       "      <td>0.513875</td>\n",
       "      <td>0.01600</td>\n",
       "    </tr>\n",
       "    <tr>\n",
       "      <th>10</th>\n",
       "      <td>6</td>\n",
       "      <td>25</td>\n",
       "      <td>2</td>\n",
       "      <td>0.236407</td>\n",
       "      <td>5</td>\n",
       "      <td>29.24</td>\n",
       "      <td>89.62</td>\n",
       "      <td>98.76</td>\n",
       "      <td>2.991</td>\n",
       "      <td>0.334336</td>\n",
       "      <td>0.01140</td>\n",
       "    </tr>\n",
       "    <tr>\n",
       "      <th>11</th>\n",
       "      <td>16</td>\n",
       "      <td>35</td>\n",
       "      <td>3</td>\n",
       "      <td>0.780142</td>\n",
       "      <td>11</td>\n",
       "      <td>10.27</td>\n",
       "      <td>31.47</td>\n",
       "      <td>94.70</td>\n",
       "      <td>2.896</td>\n",
       "      <td>0.345304</td>\n",
       "      <td>0.03360</td>\n",
       "    </tr>\n",
       "  </tbody>\n",
       "</table>\n",
       "</div>"
      ],
      "text/plain": [
       "    CASES   A  E      Area   N  hconv      Nu    Tmax     Rt        UA  \\\n",
       "0       1  25  1  0.260047  11  27.20   78.62   67.67  1.638  0.610501   \n",
       "1       3  25  1  0.118203   5  35.45  102.00  126.85  2.595  0.385356   \n",
       "2       5  25  2  0.378251   8  29.88   91.57   72.71  1.976  0.506073   \n",
       "3       7  25  3  0.780142  11  10.00   31.00  162.85  4.164  0.240154   \n",
       "4       9  25  3  0.354610   5  29.00   88.97   94.85  2.869  0.348554   \n",
       "5      11  35  1  0.189125   8  31.60   96.90   61.15  1.421  0.703730   \n",
       "6      13  35  2  0.520095  11  20.15   61.80   63.03  1.564  0.639386   \n",
       "7      15  35  2  0.236407   5  30.40   93.30   77.35  2.101  0.475964   \n",
       "8      17  35  3  0.567376   8  25.10   76.90   63.25  1.591  0.628536   \n",
       "9       2  25  1  0.189125   8  32.08   98.34   76.30  1.946  0.513875   \n",
       "10      6  25  2  0.236407   5  29.24   89.62   98.76  2.991  0.334336   \n",
       "11     16  35  3  0.780142  11  10.27   31.47   94.70  2.896  0.345304   \n",
       "\n",
       "       Afin  \n",
       "0   0.02103  \n",
       "1   0.01087  \n",
       "2   0.01694  \n",
       "3   0.02370  \n",
       "4   0.01200  \n",
       "5   0.02220  \n",
       "6   0.03170  \n",
       "7   0.01560  \n",
       "8   0.02500  \n",
       "9   0.01600  \n",
       "10  0.01140  \n",
       "11  0.03360  "
      ]
     },
     "execution_count": 1,
     "metadata": {},
     "output_type": "execute_result"
    }
   ],
   "source": [
    "import pandas as pd\n",
    "database = pd.read_excel('database_TCC.xlsx')\n",
    "database"
   ]
  },
  {
   "cell_type": "code",
   "execution_count": 2,
   "metadata": {},
   "outputs": [],
   "source": [
    "database = database[['A','E','N','Nu']]"
   ]
  },
  {
   "cell_type": "code",
   "execution_count": 3,
   "metadata": {},
   "outputs": [],
   "source": [
    "from sklearn.preprocessing import StandardScaler\n",
    "standardscaler = StandardScaler()\n",
    "standardscaler.fit(database)\n",
    "data = standardscaler.transform(database)\n",
    "database = pd.DataFrame(data,columns=database.columns)"
   ]
  },
  {
   "cell_type": "code",
   "execution_count": 4,
   "metadata": {},
   "outputs": [],
   "source": [
    "import pickle\n",
    "pickle.dump(standardscaler, open('standard_scaler_Nu.pkl','wb'))"
   ]
  },
  {
   "cell_type": "code",
   "execution_count": 20,
   "metadata": {},
   "outputs": [],
   "source": [
    "from sklearn.metrics import r2_score,mean_squared_error,mean_absolute_error,max_error\n",
    "\n",
    "def split_x_and_y(database,x,y):\n",
    "  dataset_x = database[x]\n",
    "  dataset_y = database[y]\n",
    "  return dataset_x,dataset_y\n",
    "\n",
    "\n",
    "def scores(Y_true, Y_predicted):\n",
    "  r2 = r2_score(Y_true, Y_predicted)\n",
    "  meansquarederror = mean_squared_error(Y_true, Y_predicted)\n",
    "  meanabsoluteerror = mean_absolute_error(Y_true, Y_predicted)\n",
    "  maxerror = max_error(Y_true, Y_predicted)\n",
    "\n",
    "  print('r2:',r2,'meansquarederror:',meansquarederror,'meanabsoluteerror:',meanabsoluteerror,'maxerror:',maxerror)\n",
    "  return r2,meansquarederror,meanabsoluteerror,maxerror"
   ]
  },
  {
   "cell_type": "markdown",
   "metadata": {},
   "source": [
    "# Decision Tree Regressor"
   ]
  },
  {
   "cell_type": "code",
   "execution_count": 5,
   "metadata": {},
   "outputs": [
    {
     "data": {
      "text/plain": [
       "0.9897242898141063"
      ]
     },
     "execution_count": 5,
     "metadata": {},
     "output_type": "execute_result"
    }
   ],
   "source": [
    "dataset_x,dataset_y = split_x_and_y(database.iloc[[0,1,2,3,4,5,6,7,8]],['A','E','N'],'Nu')\n",
    "test_x,test_y = split_x_and_y(database.iloc[[9,10,11]],['A','E','N'],'Nu')\n",
    "\n",
    "from sklearn.tree import DecisionTreeRegressor,plot_tree\n",
    "DTR = DecisionTreeRegressor(random_state=100)\n",
    "DTR.fit(dataset_x,dataset_y)\n",
    "DTR.score(test_x,test_y)"
   ]
  },
  {
   "cell_type": "code",
   "execution_count": 12,
   "metadata": {},
   "outputs": [
    {
     "data": {
      "text/plain": [
       "array([0.05821648, 0.33288972, 0.6088938 ])"
      ]
     },
     "execution_count": 12,
     "metadata": {},
     "output_type": "execute_result"
    }
   ],
   "source": [
    "DTR.feature_importances_"
   ]
  },
  {
   "cell_type": "code",
   "execution_count": 10,
   "metadata": {},
   "outputs": [
    {
     "data": {
      "text/plain": [
       "array([[ 25. ,   1. ,   8. , 102. ],\n",
       "       [ 25. ,   2. ,   5. ,  93.3]])"
      ]
     },
     "execution_count": 10,
     "metadata": {},
     "output_type": "execute_result"
    }
   ],
   "source": [
    "desnormalizar = test_x.copy()\n",
    "desnormalizar['Nu'] = DTR.predict(test_x)\n",
    "desnormalizado_teste = standardscaler.inverse_transform(desnormalizar)\n",
    "desnormalizado_teste"
   ]
  },
  {
   "cell_type": "code",
   "execution_count": 9,
   "metadata": {},
   "outputs": [
    {
     "data": {
      "text/plain": [
       "array([[25.  ,  1.  ,  8.  , 98.34],\n",
       "       [25.  ,  2.  ,  5.  , 89.62],\n",
       "       [35.  ,  3.  , 11.  , 31.47]])"
      ]
     },
     "execution_count": 9,
     "metadata": {},
     "output_type": "execute_result"
    }
   ],
   "source": [
    "desnormalizar = test_x.copy()\n",
    "desnormalizar['Nu'] = test_y\n",
    "desnormalizado_resultado = standardscaler.inverse_transform(desnormalizar)\n",
    "desnormalizado_resultado"
   ]
  },
  {
   "cell_type": "code",
   "execution_count": 11,
   "metadata": {},
   "outputs": [
    {
     "name": "stdout",
     "output_type": "stream",
     "text": [
      "r2: 0.9897242898141063 meansquarederror: 9.052966666666642 meanabsoluteerror: 2.6033333333333317 maxerror: 3.6799999999999926\n"
     ]
    },
    {
     "data": {
      "text/plain": [
       "(0.9897242898141063, 9.052966666666642, 2.6033333333333317, 3.6799999999999926)"
      ]
     },
     "execution_count": 11,
     "metadata": {},
     "output_type": "execute_result"
    }
   ],
   "source": [
    "scores(desnormalizado_resultado[:,-1],desnormalizado_teste[:,-1])"
   ]
  },
  {
   "cell_type": "code",
   "execution_count": 12,
   "metadata": {},
   "outputs": [],
   "source": [
    "import pickle\n",
    "pickle.dump(DTR, open('Decision_Tree_Regressor_Nu.pkl', 'wb'))"
   ]
  },
  {
   "cell_type": "code",
   "execution_count": 20,
   "metadata": {},
   "outputs": [],
   "source": [
    "# import matplotlib.pyplot as plt\n",
    "# fig = plt.figure(figsize=(25,20))\n",
    "# _ = plot_tree(DTR, \n",
    "#                    feature_names=dataset_x.columns, \n",
    "#                    filled=True)"
   ]
  },
  {
   "cell_type": "markdown",
   "metadata": {},
   "source": [
    "# Linear Regression"
   ]
  },
  {
   "cell_type": "code",
   "execution_count": 10,
   "metadata": {},
   "outputs": [
    {
     "data": {
      "text/plain": [
       "0.8326467092134622"
      ]
     },
     "execution_count": 10,
     "metadata": {},
     "output_type": "execute_result"
    }
   ],
   "source": [
    "dataset_x,dataset_y = split_x_and_y(database.iloc[[0,1,2,3,4,5,6,7,8]],['A','E','N'],'Nu')\n",
    "test_x,test_y = split_x_and_y(database.iloc[[9,10,11]],['A','E','N'],'Nu')\n",
    "\n",
    "from sklearn.linear_model import LinearRegression\n",
    "LR = LinearRegression()\n",
    "LR.fit(dataset_x,dataset_y)\n",
    "LR.score(test_x,test_y)"
   ]
  },
  {
   "cell_type": "code",
   "execution_count": 13,
   "metadata": {},
   "outputs": [
    {
     "data": {
      "text/plain": [
       "0.96034797005603"
      ]
     },
     "execution_count": 13,
     "metadata": {},
     "output_type": "execute_result"
    }
   ],
   "source": [
    "dataset_x,dataset_y = split_x_and_y(database.iloc[[0,1,2,3,4,5,6,7,8]],['A','E','N'],'Nu')\n",
    "test_x,test_y = split_x_and_y(database.iloc[[9,10,11]],['A','E','N'],'Nu')\n",
    "\n",
    "from sklearn.preprocessing import PolynomialFeatures\n",
    "from sklearn.linear_model import LinearRegression\n",
    "\n",
    "poly = PolynomialFeatures(4,interaction_only=False,include_bias=False)\n",
    "LR = LinearRegression()\n",
    "\n",
    "dataset_x_transformed = poly.fit_transform(dataset_x)\n",
    "test_x_transformed = poly.fit_transform(test_x)\n",
    "\n",
    "LR.fit(dataset_x_transformed,dataset_y)\n",
    "LR.score(test_x_transformed,test_y)"
   ]
  },
  {
   "cell_type": "code",
   "execution_count": 14,
   "metadata": {},
   "outputs": [],
   "source": [
    "import pickle\n",
    "pickle.dump(LR, open('Linear_Regression_with_Poly_Nu.pkl', 'wb'))"
   ]
  },
  {
   "cell_type": "markdown",
   "metadata": {},
   "source": [
    "# MLP"
   ]
  },
  {
   "cell_type": "code",
   "execution_count": 39,
   "metadata": {},
   "outputs": [
    {
     "data": {
      "text/plain": [
       "0.8570327827356772"
      ]
     },
     "execution_count": 39,
     "metadata": {},
     "output_type": "execute_result"
    }
   ],
   "source": [
    "dataset_x,dataset_y = split_x_and_y(database.iloc[[0,1,2,3,4,5,6,7,8]],['A','E','N'],'Nu')\n",
    "test_x,test_y = split_x_and_y(database.iloc[[9,10,11]],['A','E','N'],'Nu')\n",
    "\n",
    "from sklearn.neural_network import MLPRegressor\n",
    "MLP = MLPRegressor(random_state=100)\n",
    "MLP.fit(dataset_x,dataset_y)\n",
    "MLP.score(test_x,test_y)"
   ]
  },
  {
   "cell_type": "code",
   "execution_count": 60,
   "metadata": {},
   "outputs": [],
   "source": [
    "from sklearn.model_selection import RandomizedSearchCV\n",
    "\n",
    "dataset_x,dataset_y = split_x_and_y(database.iloc[[0,1,2,3,4,5,6,7,8]],['A','E','N'],'Nu')\n",
    "test_x,test_y = split_x_and_y(database.iloc[[9,10,11]],['A','E','N'],'Nu')\n",
    "\n",
    "from sklearn.neural_network import MLPRegressor\n",
    "MLP = MLPRegressor(max_iter=1000,random_state=100)\n",
    "\n",
    "param_grid = {\n",
    "    \"activation\":['logistic','tanh','relu'],\n",
    "    \"learning_rate\":['constant','invscaling','adaptive'],\n",
    "    \"momentum\":[0.7,0.8,0.9,0.95,0.98],\n",
    "    \"n_iter_no_change\":[5,8,10,12,14],\n",
    "    \"alpha\":[0.0001,0.0002,0.0004,0.0005,0.0006,0.0008]\n",
    "}\n",
    "\n",
    "random_cv = RandomizedSearchCV(\n",
    "    MLP, param_grid, n_iter=250, cv=3, n_jobs=-1, random_state = 100\n",
    ")\n",
    "\n",
    "modelo = random_cv.fit(dataset_x,dataset_y)"
   ]
  },
  {
   "cell_type": "code",
   "execution_count": 61,
   "metadata": {},
   "outputs": [
    {
     "data": {
      "text/plain": [
       "{'n_iter_no_change': 5,\n",
       " 'momentum': 0.98,\n",
       " 'learning_rate': 'invscaling',\n",
       " 'alpha': 0.0008,\n",
       " 'activation': 'logistic'}"
      ]
     },
     "execution_count": 61,
     "metadata": {},
     "output_type": "execute_result"
    }
   ],
   "source": [
    "modelo.best_params_"
   ]
  },
  {
   "cell_type": "code",
   "execution_count": 62,
   "metadata": {},
   "outputs": [
    {
     "data": {
      "text/plain": [
       "0.8340001874556842"
      ]
     },
     "execution_count": 62,
     "metadata": {},
     "output_type": "execute_result"
    }
   ],
   "source": [
    "from sklearn.neural_network import MLPRegressor\n",
    "MLP = MLPRegressor(**modelo.best_params_,max_iter=1000,random_state=100)\n",
    "MLP.fit(dataset_x,dataset_y)\n",
    "MLP.score(test_x,test_y)"
   ]
  },
  {
   "cell_type": "markdown",
   "metadata": {},
   "source": [
    "# Keras"
   ]
  },
  {
   "cell_type": "code",
   "execution_count": 8,
   "metadata": {},
   "outputs": [
    {
     "data": {
      "text/plain": [
       "(12, 3)"
      ]
     },
     "execution_count": 8,
     "metadata": {},
     "output_type": "execute_result"
    }
   ],
   "source": [
    "variables,results = split_x_and_y(database,['A','E','N'],'Nu')\n",
    "variables.values.shape"
   ]
  },
  {
   "cell_type": "code",
   "execution_count": 78,
   "metadata": {},
   "outputs": [
    {
     "name": "stdout",
     "output_type": "stream",
     "text": [
      "Epoch 1/220\n",
      "1/1 [==============================] - 0s 487ms/step - loss: 1.1199 - mse: 1.1199 - val_loss: 0.6031 - val_mse: 0.6031\n",
      "Epoch 2/220\n",
      "1/1 [==============================] - 0s 31ms/step - loss: 1.1308 - mse: 1.1308 - val_loss: 0.5408 - val_mse: 0.5408\n",
      "Epoch 3/220\n",
      "1/1 [==============================] - 0s 30ms/step - loss: 1.0830 - mse: 1.0830 - val_loss: 0.3401 - val_mse: 0.3401\n",
      "Epoch 4/220\n",
      "1/1 [==============================] - 0s 35ms/step - loss: 0.9769 - mse: 0.9769 - val_loss: 0.2873 - val_mse: 0.2873\n",
      "Epoch 5/220\n",
      "1/1 [==============================] - 0s 39ms/step - loss: 1.0110 - mse: 1.0110 - val_loss: 0.2921 - val_mse: 0.2921\n",
      "Epoch 6/220\n",
      "1/1 [==============================] - 0s 32ms/step - loss: 1.0360 - mse: 1.0360 - val_loss: 0.2791 - val_mse: 0.2791\n",
      "Epoch 7/220\n",
      "1/1 [==============================] - 0s 32ms/step - loss: 0.9817 - mse: 0.9817 - val_loss: 0.3042 - val_mse: 0.3042\n",
      "Epoch 8/220\n",
      "1/1 [==============================] - 0s 30ms/step - loss: 0.9362 - mse: 0.9362 - val_loss: 0.3796 - val_mse: 0.3796\n",
      "Epoch 9/220\n",
      "1/1 [==============================] - 0s 40ms/step - loss: 0.9457 - mse: 0.9457 - val_loss: 0.4281 - val_mse: 0.4281\n",
      "Epoch 10/220\n",
      "1/1 [==============================] - 0s 30ms/step - loss: 0.9602 - mse: 0.9602 - val_loss: 0.3988 - val_mse: 0.3988\n",
      "Epoch 11/220\n",
      "1/1 [==============================] - 0s 36ms/step - loss: 0.9359 - mse: 0.9359 - val_loss: 0.3280 - val_mse: 0.3280\n",
      "Epoch 12/220\n",
      "1/1 [==============================] - 0s 31ms/step - loss: 0.8976 - mse: 0.8976 - val_loss: 0.2736 - val_mse: 0.2736\n",
      "Epoch 13/220\n",
      "1/1 [==============================] - 0s 34ms/step - loss: 0.8835 - mse: 0.8835 - val_loss: 0.2526 - val_mse: 0.2526\n",
      "Epoch 14/220\n",
      "1/1 [==============================] - 0s 32ms/step - loss: 0.8898 - mse: 0.8898 - val_loss: 0.2467 - val_mse: 0.2467\n",
      "Epoch 15/220\n",
      "1/1 [==============================] - 0s 30ms/step - loss: 0.8840 - mse: 0.8840 - val_loss: 0.2477 - val_mse: 0.2477\n",
      "Epoch 16/220\n",
      "1/1 [==============================] - 0s 23ms/step - loss: 0.8578 - mse: 0.8578 - val_loss: 0.2664 - val_mse: 0.2664\n",
      "Epoch 17/220\n",
      "1/1 [==============================] - 0s 38ms/step - loss: 0.8329 - mse: 0.8329 - val_loss: 0.3024 - val_mse: 0.3024\n",
      "Epoch 18/220\n",
      "1/1 [==============================] - 0s 24ms/step - loss: 0.8248 - mse: 0.8248 - val_loss: 0.3297 - val_mse: 0.3297\n",
      "Epoch 19/220\n",
      "1/1 [==============================] - 0s 29ms/step - loss: 0.8224 - mse: 0.8224 - val_loss: 0.3234 - val_mse: 0.3234\n",
      "Epoch 20/220\n",
      "1/1 [==============================] - 0s 23ms/step - loss: 0.8083 - mse: 0.8083 - val_loss: 0.2881 - val_mse: 0.2881\n",
      "Epoch 21/220\n",
      "1/1 [==============================] - 0s 26ms/step - loss: 0.7848 - mse: 0.7848 - val_loss: 0.2490 - val_mse: 0.2490\n",
      "Epoch 22/220\n",
      "1/1 [==============================] - 0s 23ms/step - loss: 0.7667 - mse: 0.7667 - val_loss: 0.2239 - val_mse: 0.2239\n",
      "Epoch 23/220\n",
      "1/1 [==============================] - 0s 46ms/step - loss: 0.7585 - mse: 0.7585 - val_loss: 0.2131 - val_mse: 0.2131\n",
      "Epoch 24/220\n",
      "1/1 [==============================] - 0s 44ms/step - loss: 0.7492 - mse: 0.7492 - val_loss: 0.2128 - val_mse: 0.2128\n",
      "Epoch 25/220\n",
      "1/1 [==============================] - 0s 30ms/step - loss: 0.7310 - mse: 0.7310 - val_loss: 0.2243 - val_mse: 0.2243\n",
      "Epoch 26/220\n",
      "1/1 [==============================] - 0s 23ms/step - loss: 0.7103 - mse: 0.7103 - val_loss: 0.2457 - val_mse: 0.2457\n",
      "Epoch 27/220\n",
      "1/1 [==============================] - 0s 22ms/step - loss: 0.6957 - mse: 0.6957 - val_loss: 0.2631 - val_mse: 0.2631\n",
      "Epoch 28/220\n",
      "1/1 [==============================] - 0s 28ms/step - loss: 0.6851 - mse: 0.6851 - val_loss: 0.2610 - val_mse: 0.2610\n",
      "Epoch 29/220\n",
      "1/1 [==============================] - 0s 25ms/step - loss: 0.6703 - mse: 0.6703 - val_loss: 0.2391 - val_mse: 0.2391\n",
      "Epoch 30/220\n",
      "1/1 [==============================] - 0s 26ms/step - loss: 0.6506 - mse: 0.6506 - val_loss: 0.2109 - val_mse: 0.2109\n",
      "Epoch 31/220\n",
      "1/1 [==============================] - 0s 21ms/step - loss: 0.6328 - mse: 0.6328 - val_loss: 0.1897 - val_mse: 0.1897\n",
      "Epoch 32/220\n",
      "1/1 [==============================] - 0s 28ms/step - loss: 0.6193 - mse: 0.6193 - val_loss: 0.1798 - val_mse: 0.1798\n",
      "Epoch 33/220\n",
      "1/1 [==============================] - 0s 31ms/step - loss: 0.6051 - mse: 0.6051 - val_loss: 0.1807 - val_mse: 0.1807\n",
      "Epoch 34/220\n",
      "1/1 [==============================] - 0s 27ms/step - loss: 0.5870 - mse: 0.5870 - val_loss: 0.1918 - val_mse: 0.1918\n",
      "Epoch 35/220\n",
      "1/1 [==============================] - 0s 30ms/step - loss: 0.5683 - mse: 0.5683 - val_loss: 0.2072 - val_mse: 0.2072\n",
      "Epoch 36/220\n",
      "1/1 [==============================] - 0s 26ms/step - loss: 0.5527 - mse: 0.5527 - val_loss: 0.2154 - val_mse: 0.2154\n",
      "Epoch 37/220\n",
      "1/1 [==============================] - 0s 22ms/step - loss: 0.5380 - mse: 0.5380 - val_loss: 0.2080 - val_mse: 0.2080\n",
      "Epoch 38/220\n",
      "1/1 [==============================] - 0s 21ms/step - loss: 0.5208 - mse: 0.5208 - val_loss: 0.1887 - val_mse: 0.1887\n",
      "Epoch 39/220\n",
      "1/1 [==============================] - 0s 32ms/step - loss: 0.5025 - mse: 0.5025 - val_loss: 0.1683 - val_mse: 0.1683\n",
      "Epoch 40/220\n",
      "1/1 [==============================] - 0s 33ms/step - loss: 0.4863 - mse: 0.4863 - val_loss: 0.1556 - val_mse: 0.1556\n",
      "Epoch 41/220\n",
      "1/1 [==============================] - 0s 27ms/step - loss: 0.4713 - mse: 0.4713 - val_loss: 0.1534 - val_mse: 0.1534\n",
      "Epoch 42/220\n",
      "1/1 [==============================] - 0s 29ms/step - loss: 0.4549 - mse: 0.4549 - val_loss: 0.1610 - val_mse: 0.1610\n",
      "Epoch 43/220\n",
      "1/1 [==============================] - 0s 27ms/step - loss: 0.4376 - mse: 0.4376 - val_loss: 0.1737 - val_mse: 0.1737\n",
      "Epoch 44/220\n",
      "1/1 [==============================] - 0s 31ms/step - loss: 0.4218 - mse: 0.4218 - val_loss: 0.1822 - val_mse: 0.1822\n",
      "Epoch 45/220\n",
      "1/1 [==============================] - 0s 45ms/step - loss: 0.4072 - mse: 0.4072 - val_loss: 0.1789 - val_mse: 0.1789\n",
      "Epoch 46/220\n",
      "1/1 [==============================] - 0s 26ms/step - loss: 0.3919 - mse: 0.3919 - val_loss: 0.1652 - val_mse: 0.1652\n",
      "Epoch 47/220\n",
      "1/1 [==============================] - 0s 27ms/step - loss: 0.3762 - mse: 0.3762 - val_loss: 0.1499 - val_mse: 0.1499\n",
      "Epoch 48/220\n",
      "1/1 [==============================] - 0s 29ms/step - loss: 0.3619 - mse: 0.3619 - val_loss: 0.1409 - val_mse: 0.1409\n",
      "Epoch 49/220\n",
      "1/1 [==============================] - 0s 30ms/step - loss: 0.3486 - mse: 0.3486 - val_loss: 0.1416 - val_mse: 0.1416\n",
      "Epoch 50/220\n",
      "1/1 [==============================] - 0s 24ms/step - loss: 0.3349 - mse: 0.3349 - val_loss: 0.1504 - val_mse: 0.1504\n",
      "Epoch 51/220\n",
      "1/1 [==============================] - 0s 29ms/step - loss: 0.3214 - mse: 0.3214 - val_loss: 0.1614 - val_mse: 0.1614\n",
      "Epoch 52/220\n",
      "1/1 [==============================] - 0s 29ms/step - loss: 0.3092 - mse: 0.3092 - val_loss: 0.1662 - val_mse: 0.1662\n",
      "Epoch 53/220\n",
      "1/1 [==============================] - 0s 26ms/step - loss: 0.2978 - mse: 0.2978 - val_loss: 0.1608 - val_mse: 0.1608\n",
      "Epoch 54/220\n",
      "1/1 [==============================] - 0s 19ms/step - loss: 0.2863 - mse: 0.2863 - val_loss: 0.1493 - val_mse: 0.1493\n",
      "Epoch 55/220\n",
      "1/1 [==============================] - 0s 29ms/step - loss: 0.2755 - mse: 0.2755 - val_loss: 0.1398 - val_mse: 0.1398\n",
      "Epoch 56/220\n",
      "1/1 [==============================] - 0s 27ms/step - loss: 0.2659 - mse: 0.2659 - val_loss: 0.1376 - val_mse: 0.1376\n",
      "Epoch 57/220\n",
      "1/1 [==============================] - 0s 22ms/step - loss: 0.2567 - mse: 0.2567 - val_loss: 0.1429 - val_mse: 0.1429\n",
      "Epoch 58/220\n",
      "1/1 [==============================] - 0s 27ms/step - loss: 0.2477 - mse: 0.2477 - val_loss: 0.1514 - val_mse: 0.1514\n",
      "Epoch 59/220\n",
      "1/1 [==============================] - 0s 25ms/step - loss: 0.2396 - mse: 0.2396 - val_loss: 0.1560 - val_mse: 0.1560\n",
      "Epoch 60/220\n",
      "1/1 [==============================] - 0s 21ms/step - loss: 0.2323 - mse: 0.2323 - val_loss: 0.1527 - val_mse: 0.1527\n",
      "Epoch 61/220\n",
      "1/1 [==============================] - 0s 27ms/step - loss: 0.2253 - mse: 0.2253 - val_loss: 0.1440 - val_mse: 0.1440\n",
      "Epoch 62/220\n",
      "1/1 [==============================] - 0s 28ms/step - loss: 0.2187 - mse: 0.2187 - val_loss: 0.1361 - val_mse: 0.1361\n",
      "Epoch 63/220\n",
      "1/1 [==============================] - 0s 27ms/step - loss: 0.2130 - mse: 0.2130 - val_loss: 0.1336 - val_mse: 0.1336\n",
      "Epoch 64/220\n",
      "1/1 [==============================] - 0s 23ms/step - loss: 0.2076 - mse: 0.2076 - val_loss: 0.1365 - val_mse: 0.1365\n",
      "Epoch 65/220\n",
      "1/1 [==============================] - 0s 27ms/step - loss: 0.2025 - mse: 0.2025 - val_loss: 0.1410 - val_mse: 0.1410\n",
      "Epoch 66/220\n",
      "1/1 [==============================] - 0s 24ms/step - loss: 0.1980 - mse: 0.1980 - val_loss: 0.1423 - val_mse: 0.1423\n",
      "Epoch 67/220\n",
      "1/1 [==============================] - 0s 24ms/step - loss: 0.1939 - mse: 0.1939 - val_loss: 0.1381 - val_mse: 0.1381\n",
      "Epoch 68/220\n",
      "1/1 [==============================] - 0s 31ms/step - loss: 0.1900 - mse: 0.1900 - val_loss: 0.1313 - val_mse: 0.1313\n",
      "Epoch 69/220\n",
      "1/1 [==============================] - 0s 21ms/step - loss: 0.1864 - mse: 0.1864 - val_loss: 0.1262 - val_mse: 0.1262\n",
      "Epoch 70/220\n",
      "1/1 [==============================] - 0s 24ms/step - loss: 0.1833 - mse: 0.1833 - val_loss: 0.1251 - val_mse: 0.1251\n",
      "Epoch 71/220\n",
      "1/1 [==============================] - 0s 24ms/step - loss: 0.1803 - mse: 0.1803 - val_loss: 0.1268 - val_mse: 0.1268\n",
      "Epoch 72/220\n",
      "1/1 [==============================] - 0s 27ms/step - loss: 0.1775 - mse: 0.1775 - val_loss: 0.1283 - val_mse: 0.1283\n",
      "Epoch 73/220\n",
      "1/1 [==============================] - 0s 23ms/step - loss: 0.1750 - mse: 0.1750 - val_loss: 0.1269 - val_mse: 0.1269\n",
      "Epoch 74/220\n",
      "1/1 [==============================] - 0s 23ms/step - loss: 0.1727 - mse: 0.1727 - val_loss: 0.1230 - val_mse: 0.1230\n",
      "Epoch 75/220\n",
      "1/1 [==============================] - 0s 25ms/step - loss: 0.1705 - mse: 0.1705 - val_loss: 0.1192 - val_mse: 0.1192\n",
      "Epoch 76/220\n",
      "1/1 [==============================] - 0s 20ms/step - loss: 0.1685 - mse: 0.1685 - val_loss: 0.1173 - val_mse: 0.1173\n",
      "Epoch 77/220\n",
      "1/1 [==============================] - 0s 30ms/step - loss: 0.1667 - mse: 0.1667 - val_loss: 0.1175 - val_mse: 0.1175\n",
      "Epoch 78/220\n",
      "1/1 [==============================] - 0s 31ms/step - loss: 0.1649 - mse: 0.1649 - val_loss: 0.1183 - val_mse: 0.1183\n",
      "Epoch 79/220\n",
      "1/1 [==============================] - 0s 33ms/step - loss: 0.1634 - mse: 0.1634 - val_loss: 0.1180 - val_mse: 0.1180\n",
      "Epoch 80/220\n",
      "1/1 [==============================] - 0s 29ms/step - loss: 0.1619 - mse: 0.1619 - val_loss: 0.1163 - val_mse: 0.1163\n",
      "Epoch 81/220\n",
      "1/1 [==============================] - 0s 22ms/step - loss: 0.1606 - mse: 0.1606 - val_loss: 0.1144 - val_mse: 0.1144\n",
      "Epoch 82/220\n",
      "1/1 [==============================] - 0s 22ms/step - loss: 0.1593 - mse: 0.1593 - val_loss: 0.1134 - val_mse: 0.1134\n",
      "Epoch 83/220\n",
      "1/1 [==============================] - 0s 19ms/step - loss: 0.1582 - mse: 0.1582 - val_loss: 0.1134 - val_mse: 0.1134\n",
      "Epoch 84/220\n",
      "1/1 [==============================] - 0s 29ms/step - loss: 0.1572 - mse: 0.1572 - val_loss: 0.1138 - val_mse: 0.1138\n",
      "Epoch 85/220\n",
      "1/1 [==============================] - 0s 21ms/step - loss: 0.1562 - mse: 0.1562 - val_loss: 0.1139 - val_mse: 0.1139\n",
      "Epoch 86/220\n",
      "1/1 [==============================] - 0s 25ms/step - loss: 0.1554 - mse: 0.1554 - val_loss: 0.1135 - val_mse: 0.1135\n",
      "Epoch 87/220\n",
      "1/1 [==============================] - 0s 21ms/step - loss: 0.1547 - mse: 0.1547 - val_loss: 0.1131 - val_mse: 0.1131\n",
      "Epoch 88/220\n",
      "1/1 [==============================] - 0s 27ms/step - loss: 0.1541 - mse: 0.1541 - val_loss: 0.1130 - val_mse: 0.1130\n",
      "Epoch 89/220\n",
      "1/1 [==============================] - 0s 22ms/step - loss: 0.1535 - mse: 0.1535 - val_loss: 0.1133 - val_mse: 0.1133\n",
      "Epoch 90/220\n",
      "1/1 [==============================] - 0s 25ms/step - loss: 0.1530 - mse: 0.1530 - val_loss: 0.1137 - val_mse: 0.1137\n",
      "Epoch 91/220\n",
      "1/1 [==============================] - 0s 23ms/step - loss: 0.1526 - mse: 0.1526 - val_loss: 0.1140 - val_mse: 0.1140\n",
      "Epoch 92/220\n",
      "1/1 [==============================] - 0s 30ms/step - loss: 0.1522 - mse: 0.1522 - val_loss: 0.1142 - val_mse: 0.1142\n",
      "Epoch 93/220\n",
      "1/1 [==============================] - 0s 27ms/step - loss: 0.1519 - mse: 0.1519 - val_loss: 0.1147 - val_mse: 0.1147\n",
      "Epoch 94/220\n",
      "1/1 [==============================] - 0s 28ms/step - loss: 0.1517 - mse: 0.1517 - val_loss: 0.1152 - val_mse: 0.1152\n",
      "Epoch 95/220\n",
      "1/1 [==============================] - 0s 33ms/step - loss: 0.1515 - mse: 0.1515 - val_loss: 0.1156 - val_mse: 0.1156\n",
      "Epoch 96/220\n",
      "1/1 [==============================] - 0s 23ms/step - loss: 0.1513 - mse: 0.1513 - val_loss: 0.1159 - val_mse: 0.1159\n",
      "Epoch 97/220\n",
      "1/1 [==============================] - 0s 20ms/step - loss: 0.1511 - mse: 0.1511 - val_loss: 0.1163 - val_mse: 0.1163\n",
      "Epoch 98/220\n",
      "1/1 [==============================] - 0s 22ms/step - loss: 0.1510 - mse: 0.1510 - val_loss: 0.1169 - val_mse: 0.1169\n",
      "Epoch 99/220\n",
      "1/1 [==============================] - 0s 25ms/step - loss: 0.1509 - mse: 0.1509 - val_loss: 0.1176 - val_mse: 0.1176\n",
      "Epoch 100/220\n",
      "1/1 [==============================] - 0s 25ms/step - loss: 0.1508 - mse: 0.1508 - val_loss: 0.1182 - val_mse: 0.1182\n",
      "Epoch 101/220\n",
      "1/1 [==============================] - 0s 23ms/step - loss: 0.1507 - mse: 0.1507 - val_loss: 0.1185 - val_mse: 0.1185\n",
      "Epoch 102/220\n",
      "1/1 [==============================] - 0s 25ms/step - loss: 0.1506 - mse: 0.1506 - val_loss: 0.1187 - val_mse: 0.1187\n",
      "Epoch 103/220\n",
      "1/1 [==============================] - 0s 24ms/step - loss: 0.1505 - mse: 0.1505 - val_loss: 0.1191 - val_mse: 0.1191\n",
      "Epoch 104/220\n",
      "1/1 [==============================] - 0s 23ms/step - loss: 0.1504 - mse: 0.1504 - val_loss: 0.1196 - val_mse: 0.1196\n",
      "Epoch 105/220\n",
      "1/1 [==============================] - 0s 25ms/step - loss: 0.1503 - mse: 0.1503 - val_loss: 0.1203 - val_mse: 0.1203\n",
      "Epoch 106/220\n",
      "1/1 [==============================] - 0s 22ms/step - loss: 0.1502 - mse: 0.1502 - val_loss: 0.1207 - val_mse: 0.1207\n",
      "Epoch 107/220\n",
      "1/1 [==============================] - 0s 25ms/step - loss: 0.1501 - mse: 0.1501 - val_loss: 0.1208 - val_mse: 0.1208\n",
      "Epoch 108/220\n",
      "1/1 [==============================] - 0s 25ms/step - loss: 0.1500 - mse: 0.1500 - val_loss: 0.1209 - val_mse: 0.1209\n",
      "Epoch 109/220\n",
      "1/1 [==============================] - 0s 26ms/step - loss: 0.1499 - mse: 0.1499 - val_loss: 0.1212 - val_mse: 0.1212\n",
      "Epoch 110/220\n",
      "1/1 [==============================] - 0s 24ms/step - loss: 0.1497 - mse: 0.1497 - val_loss: 0.1216 - val_mse: 0.1216\n",
      "Epoch 111/220\n",
      "1/1 [==============================] - 0s 23ms/step - loss: 0.1496 - mse: 0.1496 - val_loss: 0.1220 - val_mse: 0.1220\n",
      "Epoch 112/220\n",
      "1/1 [==============================] - 0s 32ms/step - loss: 0.1494 - mse: 0.1494 - val_loss: 0.1222 - val_mse: 0.1222\n",
      "Epoch 113/220\n",
      "1/1 [==============================] - 0s 27ms/step - loss: 0.1493 - mse: 0.1493 - val_loss: 0.1221 - val_mse: 0.1221\n",
      "Epoch 114/220\n",
      "1/1 [==============================] - 0s 25ms/step - loss: 0.1491 - mse: 0.1491 - val_loss: 0.1222 - val_mse: 0.1222\n",
      "Epoch 115/220\n",
      "1/1 [==============================] - 0s 24ms/step - loss: 0.1490 - mse: 0.1490 - val_loss: 0.1223 - val_mse: 0.1223\n",
      "Epoch 116/220\n",
      "1/1 [==============================] - 0s 26ms/step - loss: 0.1488 - mse: 0.1488 - val_loss: 0.1226 - val_mse: 0.1226\n",
      "Epoch 117/220\n",
      "1/1 [==============================] - 0s 22ms/step - loss: 0.1487 - mse: 0.1487 - val_loss: 0.1227 - val_mse: 0.1227\n",
      "Epoch 118/220\n",
      "1/1 [==============================] - 0s 31ms/step - loss: 0.1485 - mse: 0.1485 - val_loss: 0.1227 - val_mse: 0.1227\n",
      "Epoch 119/220\n",
      "1/1 [==============================] - 0s 28ms/step - loss: 0.1484 - mse: 0.1484 - val_loss: 0.1226 - val_mse: 0.1226\n",
      "Epoch 120/220\n",
      "1/1 [==============================] - 0s 24ms/step - loss: 0.1482 - mse: 0.1482 - val_loss: 0.1226 - val_mse: 0.1226\n",
      "Epoch 121/220\n",
      "1/1 [==============================] - 0s 26ms/step - loss: 0.1481 - mse: 0.1481 - val_loss: 0.1227 - val_mse: 0.1227\n",
      "Epoch 122/220\n",
      "1/1 [==============================] - 0s 23ms/step - loss: 0.1479 - mse: 0.1479 - val_loss: 0.1228 - val_mse: 0.1228\n",
      "Epoch 123/220\n",
      "1/1 [==============================] - 0s 21ms/step - loss: 0.1478 - mse: 0.1478 - val_loss: 0.1227 - val_mse: 0.1227\n",
      "Epoch 124/220\n",
      "1/1 [==============================] - 0s 32ms/step - loss: 0.1476 - mse: 0.1476 - val_loss: 0.1225 - val_mse: 0.1225\n",
      "Epoch 125/220\n",
      "1/1 [==============================] - 0s 29ms/step - loss: 0.1475 - mse: 0.1475 - val_loss: 0.1224 - val_mse: 0.1224\n",
      "Epoch 126/220\n",
      "1/1 [==============================] - 0s 23ms/step - loss: 0.1473 - mse: 0.1473 - val_loss: 0.1224 - val_mse: 0.1224\n",
      "Epoch 127/220\n",
      "1/1 [==============================] - 0s 23ms/step - loss: 0.1472 - mse: 0.1472 - val_loss: 0.1224 - val_mse: 0.1224\n",
      "Epoch 128/220\n",
      "1/1 [==============================] - 0s 23ms/step - loss: 0.1470 - mse: 0.1470 - val_loss: 0.1223 - val_mse: 0.1223\n",
      "Epoch 129/220\n",
      "1/1 [==============================] - 0s 24ms/step - loss: 0.1469 - mse: 0.1469 - val_loss: 0.1221 - val_mse: 0.1221\n",
      "Epoch 130/220\n",
      "1/1 [==============================] - 0s 25ms/step - loss: 0.1467 - mse: 0.1467 - val_loss: 0.1219 - val_mse: 0.1219\n",
      "Epoch 131/220\n",
      "1/1 [==============================] - 0s 24ms/step - loss: 0.1466 - mse: 0.1466 - val_loss: 0.1218 - val_mse: 0.1218\n",
      "Epoch 132/220\n",
      "1/1 [==============================] - 0s 23ms/step - loss: 0.1464 - mse: 0.1464 - val_loss: 0.1218 - val_mse: 0.1218\n",
      "Epoch 133/220\n",
      "1/1 [==============================] - 0s 24ms/step - loss: 0.1463 - mse: 0.1463 - val_loss: 0.1217 - val_mse: 0.1217\n",
      "Epoch 134/220\n",
      "1/1 [==============================] - 0s 22ms/step - loss: 0.1461 - mse: 0.1461 - val_loss: 0.1215 - val_mse: 0.1215\n",
      "Epoch 135/220\n",
      "1/1 [==============================] - 0s 20ms/step - loss: 0.1460 - mse: 0.1460 - val_loss: 0.1213 - val_mse: 0.1213\n",
      "Epoch 136/220\n",
      "1/1 [==============================] - 0s 31ms/step - loss: 0.1459 - mse: 0.1459 - val_loss: 0.1212 - val_mse: 0.1212\n",
      "Epoch 137/220\n",
      "1/1 [==============================] - 0s 37ms/step - loss: 0.1457 - mse: 0.1457 - val_loss: 0.1211 - val_mse: 0.1211\n",
      "Epoch 138/220\n",
      "1/1 [==============================] - 0s 34ms/step - loss: 0.1456 - mse: 0.1456 - val_loss: 0.1210 - val_mse: 0.1210\n",
      "Epoch 139/220\n",
      "1/1 [==============================] - 0s 39ms/step - loss: 0.1454 - mse: 0.1454 - val_loss: 0.1209 - val_mse: 0.1209\n",
      "Epoch 140/220\n",
      "1/1 [==============================] - 0s 35ms/step - loss: 0.1453 - mse: 0.1453 - val_loss: 0.1208 - val_mse: 0.1208\n",
      "Epoch 141/220\n",
      "1/1 [==============================] - 0s 44ms/step - loss: 0.1451 - mse: 0.1451 - val_loss: 0.1207 - val_mse: 0.1207\n",
      "Epoch 142/220\n",
      "1/1 [==============================] - 0s 37ms/step - loss: 0.1449 - mse: 0.1449 - val_loss: 0.1206 - val_mse: 0.1206\n",
      "Epoch 143/220\n",
      "1/1 [==============================] - 0s 34ms/step - loss: 0.1448 - mse: 0.1448 - val_loss: 0.1206 - val_mse: 0.1206\n",
      "Epoch 144/220\n",
      "1/1 [==============================] - 0s 40ms/step - loss: 0.1446 - mse: 0.1446 - val_loss: 0.1205 - val_mse: 0.1205\n",
      "Epoch 145/220\n",
      "1/1 [==============================] - 0s 41ms/step - loss: 0.1445 - mse: 0.1445 - val_loss: 0.1204 - val_mse: 0.1204\n",
      "Epoch 146/220\n",
      "1/1 [==============================] - 0s 36ms/step - loss: 0.1443 - mse: 0.1443 - val_loss: 0.1203 - val_mse: 0.1203\n",
      "Epoch 147/220\n",
      "1/1 [==============================] - 0s 41ms/step - loss: 0.1442 - mse: 0.1442 - val_loss: 0.1203 - val_mse: 0.1203\n",
      "Epoch 148/220\n",
      "1/1 [==============================] - 0s 38ms/step - loss: 0.1440 - mse: 0.1440 - val_loss: 0.1203 - val_mse: 0.1203\n",
      "Epoch 149/220\n",
      "1/1 [==============================] - 0s 45ms/step - loss: 0.1438 - mse: 0.1438 - val_loss: 0.1203 - val_mse: 0.1203\n",
      "Epoch 150/220\n",
      "1/1 [==============================] - 0s 33ms/step - loss: 0.1437 - mse: 0.1437 - val_loss: 0.1203 - val_mse: 0.1203\n",
      "Epoch 151/220\n",
      "1/1 [==============================] - 0s 65ms/step - loss: 0.1435 - mse: 0.1435 - val_loss: 0.1203 - val_mse: 0.1203\n",
      "Epoch 152/220\n",
      "1/1 [==============================] - 0s 44ms/step - loss: 0.1433 - mse: 0.1433 - val_loss: 0.1203 - val_mse: 0.1203\n",
      "Epoch 153/220\n",
      "1/1 [==============================] - 0s 40ms/step - loss: 0.1431 - mse: 0.1431 - val_loss: 0.1203 - val_mse: 0.1203\n",
      "Epoch 154/220\n",
      "1/1 [==============================] - 0s 30ms/step - loss: 0.1430 - mse: 0.1430 - val_loss: 0.1204 - val_mse: 0.1204\n",
      "Epoch 155/220\n",
      "1/1 [==============================] - 0s 45ms/step - loss: 0.1428 - mse: 0.1428 - val_loss: 0.1204 - val_mse: 0.1204\n",
      "Epoch 156/220\n",
      "1/1 [==============================] - 0s 34ms/step - loss: 0.1426 - mse: 0.1426 - val_loss: 0.1205 - val_mse: 0.1205\n",
      "Epoch 157/220\n",
      "1/1 [==============================] - 0s 50ms/step - loss: 0.1424 - mse: 0.1424 - val_loss: 0.1205 - val_mse: 0.1205\n",
      "Epoch 158/220\n",
      "1/1 [==============================] - 0s 34ms/step - loss: 0.1422 - mse: 0.1422 - val_loss: 0.1206 - val_mse: 0.1206\n",
      "Epoch 159/220\n",
      "1/1 [==============================] - 0s 41ms/step - loss: 0.1420 - mse: 0.1420 - val_loss: 0.1207 - val_mse: 0.1207\n",
      "Epoch 160/220\n",
      "1/1 [==============================] - 0s 28ms/step - loss: 0.1418 - mse: 0.1418 - val_loss: 0.1208 - val_mse: 0.1208\n",
      "Epoch 161/220\n",
      "1/1 [==============================] - 0s 22ms/step - loss: 0.1416 - mse: 0.1416 - val_loss: 0.1209 - val_mse: 0.1209\n",
      "Epoch 162/220\n",
      "1/1 [==============================] - 0s 35ms/step - loss: 0.1414 - mse: 0.1414 - val_loss: 0.1209 - val_mse: 0.1209\n",
      "Epoch 163/220\n",
      "1/1 [==============================] - 0s 33ms/step - loss: 0.1412 - mse: 0.1412 - val_loss: 0.1211 - val_mse: 0.1211\n",
      "Epoch 164/220\n",
      "1/1 [==============================] - 0s 27ms/step - loss: 0.1410 - mse: 0.1410 - val_loss: 0.1212 - val_mse: 0.1212\n",
      "Epoch 165/220\n",
      "1/1 [==============================] - 0s 26ms/step - loss: 0.1408 - mse: 0.1408 - val_loss: 0.1213 - val_mse: 0.1213\n",
      "Epoch 166/220\n",
      "1/1 [==============================] - 0s 24ms/step - loss: 0.1405 - mse: 0.1405 - val_loss: 0.1214 - val_mse: 0.1214\n",
      "Epoch 167/220\n",
      "1/1 [==============================] - 0s 24ms/step - loss: 0.1403 - mse: 0.1403 - val_loss: 0.1215 - val_mse: 0.1215\n",
      "Epoch 168/220\n",
      "1/1 [==============================] - 0s 23ms/step - loss: 0.1401 - mse: 0.1401 - val_loss: 0.1217 - val_mse: 0.1217\n",
      "Epoch 169/220\n",
      "1/1 [==============================] - 0s 20ms/step - loss: 0.1398 - mse: 0.1398 - val_loss: 0.1218 - val_mse: 0.1218\n",
      "Epoch 170/220\n",
      "1/1 [==============================] - 0s 29ms/step - loss: 0.1396 - mse: 0.1396 - val_loss: 0.1219 - val_mse: 0.1219\n",
      "Epoch 171/220\n",
      "1/1 [==============================] - 0s 25ms/step - loss: 0.1394 - mse: 0.1394 - val_loss: 0.1220 - val_mse: 0.1220\n",
      "Epoch 172/220\n",
      "1/1 [==============================] - 0s 26ms/step - loss: 0.1391 - mse: 0.1391 - val_loss: 0.1222 - val_mse: 0.1222\n",
      "Epoch 173/220\n",
      "1/1 [==============================] - 0s 32ms/step - loss: 0.1388 - mse: 0.1388 - val_loss: 0.1223 - val_mse: 0.1223\n",
      "Epoch 174/220\n",
      "1/1 [==============================] - 0s 28ms/step - loss: 0.1386 - mse: 0.1386 - val_loss: 0.1224 - val_mse: 0.1224\n",
      "Epoch 175/220\n",
      "1/1 [==============================] - 0s 32ms/step - loss: 0.1383 - mse: 0.1383 - val_loss: 0.1226 - val_mse: 0.1226\n",
      "Epoch 176/220\n",
      "1/1 [==============================] - 0s 30ms/step - loss: 0.1380 - mse: 0.1380 - val_loss: 0.1227 - val_mse: 0.1227\n",
      "Epoch 177/220\n",
      "1/1 [==============================] - 0s 24ms/step - loss: 0.1378 - mse: 0.1378 - val_loss: 0.1228 - val_mse: 0.1228\n",
      "Epoch 178/220\n",
      "1/1 [==============================] - 0s 24ms/step - loss: 0.1375 - mse: 0.1375 - val_loss: 0.1229 - val_mse: 0.1229\n",
      "Epoch 179/220\n",
      "1/1 [==============================] - 0s 23ms/step - loss: 0.1372 - mse: 0.1372 - val_loss: 0.1230 - val_mse: 0.1230\n",
      "Epoch 180/220\n",
      "1/1 [==============================] - 0s 24ms/step - loss: 0.1369 - mse: 0.1369 - val_loss: 0.1232 - val_mse: 0.1232\n",
      "Epoch 181/220\n",
      "1/1 [==============================] - 0s 25ms/step - loss: 0.1366 - mse: 0.1366 - val_loss: 0.1233 - val_mse: 0.1233\n",
      "Epoch 182/220\n",
      "1/1 [==============================] - 0s 20ms/step - loss: 0.1362 - mse: 0.1362 - val_loss: 0.1234 - val_mse: 0.1234\n",
      "Epoch 183/220\n",
      "1/1 [==============================] - 0s 37ms/step - loss: 0.1359 - mse: 0.1359 - val_loss: 0.1235 - val_mse: 0.1235\n",
      "Epoch 184/220\n",
      "1/1 [==============================] - 0s 29ms/step - loss: 0.1356 - mse: 0.1356 - val_loss: 0.1236 - val_mse: 0.1236\n",
      "Epoch 185/220\n",
      "1/1 [==============================] - 0s 27ms/step - loss: 0.1353 - mse: 0.1353 - val_loss: 0.1237 - val_mse: 0.1237\n",
      "Epoch 186/220\n",
      "1/1 [==============================] - 0s 25ms/step - loss: 0.1349 - mse: 0.1349 - val_loss: 0.1238 - val_mse: 0.1238\n",
      "Epoch 187/220\n",
      "1/1 [==============================] - 0s 25ms/step - loss: 0.1346 - mse: 0.1346 - val_loss: 0.1239 - val_mse: 0.1239\n",
      "Epoch 188/220\n",
      "1/1 [==============================] - 0s 23ms/step - loss: 0.1342 - mse: 0.1342 - val_loss: 0.1240 - val_mse: 0.1240\n",
      "Epoch 189/220\n",
      "1/1 [==============================] - 0s 24ms/step - loss: 0.1338 - mse: 0.1338 - val_loss: 0.1241 - val_mse: 0.1241\n",
      "Epoch 190/220\n",
      "1/1 [==============================] - 0s 25ms/step - loss: 0.1334 - mse: 0.1334 - val_loss: 0.1242 - val_mse: 0.1242\n",
      "Epoch 191/220\n",
      "1/1 [==============================] - 0s 26ms/step - loss: 0.1331 - mse: 0.1331 - val_loss: 0.1242 - val_mse: 0.1242\n",
      "Epoch 192/220\n",
      "1/1 [==============================] - 0s 29ms/step - loss: 0.1327 - mse: 0.1327 - val_loss: 0.1243 - val_mse: 0.1243\n",
      "Epoch 193/220\n",
      "1/1 [==============================] - 0s 24ms/step - loss: 0.1323 - mse: 0.1323 - val_loss: 0.1244 - val_mse: 0.1244\n",
      "Epoch 194/220\n",
      "1/1 [==============================] - 0s 25ms/step - loss: 0.1319 - mse: 0.1319 - val_loss: 0.1245 - val_mse: 0.1245\n",
      "Epoch 195/220\n",
      "1/1 [==============================] - 0s 31ms/step - loss: 0.1314 - mse: 0.1314 - val_loss: 0.1246 - val_mse: 0.1246\n",
      "Epoch 196/220\n",
      "1/1 [==============================] - 0s 40ms/step - loss: 0.1310 - mse: 0.1310 - val_loss: 0.1246 - val_mse: 0.1246\n",
      "Epoch 197/220\n",
      "1/1 [==============================] - 0s 32ms/step - loss: 0.1306 - mse: 0.1306 - val_loss: 0.1247 - val_mse: 0.1247\n",
      "Epoch 198/220\n",
      "1/1 [==============================] - 0s 47ms/step - loss: 0.1301 - mse: 0.1301 - val_loss: 0.1248 - val_mse: 0.1248\n",
      "Epoch 199/220\n",
      "1/1 [==============================] - 0s 31ms/step - loss: 0.1297 - mse: 0.1297 - val_loss: 0.1248 - val_mse: 0.1248\n",
      "Epoch 200/220\n",
      "1/1 [==============================] - 0s 23ms/step - loss: 0.1292 - mse: 0.1292 - val_loss: 0.1249 - val_mse: 0.1249\n",
      "Epoch 201/220\n",
      "1/1 [==============================] - 0s 24ms/step - loss: 0.1288 - mse: 0.1288 - val_loss: 0.1250 - val_mse: 0.1250\n",
      "Epoch 202/220\n",
      "1/1 [==============================] - 0s 23ms/step - loss: 0.1283 - mse: 0.1283 - val_loss: 0.1250 - val_mse: 0.1250\n",
      "Epoch 203/220\n",
      "1/1 [==============================] - 0s 27ms/step - loss: 0.1278 - mse: 0.1278 - val_loss: 0.1251 - val_mse: 0.1251\n",
      "Epoch 204/220\n",
      "1/1 [==============================] - 0s 24ms/step - loss: 0.1273 - mse: 0.1273 - val_loss: 0.1251 - val_mse: 0.1251\n",
      "Epoch 205/220\n",
      "1/1 [==============================] - 0s 28ms/step - loss: 0.1268 - mse: 0.1268 - val_loss: 0.1252 - val_mse: 0.1252\n",
      "Epoch 206/220\n",
      "1/1 [==============================] - 0s 26ms/step - loss: 0.1263 - mse: 0.1263 - val_loss: 0.1252 - val_mse: 0.1252\n",
      "Epoch 207/220\n",
      "1/1 [==============================] - 0s 23ms/step - loss: 0.1258 - mse: 0.1258 - val_loss: 0.1252 - val_mse: 0.1252\n",
      "Epoch 208/220\n",
      "1/1 [==============================] - 0s 22ms/step - loss: 0.1253 - mse: 0.1253 - val_loss: 0.1253 - val_mse: 0.1253\n",
      "Epoch 209/220\n",
      "1/1 [==============================] - 0s 26ms/step - loss: 0.1248 - mse: 0.1248 - val_loss: 0.1253 - val_mse: 0.1253\n",
      "Epoch 210/220\n",
      "1/1 [==============================] - 0s 23ms/step - loss: 0.1242 - mse: 0.1242 - val_loss: 0.1253 - val_mse: 0.1253\n",
      "Epoch 211/220\n",
      "1/1 [==============================] - 0s 28ms/step - loss: 0.1237 - mse: 0.1237 - val_loss: 0.1254 - val_mse: 0.1254\n",
      "Epoch 212/220\n",
      "1/1 [==============================] - 0s 29ms/step - loss: 0.1231 - mse: 0.1231 - val_loss: 0.1254 - val_mse: 0.1254\n",
      "Epoch 213/220\n",
      "1/1 [==============================] - 0s 22ms/step - loss: 0.1226 - mse: 0.1226 - val_loss: 0.1254 - val_mse: 0.1254\n",
      "Epoch 214/220\n",
      "1/1 [==============================] - 0s 27ms/step - loss: 0.1220 - mse: 0.1220 - val_loss: 0.1254 - val_mse: 0.1254\n",
      "Epoch 215/220\n",
      "1/1 [==============================] - 0s 31ms/step - loss: 0.1214 - mse: 0.1214 - val_loss: 0.1254 - val_mse: 0.1254\n",
      "Epoch 216/220\n",
      "1/1 [==============================] - 0s 30ms/step - loss: 0.1209 - mse: 0.1209 - val_loss: 0.1254 - val_mse: 0.1254\n",
      "Epoch 217/220\n",
      "1/1 [==============================] - 0s 23ms/step - loss: 0.1203 - mse: 0.1203 - val_loss: 0.1254 - val_mse: 0.1254\n",
      "Epoch 218/220\n",
      "1/1 [==============================] - 0s 22ms/step - loss: 0.1197 - mse: 0.1197 - val_loss: 0.1254 - val_mse: 0.1254\n",
      "Epoch 219/220\n",
      "1/1 [==============================] - 0s 31ms/step - loss: 0.1191 - mse: 0.1191 - val_loss: 0.1254 - val_mse: 0.1254\n",
      "Epoch 220/220\n",
      "1/1 [==============================] - 0s 24ms/step - loss: 0.1185 - mse: 0.1185 - val_loss: 0.1253 - val_mse: 0.1253\n"
     ]
    }
   ],
   "source": [
    "import tensorflow as tf\n",
    "from tensorflow import keras\n",
    "# from tensorflow.python.keras.layers import Dense\n",
    "import pandas as pd\n",
    "from tensorflow.keras import layers\n",
    "\n",
    "import keras\n",
    "from keras.models import Sequential\n",
    "from keras.layers import Dense\n",
    "\n",
    "variables,results = split_x_and_y(database.iloc[[0,1,2,3,4,5,6,7,8]],['A','E','N'],'Nu')\n",
    "test_x,test_y = split_x_and_y(database.iloc[[9,10,11]],['A','E','N'],'Nu')\n",
    "\n",
    "model = keras.Sequential([\n",
    "  layers.Dense(256, activation='sigmoid', input_shape=[len(variables.keys())]),\n",
    "  # layers.Dropout(0.1),\n",
    "  layers.Dense(256, activation='sigmoid'),\n",
    "  # layers.Dense(8, activation='relu'),\n",
    "  layers.Dense(1)\n",
    "])\n",
    "\n",
    "# optimizer = tf.keras.optimizers.RMSprop(0.001)\n",
    "\n",
    "model.compile(optimizer='adam',loss='mean_squared_error',metrics=['mse'])\n",
    "callback = tf.keras.callbacks.EarlyStopping(monitor=\"loss\", patience=10)\n",
    "history = model.fit(variables.values,results.values,epochs=220,validation_split=0.3,callbacks=[callback])"
   ]
  },
  {
   "cell_type": "code",
   "execution_count": 79,
   "metadata": {},
   "outputs": [
    {
     "data": {
      "text/plain": [
       "<matplotlib.legend.Legend at 0x2170c7c4c70>"
      ]
     },
     "execution_count": 79,
     "metadata": {},
     "output_type": "execute_result"
    },
    {
     "data": {
      "image/png": "[encoded data removed]",
      "text/plain": [
       "<Figure size 432x288 with 1 Axes>"
      ]
     },
     "metadata": {
      "needs_background": "light"
     },
     "output_type": "display_data"
    }
   ],
   "source": [
    "import matplotlib.pyplot as plt\n",
    "plt.plot(history.history['loss'])\n",
    "plt.plot(history.history['val_loss'])\n",
    "plt.legend(['loss','val_loss'])"
   ]
  },
  {
   "cell_type": "code",
   "execution_count": 80,
   "metadata": {},
   "outputs": [
    {
     "name": "stdout",
     "output_type": "stream",
     "text": [
      "1/1 [==============================] - 0s 47ms/step\n"
     ]
    },
    {
     "data": {
      "text/plain": [
       "array([[ 0.69904613],\n",
       "       [ 0.8978878 ],\n",
       "       [-1.520575  ]], dtype=float32)"
      ]
     },
     "execution_count": 80,
     "metadata": {},
     "output_type": "execute_result"
    }
   ],
   "source": [
    "guess = model.predict(test_x.values)\n",
    "guess"
   ]
  },
  {
   "cell_type": "code",
   "execution_count": 81,
   "metadata": {},
   "outputs": [
    {
     "data": {
      "text/html": [
       "<div>\n",
       "<style scoped>\n",
       "    .dataframe tbody tr th:only-of-type {\n",
       "        vertical-align: middle;\n",
       "    }\n",
       "\n",
       "    .dataframe tbody tr th {\n",
       "        vertical-align: top;\n",
       "    }\n",
       "\n",
       "    .dataframe thead th {\n",
       "        text-align: right;\n",
       "    }\n",
       "</style>\n",
       "<table border=\"1\" class=\"dataframe\">\n",
       "  <thead>\n",
       "    <tr style=\"text-align: right;\">\n",
       "      <th></th>\n",
       "      <th>A</th>\n",
       "      <th>E</th>\n",
       "      <th>N</th>\n",
       "      <th>Nu</th>\n",
       "    </tr>\n",
       "  </thead>\n",
       "  <tbody>\n",
       "    <tr>\n",
       "      <th>9</th>\n",
       "      <td>-0.845154</td>\n",
       "      <td>-1.224745</td>\n",
       "      <td>0.000000</td>\n",
       "      <td>0.699046</td>\n",
       "    </tr>\n",
       "    <tr>\n",
       "      <th>10</th>\n",
       "      <td>-0.845154</td>\n",
       "      <td>0.000000</td>\n",
       "      <td>-1.224745</td>\n",
       "      <td>0.897888</td>\n",
       "    </tr>\n",
       "    <tr>\n",
       "      <th>11</th>\n",
       "      <td>1.183216</td>\n",
       "      <td>1.224745</td>\n",
       "      <td>1.224745</td>\n",
       "      <td>-1.520575</td>\n",
       "    </tr>\n",
       "  </tbody>\n",
       "</table>\n",
       "</div>"
      ],
      "text/plain": [
       "           A         E         N        Nu\n",
       "9  -0.845154 -1.224745  0.000000  0.699046\n",
       "10 -0.845154  0.000000 -1.224745  0.897888\n",
       "11  1.183216  1.224745  1.224745 -1.520575"
      ]
     },
     "execution_count": 81,
     "metadata": {},
     "output_type": "execute_result"
    }
   ],
   "source": [
    "desnormalizar = test_x.copy()\n",
    "desnormalizar['Nu'] = guess\n",
    "desnormalizar"
   ]
  },
  {
   "cell_type": "code",
   "execution_count": 82,
   "metadata": {},
   "outputs": [
    {
     "data": {
      "text/plain": [
       "array([[25.        ,  1.        ,  8.        , 94.83879457],\n",
       "       [25.        ,  2.        ,  5.        , 99.5221113 ],\n",
       "       [35.        ,  3.        , 11.        , 42.56007501]])"
      ]
     },
     "execution_count": 82,
     "metadata": {},
     "output_type": "execute_result"
    }
   ],
   "source": [
    "desnormalizado_teste = standardscaler.inverse_transform(desnormalizar)\n",
    "desnormalizado_teste"
   ]
  },
  {
   "cell_type": "code",
   "execution_count": 83,
   "metadata": {},
   "outputs": [
    {
     "data": {
      "text/html": [
       "<div>\n",
       "<style scoped>\n",
       "    .dataframe tbody tr th:only-of-type {\n",
       "        vertical-align: middle;\n",
       "    }\n",
       "\n",
       "    .dataframe tbody tr th {\n",
       "        vertical-align: top;\n",
       "    }\n",
       "\n",
       "    .dataframe thead th {\n",
       "        text-align: right;\n",
       "    }\n",
       "</style>\n",
       "<table border=\"1\" class=\"dataframe\">\n",
       "  <thead>\n",
       "    <tr style=\"text-align: right;\">\n",
       "      <th></th>\n",
       "      <th>A</th>\n",
       "      <th>E</th>\n",
       "      <th>N</th>\n",
       "      <th>Nu</th>\n",
       "    </tr>\n",
       "  </thead>\n",
       "  <tbody>\n",
       "    <tr>\n",
       "      <th>9</th>\n",
       "      <td>-0.845154</td>\n",
       "      <td>-1.224745</td>\n",
       "      <td>0.000000</td>\n",
       "      <td>0.847698</td>\n",
       "    </tr>\n",
       "    <tr>\n",
       "      <th>10</th>\n",
       "      <td>-0.845154</td>\n",
       "      <td>0.000000</td>\n",
       "      <td>-1.224745</td>\n",
       "      <td>0.477469</td>\n",
       "    </tr>\n",
       "    <tr>\n",
       "      <th>11</th>\n",
       "      <td>1.183216</td>\n",
       "      <td>1.224745</td>\n",
       "      <td>1.224745</td>\n",
       "      <td>-1.991431</td>\n",
       "    </tr>\n",
       "  </tbody>\n",
       "</table>\n",
       "</div>"
      ],
      "text/plain": [
       "           A         E         N        Nu\n",
       "9  -0.845154 -1.224745  0.000000  0.847698\n",
       "10 -0.845154  0.000000 -1.224745  0.477469\n",
       "11  1.183216  1.224745  1.224745 -1.991431"
      ]
     },
     "execution_count": 83,
     "metadata": {},
     "output_type": "execute_result"
    }
   ],
   "source": [
    "desnormalizar = test_x.copy()\n",
    "desnormalizar['Nu'] = test_y\n",
    "desnormalizar"
   ]
  },
  {
   "cell_type": "code",
   "execution_count": 84,
   "metadata": {},
   "outputs": [
    {
     "data": {
      "text/plain": [
       "array([[25.  ,  1.  ,  8.  , 98.34],\n",
       "       [25.  ,  2.  ,  5.  , 89.62],\n",
       "       [35.  ,  3.  , 11.  , 31.47]])"
      ]
     },
     "execution_count": 84,
     "metadata": {},
     "output_type": "execute_result"
    }
   ],
   "source": [
    "desnormalizado_resultado = standardscaler.inverse_transform(desnormalizar)\n",
    "desnormalizado_resultado"
   ]
  },
  {
   "cell_type": "code",
   "execution_count": 85,
   "metadata": {},
   "outputs": [
    {
     "name": "stdout",
     "output_type": "stream",
     "text": [
      "r2: 0.9117297348696398 meansquarederror: 77.7666704711056 meanabsoluteerror: 8.16446391269438 maxerror: 11.090075013411045\n"
     ]
    },
    {
     "data": {
      "text/plain": [
       "(0.9117297348696398, 77.7666704711056, 8.16446391269438, 11.090075013411045)"
      ]
     },
     "execution_count": 85,
     "metadata": {},
     "output_type": "execute_result"
    }
   ],
   "source": [
    "scores(desnormalizado_resultado[:,-1],desnormalizado_teste[:,-1])"
   ]
  },
  {
   "cell_type": "code",
   "execution_count": 24,
   "metadata": {},
   "outputs": [],
   "source": [
    "model.save(\"keras_model_Nu.h5\")"
   ]
  },
  {
   "cell_type": "code",
   "execution_count": null,
   "metadata": {},
   "outputs": [],
   "source": []
  }
 ],
 "metadata": {
  "interpreter": {
   "hash": "edbada794071f9c875b2bc5e0e869a1d746a19a0ba8801f10239845106c51c5a"
  },
  "kernelspec": {
   "display_name": "Python 3.8.8 ('base')",
   "language": "python",
   "name": "python3"
  },
  "language_info": {
   "codemirror_mode": {
    "name": "ipython",
    "version": 3
   },
   "file_extension": ".py",
   "mimetype": "text/x-python",
   "name": "python",
   "nbconvert_exporter": "python",
   "pygments_lexer": "ipython3",
   "version": "3.8.8"
  },
  "orig_nbformat": 4
 },
 "nbformat": 4,
 "nbformat_minor": 2
}
