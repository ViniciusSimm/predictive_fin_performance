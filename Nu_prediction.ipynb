{
 "cells": [
  {
   "cell_type": "code",
   "execution_count": 1,
   "metadata": {},
   "outputs": [
    {
     "data": {
      "text/html": [
       "<div>\n",
       "<style scoped>\n",
       "    .dataframe tbody tr th:only-of-type {\n",
       "        vertical-align: middle;\n",
       "    }\n",
       "\n",
       "    .dataframe tbody tr th {\n",
       "        vertical-align: top;\n",
       "    }\n",
       "\n",
       "    .dataframe thead th {\n",
       "        text-align: right;\n",
       "    }\n",
       "</style>\n",
       "<table border=\"1\" class=\"dataframe\">\n",
       "  <thead>\n",
       "    <tr style=\"text-align: right;\">\n",
       "      <th></th>\n",
       "      <th>CASES</th>\n",
       "      <th>A</th>\n",
       "      <th>E</th>\n",
       "      <th>Area</th>\n",
       "      <th>N</th>\n",
       "      <th>hconv</th>\n",
       "      <th>Nu</th>\n",
       "      <th>Tmax</th>\n",
       "      <th>Rt</th>\n",
       "      <th>UA</th>\n",
       "      <th>Afin</th>\n",
       "    </tr>\n",
       "  </thead>\n",
       "  <tbody>\n",
       "    <tr>\n",
       "      <th>0</th>\n",
       "      <td>1</td>\n",
       "      <td>25</td>\n",
       "      <td>1</td>\n",
       "      <td>0.260047</td>\n",
       "      <td>11</td>\n",
       "      <td>27.20</td>\n",
       "      <td>78.62</td>\n",
       "      <td>67.67</td>\n",
       "      <td>1.638</td>\n",
       "      <td>0.610501</td>\n",
       "      <td>0.02103</td>\n",
       "    </tr>\n",
       "    <tr>\n",
       "      <th>1</th>\n",
       "      <td>3</td>\n",
       "      <td>25</td>\n",
       "      <td>1</td>\n",
       "      <td>0.118203</td>\n",
       "      <td>5</td>\n",
       "      <td>35.45</td>\n",
       "      <td>102.00</td>\n",
       "      <td>126.85</td>\n",
       "      <td>2.595</td>\n",
       "      <td>0.385356</td>\n",
       "      <td>0.01087</td>\n",
       "    </tr>\n",
       "    <tr>\n",
       "      <th>2</th>\n",
       "      <td>5</td>\n",
       "      <td>25</td>\n",
       "      <td>2</td>\n",
       "      <td>0.378251</td>\n",
       "      <td>8</td>\n",
       "      <td>29.88</td>\n",
       "      <td>91.57</td>\n",
       "      <td>72.71</td>\n",
       "      <td>1.976</td>\n",
       "      <td>0.506073</td>\n",
       "      <td>0.01694</td>\n",
       "    </tr>\n",
       "    <tr>\n",
       "      <th>3</th>\n",
       "      <td>7</td>\n",
       "      <td>25</td>\n",
       "      <td>3</td>\n",
       "      <td>0.780142</td>\n",
       "      <td>11</td>\n",
       "      <td>10.00</td>\n",
       "      <td>31.00</td>\n",
       "      <td>162.85</td>\n",
       "      <td>4.164</td>\n",
       "      <td>0.240154</td>\n",
       "      <td>0.02370</td>\n",
       "    </tr>\n",
       "    <tr>\n",
       "      <th>4</th>\n",
       "      <td>9</td>\n",
       "      <td>25</td>\n",
       "      <td>3</td>\n",
       "      <td>0.354610</td>\n",
       "      <td>5</td>\n",
       "      <td>29.00</td>\n",
       "      <td>88.97</td>\n",
       "      <td>94.85</td>\n",
       "      <td>2.869</td>\n",
       "      <td>0.348554</td>\n",
       "      <td>0.01200</td>\n",
       "    </tr>\n",
       "    <tr>\n",
       "      <th>5</th>\n",
       "      <td>11</td>\n",
       "      <td>35</td>\n",
       "      <td>1</td>\n",
       "      <td>0.189125</td>\n",
       "      <td>8</td>\n",
       "      <td>31.60</td>\n",
       "      <td>96.90</td>\n",
       "      <td>61.15</td>\n",
       "      <td>1.421</td>\n",
       "      <td>0.703730</td>\n",
       "      <td>0.02220</td>\n",
       "    </tr>\n",
       "    <tr>\n",
       "      <th>6</th>\n",
       "      <td>13</td>\n",
       "      <td>35</td>\n",
       "      <td>2</td>\n",
       "      <td>0.520095</td>\n",
       "      <td>11</td>\n",
       "      <td>20.15</td>\n",
       "      <td>61.80</td>\n",
       "      <td>63.03</td>\n",
       "      <td>1.564</td>\n",
       "      <td>0.639386</td>\n",
       "      <td>0.03170</td>\n",
       "    </tr>\n",
       "    <tr>\n",
       "      <th>7</th>\n",
       "      <td>15</td>\n",
       "      <td>35</td>\n",
       "      <td>2</td>\n",
       "      <td>0.236407</td>\n",
       "      <td>5</td>\n",
       "      <td>30.40</td>\n",
       "      <td>93.30</td>\n",
       "      <td>77.35</td>\n",
       "      <td>2.101</td>\n",
       "      <td>0.475964</td>\n",
       "      <td>0.01560</td>\n",
       "    </tr>\n",
       "    <tr>\n",
       "      <th>8</th>\n",
       "      <td>17</td>\n",
       "      <td>35</td>\n",
       "      <td>3</td>\n",
       "      <td>0.567376</td>\n",
       "      <td>8</td>\n",
       "      <td>25.10</td>\n",
       "      <td>76.90</td>\n",
       "      <td>63.25</td>\n",
       "      <td>1.591</td>\n",
       "      <td>0.628536</td>\n",
       "      <td>0.02500</td>\n",
       "    </tr>\n",
       "    <tr>\n",
       "      <th>9</th>\n",
       "      <td>2</td>\n",
       "      <td>25</td>\n",
       "      <td>1</td>\n",
       "      <td>0.189125</td>\n",
       "      <td>8</td>\n",
       "      <td>32.08</td>\n",
       "      <td>98.34</td>\n",
       "      <td>76.30</td>\n",
       "      <td>1.946</td>\n",
       "      <td>0.513875</td>\n",
       "      <td>0.01600</td>\n",
       "    </tr>\n",
       "    <tr>\n",
       "      <th>10</th>\n",
       "      <td>6</td>\n",
       "      <td>25</td>\n",
       "      <td>2</td>\n",
       "      <td>0.236407</td>\n",
       "      <td>5</td>\n",
       "      <td>29.24</td>\n",
       "      <td>89.62</td>\n",
       "      <td>98.76</td>\n",
       "      <td>2.991</td>\n",
       "      <td>0.334336</td>\n",
       "      <td>0.01140</td>\n",
       "    </tr>\n",
       "    <tr>\n",
       "      <th>11</th>\n",
       "      <td>16</td>\n",
       "      <td>35</td>\n",
       "      <td>3</td>\n",
       "      <td>0.780142</td>\n",
       "      <td>11</td>\n",
       "      <td>10.27</td>\n",
       "      <td>31.47</td>\n",
       "      <td>94.70</td>\n",
       "      <td>2.896</td>\n",
       "      <td>0.345304</td>\n",
       "      <td>0.03360</td>\n",
       "    </tr>\n",
       "  </tbody>\n",
       "</table>\n",
       "</div>"
      ],
      "text/plain": [
       "    CASES   A  E      Area   N  hconv      Nu    Tmax     Rt        UA  \\\n",
       "0       1  25  1  0.260047  11  27.20   78.62   67.67  1.638  0.610501   \n",
       "1       3  25  1  0.118203   5  35.45  102.00  126.85  2.595  0.385356   \n",
       "2       5  25  2  0.378251   8  29.88   91.57   72.71  1.976  0.506073   \n",
       "3       7  25  3  0.780142  11  10.00   31.00  162.85  4.164  0.240154   \n",
       "4       9  25  3  0.354610   5  29.00   88.97   94.85  2.869  0.348554   \n",
       "5      11  35  1  0.189125   8  31.60   96.90   61.15  1.421  0.703730   \n",
       "6      13  35  2  0.520095  11  20.15   61.80   63.03  1.564  0.639386   \n",
       "7      15  35  2  0.236407   5  30.40   93.30   77.35  2.101  0.475964   \n",
       "8      17  35  3  0.567376   8  25.10   76.90   63.25  1.591  0.628536   \n",
       "9       2  25  1  0.189125   8  32.08   98.34   76.30  1.946  0.513875   \n",
       "10      6  25  2  0.236407   5  29.24   89.62   98.76  2.991  0.334336   \n",
       "11     16  35  3  0.780142  11  10.27   31.47   94.70  2.896  0.345304   \n",
       "\n",
       "       Afin  \n",
       "0   0.02103  \n",
       "1   0.01087  \n",
       "2   0.01694  \n",
       "3   0.02370  \n",
       "4   0.01200  \n",
       "5   0.02220  \n",
       "6   0.03170  \n",
       "7   0.01560  \n",
       "8   0.02500  \n",
       "9   0.01600  \n",
       "10  0.01140  \n",
       "11  0.03360  "
      ]
     },
     "execution_count": 1,
     "metadata": {},
     "output_type": "execute_result"
    }
   ],
   "source": [
    "import pandas as pd\n",
    "database = pd.read_excel('database_TCC.xlsx')\n",
    "database"
   ]
  },
  {
   "cell_type": "code",
   "execution_count": 2,
   "metadata": {},
   "outputs": [],
   "source": [
    "database = database[['A','E','N','Nu']]"
   ]
  },
  {
   "cell_type": "code",
   "execution_count": 3,
   "metadata": {},
   "outputs": [],
   "source": [
    "from sklearn.preprocessing import StandardScaler\n",
    "standardscaler = StandardScaler()\n",
    "standardscaler.fit(database)\n",
    "data = standardscaler.transform(database)\n",
    "database = pd.DataFrame(data,columns=database.columns)"
   ]
  },
  {
   "cell_type": "code",
   "execution_count": 4,
   "metadata": {},
   "outputs": [],
   "source": [
    "import pickle\n",
    "pickle.dump(standardscaler, open('standard_scaler_Nu.pkl','wb'))"
   ]
  },
  {
   "cell_type": "code",
   "execution_count": 4,
   "metadata": {},
   "outputs": [],
   "source": [
    "from sklearn.metrics import r2_score,mean_squared_error,mean_absolute_error,max_error\n",
    "\n",
    "def split_x_and_y(database,x,y):\n",
    "  dataset_x = database[x]\n",
    "  dataset_y = database[y]\n",
    "  return dataset_x,dataset_y\n",
    "\n",
    "\n",
    "def scores(Y_true, Y_predicted):\n",
    "  r2 = r2_score(Y_true, Y_predicted)\n",
    "  meansquarederror = mean_squared_error(Y_true, Y_predicted)\n",
    "  meanabsoluteerror = mean_absolute_error(Y_true, Y_predicted)\n",
    "  maxerror = max_error(Y_true, Y_predicted)\n",
    "\n",
    "  print('r2:',r2,'meansquarederror:',meansquarederror,'meanabsoluteerror:',meanabsoluteerror,'maxerror:',maxerror)\n",
    "  return r2,meansquarederror,meanabsoluteerror,maxerror"
   ]
  },
  {
   "cell_type": "markdown",
   "metadata": {},
   "source": [
    "# Decision Tree Regressor"
   ]
  },
  {
   "cell_type": "code",
   "execution_count": 5,
   "metadata": {},
   "outputs": [
    {
     "data": {
      "text/plain": [
       "0.9897242898141063"
      ]
     },
     "execution_count": 5,
     "metadata": {},
     "output_type": "execute_result"
    }
   ],
   "source": [
    "dataset_x,dataset_y = split_x_and_y(database.iloc[[0,1,2,3,4,5,6,7,8]],['A','E','N'],'Nu')\n",
    "test_x,test_y = split_x_and_y(database.iloc[[9,10,11]],['A','E','N'],'Nu')\n",
    "\n",
    "from sklearn.tree import DecisionTreeRegressor,plot_tree\n",
    "DTR = DecisionTreeRegressor(random_state=100)\n",
    "DTR.fit(dataset_x,dataset_y)\n",
    "DTR.score(test_x,test_y)"
   ]
  },
  {
   "cell_type": "code",
   "execution_count": 12,
   "metadata": {},
   "outputs": [
    {
     "data": {
      "text/plain": [
       "array([0.05821648, 0.33288972, 0.6088938 ])"
      ]
     },
     "execution_count": 12,
     "metadata": {},
     "output_type": "execute_result"
    }
   ],
   "source": [
    "DTR.feature_importances_"
   ]
  },
  {
   "cell_type": "code",
   "execution_count": 10,
   "metadata": {},
   "outputs": [
    {
     "data": {
      "text/plain": [
       "array([[ 25. ,   1. ,   8. , 102. ],\n",
       "       [ 25. ,   2. ,   5. ,  93.3]])"
      ]
     },
     "execution_count": 10,
     "metadata": {},
     "output_type": "execute_result"
    }
   ],
   "source": [
    "desnormalizar = test_x.copy()\n",
    "desnormalizar['Nu'] = DTR.predict(test_x)\n",
    "desnormalizado_teste = standardscaler.inverse_transform(desnormalizar)\n",
    "desnormalizado_teste"
   ]
  },
  {
   "cell_type": "code",
   "execution_count": 9,
   "metadata": {},
   "outputs": [
    {
     "data": {
      "text/plain": [
       "array([[25.  ,  1.  ,  8.  , 98.34],\n",
       "       [25.  ,  2.  ,  5.  , 89.62],\n",
       "       [35.  ,  3.  , 11.  , 31.47]])"
      ]
     },
     "execution_count": 9,
     "metadata": {},
     "output_type": "execute_result"
    }
   ],
   "source": [
    "desnormalizar = test_x.copy()\n",
    "desnormalizar['Nu'] = test_y\n",
    "desnormalizado_resultado = standardscaler.inverse_transform(desnormalizar)\n",
    "desnormalizado_resultado"
   ]
  },
  {
   "cell_type": "code",
   "execution_count": 11,
   "metadata": {},
   "outputs": [
    {
     "name": "stdout",
     "output_type": "stream",
     "text": [
      "r2: 0.9897242898141063 meansquarederror: 9.052966666666642 meanabsoluteerror: 2.6033333333333317 maxerror: 3.6799999999999926\n"
     ]
    },
    {
     "data": {
      "text/plain": [
       "(0.9897242898141063, 9.052966666666642, 2.6033333333333317, 3.6799999999999926)"
      ]
     },
     "execution_count": 11,
     "metadata": {},
     "output_type": "execute_result"
    }
   ],
   "source": [
    "scores(desnormalizado_resultado[:,-1],desnormalizado_teste[:,-1])"
   ]
  },
  {
   "cell_type": "code",
   "execution_count": 12,
   "metadata": {},
   "outputs": [],
   "source": [
    "import pickle\n",
    "pickle.dump(DTR, open('Decision_Tree_Regressor_Nu.pkl', 'wb'))"
   ]
  },
  {
   "cell_type": "code",
   "execution_count": 20,
   "metadata": {},
   "outputs": [],
   "source": [
    "# import matplotlib.pyplot as plt\n",
    "# fig = plt.figure(figsize=(25,20))\n",
    "# _ = plot_tree(DTR, \n",
    "#                    feature_names=dataset_x.columns, \n",
    "#                    filled=True)"
   ]
  },
  {
   "cell_type": "markdown",
   "metadata": {},
   "source": [
    "# Linear Regression"
   ]
  },
  {
   "cell_type": "code",
   "execution_count": 10,
   "metadata": {},
   "outputs": [
    {
     "data": {
      "text/plain": [
       "0.8326467092134622"
      ]
     },
     "execution_count": 10,
     "metadata": {},
     "output_type": "execute_result"
    }
   ],
   "source": [
    "dataset_x,dataset_y = split_x_and_y(database.iloc[[0,1,2,3,4,5,6,7,8]],['A','E','N'],'Nu')\n",
    "test_x,test_y = split_x_and_y(database.iloc[[9,10,11]],['A','E','N'],'Nu')\n",
    "\n",
    "from sklearn.linear_model import LinearRegression\n",
    "LR = LinearRegression()\n",
    "LR.fit(dataset_x,dataset_y)\n",
    "LR.score(test_x,test_y)"
   ]
  },
  {
   "cell_type": "code",
   "execution_count": 13,
   "metadata": {},
   "outputs": [
    {
     "data": {
      "text/plain": [
       "0.96034797005603"
      ]
     },
     "execution_count": 13,
     "metadata": {},
     "output_type": "execute_result"
    }
   ],
   "source": [
    "dataset_x,dataset_y = split_x_and_y(database.iloc[[0,1,2,3,4,5,6,7,8]],['A','E','N'],'Nu')\n",
    "test_x,test_y = split_x_and_y(database.iloc[[9,10,11]],['A','E','N'],'Nu')\n",
    "\n",
    "from sklearn.preprocessing import PolynomialFeatures\n",
    "from sklearn.linear_model import LinearRegression\n",
    "\n",
    "poly = PolynomialFeatures(4,interaction_only=False,include_bias=False)\n",
    "LR = LinearRegression()\n",
    "\n",
    "dataset_x_transformed = poly.fit_transform(dataset_x)\n",
    "test_x_transformed = poly.fit_transform(test_x)\n",
    "\n",
    "LR.fit(dataset_x_transformed,dataset_y)\n",
    "LR.score(test_x_transformed,test_y)"
   ]
  },
  {
   "cell_type": "code",
   "execution_count": 14,
   "metadata": {},
   "outputs": [],
   "source": [
    "import pickle\n",
    "pickle.dump(LR, open('Linear_Regression_with_Poly_Nu.pkl', 'wb'))"
   ]
  },
  {
   "cell_type": "markdown",
   "metadata": {},
   "source": [
    "# MLP"
   ]
  },
  {
   "cell_type": "code",
   "execution_count": 39,
   "metadata": {},
   "outputs": [
    {
     "data": {
      "text/plain": [
       "0.8570327827356772"
      ]
     },
     "execution_count": 39,
     "metadata": {},
     "output_type": "execute_result"
    }
   ],
   "source": [
    "dataset_x,dataset_y = split_x_and_y(database.iloc[[0,1,2,3,4,5,6,7,8]],['A','E','N'],'Nu')\n",
    "test_x,test_y = split_x_and_y(database.iloc[[9,10,11]],['A','E','N'],'Nu')\n",
    "\n",
    "from sklearn.neural_network import MLPRegressor\n",
    "MLP = MLPRegressor(random_state=100)\n",
    "MLP.fit(dataset_x,dataset_y)\n",
    "MLP.score(test_x,test_y)"
   ]
  },
  {
   "cell_type": "code",
   "execution_count": 60,
   "metadata": {},
   "outputs": [],
   "source": [
    "from sklearn.model_selection import RandomizedSearchCV\n",
    "\n",
    "dataset_x,dataset_y = split_x_and_y(database.iloc[[0,1,2,3,4,5,6,7,8]],['A','E','N'],'Nu')\n",
    "test_x,test_y = split_x_and_y(database.iloc[[9,10,11]],['A','E','N'],'Nu')\n",
    "\n",
    "from sklearn.neural_network import MLPRegressor\n",
    "MLP = MLPRegressor(max_iter=1000,random_state=100)\n",
    "\n",
    "param_grid = {\n",
    "    \"activation\":['logistic','tanh','relu'],\n",
    "    \"learning_rate\":['constant','invscaling','adaptive'],\n",
    "    \"momentum\":[0.7,0.8,0.9,0.95,0.98],\n",
    "    \"n_iter_no_change\":[5,8,10,12,14],\n",
    "    \"alpha\":[0.0001,0.0002,0.0004,0.0005,0.0006,0.0008]\n",
    "}\n",
    "\n",
    "random_cv = RandomizedSearchCV(\n",
    "    MLP, param_grid, n_iter=250, cv=3, n_jobs=-1, random_state = 100\n",
    ")\n",
    "\n",
    "modelo = random_cv.fit(dataset_x,dataset_y)"
   ]
  },
  {
   "cell_type": "code",
   "execution_count": 61,
   "metadata": {},
   "outputs": [
    {
     "data": {
      "text/plain": [
       "{'n_iter_no_change': 5,\n",
       " 'momentum': 0.98,\n",
       " 'learning_rate': 'invscaling',\n",
       " 'alpha': 0.0008,\n",
       " 'activation': 'logistic'}"
      ]
     },
     "execution_count": 61,
     "metadata": {},
     "output_type": "execute_result"
    }
   ],
   "source": [
    "modelo.best_params_"
   ]
  },
  {
   "cell_type": "code",
   "execution_count": 62,
   "metadata": {},
   "outputs": [
    {
     "data": {
      "text/plain": [
       "0.8340001874556842"
      ]
     },
     "execution_count": 62,
     "metadata": {},
     "output_type": "execute_result"
    }
   ],
   "source": [
    "from sklearn.neural_network import MLPRegressor\n",
    "MLP = MLPRegressor(**modelo.best_params_,max_iter=1000,random_state=100)\n",
    "MLP.fit(dataset_x,dataset_y)\n",
    "MLP.score(test_x,test_y)"
   ]
  },
  {
   "cell_type": "markdown",
   "metadata": {},
   "source": [
    "# Keras"
   ]
  },
  {
   "cell_type": "code",
   "execution_count": 8,
   "metadata": {},
   "outputs": [
    {
     "data": {
      "text/plain": [
       "(12, 3)"
      ]
     },
     "execution_count": 8,
     "metadata": {},
     "output_type": "execute_result"
    }
   ],
   "source": [
    "variables,results = split_x_and_y(database,['A','E','N'],'Nu')\n",
    "variables.values.shape"
   ]
  },
  {
   "cell_type": "code",
   "execution_count": 5,
   "metadata": {},
   "outputs": [
    {
     "name": "stdout",
     "output_type": "stream",
     "text": [
      "Epoch 1/200\n",
      "1/1 [==============================] - 1s 623ms/step - loss: 1.0570 - mse: 1.0570 - val_loss: 0.4426 - val_mse: 0.4426\n",
      "Epoch 2/200\n",
      "1/1 [==============================] - 0s 24ms/step - loss: 1.3551 - mse: 1.3551 - val_loss: 0.2916 - val_mse: 0.2916\n",
      "Epoch 3/200\n",
      "1/1 [==============================] - 0s 25ms/step - loss: 1.0540 - mse: 1.0540 - val_loss: 0.4718 - val_mse: 0.4718\n",
      "Epoch 4/200\n",
      "1/1 [==============================] - 0s 23ms/step - loss: 1.0683 - mse: 1.0683 - val_loss: 0.6445 - val_mse: 0.6445\n",
      "Epoch 5/200\n",
      "1/1 [==============================] - 0s 31ms/step - loss: 1.1678 - mse: 1.1678 - val_loss: 0.5490 - val_mse: 0.5490\n",
      "Epoch 6/200\n",
      "1/1 [==============================] - 0s 31ms/step - loss: 1.0961 - mse: 1.0961 - val_loss: 0.3721 - val_mse: 0.3721\n",
      "Epoch 7/200\n",
      "1/1 [==============================] - 0s 30ms/step - loss: 0.9932 - mse: 0.9932 - val_loss: 0.2790 - val_mse: 0.2790\n",
      "Epoch 8/200\n",
      "1/1 [==============================] - 0s 31ms/step - loss: 0.9828 - mse: 0.9828 - val_loss: 0.2733 - val_mse: 0.2733\n",
      "Epoch 9/200\n",
      "1/1 [==============================] - 0s 31ms/step - loss: 1.0301 - mse: 1.0301 - val_loss: 0.2731 - val_mse: 0.2731\n",
      "Epoch 10/200\n",
      "1/1 [==============================] - 0s 33ms/step - loss: 1.0333 - mse: 1.0333 - val_loss: 0.2599 - val_mse: 0.2599\n",
      "Epoch 11/200\n",
      "1/1 [==============================] - 0s 33ms/step - loss: 0.9795 - mse: 0.9795 - val_loss: 0.2756 - val_mse: 0.2756\n",
      "Epoch 12/200\n",
      "1/1 [==============================] - 0s 45ms/step - loss: 0.9285 - mse: 0.9285 - val_loss: 0.3394 - val_mse: 0.3394\n",
      "Epoch 13/200\n",
      "1/1 [==============================] - 0s 46ms/step - loss: 0.9220 - mse: 0.9220 - val_loss: 0.4098 - val_mse: 0.4098\n",
      "Epoch 14/200\n",
      "1/1 [==============================] - 0s 52ms/step - loss: 0.9409 - mse: 0.9409 - val_loss: 0.4274 - val_mse: 0.4274\n",
      "Epoch 15/200\n",
      "1/1 [==============================] - 0s 37ms/step - loss: 0.9393 - mse: 0.9393 - val_loss: 0.3811 - val_mse: 0.3811\n",
      "Epoch 16/200\n",
      "1/1 [==============================] - 0s 32ms/step - loss: 0.9064 - mse: 0.9064 - val_loss: 0.3096 - val_mse: 0.3096\n",
      "Epoch 17/200\n",
      "1/1 [==============================] - 0s 32ms/step - loss: 0.8701 - mse: 0.8701 - val_loss: 0.2552 - val_mse: 0.2552\n",
      "Epoch 18/200\n",
      "1/1 [==============================] - 0s 27ms/step - loss: 0.8565 - mse: 0.8565 - val_loss: 0.2303 - val_mse: 0.2303\n",
      "Epoch 19/200\n",
      "1/1 [==============================] - 0s 27ms/step - loss: 0.8608 - mse: 0.8608 - val_loss: 0.2221 - val_mse: 0.2221\n",
      "Epoch 20/200\n",
      "1/1 [==============================] - 0s 24ms/step - loss: 0.8579 - mse: 0.8579 - val_loss: 0.2214 - val_mse: 0.2214\n",
      "Epoch 21/200\n",
      "1/1 [==============================] - 0s 28ms/step - loss: 0.8360 - mse: 0.8360 - val_loss: 0.2347 - val_mse: 0.2347\n",
      "Epoch 22/200\n",
      "1/1 [==============================] - 0s 26ms/step - loss: 0.8077 - mse: 0.8077 - val_loss: 0.2674 - val_mse: 0.2674\n",
      "Epoch 23/200\n",
      "1/1 [==============================] - 0s 26ms/step - loss: 0.7908 - mse: 0.7908 - val_loss: 0.3064 - val_mse: 0.3064\n",
      "Epoch 24/200\n",
      "1/1 [==============================] - 0s 25ms/step - loss: 0.7866 - mse: 0.7866 - val_loss: 0.3257 - val_mse: 0.3257\n",
      "Epoch 25/200\n",
      "1/1 [==============================] - 0s 22ms/step - loss: 0.7807 - mse: 0.7807 - val_loss: 0.3111 - val_mse: 0.3111\n",
      "Epoch 26/200\n",
      "1/1 [==============================] - 0s 23ms/step - loss: 0.7631 - mse: 0.7631 - val_loss: 0.2725 - val_mse: 0.2725\n",
      "Epoch 27/200\n",
      "1/1 [==============================] - 0s 23ms/step - loss: 0.7397 - mse: 0.7397 - val_loss: 0.2319 - val_mse: 0.2319\n",
      "Epoch 28/200\n",
      "1/1 [==============================] - 0s 24ms/step - loss: 0.7225 - mse: 0.7225 - val_loss: 0.2042 - val_mse: 0.2042\n",
      "Epoch 29/200\n",
      "1/1 [==============================] - 0s 21ms/step - loss: 0.7135 - mse: 0.7135 - val_loss: 0.1913 - val_mse: 0.1913\n",
      "Epoch 30/200\n",
      "1/1 [==============================] - 0s 26ms/step - loss: 0.7041 - mse: 0.7041 - val_loss: 0.1907 - val_mse: 0.1907\n",
      "Epoch 31/200\n",
      "1/1 [==============================] - 0s 22ms/step - loss: 0.6874 - mse: 0.6874 - val_loss: 0.2029 - val_mse: 0.2029\n",
      "Epoch 32/200\n",
      "1/1 [==============================] - 0s 23ms/step - loss: 0.6668 - mse: 0.6668 - val_loss: 0.2264 - val_mse: 0.2264\n",
      "Epoch 33/200\n",
      "1/1 [==============================] - 0s 28ms/step - loss: 0.6501 - mse: 0.6501 - val_loss: 0.2511 - val_mse: 0.2511\n",
      "Epoch 34/200\n",
      "1/1 [==============================] - 0s 39ms/step - loss: 0.6386 - mse: 0.6386 - val_loss: 0.2614 - val_mse: 0.2614\n",
      "Epoch 35/200\n",
      "1/1 [==============================] - 0s 43ms/step - loss: 0.6263 - mse: 0.6263 - val_loss: 0.2498 - val_mse: 0.2498\n",
      "Epoch 36/200\n",
      "1/1 [==============================] - 0s 32ms/step - loss: 0.6091 - mse: 0.6091 - val_loss: 0.2228 - val_mse: 0.2228\n",
      "Epoch 37/200\n",
      "1/1 [==============================] - 0s 25ms/step - loss: 0.5901 - mse: 0.5901 - val_loss: 0.1942 - val_mse: 0.1942\n",
      "Epoch 38/200\n",
      "1/1 [==============================] - 0s 21ms/step - loss: 0.5743 - mse: 0.5743 - val_loss: 0.1745 - val_mse: 0.1745\n",
      "Epoch 39/200\n",
      "1/1 [==============================] - 0s 24ms/step - loss: 0.5614 - mse: 0.5614 - val_loss: 0.1671 - val_mse: 0.1671\n",
      "Epoch 40/200\n",
      "1/1 [==============================] - 0s 21ms/step - loss: 0.5470 - mse: 0.5470 - val_loss: 0.1723 - val_mse: 0.1723\n",
      "Epoch 41/200\n",
      "1/1 [==============================] - 0s 25ms/step - loss: 0.5296 - mse: 0.5296 - val_loss: 0.1881 - val_mse: 0.1881\n",
      "Epoch 42/200\n",
      "1/1 [==============================] - 0s 29ms/step - loss: 0.5122 - mse: 0.5122 - val_loss: 0.2078 - val_mse: 0.2078\n",
      "Epoch 43/200\n",
      "1/1 [==============================] - 0s 38ms/step - loss: 0.4974 - mse: 0.4974 - val_loss: 0.2204 - val_mse: 0.2204\n",
      "Epoch 44/200\n",
      "1/1 [==============================] - 0s 27ms/step - loss: 0.4836 - mse: 0.4836 - val_loss: 0.2176 - val_mse: 0.2176\n",
      "Epoch 45/200\n",
      "1/1 [==============================] - 0s 37ms/step - loss: 0.4682 - mse: 0.4682 - val_loss: 0.2007 - val_mse: 0.2007\n",
      "Epoch 46/200\n",
      "1/1 [==============================] - 0s 43ms/step - loss: 0.4515 - mse: 0.4515 - val_loss: 0.1792 - val_mse: 0.1792\n",
      "Epoch 47/200\n",
      "1/1 [==============================] - 0s 36ms/step - loss: 0.4360 - mse: 0.4360 - val_loss: 0.1630 - val_mse: 0.1630\n",
      "Epoch 48/200\n",
      "1/1 [==============================] - 0s 27ms/step - loss: 0.4223 - mse: 0.4223 - val_loss: 0.1574 - val_mse: 0.1574\n",
      "Epoch 49/200\n",
      "1/1 [==============================] - 0s 30ms/step - loss: 0.4084 - mse: 0.4084 - val_loss: 0.1635 - val_mse: 0.1635\n",
      "Epoch 50/200\n",
      "1/1 [==============================] - 0s 36ms/step - loss: 0.3934 - mse: 0.3934 - val_loss: 0.1783 - val_mse: 0.1783\n",
      "Epoch 51/200\n",
      "1/1 [==============================] - 0s 29ms/step - loss: 0.3788 - mse: 0.3788 - val_loss: 0.1943 - val_mse: 0.1943\n",
      "Epoch 52/200\n",
      "1/1 [==============================] - 0s 29ms/step - loss: 0.3657 - mse: 0.3657 - val_loss: 0.2025 - val_mse: 0.2025\n",
      "Epoch 53/200\n",
      "1/1 [==============================] - 0s 32ms/step - loss: 0.3532 - mse: 0.3532 - val_loss: 0.1980 - val_mse: 0.1980\n",
      "Epoch 54/200\n",
      "1/1 [==============================] - 0s 30ms/step - loss: 0.3402 - mse: 0.3402 - val_loss: 0.1842 - val_mse: 0.1842\n",
      "Epoch 55/200\n",
      "1/1 [==============================] - 0s 29ms/step - loss: 0.3273 - mse: 0.3273 - val_loss: 0.1696 - val_mse: 0.1696\n",
      "Epoch 56/200\n",
      "1/1 [==============================] - 0s 31ms/step - loss: 0.3157 - mse: 0.3157 - val_loss: 0.1616 - val_mse: 0.1616\n",
      "Epoch 57/200\n",
      "1/1 [==============================] - 0s 30ms/step - loss: 0.3050 - mse: 0.3050 - val_loss: 0.1634 - val_mse: 0.1634\n",
      "Epoch 58/200\n",
      "1/1 [==============================] - 0s 30ms/step - loss: 0.2941 - mse: 0.2941 - val_loss: 0.1738 - val_mse: 0.1738\n",
      "Epoch 59/200\n",
      "1/1 [==============================] - 0s 29ms/step - loss: 0.2834 - mse: 0.2834 - val_loss: 0.1868 - val_mse: 0.1868\n",
      "Epoch 60/200\n",
      "1/1 [==============================] - 0s 33ms/step - loss: 0.2738 - mse: 0.2738 - val_loss: 0.1950 - val_mse: 0.1950\n",
      "Epoch 61/200\n",
      "1/1 [==============================] - 0s 33ms/step - loss: 0.2651 - mse: 0.2651 - val_loss: 0.1933 - val_mse: 0.1933\n",
      "Epoch 62/200\n",
      "1/1 [==============================] - 0s 44ms/step - loss: 0.2564 - mse: 0.2564 - val_loss: 0.1835 - val_mse: 0.1835\n",
      "Epoch 63/200\n",
      "1/1 [==============================] - 0s 40ms/step - loss: 0.2481 - mse: 0.2481 - val_loss: 0.1720 - val_mse: 0.1720\n",
      "Epoch 64/200\n",
      "1/1 [==============================] - 0s 33ms/step - loss: 0.2406 - mse: 0.2406 - val_loss: 0.1652 - val_mse: 0.1652\n",
      "Epoch 65/200\n",
      "1/1 [==============================] - 0s 35ms/step - loss: 0.2339 - mse: 0.2339 - val_loss: 0.1659 - val_mse: 0.1659\n",
      "Epoch 66/200\n",
      "1/1 [==============================] - 0s 34ms/step - loss: 0.2273 - mse: 0.2273 - val_loss: 0.1725 - val_mse: 0.1725\n",
      "Epoch 67/200\n",
      "1/1 [==============================] - 0s 26ms/step - loss: 0.2211 - mse: 0.2211 - val_loss: 0.1798 - val_mse: 0.1798\n",
      "Epoch 68/200\n",
      "1/1 [==============================] - 0s 27ms/step - loss: 0.2156 - mse: 0.2156 - val_loss: 0.1823 - val_mse: 0.1823\n",
      "Epoch 69/200\n",
      "1/1 [==============================] - 0s 26ms/step - loss: 0.2107 - mse: 0.2107 - val_loss: 0.1776 - val_mse: 0.1776\n",
      "Epoch 70/200\n",
      "1/1 [==============================] - 0s 27ms/step - loss: 0.2059 - mse: 0.2059 - val_loss: 0.1683 - val_mse: 0.1683\n",
      "Epoch 71/200\n",
      "1/1 [==============================] - 0s 26ms/step - loss: 0.2015 - mse: 0.2015 - val_loss: 0.1596 - val_mse: 0.1596\n",
      "Epoch 72/200\n",
      "1/1 [==============================] - 0s 36ms/step - loss: 0.1976 - mse: 0.1976 - val_loss: 0.1554 - val_mse: 0.1554\n",
      "Epoch 73/200\n",
      "1/1 [==============================] - 0s 35ms/step - loss: 0.1940 - mse: 0.1940 - val_loss: 0.1561 - val_mse: 0.1561\n",
      "Epoch 74/200\n",
      "1/1 [==============================] - 0s 37ms/step - loss: 0.1906 - mse: 0.1906 - val_loss: 0.1591 - val_mse: 0.1591\n",
      "Epoch 75/200\n",
      "1/1 [==============================] - 0s 29ms/step - loss: 0.1875 - mse: 0.1875 - val_loss: 0.1606 - val_mse: 0.1606\n",
      "Epoch 76/200\n",
      "1/1 [==============================] - 0s 22ms/step - loss: 0.1848 - mse: 0.1848 - val_loss: 0.1578 - val_mse: 0.1578\n",
      "Epoch 77/200\n",
      "1/1 [==============================] - 0s 25ms/step - loss: 0.1823 - mse: 0.1823 - val_loss: 0.1514 - val_mse: 0.1514\n",
      "Epoch 78/200\n",
      "1/1 [==============================] - 0s 25ms/step - loss: 0.1799 - mse: 0.1799 - val_loss: 0.1445 - val_mse: 0.1445\n",
      "Epoch 79/200\n",
      "1/1 [==============================] - 0s 21ms/step - loss: 0.1777 - mse: 0.1777 - val_loss: 0.1399 - val_mse: 0.1399\n",
      "Epoch 80/200\n",
      "1/1 [==============================] - 0s 25ms/step - loss: 0.1758 - mse: 0.1758 - val_loss: 0.1385 - val_mse: 0.1385\n",
      "Epoch 81/200\n",
      "1/1 [==============================] - 0s 27ms/step - loss: 0.1739 - mse: 0.1739 - val_loss: 0.1390 - val_mse: 0.1390\n",
      "Epoch 82/200\n",
      "1/1 [==============================] - 0s 28ms/step - loss: 0.1722 - mse: 0.1722 - val_loss: 0.1390 - val_mse: 0.1390\n",
      "Epoch 83/200\n",
      "1/1 [==============================] - 0s 33ms/step - loss: 0.1707 - mse: 0.1707 - val_loss: 0.1369 - val_mse: 0.1369\n",
      "Epoch 84/200\n",
      "1/1 [==============================] - 0s 44ms/step - loss: 0.1692 - mse: 0.1692 - val_loss: 0.1328 - val_mse: 0.1328\n",
      "Epoch 85/200\n",
      "1/1 [==============================] - 0s 40ms/step - loss: 0.1679 - mse: 0.1679 - val_loss: 0.1285 - val_mse: 0.1285\n",
      "Epoch 86/200\n",
      "1/1 [==============================] - 0s 34ms/step - loss: 0.1666 - mse: 0.1666 - val_loss: 0.1255 - val_mse: 0.1255\n",
      "Epoch 87/200\n",
      "1/1 [==============================] - 0s 34ms/step - loss: 0.1655 - mse: 0.1655 - val_loss: 0.1242 - val_mse: 0.1242\n",
      "Epoch 88/200\n",
      "1/1 [==============================] - 0s 28ms/step - loss: 0.1644 - mse: 0.1644 - val_loss: 0.1239 - val_mse: 0.1239\n",
      "Epoch 89/200\n",
      "1/1 [==============================] - 0s 26ms/step - loss: 0.1633 - mse: 0.1633 - val_loss: 0.1234 - val_mse: 0.1234\n",
      "Epoch 90/200\n",
      "1/1 [==============================] - 0s 24ms/step - loss: 0.1624 - mse: 0.1624 - val_loss: 0.1219 - val_mse: 0.1219\n",
      "Epoch 91/200\n",
      "1/1 [==============================] - 0s 24ms/step - loss: 0.1616 - mse: 0.1616 - val_loss: 0.1197 - val_mse: 0.1197\n",
      "Epoch 92/200\n",
      "1/1 [==============================] - 0s 29ms/step - loss: 0.1607 - mse: 0.1607 - val_loss: 0.1175 - val_mse: 0.1175\n",
      "Epoch 93/200\n",
      "1/1 [==============================] - 0s 28ms/step - loss: 0.1600 - mse: 0.1600 - val_loss: 0.1161 - val_mse: 0.1161\n",
      "Epoch 94/200\n",
      "1/1 [==============================] - 0s 33ms/step - loss: 0.1593 - mse: 0.1593 - val_loss: 0.1155 - val_mse: 0.1155\n",
      "Epoch 95/200\n",
      "1/1 [==============================] - 0s 25ms/step - loss: 0.1587 - mse: 0.1587 - val_loss: 0.1153 - val_mse: 0.1153\n",
      "Epoch 96/200\n",
      "1/1 [==============================] - 0s 28ms/step - loss: 0.1581 - mse: 0.1581 - val_loss: 0.1149 - val_mse: 0.1149\n",
      "Epoch 97/200\n",
      "1/1 [==============================] - 0s 28ms/step - loss: 0.1576 - mse: 0.1576 - val_loss: 0.1141 - val_mse: 0.1141\n",
      "Epoch 98/200\n",
      "1/1 [==============================] - 0s 24ms/step - loss: 0.1572 - mse: 0.1572 - val_loss: 0.1132 - val_mse: 0.1132\n",
      "Epoch 99/200\n",
      "1/1 [==============================] - 0s 26ms/step - loss: 0.1567 - mse: 0.1567 - val_loss: 0.1126 - val_mse: 0.1126\n",
      "Epoch 100/200\n",
      "1/1 [==============================] - 0s 24ms/step - loss: 0.1564 - mse: 0.1564 - val_loss: 0.1123 - val_mse: 0.1123\n",
      "Epoch 101/200\n",
      "1/1 [==============================] - 0s 33ms/step - loss: 0.1560 - mse: 0.1560 - val_loss: 0.1122 - val_mse: 0.1122\n",
      "Epoch 102/200\n",
      "1/1 [==============================] - 0s 45ms/step - loss: 0.1557 - mse: 0.1557 - val_loss: 0.1121 - val_mse: 0.1121\n",
      "Epoch 103/200\n",
      "1/1 [==============================] - 0s 45ms/step - loss: 0.1555 - mse: 0.1555 - val_loss: 0.1121 - val_mse: 0.1121\n",
      "Epoch 104/200\n",
      "1/1 [==============================] - 0s 47ms/step - loss: 0.1552 - mse: 0.1552 - val_loss: 0.1120 - val_mse: 0.1120\n",
      "Epoch 105/200\n",
      "1/1 [==============================] - 0s 47ms/step - loss: 0.1550 - mse: 0.1550 - val_loss: 0.1120 - val_mse: 0.1120\n",
      "Epoch 106/200\n",
      "1/1 [==============================] - 0s 36ms/step - loss: 0.1548 - mse: 0.1548 - val_loss: 0.1121 - val_mse: 0.1121\n",
      "Epoch 107/200\n",
      "1/1 [==============================] - 0s 38ms/step - loss: 0.1546 - mse: 0.1546 - val_loss: 0.1122 - val_mse: 0.1122\n",
      "Epoch 108/200\n",
      "1/1 [==============================] - 0s 35ms/step - loss: 0.1544 - mse: 0.1544 - val_loss: 0.1123 - val_mse: 0.1123\n",
      "Epoch 109/200\n",
      "1/1 [==============================] - 0s 40ms/step - loss: 0.1543 - mse: 0.1543 - val_loss: 0.1125 - val_mse: 0.1125\n",
      "Epoch 110/200\n",
      "1/1 [==============================] - 0s 43ms/step - loss: 0.1541 - mse: 0.1541 - val_loss: 0.1127 - val_mse: 0.1127\n",
      "Epoch 111/200\n",
      "1/1 [==============================] - 0s 45ms/step - loss: 0.1540 - mse: 0.1540 - val_loss: 0.1130 - val_mse: 0.1130\n",
      "Epoch 112/200\n",
      "1/1 [==============================] - 0s 66ms/step - loss: 0.1538 - mse: 0.1538 - val_loss: 0.1134 - val_mse: 0.1134\n",
      "Epoch 113/200\n",
      "1/1 [==============================] - 0s 52ms/step - loss: 0.1537 - mse: 0.1537 - val_loss: 0.1137 - val_mse: 0.1137\n",
      "Epoch 114/200\n",
      "1/1 [==============================] - 0s 56ms/step - loss: 0.1536 - mse: 0.1536 - val_loss: 0.1139 - val_mse: 0.1139\n",
      "Epoch 115/200\n",
      "1/1 [==============================] - 0s 70ms/step - loss: 0.1534 - mse: 0.1534 - val_loss: 0.1141 - val_mse: 0.1141\n",
      "Epoch 116/200\n",
      "1/1 [==============================] - 0s 54ms/step - loss: 0.1533 - mse: 0.1533 - val_loss: 0.1143 - val_mse: 0.1143\n",
      "Epoch 117/200\n",
      "1/1 [==============================] - 0s 37ms/step - loss: 0.1532 - mse: 0.1532 - val_loss: 0.1147 - val_mse: 0.1147\n",
      "Epoch 118/200\n",
      "1/1 [==============================] - 0s 38ms/step - loss: 0.1530 - mse: 0.1530 - val_loss: 0.1151 - val_mse: 0.1151\n",
      "Epoch 119/200\n",
      "1/1 [==============================] - 0s 45ms/step - loss: 0.1529 - mse: 0.1529 - val_loss: 0.1155 - val_mse: 0.1155\n",
      "Epoch 120/200\n",
      "1/1 [==============================] - 0s 53ms/step - loss: 0.1528 - mse: 0.1528 - val_loss: 0.1157 - val_mse: 0.1157\n",
      "Epoch 121/200\n",
      "1/1 [==============================] - 0s 53ms/step - loss: 0.1526 - mse: 0.1526 - val_loss: 0.1159 - val_mse: 0.1159\n",
      "Epoch 122/200\n",
      "1/1 [==============================] - 0s 38ms/step - loss: 0.1525 - mse: 0.1525 - val_loss: 0.1161 - val_mse: 0.1161\n",
      "Epoch 123/200\n",
      "1/1 [==============================] - 0s 48ms/step - loss: 0.1523 - mse: 0.1523 - val_loss: 0.1164 - val_mse: 0.1164\n",
      "Epoch 124/200\n",
      "1/1 [==============================] - 0s 50ms/step - loss: 0.1522 - mse: 0.1522 - val_loss: 0.1167 - val_mse: 0.1167\n",
      "Epoch 125/200\n",
      "1/1 [==============================] - 0s 38ms/step - loss: 0.1521 - mse: 0.1521 - val_loss: 0.1171 - val_mse: 0.1171\n",
      "Epoch 126/200\n",
      "1/1 [==============================] - 0s 38ms/step - loss: 0.1519 - mse: 0.1519 - val_loss: 0.1173 - val_mse: 0.1173\n",
      "Epoch 127/200\n",
      "1/1 [==============================] - 0s 59ms/step - loss: 0.1518 - mse: 0.1518 - val_loss: 0.1174 - val_mse: 0.1174\n",
      "Epoch 128/200\n",
      "1/1 [==============================] - 0s 52ms/step - loss: 0.1516 - mse: 0.1516 - val_loss: 0.1176 - val_mse: 0.1176\n",
      "Epoch 129/200\n",
      "1/1 [==============================] - 0s 40ms/step - loss: 0.1515 - mse: 0.1515 - val_loss: 0.1177 - val_mse: 0.1177\n",
      "Epoch 130/200\n",
      "1/1 [==============================] - 0s 38ms/step - loss: 0.1513 - mse: 0.1513 - val_loss: 0.1180 - val_mse: 0.1180\n",
      "Epoch 131/200\n",
      "1/1 [==============================] - 0s 35ms/step - loss: 0.1512 - mse: 0.1512 - val_loss: 0.1182 - val_mse: 0.1182\n",
      "Epoch 132/200\n",
      "1/1 [==============================] - 0s 27ms/step - loss: 0.1511 - mse: 0.1511 - val_loss: 0.1184 - val_mse: 0.1184\n",
      "Epoch 133/200\n",
      "1/1 [==============================] - 0s 26ms/step - loss: 0.1509 - mse: 0.1509 - val_loss: 0.1185 - val_mse: 0.1185\n",
      "Epoch 134/200\n",
      "1/1 [==============================] - 0s 29ms/step - loss: 0.1508 - mse: 0.1508 - val_loss: 0.1185 - val_mse: 0.1185\n",
      "Epoch 135/200\n",
      "1/1 [==============================] - 0s 25ms/step - loss: 0.1506 - mse: 0.1506 - val_loss: 0.1186 - val_mse: 0.1186\n",
      "Epoch 136/200\n",
      "1/1 [==============================] - 0s 24ms/step - loss: 0.1505 - mse: 0.1505 - val_loss: 0.1188 - val_mse: 0.1188\n",
      "Epoch 137/200\n",
      "1/1 [==============================] - 0s 29ms/step - loss: 0.1503 - mse: 0.1503 - val_loss: 0.1189 - val_mse: 0.1189\n",
      "Epoch 138/200\n",
      "1/1 [==============================] - 0s 27ms/step - loss: 0.1502 - mse: 0.1502 - val_loss: 0.1190 - val_mse: 0.1190\n",
      "Epoch 139/200\n",
      "1/1 [==============================] - 0s 33ms/step - loss: 0.1501 - mse: 0.1501 - val_loss: 0.1190 - val_mse: 0.1190\n",
      "Epoch 140/200\n",
      "1/1 [==============================] - 0s 33ms/step - loss: 0.1499 - mse: 0.1499 - val_loss: 0.1190 - val_mse: 0.1190\n",
      "Epoch 141/200\n",
      "1/1 [==============================] - 0s 31ms/step - loss: 0.1498 - mse: 0.1498 - val_loss: 0.1190 - val_mse: 0.1190\n",
      "Epoch 142/200\n",
      "1/1 [==============================] - 0s 28ms/step - loss: 0.1496 - mse: 0.1496 - val_loss: 0.1191 - val_mse: 0.1191\n",
      "Epoch 143/200\n",
      "1/1 [==============================] - 0s 20ms/step - loss: 0.1495 - mse: 0.1495 - val_loss: 0.1191 - val_mse: 0.1191\n",
      "Epoch 144/200\n",
      "1/1 [==============================] - 0s 26ms/step - loss: 0.1494 - mse: 0.1494 - val_loss: 0.1192 - val_mse: 0.1192\n",
      "Epoch 145/200\n",
      "1/1 [==============================] - 0s 24ms/step - loss: 0.1492 - mse: 0.1492 - val_loss: 0.1191 - val_mse: 0.1191\n",
      "Epoch 146/200\n",
      "1/1 [==============================] - 0s 28ms/step - loss: 0.1491 - mse: 0.1491 - val_loss: 0.1191 - val_mse: 0.1191\n",
      "Epoch 147/200\n",
      "1/1 [==============================] - 0s 24ms/step - loss: 0.1489 - mse: 0.1489 - val_loss: 0.1191 - val_mse: 0.1191\n",
      "Epoch 148/200\n",
      "1/1 [==============================] - 0s 24ms/step - loss: 0.1488 - mse: 0.1488 - val_loss: 0.1191 - val_mse: 0.1191\n",
      "Epoch 149/200\n",
      "1/1 [==============================] - 0s 27ms/step - loss: 0.1486 - mse: 0.1486 - val_loss: 0.1191 - val_mse: 0.1191\n",
      "Epoch 150/200\n",
      "1/1 [==============================] - 0s 39ms/step - loss: 0.1485 - mse: 0.1485 - val_loss: 0.1191 - val_mse: 0.1191\n",
      "Epoch 151/200\n",
      "1/1 [==============================] - 0s 42ms/step - loss: 0.1483 - mse: 0.1483 - val_loss: 0.1190 - val_mse: 0.1190\n",
      "Epoch 152/200\n",
      "1/1 [==============================] - 0s 50ms/step - loss: 0.1482 - mse: 0.1482 - val_loss: 0.1190 - val_mse: 0.1190\n",
      "Epoch 153/200\n",
      "1/1 [==============================] - 0s 34ms/step - loss: 0.1480 - mse: 0.1480 - val_loss: 0.1190 - val_mse: 0.1190\n",
      "Epoch 154/200\n",
      "1/1 [==============================] - 0s 29ms/step - loss: 0.1479 - mse: 0.1479 - val_loss: 0.1190 - val_mse: 0.1190\n",
      "Epoch 155/200\n",
      "1/1 [==============================] - 0s 30ms/step - loss: 0.1477 - mse: 0.1477 - val_loss: 0.1190 - val_mse: 0.1190\n",
      "Epoch 156/200\n",
      "1/1 [==============================] - 0s 28ms/step - loss: 0.1476 - mse: 0.1476 - val_loss: 0.1189 - val_mse: 0.1189\n",
      "Epoch 157/200\n",
      "1/1 [==============================] - 0s 31ms/step - loss: 0.1474 - mse: 0.1474 - val_loss: 0.1189 - val_mse: 0.1189\n",
      "Epoch 158/200\n",
      "1/1 [==============================] - 0s 29ms/step - loss: 0.1473 - mse: 0.1473 - val_loss: 0.1189 - val_mse: 0.1189\n",
      "Epoch 159/200\n",
      "1/1 [==============================] - 0s 32ms/step - loss: 0.1471 - mse: 0.1471 - val_loss: 0.1189 - val_mse: 0.1189\n",
      "Epoch 160/200\n",
      "1/1 [==============================] - 0s 31ms/step - loss: 0.1469 - mse: 0.1469 - val_loss: 0.1189 - val_mse: 0.1189\n",
      "Epoch 161/200\n",
      "1/1 [==============================] - 0s 29ms/step - loss: 0.1468 - mse: 0.1468 - val_loss: 0.1189 - val_mse: 0.1189\n",
      "Epoch 162/200\n",
      "1/1 [==============================] - 0s 23ms/step - loss: 0.1466 - mse: 0.1466 - val_loss: 0.1189 - val_mse: 0.1189\n",
      "Epoch 163/200\n",
      "1/1 [==============================] - 0s 28ms/step - loss: 0.1465 - mse: 0.1465 - val_loss: 0.1188 - val_mse: 0.1188\n",
      "Epoch 164/200\n",
      "1/1 [==============================] - 0s 27ms/step - loss: 0.1463 - mse: 0.1463 - val_loss: 0.1188 - val_mse: 0.1188\n",
      "Epoch 165/200\n",
      "1/1 [==============================] - 0s 23ms/step - loss: 0.1461 - mse: 0.1461 - val_loss: 0.1188 - val_mse: 0.1188\n",
      "Epoch 166/200\n",
      "1/1 [==============================] - 0s 26ms/step - loss: 0.1460 - mse: 0.1460 - val_loss: 0.1189 - val_mse: 0.1189\n",
      "Epoch 167/200\n",
      "1/1 [==============================] - 0s 29ms/step - loss: 0.1458 - mse: 0.1458 - val_loss: 0.1189 - val_mse: 0.1189\n",
      "Epoch 168/200\n",
      "1/1 [==============================] - 0s 23ms/step - loss: 0.1456 - mse: 0.1456 - val_loss: 0.1189 - val_mse: 0.1189\n",
      "Epoch 169/200\n",
      "1/1 [==============================] - 0s 28ms/step - loss: 0.1454 - mse: 0.1454 - val_loss: 0.1189 - val_mse: 0.1189\n",
      "Epoch 170/200\n",
      "1/1 [==============================] - 0s 46ms/step - loss: 0.1453 - mse: 0.1453 - val_loss: 0.1189 - val_mse: 0.1189\n",
      "Epoch 171/200\n",
      "1/1 [==============================] - 0s 39ms/step - loss: 0.1451 - mse: 0.1451 - val_loss: 0.1190 - val_mse: 0.1190\n",
      "Epoch 172/200\n",
      "1/1 [==============================] - 0s 41ms/step - loss: 0.1449 - mse: 0.1449 - val_loss: 0.1190 - val_mse: 0.1190\n",
      "Epoch 173/200\n",
      "1/1 [==============================] - 0s 33ms/step - loss: 0.1447 - mse: 0.1447 - val_loss: 0.1191 - val_mse: 0.1191\n",
      "Epoch 174/200\n",
      "1/1 [==============================] - 0s 32ms/step - loss: 0.1445 - mse: 0.1445 - val_loss: 0.1191 - val_mse: 0.1191\n",
      "Epoch 175/200\n",
      "1/1 [==============================] - 0s 54ms/step - loss: 0.1443 - mse: 0.1443 - val_loss: 0.1192 - val_mse: 0.1192\n",
      "Epoch 176/200\n",
      "1/1 [==============================] - 0s 41ms/step - loss: 0.1442 - mse: 0.1442 - val_loss: 0.1192 - val_mse: 0.1192\n",
      "Epoch 177/200\n",
      "1/1 [==============================] - 0s 35ms/step - loss: 0.1440 - mse: 0.1440 - val_loss: 0.1193 - val_mse: 0.1193\n",
      "Epoch 178/200\n",
      "1/1 [==============================] - 0s 36ms/step - loss: 0.1438 - mse: 0.1438 - val_loss: 0.1193 - val_mse: 0.1193\n",
      "Epoch 179/200\n",
      "1/1 [==============================] - 0s 45ms/step - loss: 0.1436 - mse: 0.1436 - val_loss: 0.1194 - val_mse: 0.1194\n",
      "Epoch 180/200\n",
      "1/1 [==============================] - 0s 45ms/step - loss: 0.1434 - mse: 0.1434 - val_loss: 0.1194 - val_mse: 0.1194\n",
      "Epoch 181/200\n",
      "1/1 [==============================] - 0s 41ms/step - loss: 0.1432 - mse: 0.1432 - val_loss: 0.1195 - val_mse: 0.1195\n",
      "Epoch 182/200\n",
      "1/1 [==============================] - 0s 36ms/step - loss: 0.1430 - mse: 0.1430 - val_loss: 0.1196 - val_mse: 0.1196\n",
      "Epoch 183/200\n",
      "1/1 [==============================] - 0s 40ms/step - loss: 0.1428 - mse: 0.1428 - val_loss: 0.1196 - val_mse: 0.1196\n",
      "Epoch 184/200\n",
      "1/1 [==============================] - 0s 44ms/step - loss: 0.1426 - mse: 0.1426 - val_loss: 0.1197 - val_mse: 0.1197\n",
      "Epoch 185/200\n",
      "1/1 [==============================] - 0s 68ms/step - loss: 0.1424 - mse: 0.1424 - val_loss: 0.1198 - val_mse: 0.1198\n",
      "Epoch 186/200\n",
      "1/1 [==============================] - 0s 47ms/step - loss: 0.1422 - mse: 0.1422 - val_loss: 0.1198 - val_mse: 0.1198\n",
      "Epoch 187/200\n",
      "1/1 [==============================] - 0s 32ms/step - loss: 0.1419 - mse: 0.1419 - val_loss: 0.1199 - val_mse: 0.1199\n",
      "Epoch 188/200\n",
      "1/1 [==============================] - 0s 38ms/step - loss: 0.1417 - mse: 0.1417 - val_loss: 0.1200 - val_mse: 0.1200\n",
      "Epoch 189/200\n",
      "1/1 [==============================] - 0s 42ms/step - loss: 0.1415 - mse: 0.1415 - val_loss: 0.1201 - val_mse: 0.1201\n",
      "Epoch 190/200\n",
      "1/1 [==============================] - 0s 38ms/step - loss: 0.1413 - mse: 0.1413 - val_loss: 0.1201 - val_mse: 0.1201\n",
      "Epoch 191/200\n",
      "1/1 [==============================] - 0s 42ms/step - loss: 0.1410 - mse: 0.1410 - val_loss: 0.1202 - val_mse: 0.1202\n",
      "Epoch 192/200\n",
      "1/1 [==============================] - 0s 63ms/step - loss: 0.1408 - mse: 0.1408 - val_loss: 0.1203 - val_mse: 0.1203\n",
      "Epoch 193/200\n",
      "1/1 [==============================] - 0s 62ms/step - loss: 0.1406 - mse: 0.1406 - val_loss: 0.1203 - val_mse: 0.1203\n",
      "Epoch 194/200\n",
      "1/1 [==============================] - 0s 50ms/step - loss: 0.1403 - mse: 0.1403 - val_loss: 0.1204 - val_mse: 0.1204\n",
      "Epoch 195/200\n",
      "1/1 [==============================] - 0s 59ms/step - loss: 0.1401 - mse: 0.1401 - val_loss: 0.1205 - val_mse: 0.1205\n",
      "Epoch 196/200\n",
      "1/1 [==============================] - 0s 61ms/step - loss: 0.1399 - mse: 0.1399 - val_loss: 0.1205 - val_mse: 0.1205\n",
      "Epoch 197/200\n",
      "1/1 [==============================] - 0s 60ms/step - loss: 0.1396 - mse: 0.1396 - val_loss: 0.1206 - val_mse: 0.1206\n",
      "Epoch 198/200\n",
      "1/1 [==============================] - 0s 59ms/step - loss: 0.1394 - mse: 0.1394 - val_loss: 0.1207 - val_mse: 0.1207\n",
      "Epoch 199/200\n",
      "1/1 [==============================] - 0s 48ms/step - loss: 0.1391 - mse: 0.1391 - val_loss: 0.1207 - val_mse: 0.1207\n",
      "Epoch 200/200\n",
      "1/1 [==============================] - 0s 37ms/step - loss: 0.1388 - mse: 0.1388 - val_loss: 0.1208 - val_mse: 0.1208\n"
     ]
    }
   ],
   "source": [
    "import tensorflow as tf\n",
    "from tensorflow import keras\n",
    "# from tensorflow.python.keras.layers import Dense\n",
    "import pandas as pd\n",
    "from tensorflow.keras import layers\n",
    "\n",
    "import keras\n",
    "from keras.models import Sequential\n",
    "from keras.layers import Dense\n",
    "\n",
    "variables,results = split_x_and_y(database.iloc[[0,1,2,3,4,5,6,7,8]],['A','E','N'],'Nu')\n",
    "test_x,test_y = split_x_and_y(database.iloc[[9,10,11]],['A','E','N'],'Nu')\n",
    "\n",
    "model = keras.Sequential([\n",
    "  layers.Dense(256, activation='sigmoid', input_shape=[len(variables.keys())]),\n",
    "  # layers.Dropout(0.1),\n",
    "  layers.Dense(256, activation='sigmoid'),\n",
    "  # layers.Dense(8, activation='relu'),\n",
    "  layers.Dense(1)\n",
    "])\n",
    "\n",
    "# optimizer = tf.keras.optimizers.RMSprop(0.001)\n",
    "\n",
    "model.compile(optimizer='adam',loss='mean_squared_error',metrics=['mse'])\n",
    "# callback = tf.keras.callbacks.EarlyStopping(monitor=\"loss\", patience=10)\n",
    "history = model.fit(variables.values,results.values,epochs=200,validation_split=0.3)"
   ]
  },
  {
   "cell_type": "code",
   "execution_count": 12,
   "metadata": {},
   "outputs": [
    {
     "data": {
      "text/plain": [
       "Text(0, 0.5, 'Erro Médio Quadrado')"
      ]
     },
     "execution_count": 12,
     "metadata": {},
     "output_type": "execute_result"
    },
    {
     "data": {
      "image/png": "[encoded data removed]",
      "text/plain": [
       "<Figure size 720x432 with 1 Axes>"
      ]
     },
     "metadata": {
      "needs_background": "light"
     },
     "output_type": "display_data"
    }
   ],
   "source": [
    "import matplotlib.pyplot as plt\n",
    "plt.figure(figsize=(10,6))\n",
    "plt.plot(history.history['loss'])\n",
    "plt.plot(history.history['val_loss'])\n",
    "plt.legend(['Treino','Validacao'],prop={'size': 14})\n",
    "plt.xlabel('Épocas')\n",
    "plt.ylabel('Erro Médio Quadrado')"
   ]
  },
  {
   "cell_type": "code",
   "execution_count": 47,
   "metadata": {},
   "outputs": [
    {
     "name": "stdout",
     "output_type": "stream",
     "text": [
      "1/1 [==============================] - 0s 42ms/step\n"
     ]
    },
    {
     "data": {
      "text/plain": [
       "array([[ 0.70963264],\n",
       "       [ 0.90180624],\n",
       "       [-1.5341841 ]], dtype=float32)"
      ]
     },
     "execution_count": 47,
     "metadata": {},
     "output_type": "execute_result"
    }
   ],
   "source": [
    "guess = model.predict(test_x.values)\n",
    "guess"
   ]
  },
  {
   "cell_type": "code",
   "execution_count": 48,
   "metadata": {},
   "outputs": [
    {
     "data": {
      "text/html": [
       "<div>\n",
       "<style scoped>\n",
       "    .dataframe tbody tr th:only-of-type {\n",
       "        vertical-align: middle;\n",
       "    }\n",
       "\n",
       "    .dataframe tbody tr th {\n",
       "        vertical-align: top;\n",
       "    }\n",
       "\n",
       "    .dataframe thead th {\n",
       "        text-align: right;\n",
       "    }\n",
       "</style>\n",
       "<table border=\"1\" class=\"dataframe\">\n",
       "  <thead>\n",
       "    <tr style=\"text-align: right;\">\n",
       "      <th></th>\n",
       "      <th>A</th>\n",
       "      <th>E</th>\n",
       "      <th>N</th>\n",
       "      <th>Nu</th>\n",
       "    </tr>\n",
       "  </thead>\n",
       "  <tbody>\n",
       "    <tr>\n",
       "      <th>9</th>\n",
       "      <td>-0.845154</td>\n",
       "      <td>-1.224745</td>\n",
       "      <td>0.000000</td>\n",
       "      <td>0.709633</td>\n",
       "    </tr>\n",
       "    <tr>\n",
       "      <th>10</th>\n",
       "      <td>-0.845154</td>\n",
       "      <td>0.000000</td>\n",
       "      <td>-1.224745</td>\n",
       "      <td>0.901806</td>\n",
       "    </tr>\n",
       "    <tr>\n",
       "      <th>11</th>\n",
       "      <td>1.183216</td>\n",
       "      <td>1.224745</td>\n",
       "      <td>1.224745</td>\n",
       "      <td>-1.534184</td>\n",
       "    </tr>\n",
       "  </tbody>\n",
       "</table>\n",
       "</div>"
      ],
      "text/plain": [
       "           A         E         N        Nu\n",
       "9  -0.845154 -1.224745  0.000000  0.709633\n",
       "10 -0.845154  0.000000 -1.224745  0.901806\n",
       "11  1.183216  1.224745  1.224745 -1.534184"
      ]
     },
     "execution_count": 48,
     "metadata": {},
     "output_type": "execute_result"
    }
   ],
   "source": [
    "desnormalizar = test_x.copy()\n",
    "desnormalizar['Nu'] = guess\n",
    "desnormalizar"
   ]
  },
  {
   "cell_type": "code",
   "execution_count": 49,
   "metadata": {},
   "outputs": [
    {
     "data": {
      "text/plain": [
       "array([[25.        ,  1.        ,  8.        , 95.08813833],\n",
       "       [25.        ,  2.        ,  5.        , 99.61440156],\n",
       "       [35.        ,  3.        , 11.        , 42.23954113]])"
      ]
     },
     "execution_count": 49,
     "metadata": {},
     "output_type": "execute_result"
    }
   ],
   "source": [
    "desnormalizado_teste = standardscaler.inverse_transform(desnormalizar)\n",
    "desnormalizado_teste"
   ]
  },
  {
   "cell_type": "code",
   "execution_count": 43,
   "metadata": {},
   "outputs": [
    {
     "data": {
      "text/html": [
       "<div>\n",
       "<style scoped>\n",
       "    .dataframe tbody tr th:only-of-type {\n",
       "        vertical-align: middle;\n",
       "    }\n",
       "\n",
       "    .dataframe tbody tr th {\n",
       "        vertical-align: top;\n",
       "    }\n",
       "\n",
       "    .dataframe thead th {\n",
       "        text-align: right;\n",
       "    }\n",
       "</style>\n",
       "<table border=\"1\" class=\"dataframe\">\n",
       "  <thead>\n",
       "    <tr style=\"text-align: right;\">\n",
       "      <th></th>\n",
       "      <th>A</th>\n",
       "      <th>E</th>\n",
       "      <th>N</th>\n",
       "      <th>Nu</th>\n",
       "    </tr>\n",
       "  </thead>\n",
       "  <tbody>\n",
       "    <tr>\n",
       "      <th>9</th>\n",
       "      <td>-0.845154</td>\n",
       "      <td>-1.224745</td>\n",
       "      <td>0.000000</td>\n",
       "      <td>0.847698</td>\n",
       "    </tr>\n",
       "    <tr>\n",
       "      <th>10</th>\n",
       "      <td>-0.845154</td>\n",
       "      <td>0.000000</td>\n",
       "      <td>-1.224745</td>\n",
       "      <td>0.477469</td>\n",
       "    </tr>\n",
       "    <tr>\n",
       "      <th>11</th>\n",
       "      <td>1.183216</td>\n",
       "      <td>1.224745</td>\n",
       "      <td>1.224745</td>\n",
       "      <td>-1.991431</td>\n",
       "    </tr>\n",
       "  </tbody>\n",
       "</table>\n",
       "</div>"
      ],
      "text/plain": [
       "           A         E         N        Nu\n",
       "9  -0.845154 -1.224745  0.000000  0.847698\n",
       "10 -0.845154  0.000000 -1.224745  0.477469\n",
       "11  1.183216  1.224745  1.224745 -1.991431"
      ]
     },
     "execution_count": 43,
     "metadata": {},
     "output_type": "execute_result"
    }
   ],
   "source": [
    "desnormalizar = test_x.copy()\n",
    "desnormalizar['Nu'] = test_y\n",
    "desnormalizar"
   ]
  },
  {
   "cell_type": "code",
   "execution_count": 44,
   "metadata": {},
   "outputs": [
    {
     "data": {
      "text/plain": [
       "array([[25.  ,  1.  ,  8.  , 98.34],\n",
       "       [25.  ,  2.  ,  5.  , 89.62],\n",
       "       [35.  ,  3.  , 11.  , 31.47]])"
      ]
     },
     "execution_count": 44,
     "metadata": {},
     "output_type": "execute_result"
    }
   ],
   "source": [
    "desnormalizado_resultado = standardscaler.inverse_transform(desnormalizar)\n",
    "desnormalizado_resultado"
   ]
  },
  {
   "cell_type": "code",
   "execution_count": 55,
   "metadata": {},
   "outputs": [
    {
     "name": "stdout",
     "output_type": "stream",
     "text": [
      "r2: 0.9143231054213057 meansquarederror: 75.48189435988604 meanabsoluteerror: 8.005268121931051 maxerror: 10.76954112975644\n"
     ]
    },
    {
     "data": {
      "text/plain": [
       "(0.9143231054213057, 75.48189435988604, 8.005268121931051, 10.76954112975644)"
      ]
     },
     "execution_count": 55,
     "metadata": {},
     "output_type": "execute_result"
    }
   ],
   "source": [
    "scores(desnormalizado_resultado[:,-1],desnormalizado_teste[:,-1])"
   ]
  },
  {
   "cell_type": "code",
   "execution_count": 24,
   "metadata": {},
   "outputs": [],
   "source": [
    "model.save(\"keras_model_Nu.h5\")"
   ]
  },
  {
   "cell_type": "markdown",
   "metadata": {},
   "source": [
    "# KERAS BOXPLOT"
   ]
  },
  {
   "cell_type": "code",
   "execution_count": 5,
   "metadata": {},
   "outputs": [],
   "source": [
    "import tensorflow as tf\n",
    "from tensorflow import keras\n",
    "# from tensorflow.python.keras.layers import Dense\n",
    "import pandas as pd\n",
    "from tensorflow.keras import layers\n",
    "\n",
    "import keras\n",
    "from keras.models import Sequential\n",
    "from keras.layers import Dense\n",
    "\n",
    "\n",
    "predictions_nu = []\n",
    "\n",
    "\n",
    "for i in range(0,25):\n",
    "    variables,results = split_x_and_y(database.iloc[[0,1,2,3,4,5,6,7,8]],['A','E','N'],'Nu')\n",
    "    test_x,test_y = split_x_and_y(database.iloc[[9,10,11]],['A','E','N'],'Nu')\n",
    "\n",
    "    model = keras.Sequential([\n",
    "    layers.Dense(256, activation='sigmoid', input_shape=[len(variables.keys())]),\n",
    "    # layers.Dropout(0.1),\n",
    "    layers.Dense(256, activation='sigmoid'),\n",
    "    # layers.Dense(8, activation='relu'),\n",
    "    layers.Dense(1)\n",
    "    ])\n",
    "\n",
    "    # optimizer = tf.keras.optimizers.RMSprop(0.001)\n",
    "\n",
    "    model.compile(optimizer='adam',loss='mean_squared_error',metrics=['mse'])\n",
    "    # callback = tf.keras.callbacks.EarlyStopping(monitor=\"loss\", patience=10)\n",
    "    history = model.fit(variables.values,results.values,epochs=200,validation_split=0.3)\n",
    "\n",
    "    guess = model.predict(test_x.values)\n",
    "    desnormalizar = test_x.copy()\n",
    "    desnormalizar['Nu'] = guess\n",
    "    desnormalizado_teste = standardscaler.inverse_transform(desnormalizar)\n",
    "    desnormalizado_teste\n",
    "\n",
    "    desnormalizar = test_x.copy()\n",
    "    desnormalizar['Nu'] = test_y\n",
    "    desnormalizado_resultado = standardscaler.inverse_transform(desnormalizar)\n",
    "    desnormalizado_resultado\n",
    "\n",
    "    r2,meansquarederror,meanabsoluteerror,maxerror = scores(desnormalizado_resultado[:,-1],desnormalizado_teste[:,-1])\n",
    "\n",
    "    predictions_nu.append(list(desnormalizado_teste[:,3]))"
   ]
  },
  {
   "cell_type": "code",
   "execution_count": 6,
   "metadata": {},
   "outputs": [],
   "source": [
    "df_boxplots = pd.DataFrame(predictions_nu,columns=['C1','C2','C3'])"
   ]
  },
  {
   "cell_type": "code",
   "execution_count": 7,
   "metadata": {},
   "outputs": [
    {
     "data": {
      "text/plain": [
       "<AxesSubplot:>"
      ]
     },
     "execution_count": 7,
     "metadata": {},
     "output_type": "execute_result"
    },
    {
     "data": {
      "image/png": "[encoded data removed]",
      "text/plain": [
       "<Figure size 720x432 with 1 Axes>"
      ]
     },
     "metadata": {
      "needs_background": "light"
     },
     "output_type": "display_data"
    }
   ],
   "source": [
    "import seaborn as sns\n",
    "import matplotlib.pyplot as plt\n",
    "plt.figure(figsize=(10,6))\n",
    "sns.boxplot(data=df_boxplots)"
   ]
  },
  {
   "cell_type": "code",
   "execution_count": 14,
   "metadata": {},
   "outputs": [
    {
     "data": {
      "text/plain": [
       "Text(0, 0.5, 'Nu')"
      ]
     },
     "execution_count": 14,
     "metadata": {},
     "output_type": "execute_result"
    },
    {
     "data": {
      "image/png": "[encoded data removed]",
      "text/plain": [
       "<Figure size 1440x576 with 3 Axes>"
      ]
     },
     "metadata": {
      "needs_background": "light"
     },
     "output_type": "display_data"
    }
   ],
   "source": [
    "plt.figure(figsize=(20, 8))\n",
    "plt.subplot(1, 3, 1)\n",
    "sns.boxplot(data=df_boxplots,y='C1')\n",
    "plt.xlabel('C1')\n",
    "plt.ylabel('Nu')\n",
    "\n",
    "\n",
    "plt.subplot(1, 3, 2)\n",
    "sns.boxplot(data=df_boxplots,y='C2')\n",
    "plt.xlabel('C2')\n",
    "plt.ylabel('Nu')\n",
    "\n",
    "plt.subplot(1, 3, 3)\n",
    "sns.boxplot(data=df_boxplots,y='C3')\n",
    "plt.xlabel('C3')\n",
    "plt.ylabel('Nu')\n"
   ]
  },
  {
   "cell_type": "code",
   "execution_count": 8,
   "metadata": {},
   "outputs": [
    {
     "data": {
      "text/plain": [
       "<AxesSubplot:ylabel='C1'>"
      ]
     },
     "execution_count": 8,
     "metadata": {},
     "output_type": "execute_result"
    },
    {
     "data": {
      "image/png": "[encoded data removed]",
      "text/plain": [
       "<Figure size 432x288 with 1 Axes>"
      ]
     },
     "metadata": {
      "needs_background": "light"
     },
     "output_type": "display_data"
    }
   ],
   "source": [
    "import seaborn as sns\n",
    "sns.boxplot(data=df_boxplots,y='C1')"
   ]
  },
  {
   "cell_type": "code",
   "execution_count": null,
   "metadata": {},
   "outputs": [],
   "source": []
  }
 ],
 "metadata": {
  "interpreter": {
   "hash": "edbada794071f9c875b2bc5e0e869a1d746a19a0ba8801f10239845106c51c5a"
  },
  "kernelspec": {
   "display_name": "Python 3.8.8 ('base')",
   "language": "python",
   "name": "python3"
  },
  "language_info": {
   "codemirror_mode": {
    "name": "ipython",
    "version": 3
   },
   "file_extension": ".py",
   "mimetype": "text/x-python",
   "name": "python",
   "nbconvert_exporter": "python",
   "pygments_lexer": "ipython3",
   "version": "3.8.8"
  },
  "orig_nbformat": 4
 },
 "nbformat": 4,
 "nbformat_minor": 2
}
