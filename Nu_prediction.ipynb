{
 "cells": [
  {
   "cell_type": "code",
   "execution_count": 73,
   "metadata": {},
   "outputs": [
    {
     "data": {
      "text/html": [
       "<div>\n",
       "<style scoped>\n",
       "    .dataframe tbody tr th:only-of-type {\n",
       "        vertical-align: middle;\n",
       "    }\n",
       "\n",
       "    .dataframe tbody tr th {\n",
       "        vertical-align: top;\n",
       "    }\n",
       "\n",
       "    .dataframe thead th {\n",
       "        text-align: right;\n",
       "    }\n",
       "</style>\n",
       "<table border=\"1\" class=\"dataframe\">\n",
       "  <thead>\n",
       "    <tr style=\"text-align: right;\">\n",
       "      <th></th>\n",
       "      <th>CASES</th>\n",
       "      <th>A</th>\n",
       "      <th>E</th>\n",
       "      <th>Area</th>\n",
       "      <th>N</th>\n",
       "      <th>hconv</th>\n",
       "      <th>Nu</th>\n",
       "      <th>Tmax</th>\n",
       "      <th>Rt</th>\n",
       "      <th>UA</th>\n",
       "      <th>Afin</th>\n",
       "    </tr>\n",
       "  </thead>\n",
       "  <tbody>\n",
       "    <tr>\n",
       "      <th>0</th>\n",
       "      <td>1</td>\n",
       "      <td>25</td>\n",
       "      <td>1</td>\n",
       "      <td>0.260047</td>\n",
       "      <td>11</td>\n",
       "      <td>27.20</td>\n",
       "      <td>78.62</td>\n",
       "      <td>67.67</td>\n",
       "      <td>1.638</td>\n",
       "      <td>0.610501</td>\n",
       "      <td>0.02103</td>\n",
       "    </tr>\n",
       "    <tr>\n",
       "      <th>1</th>\n",
       "      <td>3</td>\n",
       "      <td>25</td>\n",
       "      <td>1</td>\n",
       "      <td>0.118203</td>\n",
       "      <td>5</td>\n",
       "      <td>35.45</td>\n",
       "      <td>102.00</td>\n",
       "      <td>126.85</td>\n",
       "      <td>2.595</td>\n",
       "      <td>0.385356</td>\n",
       "      <td>0.01087</td>\n",
       "    </tr>\n",
       "    <tr>\n",
       "      <th>2</th>\n",
       "      <td>5</td>\n",
       "      <td>25</td>\n",
       "      <td>2</td>\n",
       "      <td>0.378251</td>\n",
       "      <td>8</td>\n",
       "      <td>29.88</td>\n",
       "      <td>91.57</td>\n",
       "      <td>72.71</td>\n",
       "      <td>1.976</td>\n",
       "      <td>0.506073</td>\n",
       "      <td>0.01694</td>\n",
       "    </tr>\n",
       "    <tr>\n",
       "      <th>3</th>\n",
       "      <td>7</td>\n",
       "      <td>25</td>\n",
       "      <td>3</td>\n",
       "      <td>0.780142</td>\n",
       "      <td>11</td>\n",
       "      <td>10.00</td>\n",
       "      <td>31.00</td>\n",
       "      <td>162.85</td>\n",
       "      <td>4.164</td>\n",
       "      <td>0.240154</td>\n",
       "      <td>0.02370</td>\n",
       "    </tr>\n",
       "    <tr>\n",
       "      <th>4</th>\n",
       "      <td>9</td>\n",
       "      <td>25</td>\n",
       "      <td>3</td>\n",
       "      <td>0.354610</td>\n",
       "      <td>5</td>\n",
       "      <td>29.00</td>\n",
       "      <td>88.97</td>\n",
       "      <td>94.85</td>\n",
       "      <td>2.869</td>\n",
       "      <td>0.348554</td>\n",
       "      <td>0.01200</td>\n",
       "    </tr>\n",
       "    <tr>\n",
       "      <th>5</th>\n",
       "      <td>11</td>\n",
       "      <td>35</td>\n",
       "      <td>1</td>\n",
       "      <td>0.189125</td>\n",
       "      <td>8</td>\n",
       "      <td>31.60</td>\n",
       "      <td>96.90</td>\n",
       "      <td>61.15</td>\n",
       "      <td>1.421</td>\n",
       "      <td>0.703730</td>\n",
       "      <td>0.02220</td>\n",
       "    </tr>\n",
       "    <tr>\n",
       "      <th>6</th>\n",
       "      <td>13</td>\n",
       "      <td>35</td>\n",
       "      <td>2</td>\n",
       "      <td>0.520095</td>\n",
       "      <td>11</td>\n",
       "      <td>20.15</td>\n",
       "      <td>61.80</td>\n",
       "      <td>63.03</td>\n",
       "      <td>1.564</td>\n",
       "      <td>0.639386</td>\n",
       "      <td>0.03170</td>\n",
       "    </tr>\n",
       "    <tr>\n",
       "      <th>7</th>\n",
       "      <td>15</td>\n",
       "      <td>35</td>\n",
       "      <td>2</td>\n",
       "      <td>0.236407</td>\n",
       "      <td>5</td>\n",
       "      <td>30.40</td>\n",
       "      <td>93.30</td>\n",
       "      <td>77.35</td>\n",
       "      <td>2.101</td>\n",
       "      <td>0.475964</td>\n",
       "      <td>0.01560</td>\n",
       "    </tr>\n",
       "    <tr>\n",
       "      <th>8</th>\n",
       "      <td>17</td>\n",
       "      <td>35</td>\n",
       "      <td>3</td>\n",
       "      <td>0.567376</td>\n",
       "      <td>8</td>\n",
       "      <td>25.10</td>\n",
       "      <td>76.90</td>\n",
       "      <td>63.25</td>\n",
       "      <td>1.591</td>\n",
       "      <td>0.628536</td>\n",
       "      <td>0.02500</td>\n",
       "    </tr>\n",
       "    <tr>\n",
       "      <th>9</th>\n",
       "      <td>2</td>\n",
       "      <td>25</td>\n",
       "      <td>1</td>\n",
       "      <td>0.189125</td>\n",
       "      <td>8</td>\n",
       "      <td>32.08</td>\n",
       "      <td>98.34</td>\n",
       "      <td>76.30</td>\n",
       "      <td>1.946</td>\n",
       "      <td>0.513875</td>\n",
       "      <td>0.01600</td>\n",
       "    </tr>\n",
       "    <tr>\n",
       "      <th>10</th>\n",
       "      <td>6</td>\n",
       "      <td>25</td>\n",
       "      <td>2</td>\n",
       "      <td>0.236407</td>\n",
       "      <td>5</td>\n",
       "      <td>29.24</td>\n",
       "      <td>89.62</td>\n",
       "      <td>98.76</td>\n",
       "      <td>2.991</td>\n",
       "      <td>0.334336</td>\n",
       "      <td>0.01140</td>\n",
       "    </tr>\n",
       "    <tr>\n",
       "      <th>11</th>\n",
       "      <td>16</td>\n",
       "      <td>35</td>\n",
       "      <td>3</td>\n",
       "      <td>0.780142</td>\n",
       "      <td>11</td>\n",
       "      <td>10.27</td>\n",
       "      <td>31.47</td>\n",
       "      <td>94.70</td>\n",
       "      <td>2.896</td>\n",
       "      <td>0.345304</td>\n",
       "      <td>0.03360</td>\n",
       "    </tr>\n",
       "  </tbody>\n",
       "</table>\n",
       "</div>"
      ],
      "text/plain": [
       "    CASES   A  E      Area   N  hconv      Nu    Tmax     Rt        UA  \\\n",
       "0       1  25  1  0.260047  11  27.20   78.62   67.67  1.638  0.610501   \n",
       "1       3  25  1  0.118203   5  35.45  102.00  126.85  2.595  0.385356   \n",
       "2       5  25  2  0.378251   8  29.88   91.57   72.71  1.976  0.506073   \n",
       "3       7  25  3  0.780142  11  10.00   31.00  162.85  4.164  0.240154   \n",
       "4       9  25  3  0.354610   5  29.00   88.97   94.85  2.869  0.348554   \n",
       "5      11  35  1  0.189125   8  31.60   96.90   61.15  1.421  0.703730   \n",
       "6      13  35  2  0.520095  11  20.15   61.80   63.03  1.564  0.639386   \n",
       "7      15  35  2  0.236407   5  30.40   93.30   77.35  2.101  0.475964   \n",
       "8      17  35  3  0.567376   8  25.10   76.90   63.25  1.591  0.628536   \n",
       "9       2  25  1  0.189125   8  32.08   98.34   76.30  1.946  0.513875   \n",
       "10      6  25  2  0.236407   5  29.24   89.62   98.76  2.991  0.334336   \n",
       "11     16  35  3  0.780142  11  10.27   31.47   94.70  2.896  0.345304   \n",
       "\n",
       "       Afin  \n",
       "0   0.02103  \n",
       "1   0.01087  \n",
       "2   0.01694  \n",
       "3   0.02370  \n",
       "4   0.01200  \n",
       "5   0.02220  \n",
       "6   0.03170  \n",
       "7   0.01560  \n",
       "8   0.02500  \n",
       "9   0.01600  \n",
       "10  0.01140  \n",
       "11  0.03360  "
      ]
     },
     "execution_count": 73,
     "metadata": {},
     "output_type": "execute_result"
    }
   ],
   "source": [
    "import pandas as pd\n",
    "database = pd.read_excel('database_TCC.xlsx')\n",
    "database"
   ]
  },
  {
   "cell_type": "code",
   "execution_count": 74,
   "metadata": {},
   "outputs": [],
   "source": [
    "database = database[['A','E','N','Nu']]"
   ]
  },
  {
   "cell_type": "code",
   "execution_count": 75,
   "metadata": {},
   "outputs": [],
   "source": [
    "from sklearn.preprocessing import StandardScaler\n",
    "standardscaler = StandardScaler()\n",
    "standardscaler.fit(database)\n",
    "data = standardscaler.transform(database)\n",
    "database = pd.DataFrame(data,columns=database.columns)"
   ]
  },
  {
   "cell_type": "code",
   "execution_count": 76,
   "metadata": {},
   "outputs": [],
   "source": [
    "from sklearn.metrics import r2_score,mean_squared_error,mean_absolute_error,max_error\n",
    "\n",
    "def split_x_and_y(database,x,y):\n",
    "  dataset_x = database[x]\n",
    "  dataset_y = database[y]\n",
    "  return dataset_x,dataset_y\n",
    "\n",
    "\n",
    "def scores(Y_true, Y_predicted):\n",
    "  r2 = r2_score(Y_true, Y_predicted)\n",
    "  meansquarederror = mean_squared_error(Y_true, Y_predicted)\n",
    "  meanabsoluteerror = mean_absolute_error(Y_true, Y_predicted)\n",
    "  maxerror = max_error(Y_true, Y_predicted)\n",
    "\n",
    "  print('r2:',r2,'meansquarederror:',meansquarederror,'meanabsoluteerror:',meanabsoluteerror,'maxerror:',maxerror)\n",
    "  return r2,meansquarederror,meanabsoluteerror,maxerror"
   ]
  },
  {
   "cell_type": "markdown",
   "metadata": {},
   "source": [
    "# Decision Tree Regressor"
   ]
  },
  {
   "cell_type": "code",
   "execution_count": 5,
   "metadata": {},
   "outputs": [
    {
     "data": {
      "text/plain": [
       "0.9897242898141063"
      ]
     },
     "execution_count": 5,
     "metadata": {},
     "output_type": "execute_result"
    }
   ],
   "source": [
    "dataset_x,dataset_y = split_x_and_y(database.iloc[[0,1,2,3,4,5,6,7,8]],['A','E','N'],'Nu')\n",
    "test_x,test_y = split_x_and_y(database.iloc[[9,10,11]],['A','E','N'],'Nu')\n",
    "\n",
    "from sklearn.tree import DecisionTreeRegressor,plot_tree\n",
    "DTR = DecisionTreeRegressor(random_state=100)\n",
    "DTR.fit(dataset_x,dataset_y)\n",
    "DTR.score(test_x,test_y)"
   ]
  },
  {
   "cell_type": "code",
   "execution_count": 6,
   "metadata": {},
   "outputs": [
    {
     "data": {
      "text/plain": [
       "array([0.05821648, 0.33288972, 0.6088938 ])"
      ]
     },
     "execution_count": 6,
     "metadata": {},
     "output_type": "execute_result"
    }
   ],
   "source": [
    "DTR.feature_importances_"
   ]
  },
  {
   "cell_type": "code",
   "execution_count": 7,
   "metadata": {},
   "outputs": [
    {
     "data": {
      "text/plain": [
       "array([[ 25. ,   1. ,   8. , 102. ],\n",
       "       [ 25. ,   2. ,   5. ,  93.3],\n",
       "       [ 35. ,   3. ,  11. ,  31. ]])"
      ]
     },
     "execution_count": 7,
     "metadata": {},
     "output_type": "execute_result"
    }
   ],
   "source": [
    "desnormalizar = test_x.copy()\n",
    "desnormalizar['Nu'] = DTR.predict(test_x)\n",
    "desnormalizado_teste = standardscaler.inverse_transform(desnormalizar)\n",
    "desnormalizado_teste"
   ]
  },
  {
   "cell_type": "code",
   "execution_count": 8,
   "metadata": {},
   "outputs": [
    {
     "data": {
      "text/plain": [
       "array([[25.  ,  1.  ,  8.  , 98.34],\n",
       "       [25.  ,  2.  ,  5.  , 89.62],\n",
       "       [35.  ,  3.  , 11.  , 31.47]])"
      ]
     },
     "execution_count": 8,
     "metadata": {},
     "output_type": "execute_result"
    }
   ],
   "source": [
    "desnormalizar = test_x.copy()\n",
    "desnormalizar['Nu'] = test_y\n",
    "desnormalizado_resultado = standardscaler.inverse_transform(desnormalizar)\n",
    "desnormalizado_resultado"
   ]
  },
  {
   "cell_type": "code",
   "execution_count": 9,
   "metadata": {},
   "outputs": [
    {
     "name": "stdout",
     "output_type": "stream",
     "text": [
      "r2: 0.9897242898141063 meansquarederror: 9.052966666666642 meanabsoluteerror: 2.6033333333333317 maxerror: 3.6799999999999926\n"
     ]
    },
    {
     "data": {
      "text/plain": [
       "(0.9897242898141063, 9.052966666666642, 2.6033333333333317, 3.6799999999999926)"
      ]
     },
     "execution_count": 9,
     "metadata": {},
     "output_type": "execute_result"
    }
   ],
   "source": [
    "scores(desnormalizado_resultado[:,-1],desnormalizado_teste[:,-1])"
   ]
  },
  {
   "cell_type": "code",
   "execution_count": 20,
   "metadata": {},
   "outputs": [],
   "source": [
    "# import matplotlib.pyplot as plt\n",
    "# fig = plt.figure(figsize=(25,20))\n",
    "# _ = plot_tree(DTR, \n",
    "#                    feature_names=dataset_x.columns, \n",
    "#                    filled=True)"
   ]
  },
  {
   "cell_type": "markdown",
   "metadata": {},
   "source": [
    "# Linear Regression"
   ]
  },
  {
   "cell_type": "code",
   "execution_count": 10,
   "metadata": {},
   "outputs": [
    {
     "data": {
      "text/plain": [
       "0.8326467092134622"
      ]
     },
     "execution_count": 10,
     "metadata": {},
     "output_type": "execute_result"
    }
   ],
   "source": [
    "dataset_x,dataset_y = split_x_and_y(database.iloc[[0,1,2,3,4,5,6,7,8]],['A','E','N'],'Nu')\n",
    "test_x,test_y = split_x_and_y(database.iloc[[9,10,11]],['A','E','N'],'Nu')\n",
    "\n",
    "from sklearn.linear_model import LinearRegression\n",
    "LR = LinearRegression()\n",
    "LR.fit(dataset_x,dataset_y)\n",
    "LR.score(test_x,test_y)"
   ]
  },
  {
   "cell_type": "code",
   "execution_count": 36,
   "metadata": {},
   "outputs": [
    {
     "data": {
      "text/plain": [
       "0.96034797005603"
      ]
     },
     "execution_count": 36,
     "metadata": {},
     "output_type": "execute_result"
    }
   ],
   "source": [
    "dataset_x,dataset_y = split_x_and_y(database.iloc[[0,1,2,3,4,5,6,7,8]],['A','E','N'],'Nu')\n",
    "test_x,test_y = split_x_and_y(database.iloc[[9,10,11]],['A','E','N'],'Nu')\n",
    "\n",
    "from sklearn.preprocessing import PolynomialFeatures\n",
    "from sklearn.linear_model import LinearRegression\n",
    "\n",
    "poly = PolynomialFeatures(4,interaction_only=False,include_bias=False)\n",
    "LR = LinearRegression()\n",
    "\n",
    "dataset_x_transformed = poly.fit_transform(dataset_x)\n",
    "test_x_transformed = poly.fit_transform(test_x)\n",
    "\n",
    "LR.fit(dataset_x_transformed,dataset_y)\n",
    "LR.score(test_x_transformed,test_y)"
   ]
  },
  {
   "cell_type": "markdown",
   "metadata": {},
   "source": [
    "# MLP"
   ]
  },
  {
   "cell_type": "code",
   "execution_count": 39,
   "metadata": {},
   "outputs": [
    {
     "data": {
      "text/plain": [
       "0.8570327827356772"
      ]
     },
     "execution_count": 39,
     "metadata": {},
     "output_type": "execute_result"
    }
   ],
   "source": [
    "dataset_x,dataset_y = split_x_and_y(database.iloc[[0,1,2,3,4,5,6,7,8]],['A','E','N'],'Nu')\n",
    "test_x,test_y = split_x_and_y(database.iloc[[9,10,11]],['A','E','N'],'Nu')\n",
    "\n",
    "from sklearn.neural_network import MLPRegressor\n",
    "MLP = MLPRegressor(random_state=100)\n",
    "MLP.fit(dataset_x,dataset_y)\n",
    "MLP.score(test_x,test_y)"
   ]
  },
  {
   "cell_type": "code",
   "execution_count": 60,
   "metadata": {},
   "outputs": [],
   "source": [
    "from sklearn.model_selection import RandomizedSearchCV\n",
    "\n",
    "dataset_x,dataset_y = split_x_and_y(database.iloc[[0,1,2,3,4,5,6,7,8]],['A','E','N'],'Nu')\n",
    "test_x,test_y = split_x_and_y(database.iloc[[9,10,11]],['A','E','N'],'Nu')\n",
    "\n",
    "from sklearn.neural_network import MLPRegressor\n",
    "MLP = MLPRegressor(max_iter=1000,random_state=100)\n",
    "\n",
    "param_grid = {\n",
    "    \"activation\":['logistic','tanh','relu'],\n",
    "    \"learning_rate\":['constant','invscaling','adaptive'],\n",
    "    \"momentum\":[0.7,0.8,0.9,0.95,0.98],\n",
    "    \"n_iter_no_change\":[5,8,10,12,14],\n",
    "    \"alpha\":[0.0001,0.0002,0.0004,0.0005,0.0006,0.0008]\n",
    "}\n",
    "\n",
    "random_cv = RandomizedSearchCV(\n",
    "    MLP, param_grid, n_iter=250, cv=3, n_jobs=-1, random_state = 100\n",
    ")\n",
    "\n",
    "modelo = random_cv.fit(dataset_x,dataset_y)"
   ]
  },
  {
   "cell_type": "code",
   "execution_count": 61,
   "metadata": {},
   "outputs": [
    {
     "data": {
      "text/plain": [
       "{'n_iter_no_change': 5,\n",
       " 'momentum': 0.98,\n",
       " 'learning_rate': 'invscaling',\n",
       " 'alpha': 0.0008,\n",
       " 'activation': 'logistic'}"
      ]
     },
     "execution_count": 61,
     "metadata": {},
     "output_type": "execute_result"
    }
   ],
   "source": [
    "modelo.best_params_"
   ]
  },
  {
   "cell_type": "code",
   "execution_count": 62,
   "metadata": {},
   "outputs": [
    {
     "data": {
      "text/plain": [
       "0.8340001874556842"
      ]
     },
     "execution_count": 62,
     "metadata": {},
     "output_type": "execute_result"
    }
   ],
   "source": [
    "from sklearn.neural_network import MLPRegressor\n",
    "MLP = MLPRegressor(**modelo.best_params_,max_iter=1000,random_state=100)\n",
    "MLP.fit(dataset_x,dataset_y)\n",
    "MLP.score(test_x,test_y)"
   ]
  },
  {
   "cell_type": "markdown",
   "metadata": {},
   "source": [
    "# Keras"
   ]
  },
  {
   "cell_type": "code",
   "execution_count": null,
   "metadata": {},
   "outputs": [],
   "source": [
    "variables,results = split_x_and_y(database,['A','E','N'],'Nu')\n",
    "variables.values.shape"
   ]
  },
  {
   "cell_type": "code",
   "execution_count": 98,
   "metadata": {},
   "outputs": [
    {
     "name": "stdout",
     "output_type": "stream",
     "text": [
      "Epoch 1/200\n",
      "1/1 [==============================] - 1s 533ms/step - loss: 0.7822 - accuracy: 0.0000e+00\n",
      "Epoch 2/200\n",
      "1/1 [==============================] - 0s 3ms/step - loss: 0.7821 - accuracy: 0.0000e+00\n",
      "Epoch 3/200\n",
      "1/1 [==============================] - 0s 7ms/step - loss: 0.7816 - accuracy: 0.0000e+00\n",
      "Epoch 4/200\n",
      "1/1 [==============================] - 0s 4ms/step - loss: 0.7812 - accuracy: 0.0000e+00\n",
      "Epoch 5/200\n",
      "1/1 [==============================] - 0s 6ms/step - loss: 0.7810 - accuracy: 0.0000e+00\n",
      "Epoch 6/200\n",
      "1/1 [==============================] - 0s 3ms/step - loss: 0.7806 - accuracy: 0.0000e+00\n",
      "Epoch 7/200\n",
      "1/1 [==============================] - 0s 3ms/step - loss: 0.7802 - accuracy: 0.0000e+00\n",
      "Epoch 8/200\n",
      "1/1 [==============================] - 0s 4ms/step - loss: 0.7798 - accuracy: 0.0000e+00\n",
      "Epoch 9/200\n",
      "1/1 [==============================] - 0s 4ms/step - loss: 0.7795 - accuracy: 0.0000e+00\n",
      "Epoch 10/200\n",
      "1/1 [==============================] - 0s 5ms/step - loss: 0.7791 - accuracy: 0.0000e+00\n",
      "Epoch 11/200\n",
      "1/1 [==============================] - 0s 4ms/step - loss: 0.7786 - accuracy: 0.0000e+00\n",
      "Epoch 12/200\n",
      "1/1 [==============================] - 0s 3ms/step - loss: 0.7781 - accuracy: 0.0000e+00\n",
      "Epoch 13/200\n",
      "1/1 [==============================] - 0s 3ms/step - loss: 0.7776 - accuracy: 0.0000e+00\n",
      "Epoch 14/200\n",
      "1/1 [==============================] - 0s 5ms/step - loss: 0.7770 - accuracy: 0.0000e+00\n",
      "Epoch 15/200\n",
      "1/1 [==============================] - 0s 4ms/step - loss: 0.7764 - accuracy: 0.0000e+00\n",
      "Epoch 16/200\n",
      "1/1 [==============================] - 0s 3ms/step - loss: 0.7757 - accuracy: 0.0000e+00\n",
      "Epoch 17/200\n",
      "1/1 [==============================] - 0s 3ms/step - loss: 0.7749 - accuracy: 0.0000e+00\n",
      "Epoch 18/200\n",
      "1/1 [==============================] - 0s 4ms/step - loss: 0.7741 - accuracy: 0.0000e+00\n",
      "Epoch 19/200\n",
      "1/1 [==============================] - 0s 4ms/step - loss: 0.7731 - accuracy: 0.0000e+00\n",
      "Epoch 20/200\n",
      "1/1 [==============================] - 0s 5ms/step - loss: 0.7721 - accuracy: 0.0000e+00\n",
      "Epoch 21/200\n",
      "1/1 [==============================] - 0s 3ms/step - loss: 0.7709 - accuracy: 0.0000e+00\n",
      "Epoch 22/200\n",
      "1/1 [==============================] - 0s 4ms/step - loss: 0.7697 - accuracy: 0.0000e+00\n",
      "Epoch 23/200\n",
      "1/1 [==============================] - 0s 3ms/step - loss: 0.7683 - accuracy: 0.0000e+00\n",
      "Epoch 24/200\n",
      "1/1 [==============================] - 0s 3ms/step - loss: 0.7667 - accuracy: 0.0000e+00\n",
      "Epoch 25/200\n",
      "1/1 [==============================] - 0s 3ms/step - loss: 0.7650 - accuracy: 0.0000e+00\n",
      "Epoch 26/200\n",
      "1/1 [==============================] - 0s 8ms/step - loss: 0.7630 - accuracy: 0.0000e+00\n",
      "Epoch 27/200\n",
      "1/1 [==============================] - 0s 3ms/step - loss: 0.7609 - accuracy: 0.0000e+00\n",
      "Epoch 28/200\n",
      "1/1 [==============================] - 0s 3ms/step - loss: 0.7585 - accuracy: 0.0000e+00\n",
      "Epoch 29/200\n",
      "1/1 [==============================] - 0s 4ms/step - loss: 0.7558 - accuracy: 0.0000e+00\n",
      "Epoch 30/200\n",
      "1/1 [==============================] - 0s 3ms/step - loss: 0.7529 - accuracy: 0.0000e+00\n",
      "Epoch 31/200\n",
      "1/1 [==============================] - 0s 3ms/step - loss: 0.7496 - accuracy: 0.0000e+00\n",
      "Epoch 32/200\n",
      "1/1 [==============================] - 0s 6ms/step - loss: 0.7460 - accuracy: 0.0000e+00\n",
      "Epoch 33/200\n",
      "1/1 [==============================] - 0s 6ms/step - loss: 0.7420 - accuracy: 0.0000e+00\n",
      "Epoch 34/200\n",
      "1/1 [==============================] - 0s 5ms/step - loss: 0.7375 - accuracy: 0.0000e+00\n",
      "Epoch 35/200\n",
      "1/1 [==============================] - 0s 3ms/step - loss: 0.7327 - accuracy: 0.0000e+00\n",
      "Epoch 36/200\n",
      "1/1 [==============================] - 0s 3ms/step - loss: 0.7273 - accuracy: 0.0000e+00\n",
      "Epoch 37/200\n",
      "1/1 [==============================] - 0s 3ms/step - loss: 0.7214 - accuracy: 0.0000e+00\n",
      "Epoch 38/200\n",
      "1/1 [==============================] - 0s 4ms/step - loss: 0.7149 - accuracy: 0.0000e+00\n",
      "Epoch 39/200\n",
      "1/1 [==============================] - 0s 5ms/step - loss: 0.7078 - accuracy: 0.0000e+00\n",
      "Epoch 40/200\n",
      "1/1 [==============================] - 0s 6ms/step - loss: 0.7000 - accuracy: 0.0000e+00\n",
      "Epoch 41/200\n",
      "1/1 [==============================] - 0s 3ms/step - loss: 0.6916 - accuracy: 0.0000e+00\n",
      "Epoch 42/200\n",
      "1/1 [==============================] - 0s 5ms/step - loss: 0.6824 - accuracy: 0.0000e+00\n",
      "Epoch 43/200\n",
      "1/1 [==============================] - 0s 7ms/step - loss: 0.6725 - accuracy: 0.0000e+00\n",
      "Epoch 44/200\n",
      "1/1 [==============================] - 0s 8ms/step - loss: 0.6617 - accuracy: 0.0000e+00\n",
      "Epoch 45/200\n",
      "1/1 [==============================] - 0s 4ms/step - loss: 0.6501 - accuracy: 0.0000e+00\n",
      "Epoch 46/200\n",
      "1/1 [==============================] - 0s 4ms/step - loss: 0.6377 - accuracy: 0.0000e+00\n",
      "Epoch 47/200\n",
      "1/1 [==============================] - 0s 5ms/step - loss: 0.6244 - accuracy: 0.0000e+00\n",
      "Epoch 48/200\n",
      "1/1 [==============================] - 0s 8ms/step - loss: 0.6102 - accuracy: 0.0000e+00\n",
      "Epoch 49/200\n",
      "1/1 [==============================] - 0s 14ms/step - loss: 0.5952 - accuracy: 0.0000e+00\n",
      "Epoch 50/200\n",
      "1/1 [==============================] - 0s 6ms/step - loss: 0.5794 - accuracy: 0.0000e+00\n",
      "Epoch 51/200\n",
      "1/1 [==============================] - 0s 7ms/step - loss: 0.5627 - accuracy: 0.0000e+00\n",
      "Epoch 52/200\n",
      "1/1 [==============================] - 0s 12ms/step - loss: 0.5453 - accuracy: 0.0000e+00\n",
      "Epoch 53/200\n",
      "1/1 [==============================] - 0s 7ms/step - loss: 0.5273 - accuracy: 0.0000e+00\n",
      "Epoch 54/200\n",
      "1/1 [==============================] - 0s 5ms/step - loss: 0.5086 - accuracy: 0.0000e+00\n",
      "Epoch 55/200\n",
      "1/1 [==============================] - 0s 5ms/step - loss: 0.4895 - accuracy: 0.0000e+00\n",
      "Epoch 56/200\n",
      "1/1 [==============================] - 0s 5ms/step - loss: 0.4699 - accuracy: 0.0000e+00\n",
      "Epoch 57/200\n",
      "1/1 [==============================] - 0s 7ms/step - loss: 0.4501 - accuracy: 0.0000e+00\n",
      "Epoch 58/200\n",
      "1/1 [==============================] - 0s 4ms/step - loss: 0.4302 - accuracy: 0.0000e+00\n",
      "Epoch 59/200\n",
      "1/1 [==============================] - 0s 4ms/step - loss: 0.4102 - accuracy: 0.0000e+00\n",
      "Epoch 60/200\n",
      "1/1 [==============================] - 0s 7ms/step - loss: 0.3902 - accuracy: 0.0000e+00\n",
      "Epoch 61/200\n",
      "1/1 [==============================] - 0s 10ms/step - loss: 0.3705 - accuracy: 0.0000e+00\n",
      "Epoch 62/200\n",
      "1/1 [==============================] - 0s 4ms/step - loss: 0.3510 - accuracy: 0.0000e+00\n",
      "Epoch 63/200\n",
      "1/1 [==============================] - 0s 6ms/step - loss: 0.3320 - accuracy: 0.0000e+00\n",
      "Epoch 64/200\n",
      "1/1 [==============================] - 0s 6ms/step - loss: 0.3135 - accuracy: 0.0000e+00\n",
      "Epoch 65/200\n",
      "1/1 [==============================] - 0s 4ms/step - loss: 0.2956 - accuracy: 0.0000e+00\n",
      "Epoch 66/200\n",
      "1/1 [==============================] - 0s 4ms/step - loss: 0.2783 - accuracy: 0.0000e+00\n",
      "Epoch 67/200\n",
      "1/1 [==============================] - 0s 4ms/step - loss: 0.2619 - accuracy: 0.0000e+00\n",
      "Epoch 68/200\n",
      "1/1 [==============================] - 0s 4ms/step - loss: 0.2462 - accuracy: 0.0000e+00\n",
      "Epoch 69/200\n",
      "1/1 [==============================] - 0s 7ms/step - loss: 0.2315 - accuracy: 0.0000e+00\n",
      "Epoch 70/200\n",
      "1/1 [==============================] - 0s 6ms/step - loss: 0.2177 - accuracy: 0.0000e+00\n",
      "Epoch 71/200\n",
      "1/1 [==============================] - 0s 6ms/step - loss: 0.2049 - accuracy: 0.0000e+00\n",
      "Epoch 72/200\n",
      "1/1 [==============================] - 0s 4ms/step - loss: 0.1931 - accuracy: 0.0000e+00\n",
      "Epoch 73/200\n",
      "1/1 [==============================] - 0s 5ms/step - loss: 0.1822 - accuracy: 0.0000e+00\n",
      "Epoch 74/200\n",
      "1/1 [==============================] - 0s 5ms/step - loss: 0.1723 - accuracy: 0.0000e+00\n",
      "Epoch 75/200\n",
      "1/1 [==============================] - 0s 5ms/step - loss: 0.1633 - accuracy: 0.0000e+00\n",
      "Epoch 76/200\n",
      "1/1 [==============================] - 0s 4ms/step - loss: 0.1551 - accuracy: 0.0000e+00\n",
      "Epoch 77/200\n",
      "1/1 [==============================] - 0s 4ms/step - loss: 0.1475 - accuracy: 0.0000e+00\n",
      "Epoch 78/200\n",
      "1/1 [==============================] - 0s 5ms/step - loss: 0.1404 - accuracy: 0.0000e+00\n",
      "Epoch 79/200\n",
      "1/1 [==============================] - 0s 7ms/step - loss: 0.1337 - accuracy: 0.0000e+00\n",
      "Epoch 80/200\n",
      "1/1 [==============================] - 0s 7ms/step - loss: 0.1274 - accuracy: 0.0000e+00\n",
      "Epoch 81/200\n",
      "1/1 [==============================] - 0s 4ms/step - loss: 0.1213 - accuracy: 0.0000e+00\n",
      "Epoch 82/200\n",
      "1/1 [==============================] - 0s 5ms/step - loss: 0.1155 - accuracy: 0.0000e+00\n",
      "Epoch 83/200\n",
      "1/1 [==============================] - 0s 8ms/step - loss: 0.1098 - accuracy: 0.0000e+00\n",
      "Epoch 84/200\n",
      "1/1 [==============================] - 0s 6ms/step - loss: 0.1044 - accuracy: 0.0000e+00\n",
      "Epoch 85/200\n",
      "1/1 [==============================] - 0s 5ms/step - loss: 0.0992 - accuracy: 0.0000e+00\n",
      "Epoch 86/200\n",
      "1/1 [==============================] - 0s 6ms/step - loss: 0.0943 - accuracy: 0.0000e+00\n",
      "Epoch 87/200\n",
      "1/1 [==============================] - 0s 6ms/step - loss: 0.0896 - accuracy: 0.0000e+00\n",
      "Epoch 88/200\n",
      "1/1 [==============================] - 0s 9ms/step - loss: 0.0853 - accuracy: 0.0000e+00\n",
      "Epoch 89/200\n",
      "1/1 [==============================] - 0s 4ms/step - loss: 0.0812 - accuracy: 0.0000e+00\n",
      "Epoch 90/200\n",
      "1/1 [==============================] - 0s 6ms/step - loss: 0.0775 - accuracy: 0.0000e+00\n",
      "Epoch 91/200\n",
      "1/1 [==============================] - 0s 4ms/step - loss: 0.0740 - accuracy: 0.0000e+00\n",
      "Epoch 92/200\n",
      "1/1 [==============================] - 0s 5ms/step - loss: 0.0709 - accuracy: 0.0000e+00\n",
      "Epoch 93/200\n",
      "1/1 [==============================] - 0s 6ms/step - loss: 0.0680 - accuracy: 0.0000e+00\n",
      "Epoch 94/200\n",
      "1/1 [==============================] - 0s 6ms/step - loss: 0.0653 - accuracy: 0.0000e+00\n",
      "Epoch 95/200\n",
      "1/1 [==============================] - 0s 4ms/step - loss: 0.0627 - accuracy: 0.0000e+00\n",
      "Epoch 96/200\n",
      "1/1 [==============================] - 0s 6ms/step - loss: 0.0604 - accuracy: 0.0000e+00\n",
      "Epoch 97/200\n",
      "1/1 [==============================] - 0s 7ms/step - loss: 0.0581 - accuracy: 0.0000e+00\n",
      "Epoch 98/200\n",
      "1/1 [==============================] - 0s 5ms/step - loss: 0.0559 - accuracy: 0.0000e+00\n",
      "Epoch 99/200\n",
      "1/1 [==============================] - 0s 4ms/step - loss: 0.0538 - accuracy: 0.0000e+00\n",
      "Epoch 100/200\n",
      "1/1 [==============================] - 0s 7ms/step - loss: 0.0518 - accuracy: 0.0000e+00\n",
      "Epoch 101/200\n",
      "1/1 [==============================] - 0s 4ms/step - loss: 0.0499 - accuracy: 0.0000e+00\n",
      "Epoch 102/200\n",
      "1/1 [==============================] - 0s 9ms/step - loss: 0.0481 - accuracy: 0.0000e+00\n",
      "Epoch 103/200\n",
      "1/1 [==============================] - 0s 4ms/step - loss: 0.0463 - accuracy: 0.0000e+00\n",
      "Epoch 104/200\n",
      "1/1 [==============================] - 0s 9ms/step - loss: 0.0447 - accuracy: 0.0000e+00\n",
      "Epoch 105/200\n",
      "1/1 [==============================] - 0s 5ms/step - loss: 0.0432 - accuracy: 0.0000e+00\n",
      "Epoch 106/200\n",
      "1/1 [==============================] - 0s 7ms/step - loss: 0.0417 - accuracy: 0.0000e+00\n",
      "Epoch 107/200\n",
      "1/1 [==============================] - 0s 6ms/step - loss: 0.0404 - accuracy: 0.0000e+00\n",
      "Epoch 108/200\n",
      "1/1 [==============================] - 0s 5ms/step - loss: 0.0391 - accuracy: 0.0000e+00\n",
      "Epoch 109/200\n",
      "1/1 [==============================] - 0s 6ms/step - loss: 0.0379 - accuracy: 0.0000e+00\n",
      "Epoch 110/200\n",
      "1/1 [==============================] - 0s 8ms/step - loss: 0.0368 - accuracy: 0.0000e+00\n",
      "Epoch 111/200\n",
      "1/1 [==============================] - 0s 4ms/step - loss: 0.0357 - accuracy: 0.0000e+00\n",
      "Epoch 112/200\n",
      "1/1 [==============================] - 0s 5ms/step - loss: 0.0347 - accuracy: 0.0000e+00\n",
      "Epoch 113/200\n",
      "1/1 [==============================] - 0s 5ms/step - loss: 0.0337 - accuracy: 0.0000e+00\n",
      "Epoch 114/200\n",
      "1/1 [==============================] - 0s 6ms/step - loss: 0.0327 - accuracy: 0.0000e+00\n",
      "Epoch 115/200\n",
      "1/1 [==============================] - 0s 6ms/step - loss: 0.0318 - accuracy: 0.0000e+00\n",
      "Epoch 116/200\n",
      "1/1 [==============================] - 0s 7ms/step - loss: 0.0309 - accuracy: 0.0000e+00\n",
      "Epoch 117/200\n",
      "1/1 [==============================] - 0s 4ms/step - loss: 0.0300 - accuracy: 0.0000e+00\n",
      "Epoch 118/200\n",
      "1/1 [==============================] - 0s 6ms/step - loss: 0.0292 - accuracy: 0.0000e+00\n",
      "Epoch 119/200\n",
      "1/1 [==============================] - 0s 6ms/step - loss: 0.0284 - accuracy: 0.0000e+00\n",
      "Epoch 120/200\n",
      "1/1 [==============================] - 0s 5ms/step - loss: 0.0277 - accuracy: 0.0000e+00\n",
      "Epoch 121/200\n",
      "1/1 [==============================] - 0s 4ms/step - loss: 0.0270 - accuracy: 0.0000e+00\n",
      "Epoch 122/200\n",
      "1/1 [==============================] - 0s 5ms/step - loss: 0.0263 - accuracy: 0.0000e+00\n",
      "Epoch 123/200\n",
      "1/1 [==============================] - 0s 4ms/step - loss: 0.0257 - accuracy: 0.0000e+00\n",
      "Epoch 124/200\n",
      "1/1 [==============================] - 0s 8ms/step - loss: 0.0251 - accuracy: 0.0000e+00\n",
      "Epoch 125/200\n",
      "1/1 [==============================] - 0s 8ms/step - loss: 0.0246 - accuracy: 0.0000e+00\n",
      "Epoch 126/200\n",
      "1/1 [==============================] - 0s 6ms/step - loss: 0.0240 - accuracy: 0.0000e+00\n",
      "Epoch 127/200\n",
      "1/1 [==============================] - 0s 7ms/step - loss: 0.0235 - accuracy: 0.0000e+00\n",
      "Epoch 128/200\n",
      "1/1 [==============================] - 0s 8ms/step - loss: 0.0230 - accuracy: 0.0000e+00\n",
      "Epoch 129/200\n",
      "1/1 [==============================] - 0s 5ms/step - loss: 0.0225 - accuracy: 0.0000e+00\n",
      "Epoch 130/200\n",
      "1/1 [==============================] - 0s 6ms/step - loss: 0.0221 - accuracy: 0.0000e+00\n",
      "Epoch 131/200\n",
      "1/1 [==============================] - 0s 7ms/step - loss: 0.0216 - accuracy: 0.0000e+00\n",
      "Epoch 132/200\n",
      "1/1 [==============================] - 0s 4ms/step - loss: 0.0212 - accuracy: 0.0000e+00\n",
      "Epoch 133/200\n",
      "1/1 [==============================] - 0s 7ms/step - loss: 0.0208 - accuracy: 0.0000e+00\n",
      "Epoch 134/200\n",
      "1/1 [==============================] - 0s 5ms/step - loss: 0.0204 - accuracy: 0.0000e+00\n",
      "Epoch 135/200\n",
      "1/1 [==============================] - 0s 8ms/step - loss: 0.0201 - accuracy: 0.0000e+00\n",
      "Epoch 136/200\n",
      "1/1 [==============================] - 0s 9ms/step - loss: 0.0197 - accuracy: 0.0000e+00\n",
      "Epoch 137/200\n",
      "1/1 [==============================] - 0s 5ms/step - loss: 0.0194 - accuracy: 0.0000e+00\n",
      "Epoch 138/200\n",
      "1/1 [==============================] - 0s 7ms/step - loss: 0.0191 - accuracy: 0.0000e+00\n",
      "Epoch 139/200\n",
      "1/1 [==============================] - 0s 6ms/step - loss: 0.0188 - accuracy: 0.0000e+00\n",
      "Epoch 140/200\n",
      "1/1 [==============================] - 0s 4ms/step - loss: 0.0185 - accuracy: 0.0000e+00\n",
      "Epoch 141/200\n",
      "1/1 [==============================] - 0s 4ms/step - loss: 0.0182 - accuracy: 0.0000e+00\n",
      "Epoch 142/200\n",
      "1/1 [==============================] - 0s 6ms/step - loss: 0.0180 - accuracy: 0.0000e+00\n",
      "Epoch 143/200\n",
      "1/1 [==============================] - 0s 5ms/step - loss: 0.0177 - accuracy: 0.0000e+00\n",
      "Epoch 144/200\n",
      "1/1 [==============================] - 0s 7ms/step - loss: 0.0175 - accuracy: 0.0000e+00\n",
      "Epoch 145/200\n",
      "1/1 [==============================] - 0s 7ms/step - loss: 0.0173 - accuracy: 0.0000e+00\n",
      "Epoch 146/200\n",
      "1/1 [==============================] - 0s 7ms/step - loss: 0.0170 - accuracy: 0.0000e+00\n",
      "Epoch 147/200\n",
      "1/1 [==============================] - 0s 7ms/step - loss: 0.0168 - accuracy: 0.0000e+00\n",
      "Epoch 148/200\n",
      "1/1 [==============================] - 0s 6ms/step - loss: 0.0166 - accuracy: 0.0000e+00\n",
      "Epoch 149/200\n",
      "1/1 [==============================] - 0s 6ms/step - loss: 0.0164 - accuracy: 0.0000e+00\n",
      "Epoch 150/200\n",
      "1/1 [==============================] - 0s 6ms/step - loss: 0.0163 - accuracy: 0.0000e+00\n",
      "Epoch 151/200\n",
      "1/1 [==============================] - 0s 6ms/step - loss: 0.0161 - accuracy: 0.0000e+00\n",
      "Epoch 152/200\n",
      "1/1 [==============================] - 0s 4ms/step - loss: 0.0159 - accuracy: 0.0000e+00\n",
      "Epoch 153/200\n",
      "1/1 [==============================] - 0s 7ms/step - loss: 0.0158 - accuracy: 0.0000e+00\n",
      "Epoch 154/200\n",
      "1/1 [==============================] - 0s 5ms/step - loss: 0.0156 - accuracy: 0.0000e+00\n",
      "Epoch 155/200\n",
      "1/1 [==============================] - 0s 7ms/step - loss: 0.0155 - accuracy: 0.0000e+00\n",
      "Epoch 156/200\n",
      "1/1 [==============================] - 0s 6ms/step - loss: 0.0153 - accuracy: 0.0000e+00\n",
      "Epoch 157/200\n",
      "1/1 [==============================] - 0s 7ms/step - loss: 0.0152 - accuracy: 0.0000e+00\n",
      "Epoch 158/200\n",
      "1/1 [==============================] - 0s 8ms/step - loss: 0.0151 - accuracy: 0.0000e+00\n",
      "Epoch 159/200\n",
      "1/1 [==============================] - 0s 8ms/step - loss: 0.0149 - accuracy: 0.0000e+00\n",
      "Epoch 160/200\n",
      "1/1 [==============================] - 0s 10ms/step - loss: 0.0148 - accuracy: 0.0000e+00\n",
      "Epoch 161/200\n",
      "1/1 [==============================] - 0s 7ms/step - loss: 0.0147 - accuracy: 0.0000e+00\n",
      "Epoch 162/200\n",
      "1/1 [==============================] - 0s 7ms/step - loss: 0.0146 - accuracy: 0.0000e+00\n",
      "Epoch 163/200\n",
      "1/1 [==============================] - 0s 7ms/step - loss: 0.0145 - accuracy: 0.0000e+00\n",
      "Epoch 164/200\n",
      "1/1 [==============================] - 0s 9ms/step - loss: 0.0144 - accuracy: 0.0000e+00\n",
      "Epoch 165/200\n",
      "1/1 [==============================] - 0s 9ms/step - loss: 0.0143 - accuracy: 0.0000e+00\n",
      "Epoch 166/200\n",
      "1/1 [==============================] - 0s 4ms/step - loss: 0.0142 - accuracy: 0.0000e+00\n",
      "Epoch 167/200\n",
      "1/1 [==============================] - 0s 5ms/step - loss: 0.0141 - accuracy: 0.0000e+00\n",
      "Epoch 168/200\n",
      "1/1 [==============================] - 0s 7ms/step - loss: 0.0141 - accuracy: 0.0000e+00\n",
      "Epoch 169/200\n",
      "1/1 [==============================] - 0s 8ms/step - loss: 0.0140 - accuracy: 0.0000e+00\n",
      "Epoch 170/200\n",
      "1/1 [==============================] - 0s 5ms/step - loss: 0.0139 - accuracy: 0.0000e+00\n",
      "Epoch 171/200\n",
      "1/1 [==============================] - 0s 5ms/step - loss: 0.0138 - accuracy: 0.0000e+00\n",
      "Epoch 172/200\n",
      "1/1 [==============================] - 0s 6ms/step - loss: 0.0138 - accuracy: 0.0000e+00\n",
      "Epoch 173/200\n",
      "1/1 [==============================] - 0s 9ms/step - loss: 0.0137 - accuracy: 0.0000e+00\n",
      "Epoch 174/200\n",
      "1/1 [==============================] - 0s 7ms/step - loss: 0.0136 - accuracy: 0.0000e+00\n",
      "Epoch 175/200\n",
      "1/1 [==============================] - 0s 3ms/step - loss: 0.0136 - accuracy: 0.0000e+00\n",
      "Epoch 176/200\n",
      "1/1 [==============================] - 0s 5ms/step - loss: 0.0135 - accuracy: 0.0000e+00\n",
      "Epoch 177/200\n",
      "1/1 [==============================] - 0s 4ms/step - loss: 0.0135 - accuracy: 0.0000e+00\n",
      "Epoch 178/200\n",
      "1/1 [==============================] - 0s 4ms/step - loss: 0.0135 - accuracy: 0.0000e+00\n",
      "Epoch 179/200\n",
      "1/1 [==============================] - 0s 4ms/step - loss: 0.0135 - accuracy: 0.0000e+00\n",
      "Epoch 180/200\n",
      "1/1 [==============================] - 0s 4ms/step - loss: 0.0134 - accuracy: 0.0000e+00\n",
      "Epoch 181/200\n",
      "1/1 [==============================] - 0s 4ms/step - loss: 0.0133 - accuracy: 0.0000e+00\n",
      "Epoch 182/200\n",
      "1/1 [==============================] - 0s 3ms/step - loss: 0.0133 - accuracy: 0.0000e+00\n",
      "Epoch 183/200\n",
      "1/1 [==============================] - 0s 2ms/step - loss: 0.0133 - accuracy: 0.0000e+00\n",
      "Epoch 184/200\n",
      "1/1 [==============================] - 0s 7ms/step - loss: 0.0132 - accuracy: 0.0000e+00\n",
      "Epoch 185/200\n",
      "1/1 [==============================] - 0s 3ms/step - loss: 0.0131 - accuracy: 0.0000e+00\n",
      "Epoch 186/200\n",
      "1/1 [==============================] - 0s 5ms/step - loss: 0.0131 - accuracy: 0.0000e+00\n",
      "Epoch 187/200\n",
      "1/1 [==============================] - 0s 3ms/step - loss: 0.0131 - accuracy: 0.0000e+00\n",
      "Epoch 188/200\n",
      "1/1 [==============================] - 0s 3ms/step - loss: 0.0131 - accuracy: 0.0000e+00\n",
      "Epoch 189/200\n",
      "1/1 [==============================] - 0s 11ms/step - loss: 0.0130 - accuracy: 0.0000e+00\n",
      "Epoch 190/200\n",
      "1/1 [==============================] - 0s 7ms/step - loss: 0.0130 - accuracy: 0.0000e+00\n",
      "Epoch 191/200\n",
      "1/1 [==============================] - 0s 4ms/step - loss: 0.0130 - accuracy: 0.0000e+00\n",
      "Epoch 192/200\n",
      "1/1 [==============================] - 0s 3ms/step - loss: 0.0130 - accuracy: 0.0000e+00\n",
      "Epoch 193/200\n",
      "1/1 [==============================] - 0s 4ms/step - loss: 0.0129 - accuracy: 0.0000e+00\n",
      "Epoch 194/200\n",
      "1/1 [==============================] - 0s 4ms/step - loss: 0.0129 - accuracy: 0.0000e+00\n",
      "Epoch 195/200\n",
      "1/1 [==============================] - 0s 4ms/step - loss: 0.0129 - accuracy: 0.0000e+00\n",
      "Epoch 196/200\n",
      "1/1 [==============================] - 0s 3ms/step - loss: 0.0129 - accuracy: 0.0000e+00\n",
      "Epoch 197/200\n",
      "1/1 [==============================] - 0s 3ms/step - loss: 0.0128 - accuracy: 0.0000e+00\n",
      "Epoch 198/200\n",
      "1/1 [==============================] - 0s 6ms/step - loss: 0.0128 - accuracy: 0.0000e+00\n",
      "Epoch 199/200\n",
      "1/1 [==============================] - 0s 4ms/step - loss: 0.0128 - accuracy: 0.0000e+00\n",
      "Epoch 200/200\n",
      "1/1 [==============================] - 0s 3ms/step - loss: 0.0128 - accuracy: 0.0000e+00\n"
     ]
    },
    {
     "data": {
      "text/plain": [
       "<keras.callbacks.History at 0x2516c63e9a0>"
      ]
     },
     "execution_count": 98,
     "metadata": {},
     "output_type": "execute_result"
    }
   ],
   "source": [
    "import tensorflow as tf\n",
    "from tensorflow import keras\n",
    "# from tensorflow.python.keras.layers import Dense\n",
    "import pandas as pd\n",
    "from tensorflow.keras import layers\n",
    "\n",
    "import keras\n",
    "from keras.models import Sequential\n",
    "from keras.layers import Dense\n",
    "\n",
    "variables,results = split_x_and_y(database.iloc[[0,1,2,3,4,5,6,7,8]],['A','E','N'],'Nu')\n",
    "test_x,test_y = split_x_and_y(database.iloc[[9,10,11]],['A','E','N'],'Nu')\n",
    "\n",
    "model = keras.Sequential([\n",
    "  layers.Dense(64, activation='sigmoid', input_shape=[len(variables.keys())]),\n",
    "  # layers.Dropout(0.1),\n",
    "  layers.Dense(128, activation='sigmoid'),\n",
    "  layers.Dense(64, activation='sigmoid'),\n",
    "  layers.Dense(16, activation='sigmoid'),\n",
    "  layers.Dense(8, activation='sigmoid'),\n",
    "  # layers.Dense(8, activation='relu'),\n",
    "  layers.Dense(1)\n",
    "])\n",
    "\n",
    "# optimizer = tf.keras.optimizers.RMSprop(0.001)\n",
    "\n",
    "model.compile(optimizer='adam',loss='mean_squared_error',metrics=['accuracy'])\n",
    "\n",
    "model.fit(variables.values,results.values,epochs=200)"
   ]
  },
  {
   "cell_type": "code",
   "execution_count": 99,
   "metadata": {},
   "outputs": [
    {
     "name": "stdout",
     "output_type": "stream",
     "text": [
      "WARNING:tensorflow:6 out of the last 6 calls to <function Model.make_predict_function.<locals>.predict_function at 0x000002516C655310> triggered tf.function retracing. Tracing is expensive and the excessive number of tracings could be due to (1) creating @tf.function repeatedly in a loop, (2) passing tensors with different shapes, (3) passing Python objects instead of tensors. For (1), please define your @tf.function outside of the loop. For (2), @tf.function has reduce_retracing=True option that can avoid unnecessary retracing. For (3), please refer to https://www.tensorflow.org/guide/function#controlling_retracing and https://www.tensorflow.org/api_docs/python/tf/function for  more details.\n",
      "1/1 [==============================] - 0s 58ms/step\n"
     ]
    },
    {
     "data": {
      "text/plain": [
       "array([[ 0.7467503 ],\n",
       "       [ 0.76933193],\n",
       "       [-1.8876122 ]], dtype=float32)"
      ]
     },
     "execution_count": 99,
     "metadata": {},
     "output_type": "execute_result"
    }
   ],
   "source": [
    "guess = model.predict(test_x.values)\n",
    "guess"
   ]
  },
  {
   "cell_type": "code",
   "execution_count": 100,
   "metadata": {},
   "outputs": [
    {
     "data": {
      "text/html": [
       "<div>\n",
       "<style scoped>\n",
       "    .dataframe tbody tr th:only-of-type {\n",
       "        vertical-align: middle;\n",
       "    }\n",
       "\n",
       "    .dataframe tbody tr th {\n",
       "        vertical-align: top;\n",
       "    }\n",
       "\n",
       "    .dataframe thead th {\n",
       "        text-align: right;\n",
       "    }\n",
       "</style>\n",
       "<table border=\"1\" class=\"dataframe\">\n",
       "  <thead>\n",
       "    <tr style=\"text-align: right;\">\n",
       "      <th></th>\n",
       "      <th>A</th>\n",
       "      <th>E</th>\n",
       "      <th>N</th>\n",
       "      <th>Nu</th>\n",
       "    </tr>\n",
       "  </thead>\n",
       "  <tbody>\n",
       "    <tr>\n",
       "      <th>9</th>\n",
       "      <td>-0.845154</td>\n",
       "      <td>-1.224745</td>\n",
       "      <td>0.000000</td>\n",
       "      <td>0.746750</td>\n",
       "    </tr>\n",
       "    <tr>\n",
       "      <th>10</th>\n",
       "      <td>-0.845154</td>\n",
       "      <td>0.000000</td>\n",
       "      <td>-1.224745</td>\n",
       "      <td>0.769332</td>\n",
       "    </tr>\n",
       "    <tr>\n",
       "      <th>11</th>\n",
       "      <td>1.183216</td>\n",
       "      <td>1.224745</td>\n",
       "      <td>1.224745</td>\n",
       "      <td>-1.887612</td>\n",
       "    </tr>\n",
       "  </tbody>\n",
       "</table>\n",
       "</div>"
      ],
      "text/plain": [
       "           A         E         N        Nu\n",
       "9  -0.845154 -1.224745  0.000000  0.746750\n",
       "10 -0.845154  0.000000 -1.224745  0.769332\n",
       "11  1.183216  1.224745  1.224745 -1.887612"
      ]
     },
     "execution_count": 100,
     "metadata": {},
     "output_type": "execute_result"
    }
   ],
   "source": [
    "desnormalizar = test_x.copy()\n",
    "desnormalizar['Nu'] = guess\n",
    "desnormalizar"
   ]
  },
  {
   "cell_type": "code",
   "execution_count": 101,
   "metadata": {},
   "outputs": [
    {
     "data": {
      "text/plain": [
       "array([[25.        ,  1.        ,  8.        , 95.96237027],\n",
       "       [25.        ,  2.        ,  5.        , 96.49423538],\n",
       "       [35.        ,  3.        , 11.        , 33.91525138]])"
      ]
     },
     "execution_count": 101,
     "metadata": {},
     "output_type": "execute_result"
    }
   ],
   "source": [
    "desnormalizado_teste = standardscaler.inverse_transform(desnormalizar)\n",
    "desnormalizado_teste"
   ]
  },
  {
   "cell_type": "code",
   "execution_count": 102,
   "metadata": {},
   "outputs": [
    {
     "data": {
      "text/html": [
       "<div>\n",
       "<style scoped>\n",
       "    .dataframe tbody tr th:only-of-type {\n",
       "        vertical-align: middle;\n",
       "    }\n",
       "\n",
       "    .dataframe tbody tr th {\n",
       "        vertical-align: top;\n",
       "    }\n",
       "\n",
       "    .dataframe thead th {\n",
       "        text-align: right;\n",
       "    }\n",
       "</style>\n",
       "<table border=\"1\" class=\"dataframe\">\n",
       "  <thead>\n",
       "    <tr style=\"text-align: right;\">\n",
       "      <th></th>\n",
       "      <th>A</th>\n",
       "      <th>E</th>\n",
       "      <th>N</th>\n",
       "      <th>Nu</th>\n",
       "    </tr>\n",
       "  </thead>\n",
       "  <tbody>\n",
       "    <tr>\n",
       "      <th>9</th>\n",
       "      <td>-0.845154</td>\n",
       "      <td>-1.224745</td>\n",
       "      <td>0.000000</td>\n",
       "      <td>0.847698</td>\n",
       "    </tr>\n",
       "    <tr>\n",
       "      <th>10</th>\n",
       "      <td>-0.845154</td>\n",
       "      <td>0.000000</td>\n",
       "      <td>-1.224745</td>\n",
       "      <td>0.477469</td>\n",
       "    </tr>\n",
       "    <tr>\n",
       "      <th>11</th>\n",
       "      <td>1.183216</td>\n",
       "      <td>1.224745</td>\n",
       "      <td>1.224745</td>\n",
       "      <td>-1.991431</td>\n",
       "    </tr>\n",
       "  </tbody>\n",
       "</table>\n",
       "</div>"
      ],
      "text/plain": [
       "           A         E         N        Nu\n",
       "9  -0.845154 -1.224745  0.000000  0.847698\n",
       "10 -0.845154  0.000000 -1.224745  0.477469\n",
       "11  1.183216  1.224745  1.224745 -1.991431"
      ]
     },
     "execution_count": 102,
     "metadata": {},
     "output_type": "execute_result"
    }
   ],
   "source": [
    "desnormalizar = test_x.copy()\n",
    "desnormalizar['Nu'] = test_y\n",
    "desnormalizar"
   ]
  },
  {
   "cell_type": "code",
   "execution_count": 103,
   "metadata": {},
   "outputs": [
    {
     "data": {
      "text/plain": [
       "array([[25.  ,  1.  ,  8.  , 98.34],\n",
       "       [25.  ,  2.  ,  5.  , 89.62],\n",
       "       [35.  ,  3.  , 11.  , 31.47]])"
      ]
     },
     "execution_count": 103,
     "metadata": {},
     "output_type": "execute_result"
    }
   ],
   "source": [
    "desnormalizado_resultado = standardscaler.inverse_transform(desnormalizar)\n",
    "desnormalizado_resultado"
   ]
  },
  {
   "cell_type": "code",
   "execution_count": 104,
   "metadata": {},
   "outputs": [
    {
     "name": "stdout",
     "output_type": "stream",
     "text": [
      "r2: 0.9777196139890258 meansquarederror: 19.62916316525838 meanabsoluteerror: 3.8990388295224676 maxerror: 6.874235379857112\n"
     ]
    },
    {
     "data": {
      "text/plain": [
       "(0.9777196139890258, 19.62916316525838, 3.8990388295224676, 6.874235379857112)"
      ]
     },
     "execution_count": 104,
     "metadata": {},
     "output_type": "execute_result"
    }
   ],
   "source": [
    "scores(desnormalizado_resultado[:,-1],desnormalizado_teste[:,-1])"
   ]
  },
  {
   "cell_type": "code",
   "execution_count": null,
   "metadata": {},
   "outputs": [],
   "source": []
  }
 ],
 "metadata": {
  "interpreter": {
   "hash": "edbada794071f9c875b2bc5e0e869a1d746a19a0ba8801f10239845106c51c5a"
  },
  "kernelspec": {
   "display_name": "Python 3.8.8 ('base')",
   "language": "python",
   "name": "python3"
  },
  "language_info": {
   "codemirror_mode": {
    "name": "ipython",
    "version": 3
   },
   "file_extension": ".py",
   "mimetype": "text/x-python",
   "name": "python",
   "nbconvert_exporter": "python",
   "pygments_lexer": "ipython3",
   "version": "3.8.8"
  },
  "orig_nbformat": 4
 },
 "nbformat": 4,
 "nbformat_minor": 2
}
