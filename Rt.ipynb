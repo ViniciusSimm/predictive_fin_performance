{
 "cells": [
  {
   "cell_type": "code",
   "execution_count": 3,
   "metadata": {},
   "outputs": [],
   "source": [
    "from sklearn.metrics import r2_score,mean_squared_error,mean_absolute_error,max_error\n",
    "\n",
    "def split_x_and_y(database,x,y):\n",
    "  dataset_x = database[x]\n",
    "  dataset_y = database[y]\n",
    "  return dataset_x,dataset_y\n",
    "\n",
    "\n",
    "def scores(Y_true, Y_predicted):\n",
    "  r2 = r2_score(Y_true, Y_predicted)\n",
    "  meansquarederror = mean_squared_error(Y_true, Y_predicted)\n",
    "  meanabsoluteerror = mean_absolute_error(Y_true, Y_predicted)\n",
    "  maxerror = max_error(Y_true, Y_predicted)\n",
    "\n",
    "  print('r2:',r2,'meansquarederror:',meansquarederror,'meanabsoluteerror:',meanabsoluteerror,'maxerror:',maxerror)\n",
    "  return r2,meansquarederror,meanabsoluteerror,maxerror"
   ]
  },
  {
   "cell_type": "markdown",
   "metadata": {},
   "source": [
    "# RT"
   ]
  },
  {
   "cell_type": "code",
   "execution_count": 4,
   "metadata": {},
   "outputs": [
    {
     "data": {
      "text/html": [
       "<div>\n",
       "<style scoped>\n",
       "    .dataframe tbody tr th:only-of-type {\n",
       "        vertical-align: middle;\n",
       "    }\n",
       "\n",
       "    .dataframe tbody tr th {\n",
       "        vertical-align: top;\n",
       "    }\n",
       "\n",
       "    .dataframe thead th {\n",
       "        text-align: right;\n",
       "    }\n",
       "</style>\n",
       "<table border=\"1\" class=\"dataframe\">\n",
       "  <thead>\n",
       "    <tr style=\"text-align: right;\">\n",
       "      <th></th>\n",
       "      <th>A</th>\n",
       "      <th>E</th>\n",
       "      <th>N</th>\n",
       "      <th>Rt</th>\n",
       "    </tr>\n",
       "  </thead>\n",
       "  <tbody>\n",
       "    <tr>\n",
       "      <th>0</th>\n",
       "      <td>25</td>\n",
       "      <td>1</td>\n",
       "      <td>11</td>\n",
       "      <td>1.638</td>\n",
       "    </tr>\n",
       "    <tr>\n",
       "      <th>1</th>\n",
       "      <td>25</td>\n",
       "      <td>1</td>\n",
       "      <td>5</td>\n",
       "      <td>2.595</td>\n",
       "    </tr>\n",
       "    <tr>\n",
       "      <th>2</th>\n",
       "      <td>25</td>\n",
       "      <td>2</td>\n",
       "      <td>8</td>\n",
       "      <td>1.976</td>\n",
       "    </tr>\n",
       "    <tr>\n",
       "      <th>3</th>\n",
       "      <td>25</td>\n",
       "      <td>3</td>\n",
       "      <td>11</td>\n",
       "      <td>4.164</td>\n",
       "    </tr>\n",
       "    <tr>\n",
       "      <th>4</th>\n",
       "      <td>25</td>\n",
       "      <td>3</td>\n",
       "      <td>5</td>\n",
       "      <td>2.869</td>\n",
       "    </tr>\n",
       "    <tr>\n",
       "      <th>5</th>\n",
       "      <td>35</td>\n",
       "      <td>1</td>\n",
       "      <td>8</td>\n",
       "      <td>1.421</td>\n",
       "    </tr>\n",
       "    <tr>\n",
       "      <th>6</th>\n",
       "      <td>35</td>\n",
       "      <td>2</td>\n",
       "      <td>11</td>\n",
       "      <td>1.564</td>\n",
       "    </tr>\n",
       "    <tr>\n",
       "      <th>7</th>\n",
       "      <td>35</td>\n",
       "      <td>2</td>\n",
       "      <td>5</td>\n",
       "      <td>2.101</td>\n",
       "    </tr>\n",
       "    <tr>\n",
       "      <th>8</th>\n",
       "      <td>35</td>\n",
       "      <td>3</td>\n",
       "      <td>8</td>\n",
       "      <td>1.591</td>\n",
       "    </tr>\n",
       "    <tr>\n",
       "      <th>9</th>\n",
       "      <td>25</td>\n",
       "      <td>1</td>\n",
       "      <td>8</td>\n",
       "      <td>1.946</td>\n",
       "    </tr>\n",
       "    <tr>\n",
       "      <th>10</th>\n",
       "      <td>25</td>\n",
       "      <td>2</td>\n",
       "      <td>5</td>\n",
       "      <td>2.991</td>\n",
       "    </tr>\n",
       "    <tr>\n",
       "      <th>11</th>\n",
       "      <td>35</td>\n",
       "      <td>3</td>\n",
       "      <td>11</td>\n",
       "      <td>2.896</td>\n",
       "    </tr>\n",
       "  </tbody>\n",
       "</table>\n",
       "</div>"
      ],
      "text/plain": [
       "     A  E   N     Rt\n",
       "0   25  1  11  1.638\n",
       "1   25  1   5  2.595\n",
       "2   25  2   8  1.976\n",
       "3   25  3  11  4.164\n",
       "4   25  3   5  2.869\n",
       "5   35  1   8  1.421\n",
       "6   35  2  11  1.564\n",
       "7   35  2   5  2.101\n",
       "8   35  3   8  1.591\n",
       "9   25  1   8  1.946\n",
       "10  25  2   5  2.991\n",
       "11  35  3  11  2.896"
      ]
     },
     "execution_count": 4,
     "metadata": {},
     "output_type": "execute_result"
    }
   ],
   "source": [
    "import pandas as pd\n",
    "database_pre = pd.read_excel('database_TCC.xlsx')\n",
    "database = database_pre[['A','E','N','Rt']]\n",
    "database"
   ]
  },
  {
   "cell_type": "code",
   "execution_count": 5,
   "metadata": {},
   "outputs": [],
   "source": [
    "import pickle\n",
    "\n",
    "with open(\"standard_scaler_Rt.pkl\", \"rb\") as f:\n",
    "    rawdata = f.read()\n",
    "\n",
    "standard_scaler_rt = pickle.loads(rawdata)\n",
    "data = standard_scaler_rt.transform(database)\n",
    "database = pd.DataFrame(data,columns=database.columns)"
   ]
  },
  {
   "cell_type": "markdown",
   "metadata": {},
   "source": [
    "### Random Forest Regressor"
   ]
  },
  {
   "cell_type": "code",
   "execution_count": 4,
   "metadata": {},
   "outputs": [],
   "source": [
    "with open(\"Random_Forest_Regressor_Rt.pkl\", \"rb\") as f:\n",
    "    rawdata = f.read()\n",
    "random_forest_regressor_rt = pickle.loads(rawdata)"
   ]
  },
  {
   "cell_type": "code",
   "execution_count": 5,
   "metadata": {},
   "outputs": [
    {
     "data": {
      "text/plain": [
       "0.3306427822593704"
      ]
     },
     "execution_count": 5,
     "metadata": {},
     "output_type": "execute_result"
    }
   ],
   "source": [
    "dataset_x,dataset_y = split_x_and_y(database.iloc[[0,1,2,3,4,5,6,7,8]],['A','E','N'],'Rt')\n",
    "test_x,test_y = split_x_and_y(database.iloc[[9,10,11]],['A','E','N'],'Rt')\n",
    "\n",
    "random_forest_regressor_rt.score(test_x,test_y)"
   ]
  },
  {
   "cell_type": "code",
   "execution_count": 6,
   "metadata": {},
   "outputs": [
    {
     "data": {
      "text/plain": [
       "array([0.21042855, 0.33216308, 0.45740836])"
      ]
     },
     "execution_count": 6,
     "metadata": {},
     "output_type": "execute_result"
    }
   ],
   "source": [
    "random_forest_regressor_rt.feature_importances_"
   ]
  },
  {
   "cell_type": "code",
   "execution_count": 7,
   "metadata": {},
   "outputs": [
    {
     "data": {
      "text/plain": [
       "array([[25.       ,  1.       ,  8.       ,  1.9387754],\n",
       "       [25.       ,  2.       ,  5.       ,  2.3872834],\n",
       "       [35.       ,  3.       , 11.       ,  2.6087644]])"
      ]
     },
     "execution_count": 7,
     "metadata": {},
     "output_type": "execute_result"
    }
   ],
   "source": [
    "desnormalizar = test_x.copy()\n",
    "desnormalizar['Rt'] = random_forest_regressor_rt.predict(test_x)\n",
    "desnormalizado_teste = standard_scaler_rt.inverse_transform(desnormalizar)\n",
    "desnormalizado_teste"
   ]
  },
  {
   "cell_type": "code",
   "execution_count": 8,
   "metadata": {},
   "outputs": [],
   "source": [
    "random_forest_regressor_result = desnormalizado_teste[:,-1]"
   ]
  },
  {
   "cell_type": "code",
   "execution_count": 9,
   "metadata": {},
   "outputs": [
    {
     "data": {
      "text/plain": [
       "array([[25.   ,  1.   ,  8.   ,  1.946],\n",
       "       [25.   ,  2.   ,  5.   ,  2.991],\n",
       "       [35.   ,  3.   , 11.   ,  2.896]])"
      ]
     },
     "execution_count": 9,
     "metadata": {},
     "output_type": "execute_result"
    }
   ],
   "source": [
    "desnormalizar = test_x.copy()\n",
    "desnormalizar['Rt'] = test_y\n",
    "desnormalizado_resultado = standard_scaler_rt.inverse_transform(desnormalizar)\n",
    "desnormalizado_resultado"
   ]
  },
  {
   "cell_type": "markdown",
   "metadata": {},
   "source": [
    "### Support Vector Machine"
   ]
  },
  {
   "cell_type": "code",
   "execution_count": 10,
   "metadata": {},
   "outputs": [],
   "source": [
    "with open(\"Support_Vector_Machine_Rt.pkl\", \"rb\") as f:\n",
    "    rawdata = f.read()\n",
    "support_vector_machine_rt = pickle.loads(rawdata)"
   ]
  },
  {
   "cell_type": "code",
   "execution_count": 11,
   "metadata": {},
   "outputs": [
    {
     "data": {
      "text/plain": [
       "0.4359749662202925"
      ]
     },
     "execution_count": 11,
     "metadata": {},
     "output_type": "execute_result"
    }
   ],
   "source": [
    "dataset_x,dataset_y = split_x_and_y(database.iloc[[0,1,2,3,4,5,6,7,8]],['A','E','N'],'Rt')\n",
    "test_x,test_y = split_x_and_y(database.iloc[[9,10,11]],['A','E','N'],'Rt')\n",
    "\n",
    "support_vector_machine_rt.score(test_x,test_y)"
   ]
  },
  {
   "cell_type": "code",
   "execution_count": 12,
   "metadata": {},
   "outputs": [
    {
     "data": {
      "text/plain": [
       "array([[25.        ,  1.        ,  8.        ,  1.5461987 ],\n",
       "       [25.        ,  2.        ,  5.        ,  2.5288563 ],\n",
       "       [35.        ,  3.        , 11.        ,  2.83884896]])"
      ]
     },
     "execution_count": 12,
     "metadata": {},
     "output_type": "execute_result"
    }
   ],
   "source": [
    "desnormalizar = test_x.copy()\n",
    "desnormalizar['Rt'] = support_vector_machine_rt.predict(test_x)\n",
    "desnormalizado_teste = standard_scaler_rt.inverse_transform(desnormalizar)\n",
    "desnormalizado_teste"
   ]
  },
  {
   "cell_type": "code",
   "execution_count": 13,
   "metadata": {},
   "outputs": [],
   "source": [
    "support_vector_machine_result = desnormalizado_teste[:,-1]"
   ]
  },
  {
   "cell_type": "code",
   "execution_count": 14,
   "metadata": {},
   "outputs": [
    {
     "data": {
      "text/plain": [
       "array([[25.   ,  1.   ,  8.   ,  1.946],\n",
       "       [25.   ,  2.   ,  5.   ,  2.991],\n",
       "       [35.   ,  3.   , 11.   ,  2.896]])"
      ]
     },
     "execution_count": 14,
     "metadata": {},
     "output_type": "execute_result"
    }
   ],
   "source": [
    "desnormalizar = test_x.copy()\n",
    "desnormalizar['Rt'] = test_y\n",
    "desnormalizado_resultado = standard_scaler_rt.inverse_transform(desnormalizar)\n",
    "desnormalizado_resultado"
   ]
  },
  {
   "cell_type": "markdown",
   "metadata": {},
   "source": [
    "### Keras"
   ]
  },
  {
   "cell_type": "code",
   "execution_count": 7,
   "metadata": {},
   "outputs": [],
   "source": [
    "from keras.models import load_model\n",
    "keras_rt = load_model('keras_model_Rt.h5')\n",
    "\n",
    "dataset_x,dataset_y = split_x_and_y(database.iloc[[0,1,2,3,4,5,6,7,8]],['A','E','N'],'Rt')\n",
    "test_x,test_y = split_x_and_y(database.iloc[[9,10,11]],['A','E','N'],'Rt')"
   ]
  },
  {
   "cell_type": "code",
   "execution_count": 8,
   "metadata": {},
   "outputs": [
    {
     "name": "stdout",
     "output_type": "stream",
     "text": [
      "1/1 [==============================] - 0s 95ms/step\n"
     ]
    },
    {
     "data": {
      "text/plain": [
       "array([[25.        ,  1.        ,  8.        ,  1.85900101],\n",
       "       [25.        ,  2.        ,  5.        ,  2.70135503],\n",
       "       [35.        ,  3.        , 11.        ,  2.44664487]])"
      ]
     },
     "execution_count": 8,
     "metadata": {},
     "output_type": "execute_result"
    }
   ],
   "source": [
    "desnormalizar = test_x.copy()\n",
    "desnormalizar['Rt'] = keras_rt.predict(test_x.values)\n",
    "desnormalizado_teste = standard_scaler_rt.inverse_transform(desnormalizar)\n",
    "desnormalizado_teste"
   ]
  },
  {
   "cell_type": "code",
   "execution_count": 9,
   "metadata": {},
   "outputs": [],
   "source": [
    "keras_results = desnormalizado_teste[:,-1]"
   ]
  },
  {
   "cell_type": "code",
   "execution_count": 10,
   "metadata": {},
   "outputs": [],
   "source": [
    "desnormalizar = test_x.copy()\n",
    "desnormalizar['Rt'] = test_y\n",
    "desnormalizado_resultado = standard_scaler_rt.inverse_transform(desnormalizar)\n",
    "desnormalizado_resultado\n",
    "\n",
    "answers = desnormalizado_resultado[:,-1]"
   ]
  },
  {
   "cell_type": "code",
   "execution_count": 11,
   "metadata": {},
   "outputs": [
    {
     "name": "stdout",
     "output_type": "stream",
     "text": [
      "r2: 0.5607051471657352 meansquarederror: 0.09779435582178791 meanabsoluteerror: 0.27533303105076423 maxerror: 0.4493551311139612\n"
     ]
    },
    {
     "data": {
      "text/plain": [
       "(0.5607051471657352,\n",
       " 0.09779435582178791,\n",
       " 0.27533303105076423,\n",
       " 0.4493551311139612)"
      ]
     },
     "execution_count": 11,
     "metadata": {},
     "output_type": "execute_result"
    }
   ],
   "source": [
    "scores(desnormalizado_resultado[:,-1],desnormalizado_teste[:,-1])"
   ]
  },
  {
   "cell_type": "markdown",
   "metadata": {},
   "source": [
    "# RESULTS"
   ]
  },
  {
   "cell_type": "code",
   "execution_count": 20,
   "metadata": {},
   "outputs": [],
   "source": [
    "df_results_rt = pd.DataFrame(database_pre.iloc[[9,10,11]][['A','E','N','Rt']])\n",
    "df_results_rt['Random Forest Regressor'] = random_forest_regressor_result\n",
    "df_results_rt['Support Vector Machine'] = support_vector_machine_result\n",
    "df_results_rt['Keras'] = keras_results"
   ]
  },
  {
   "cell_type": "code",
   "execution_count": 21,
   "metadata": {},
   "outputs": [
    {
     "data": {
      "text/html": [
       "<div>\n",
       "<style scoped>\n",
       "    .dataframe tbody tr th:only-of-type {\n",
       "        vertical-align: middle;\n",
       "    }\n",
       "\n",
       "    .dataframe tbody tr th {\n",
       "        vertical-align: top;\n",
       "    }\n",
       "\n",
       "    .dataframe thead th {\n",
       "        text-align: right;\n",
       "    }\n",
       "</style>\n",
       "<table border=\"1\" class=\"dataframe\">\n",
       "  <thead>\n",
       "    <tr style=\"text-align: right;\">\n",
       "      <th></th>\n",
       "      <th>A</th>\n",
       "      <th>E</th>\n",
       "      <th>N</th>\n",
       "      <th>Rt</th>\n",
       "      <th>Random Forest Regressor</th>\n",
       "      <th>Support Vector Machine</th>\n",
       "      <th>Keras</th>\n",
       "    </tr>\n",
       "  </thead>\n",
       "  <tbody>\n",
       "    <tr>\n",
       "      <th>9</th>\n",
       "      <td>25</td>\n",
       "      <td>1</td>\n",
       "      <td>8</td>\n",
       "      <td>1.946</td>\n",
       "      <td>1.938775</td>\n",
       "      <td>1.546199</td>\n",
       "      <td>1.859001</td>\n",
       "    </tr>\n",
       "    <tr>\n",
       "      <th>10</th>\n",
       "      <td>25</td>\n",
       "      <td>2</td>\n",
       "      <td>5</td>\n",
       "      <td>2.991</td>\n",
       "      <td>2.387283</td>\n",
       "      <td>2.528856</td>\n",
       "      <td>2.701355</td>\n",
       "    </tr>\n",
       "    <tr>\n",
       "      <th>11</th>\n",
       "      <td>35</td>\n",
       "      <td>3</td>\n",
       "      <td>11</td>\n",
       "      <td>2.896</td>\n",
       "      <td>2.608764</td>\n",
       "      <td>2.838849</td>\n",
       "      <td>2.446645</td>\n",
       "    </tr>\n",
       "  </tbody>\n",
       "</table>\n",
       "</div>"
      ],
      "text/plain": [
       "     A  E   N     Rt  Random Forest Regressor  Support Vector Machine  \\\n",
       "9   25  1   8  1.946                 1.938775                1.546199   \n",
       "10  25  2   5  2.991                 2.387283                2.528856   \n",
       "11  35  3  11  2.896                 2.608764                2.838849   \n",
       "\n",
       "       Keras  \n",
       "9   1.859001  \n",
       "10  2.701355  \n",
       "11  2.446645  "
      ]
     },
     "execution_count": 21,
     "metadata": {},
     "output_type": "execute_result"
    }
   ],
   "source": [
    "df_results_rt"
   ]
  },
  {
   "cell_type": "code",
   "execution_count": 22,
   "metadata": {},
   "outputs": [],
   "source": [
    "df_results_rt['average'] = df_results_rt[['Random Forest Regressor','Support Vector Machine','Keras']].mean(axis=1)"
   ]
  },
  {
   "cell_type": "code",
   "execution_count": 23,
   "metadata": {},
   "outputs": [
    {
     "data": {
      "text/html": [
       "<div>\n",
       "<style scoped>\n",
       "    .dataframe tbody tr th:only-of-type {\n",
       "        vertical-align: middle;\n",
       "    }\n",
       "\n",
       "    .dataframe tbody tr th {\n",
       "        vertical-align: top;\n",
       "    }\n",
       "\n",
       "    .dataframe thead th {\n",
       "        text-align: right;\n",
       "    }\n",
       "</style>\n",
       "<table border=\"1\" class=\"dataframe\">\n",
       "  <thead>\n",
       "    <tr style=\"text-align: right;\">\n",
       "      <th></th>\n",
       "      <th>A</th>\n",
       "      <th>E</th>\n",
       "      <th>N</th>\n",
       "      <th>Rt</th>\n",
       "      <th>Random Forest Regressor</th>\n",
       "      <th>Support Vector Machine</th>\n",
       "      <th>Keras</th>\n",
       "      <th>average</th>\n",
       "    </tr>\n",
       "  </thead>\n",
       "  <tbody>\n",
       "    <tr>\n",
       "      <th>9</th>\n",
       "      <td>25</td>\n",
       "      <td>1</td>\n",
       "      <td>8</td>\n",
       "      <td>1.946</td>\n",
       "      <td>1.938775</td>\n",
       "      <td>1.546199</td>\n",
       "      <td>1.859001</td>\n",
       "      <td>1.781325</td>\n",
       "    </tr>\n",
       "    <tr>\n",
       "      <th>10</th>\n",
       "      <td>25</td>\n",
       "      <td>2</td>\n",
       "      <td>5</td>\n",
       "      <td>2.991</td>\n",
       "      <td>2.387283</td>\n",
       "      <td>2.528856</td>\n",
       "      <td>2.701355</td>\n",
       "      <td>2.539165</td>\n",
       "    </tr>\n",
       "    <tr>\n",
       "      <th>11</th>\n",
       "      <td>35</td>\n",
       "      <td>3</td>\n",
       "      <td>11</td>\n",
       "      <td>2.896</td>\n",
       "      <td>2.608764</td>\n",
       "      <td>2.838849</td>\n",
       "      <td>2.446645</td>\n",
       "      <td>2.631419</td>\n",
       "    </tr>\n",
       "  </tbody>\n",
       "</table>\n",
       "</div>"
      ],
      "text/plain": [
       "     A  E   N     Rt  Random Forest Regressor  Support Vector Machine  \\\n",
       "9   25  1   8  1.946                 1.938775                1.546199   \n",
       "10  25  2   5  2.991                 2.387283                2.528856   \n",
       "11  35  3  11  2.896                 2.608764                2.838849   \n",
       "\n",
       "       Keras   average  \n",
       "9   1.859001  1.781325  \n",
       "10  2.701355  2.539165  \n",
       "11  2.446645  2.631419  "
      ]
     },
     "execution_count": 23,
     "metadata": {},
     "output_type": "execute_result"
    }
   ],
   "source": [
    "df_results_rt"
   ]
  },
  {
   "cell_type": "code",
   "execution_count": 26,
   "metadata": {},
   "outputs": [
    {
     "name": "stdout",
     "output_type": "stream",
     "text": [
      "r2: 0.5488872053061085 meansquarederror: 0.1004252266454385 meanabsoluteerror: 0.2936968811521112 maxerror: 0.4518350886802507\n"
     ]
    },
    {
     "data": {
      "text/plain": [
       "(0.5488872053061085,\n",
       " 0.1004252266454385,\n",
       " 0.2936968811521112,\n",
       " 0.4518350886802507)"
      ]
     },
     "execution_count": 26,
     "metadata": {},
     "output_type": "execute_result"
    }
   ],
   "source": [
    "scores(df_results_rt['Rt'],df_results_rt['average'])"
   ]
  },
  {
   "cell_type": "code",
   "execution_count": 30,
   "metadata": {},
   "outputs": [],
   "source": [
    "df_delta_rt = pd.DataFrame(database_pre.iloc[[9,10,11]][['A','E','N','Rt']])\n",
    "df_delta_rt['Random Forest Regressor'] = (abs((df_results_rt['Random Forest Regressor'] - df_results_rt['Rt'])/df_results_rt['Rt'])*100).round(2)\n",
    "df_delta_rt['Support Vector Machine'] = (abs((df_results_rt['Support Vector Machine'] - df_results_rt['Rt'])/df_results_rt['Rt'])*100).round(2)\n",
    "df_delta_rt['Keras'] = (abs((df_results_rt['Keras'] - df_results_rt['Rt'])/df_results_rt['Rt'])*100).round(2)\n",
    "df_delta_rt['average'] = (abs((df_results_rt['average'] - df_results_rt['Rt'])/df_results_rt['Rt'])*100).round(2)"
   ]
  },
  {
   "cell_type": "code",
   "execution_count": 31,
   "metadata": {},
   "outputs": [],
   "source": [
    "df_delta_rt[['Random Forest Regressor','Support Vector Machine','Keras','average']] = df_delta_rt[['Random Forest Regressor','Support Vector Machine','Keras','average']].applymap(lambda x: str(x) + '%')\n"
   ]
  },
  {
   "cell_type": "code",
   "execution_count": 32,
   "metadata": {},
   "outputs": [
    {
     "data": {
      "text/html": [
       "<div>\n",
       "<style scoped>\n",
       "    .dataframe tbody tr th:only-of-type {\n",
       "        vertical-align: middle;\n",
       "    }\n",
       "\n",
       "    .dataframe tbody tr th {\n",
       "        vertical-align: top;\n",
       "    }\n",
       "\n",
       "    .dataframe thead th {\n",
       "        text-align: right;\n",
       "    }\n",
       "</style>\n",
       "<table border=\"1\" class=\"dataframe\">\n",
       "  <thead>\n",
       "    <tr style=\"text-align: right;\">\n",
       "      <th></th>\n",
       "      <th>A</th>\n",
       "      <th>E</th>\n",
       "      <th>N</th>\n",
       "      <th>Rt</th>\n",
       "      <th>Random Forest Regressor</th>\n",
       "      <th>Support Vector Machine</th>\n",
       "      <th>Keras</th>\n",
       "      <th>average</th>\n",
       "    </tr>\n",
       "  </thead>\n",
       "  <tbody>\n",
       "    <tr>\n",
       "      <th>9</th>\n",
       "      <td>25</td>\n",
       "      <td>1</td>\n",
       "      <td>8</td>\n",
       "      <td>1.946</td>\n",
       "      <td>0.37%</td>\n",
       "      <td>20.54%</td>\n",
       "      <td>4.47%</td>\n",
       "      <td>8.46%</td>\n",
       "    </tr>\n",
       "    <tr>\n",
       "      <th>10</th>\n",
       "      <td>25</td>\n",
       "      <td>2</td>\n",
       "      <td>5</td>\n",
       "      <td>2.991</td>\n",
       "      <td>20.18%</td>\n",
       "      <td>15.45%</td>\n",
       "      <td>9.68%</td>\n",
       "      <td>15.11%</td>\n",
       "    </tr>\n",
       "    <tr>\n",
       "      <th>11</th>\n",
       "      <td>35</td>\n",
       "      <td>3</td>\n",
       "      <td>11</td>\n",
       "      <td>2.896</td>\n",
       "      <td>9.92%</td>\n",
       "      <td>1.97%</td>\n",
       "      <td>15.52%</td>\n",
       "      <td>9.14%</td>\n",
       "    </tr>\n",
       "  </tbody>\n",
       "</table>\n",
       "</div>"
      ],
      "text/plain": [
       "     A  E   N     Rt Random Forest Regressor Support Vector Machine   Keras  \\\n",
       "9   25  1   8  1.946                   0.37%                 20.54%   4.47%   \n",
       "10  25  2   5  2.991                  20.18%                 15.45%   9.68%   \n",
       "11  35  3  11  2.896                   9.92%                  1.97%  15.52%   \n",
       "\n",
       "   average  \n",
       "9    8.46%  \n",
       "10  15.11%  \n",
       "11   9.14%  "
      ]
     },
     "execution_count": 32,
     "metadata": {},
     "output_type": "execute_result"
    }
   ],
   "source": [
    "df_delta_rt"
   ]
  },
  {
   "cell_type": "markdown",
   "metadata": {},
   "source": [
    "# Graficos"
   ]
  },
  {
   "cell_type": "code",
   "execution_count": 12,
   "metadata": {},
   "outputs": [
    {
     "name": "stdout",
     "output_type": "stream",
     "text": [
      "1/1 [==============================] - 0s 19ms/step\n",
      "[[-0.84515425 -1.22474487 -1.63299316]] [[0.6562405]]\n",
      "1/1 [==============================] - 0s 14ms/step\n",
      "[[-0.84515425 -1.22474487 -1.22474487]] [[0.36345148]]\n",
      "1/1 [==============================] - 0s 13ms/step\n",
      "[[-0.84515425 -1.22474487 -0.81649658]] [[0.04440619]]\n",
      "1/1 [==============================] - 0s 14ms/step\n"
     ]
    },
    {
     "name": "stderr",
     "output_type": "stream",
     "text": [
      "C:\\Users\\vinao\\AppData\\Roaming\\Python\\Python38\\site-packages\\sklearn\\base.py:450: UserWarning: X does not have valid feature names, but StandardScaler was fitted with feature names\n",
      "  warnings.warn(\n",
      "C:\\Users\\vinao\\AppData\\Roaming\\Python\\Python38\\site-packages\\sklearn\\base.py:450: UserWarning: X does not have valid feature names, but StandardScaler was fitted with feature names\n",
      "  warnings.warn(\n",
      "C:\\Users\\vinao\\AppData\\Roaming\\Python\\Python38\\site-packages\\sklearn\\base.py:450: UserWarning: X does not have valid feature names, but StandardScaler was fitted with feature names\n",
      "  warnings.warn(\n",
      "C:\\Users\\vinao\\AppData\\Roaming\\Python\\Python38\\site-packages\\sklearn\\base.py:450: UserWarning: X does not have valid feature names, but StandardScaler was fitted with feature names\n",
      "  warnings.warn(\n",
      "C:\\Users\\vinao\\AppData\\Roaming\\Python\\Python38\\site-packages\\sklearn\\base.py:450: UserWarning: X does not have valid feature names, but StandardScaler was fitted with feature names\n",
      "  warnings.warn(\n"
     ]
    },
    {
     "name": "stdout",
     "output_type": "stream",
     "text": [
      "[[-0.84515425 -1.22474487 -0.40824829]] [[-0.2697221]]\n",
      "1/1 [==============================] - 0s 13ms/step\n",
      "[[-0.84515425 -1.22474487  0.        ]] [[-0.5840106]]\n",
      "1/1 [==============================] - 0s 14ms/step\n",
      "[[-0.84515425 -1.22474487  0.40824829]] [[-0.82169795]]\n",
      "1/1 [==============================] - 0s 14ms/step\n",
      "[[-0.84515425 -1.22474487  0.81649658]] [[-0.9060381]]\n",
      "1/1 [==============================] - 0s 18ms/step\n",
      "[[-0.84515425 -1.22474487  1.22474487]] [[-0.86851025]]\n"
     ]
    },
    {
     "name": "stderr",
     "output_type": "stream",
     "text": [
      "C:\\Users\\vinao\\AppData\\Roaming\\Python\\Python38\\site-packages\\sklearn\\base.py:450: UserWarning: X does not have valid feature names, but StandardScaler was fitted with feature names\n",
      "  warnings.warn(\n",
      "C:\\Users\\vinao\\AppData\\Roaming\\Python\\Python38\\site-packages\\sklearn\\base.py:450: UserWarning: X does not have valid feature names, but StandardScaler was fitted with feature names\n",
      "  warnings.warn(\n",
      "C:\\Users\\vinao\\AppData\\Roaming\\Python\\Python38\\site-packages\\sklearn\\base.py:450: UserWarning: X does not have valid feature names, but StandardScaler was fitted with feature names\n",
      "  warnings.warn(\n"
     ]
    },
    {
     "data": {
      "text/html": [
       "<div>\n",
       "<style scoped>\n",
       "    .dataframe tbody tr th:only-of-type {\n",
       "        vertical-align: middle;\n",
       "    }\n",
       "\n",
       "    .dataframe tbody tr th {\n",
       "        vertical-align: top;\n",
       "    }\n",
       "\n",
       "    .dataframe thead th {\n",
       "        text-align: right;\n",
       "    }\n",
       "</style>\n",
       "<table border=\"1\" class=\"dataframe\">\n",
       "  <thead>\n",
       "    <tr style=\"text-align: right;\">\n",
       "      <th></th>\n",
       "      <th>A</th>\n",
       "      <th>E</th>\n",
       "      <th>N</th>\n",
       "      <th>Nu</th>\n",
       "    </tr>\n",
       "  </thead>\n",
       "  <tbody>\n",
       "    <tr>\n",
       "      <th>0</th>\n",
       "      <td>25.0</td>\n",
       "      <td>1.0</td>\n",
       "      <td>4.0</td>\n",
       "      <td>2.822441</td>\n",
       "    </tr>\n",
       "    <tr>\n",
       "      <th>1</th>\n",
       "      <td>25.0</td>\n",
       "      <td>1.0</td>\n",
       "      <td>5.0</td>\n",
       "      <td>2.594999</td>\n",
       "    </tr>\n",
       "    <tr>\n",
       "      <th>2</th>\n",
       "      <td>25.0</td>\n",
       "      <td>1.0</td>\n",
       "      <td>6.0</td>\n",
       "      <td>2.347162</td>\n",
       "    </tr>\n",
       "    <tr>\n",
       "      <th>3</th>\n",
       "      <td>25.0</td>\n",
       "      <td>1.0</td>\n",
       "      <td>7.0</td>\n",
       "      <td>2.103144</td>\n",
       "    </tr>\n",
       "    <tr>\n",
       "      <th>4</th>\n",
       "      <td>25.0</td>\n",
       "      <td>1.0</td>\n",
       "      <td>8.0</td>\n",
       "      <td>1.859001</td>\n",
       "    </tr>\n",
       "    <tr>\n",
       "      <th>5</th>\n",
       "      <td>25.0</td>\n",
       "      <td>1.0</td>\n",
       "      <td>9.0</td>\n",
       "      <td>1.674363</td>\n",
       "    </tr>\n",
       "    <tr>\n",
       "      <th>6</th>\n",
       "      <td>25.0</td>\n",
       "      <td>1.0</td>\n",
       "      <td>10.0</td>\n",
       "      <td>1.608847</td>\n",
       "    </tr>\n",
       "    <tr>\n",
       "      <th>7</th>\n",
       "      <td>25.0</td>\n",
       "      <td>1.0</td>\n",
       "      <td>11.0</td>\n",
       "      <td>1.637999</td>\n",
       "    </tr>\n",
       "  </tbody>\n",
       "</table>\n",
       "</div>"
      ],
      "text/plain": [
       "      A    E     N        Nu\n",
       "0  25.0  1.0   4.0  2.822441\n",
       "1  25.0  1.0   5.0  2.594999\n",
       "2  25.0  1.0   6.0  2.347162\n",
       "3  25.0  1.0   7.0  2.103144\n",
       "4  25.0  1.0   8.0  1.859001\n",
       "5  25.0  1.0   9.0  1.674363\n",
       "6  25.0  1.0  10.0  1.608847\n",
       "7  25.0  1.0  11.0  1.637999"
      ]
     },
     "execution_count": 12,
     "metadata": {},
     "output_type": "execute_result"
    }
   ],
   "source": [
    "A = 25\n",
    "E = 1\n",
    "N = 11\n",
    "NU = 0\n",
    "\n",
    "list_of_outcomes = []\n",
    "\n",
    "for N in [4,5,6,7,8,9,10,11]:\n",
    "    # print(N)\n",
    "    normalizado = standard_scaler_rt.transform([[A,E,N,NU]])[:,:3]\n",
    "    resultado = keras_rt.predict(normalizado)\n",
    "    print(normalizado, resultado)\n",
    "    \n",
    "    resultado_df = pd.DataFrame(normalizado,columns=['A','E','N'])\n",
    "    resultado_df['Nu'] = resultado\n",
    "\n",
    "    standard_scaler_rt.inverse_transform(resultado_df)\n",
    "    outcome = list(standard_scaler_rt.inverse_transform(resultado_df)[0])\n",
    "\n",
    "    list_of_outcomes.append(outcome)\n",
    "\n",
    "dataframe_output = pd.DataFrame(list_of_outcomes,columns=['A','E','N','Nu'])\n",
    "dataframe_output"
   ]
  },
  {
   "cell_type": "code",
   "execution_count": 13,
   "metadata": {},
   "outputs": [
    {
     "name": "stdout",
     "output_type": "stream",
     "text": [
      "A: 25 E: 1 N: 11 Nu: 0\n"
     ]
    },
    {
     "data": {
      "text/plain": [
       "<AxesSubplot:xlabel='N', ylabel='Nu'>"
      ]
     },
     "execution_count": 13,
     "metadata": {},
     "output_type": "execute_result"
    },
    {
     "data": {
      "image/png": "[encoded data removed]",
      "text/plain": [
       "<Figure size 432x288 with 1 Axes>"
      ]
     },
     "metadata": {
      "needs_background": "light"
     },
     "output_type": "display_data"
    }
   ],
   "source": [
    "import matplotlib.pyplot as plt\n",
    "import seaborn as sns\n",
    "\n",
    "print('A:',A,'E:',E,'N:',N,'Nu:',NU)\n",
    "sns.lineplot(x=\"N\", y='Nu',data=dataframe_output,ci=None)"
   ]
  },
  {
   "cell_type": "code",
   "execution_count": 14,
   "metadata": {},
   "outputs": [
    {
     "name": "stdout",
     "output_type": "stream",
     "text": [
      "1/1 [==============================] - 0s 18ms/step\n",
      "[[-0.84515425 -1.22474487  1.22474487]] [[-0.86851025]]\n",
      "1/1 [==============================] - 0s 19ms/step\n",
      "[[-0.84515425  0.          1.22474487]] [[0.69603366]]\n",
      "1/1 [==============================] - 0s 17ms/step\n",
      "[[-0.84515425  1.22474487  1.22474487]] [[2.383251]]\n"
     ]
    },
    {
     "name": "stderr",
     "output_type": "stream",
     "text": [
      "C:\\Users\\vinao\\AppData\\Roaming\\Python\\Python38\\site-packages\\sklearn\\base.py:450: UserWarning: X does not have valid feature names, but StandardScaler was fitted with feature names\n",
      "  warnings.warn(\n",
      "C:\\Users\\vinao\\AppData\\Roaming\\Python\\Python38\\site-packages\\sklearn\\base.py:450: UserWarning: X does not have valid feature names, but StandardScaler was fitted with feature names\n",
      "  warnings.warn(\n",
      "C:\\Users\\vinao\\AppData\\Roaming\\Python\\Python38\\site-packages\\sklearn\\base.py:450: UserWarning: X does not have valid feature names, but StandardScaler was fitted with feature names\n",
      "  warnings.warn(\n"
     ]
    },
    {
     "data": {
      "text/html": [
       "<div>\n",
       "<style scoped>\n",
       "    .dataframe tbody tr th:only-of-type {\n",
       "        vertical-align: middle;\n",
       "    }\n",
       "\n",
       "    .dataframe tbody tr th {\n",
       "        vertical-align: top;\n",
       "    }\n",
       "\n",
       "    .dataframe thead th {\n",
       "        text-align: right;\n",
       "    }\n",
       "</style>\n",
       "<table border=\"1\" class=\"dataframe\">\n",
       "  <thead>\n",
       "    <tr style=\"text-align: right;\">\n",
       "      <th></th>\n",
       "      <th>A</th>\n",
       "      <th>E</th>\n",
       "      <th>N</th>\n",
       "      <th>Nu</th>\n",
       "    </tr>\n",
       "  </thead>\n",
       "  <tbody>\n",
       "    <tr>\n",
       "      <th>0</th>\n",
       "      <td>25.0</td>\n",
       "      <td>1.0</td>\n",
       "      <td>11.0</td>\n",
       "      <td>1.637999</td>\n",
       "    </tr>\n",
       "    <tr>\n",
       "      <th>1</th>\n",
       "      <td>25.0</td>\n",
       "      <td>2.0</td>\n",
       "      <td>11.0</td>\n",
       "      <td>2.853353</td>\n",
       "    </tr>\n",
       "    <tr>\n",
       "      <th>2</th>\n",
       "      <td>25.0</td>\n",
       "      <td>3.0</td>\n",
       "      <td>11.0</td>\n",
       "      <td>4.164000</td>\n",
       "    </tr>\n",
       "  </tbody>\n",
       "</table>\n",
       "</div>"
      ],
      "text/plain": [
       "      A    E     N        Nu\n",
       "0  25.0  1.0  11.0  1.637999\n",
       "1  25.0  2.0  11.0  2.853353\n",
       "2  25.0  3.0  11.0  4.164000"
      ]
     },
     "execution_count": 14,
     "metadata": {},
     "output_type": "execute_result"
    }
   ],
   "source": [
    "A = 25\n",
    "E = 1\n",
    "N = 11\n",
    "NU = 0\n",
    "\n",
    "list_of_outcomes = []\n",
    "\n",
    "for E in [1,2,3]:\n",
    "    # print(N)\n",
    "    normalizado = standard_scaler_rt.transform([[A,E,N,NU]])[:,:3]\n",
    "    resultado = keras_rt.predict(normalizado)\n",
    "    print(normalizado, resultado)\n",
    "    \n",
    "    resultado_df = pd.DataFrame(normalizado,columns=['A','E','N'])\n",
    "    resultado_df['Nu'] = resultado\n",
    "\n",
    "    standard_scaler_rt.inverse_transform(resultado_df)\n",
    "    outcome = list(standard_scaler_rt.inverse_transform(resultado_df)[0])\n",
    "\n",
    "    list_of_outcomes.append(outcome)\n",
    "\n",
    "dataframe_output = pd.DataFrame(list_of_outcomes,columns=['A','E','N','Nu'])\n",
    "dataframe_output"
   ]
  },
  {
   "cell_type": "code",
   "execution_count": 16,
   "metadata": {},
   "outputs": [
    {
     "name": "stdout",
     "output_type": "stream",
     "text": [
      "A: 25 E: 3 N: 11 Nu: 0\n"
     ]
    },
    {
     "data": {
      "text/plain": [
       "<AxesSubplot:xlabel='E', ylabel='Nu'>"
      ]
     },
     "execution_count": 16,
     "metadata": {},
     "output_type": "execute_result"
    },
    {
     "data": {
      "image/png": "[encoded data removed]",
      "text/plain": [
       "<Figure size 432x288 with 1 Axes>"
      ]
     },
     "metadata": {
      "needs_background": "light"
     },
     "output_type": "display_data"
    }
   ],
   "source": [
    "import matplotlib.pyplot as plt\n",
    "import seaborn as sns\n",
    "\n",
    "print('A:',A,'E:',E,'N:',N,'Nu:',NU)\n",
    "sns.lineplot(x=\"E\", y='Nu',data=dataframe_output,ci=None)"
   ]
  },
  {
   "cell_type": "code",
   "execution_count": 17,
   "metadata": {},
   "outputs": [
    {
     "name": "stdout",
     "output_type": "stream",
     "text": [
      "1/1 [==============================] - 0s 16ms/step\n",
      "[[-1.85933936 -1.22474487  1.22474487]] [[-0.44240606]]\n",
      "1/1 [==============================] - 0s 17ms/step\n",
      "[[-0.84515425 -1.22474487  1.22474487]] [[-0.86851025]]\n",
      "1/1 [==============================] - 0s 21ms/step\n",
      "[[ 0.16903085 -1.22474487  1.22474487]] [[-1.2982972]]\n",
      "1/1 [==============================] - 0s 16ms/step\n"
     ]
    },
    {
     "name": "stderr",
     "output_type": "stream",
     "text": [
      "C:\\Users\\vinao\\AppData\\Roaming\\Python\\Python38\\site-packages\\sklearn\\base.py:450: UserWarning: X does not have valid feature names, but StandardScaler was fitted with feature names\n",
      "  warnings.warn(\n",
      "C:\\Users\\vinao\\AppData\\Roaming\\Python\\Python38\\site-packages\\sklearn\\base.py:450: UserWarning: X does not have valid feature names, but StandardScaler was fitted with feature names\n",
      "  warnings.warn(\n",
      "C:\\Users\\vinao\\AppData\\Roaming\\Python\\Python38\\site-packages\\sklearn\\base.py:450: UserWarning: X does not have valid feature names, but StandardScaler was fitted with feature names\n",
      "  warnings.warn(\n",
      "C:\\Users\\vinao\\AppData\\Roaming\\Python\\Python38\\site-packages\\sklearn\\base.py:450: UserWarning: X does not have valid feature names, but StandardScaler was fitted with feature names\n",
      "  warnings.warn(\n"
     ]
    },
    {
     "name": "stdout",
     "output_type": "stream",
     "text": [
      "[[ 1.18321596 -1.22474487  1.22474487]] [[-1.610225]]\n",
      "1/1 [==============================] - 0s 16ms/step\n",
      "[[ 2.19740106 -1.22474487  1.22474487]] [[-1.9518977]]\n"
     ]
    },
    {
     "name": "stderr",
     "output_type": "stream",
     "text": [
      "C:\\Users\\vinao\\AppData\\Roaming\\Python\\Python38\\site-packages\\sklearn\\base.py:450: UserWarning: X does not have valid feature names, but StandardScaler was fitted with feature names\n",
      "  warnings.warn(\n"
     ]
    },
    {
     "data": {
      "text/html": [
       "<div>\n",
       "<style scoped>\n",
       "    .dataframe tbody tr th:only-of-type {\n",
       "        vertical-align: middle;\n",
       "    }\n",
       "\n",
       "    .dataframe tbody tr th {\n",
       "        vertical-align: top;\n",
       "    }\n",
       "\n",
       "    .dataframe thead th {\n",
       "        text-align: right;\n",
       "    }\n",
       "</style>\n",
       "<table border=\"1\" class=\"dataframe\">\n",
       "  <thead>\n",
       "    <tr style=\"text-align: right;\">\n",
       "      <th></th>\n",
       "      <th>A</th>\n",
       "      <th>E</th>\n",
       "      <th>N</th>\n",
       "      <th>Nu</th>\n",
       "    </tr>\n",
       "  </thead>\n",
       "  <tbody>\n",
       "    <tr>\n",
       "      <th>0</th>\n",
       "      <td>20.0</td>\n",
       "      <td>1.0</td>\n",
       "      <td>11.0</td>\n",
       "      <td>1.969001</td>\n",
       "    </tr>\n",
       "    <tr>\n",
       "      <th>1</th>\n",
       "      <td>25.0</td>\n",
       "      <td>1.0</td>\n",
       "      <td>11.0</td>\n",
       "      <td>1.637999</td>\n",
       "    </tr>\n",
       "    <tr>\n",
       "      <th>2</th>\n",
       "      <td>30.0</td>\n",
       "      <td>1.0</td>\n",
       "      <td>11.0</td>\n",
       "      <td>1.304136</td>\n",
       "    </tr>\n",
       "    <tr>\n",
       "      <th>3</th>\n",
       "      <td>35.0</td>\n",
       "      <td>1.0</td>\n",
       "      <td>11.0</td>\n",
       "      <td>1.061828</td>\n",
       "    </tr>\n",
       "    <tr>\n",
       "      <th>4</th>\n",
       "      <td>40.0</td>\n",
       "      <td>1.0</td>\n",
       "      <td>11.0</td>\n",
       "      <td>0.796413</td>\n",
       "    </tr>\n",
       "  </tbody>\n",
       "</table>\n",
       "</div>"
      ],
      "text/plain": [
       "      A    E     N        Nu\n",
       "0  20.0  1.0  11.0  1.969001\n",
       "1  25.0  1.0  11.0  1.637999\n",
       "2  30.0  1.0  11.0  1.304136\n",
       "3  35.0  1.0  11.0  1.061828\n",
       "4  40.0  1.0  11.0  0.796413"
      ]
     },
     "execution_count": 17,
     "metadata": {},
     "output_type": "execute_result"
    }
   ],
   "source": [
    "A = 25\n",
    "E = 1\n",
    "N = 11\n",
    "NU = 0\n",
    "\n",
    "list_of_outcomes = []\n",
    "\n",
    "for A in [20,25,30,35,40]:\n",
    "    # print(N)\n",
    "    normalizado = standard_scaler_rt.transform([[A,E,N,NU]])[:,:3]\n",
    "    resultado = keras_rt.predict(normalizado)\n",
    "    print(normalizado, resultado)\n",
    "    \n",
    "    resultado_df = pd.DataFrame(normalizado,columns=['A','E','N'])\n",
    "    resultado_df['Nu'] = resultado\n",
    "\n",
    "    standard_scaler_rt.inverse_transform(resultado_df)\n",
    "    outcome = list(standard_scaler_rt.inverse_transform(resultado_df)[0])\n",
    "\n",
    "    list_of_outcomes.append(outcome)\n",
    "\n",
    "dataframe_output = pd.DataFrame(list_of_outcomes,columns=['A','E','N','Nu'])\n",
    "dataframe_output"
   ]
  },
  {
   "cell_type": "code",
   "execution_count": 18,
   "metadata": {},
   "outputs": [
    {
     "name": "stdout",
     "output_type": "stream",
     "text": [
      "A: 40 E: 1 N: 11 Nu: 0\n"
     ]
    },
    {
     "data": {
      "text/plain": [
       "<AxesSubplot:xlabel='A', ylabel='Nu'>"
      ]
     },
     "execution_count": 18,
     "metadata": {},
     "output_type": "execute_result"
    },
    {
     "data": {
      "image/png": "[encoded data removed]",
      "text/plain": [
       "<Figure size 432x288 with 1 Axes>"
      ]
     },
     "metadata": {
      "needs_background": "light"
     },
     "output_type": "display_data"
    }
   ],
   "source": [
    "import matplotlib.pyplot as plt\n",
    "import seaborn as sns\n",
    "\n",
    "print('A:',A,'E:',E,'N:',N,'Nu:',NU)\n",
    "sns.lineplot(x=\"A\", y='Nu',data=dataframe_output,ci=None)"
   ]
  },
  {
   "cell_type": "code",
   "execution_count": null,
   "metadata": {},
   "outputs": [],
   "source": []
  }
 ],
 "metadata": {
  "kernelspec": {
   "display_name": "Python 3.8.8 ('base')",
   "language": "python",
   "name": "python3"
  },
  "language_info": {
   "codemirror_mode": {
    "name": "ipython",
    "version": 3
   },
   "file_extension": ".py",
   "mimetype": "text/x-python",
   "name": "python",
   "nbconvert_exporter": "python",
   "pygments_lexer": "ipython3",
   "version": "3.8.8"
  },
  "orig_nbformat": 4,
  "vscode": {
   "interpreter": {
    "hash": "edbada794071f9c875b2bc5e0e869a1d746a19a0ba8801f10239845106c51c5a"
   }
  }
 },
 "nbformat": 4,
 "nbformat_minor": 2
}
