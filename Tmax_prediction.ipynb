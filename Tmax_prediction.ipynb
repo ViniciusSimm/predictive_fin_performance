{
 "cells": [
  {
   "cell_type": "code",
   "execution_count": 1,
   "metadata": {},
   "outputs": [
    {
     "data": {
      "text/html": [
       "<div>\n",
       "<style scoped>\n",
       "    .dataframe tbody tr th:only-of-type {\n",
       "        vertical-align: middle;\n",
       "    }\n",
       "\n",
       "    .dataframe tbody tr th {\n",
       "        vertical-align: top;\n",
       "    }\n",
       "\n",
       "    .dataframe thead th {\n",
       "        text-align: right;\n",
       "    }\n",
       "</style>\n",
       "<table border=\"1\" class=\"dataframe\">\n",
       "  <thead>\n",
       "    <tr style=\"text-align: right;\">\n",
       "      <th></th>\n",
       "      <th>A</th>\n",
       "      <th>E</th>\n",
       "      <th>N</th>\n",
       "      <th>Tmax</th>\n",
       "    </tr>\n",
       "  </thead>\n",
       "  <tbody>\n",
       "    <tr>\n",
       "      <th>0</th>\n",
       "      <td>25</td>\n",
       "      <td>1</td>\n",
       "      <td>11</td>\n",
       "      <td>67.67</td>\n",
       "    </tr>\n",
       "    <tr>\n",
       "      <th>1</th>\n",
       "      <td>25</td>\n",
       "      <td>1</td>\n",
       "      <td>5</td>\n",
       "      <td>126.85</td>\n",
       "    </tr>\n",
       "    <tr>\n",
       "      <th>2</th>\n",
       "      <td>25</td>\n",
       "      <td>2</td>\n",
       "      <td>8</td>\n",
       "      <td>72.71</td>\n",
       "    </tr>\n",
       "    <tr>\n",
       "      <th>3</th>\n",
       "      <td>25</td>\n",
       "      <td>3</td>\n",
       "      <td>11</td>\n",
       "      <td>162.85</td>\n",
       "    </tr>\n",
       "    <tr>\n",
       "      <th>4</th>\n",
       "      <td>25</td>\n",
       "      <td>3</td>\n",
       "      <td>5</td>\n",
       "      <td>94.85</td>\n",
       "    </tr>\n",
       "    <tr>\n",
       "      <th>5</th>\n",
       "      <td>35</td>\n",
       "      <td>1</td>\n",
       "      <td>8</td>\n",
       "      <td>61.15</td>\n",
       "    </tr>\n",
       "    <tr>\n",
       "      <th>6</th>\n",
       "      <td>35</td>\n",
       "      <td>2</td>\n",
       "      <td>11</td>\n",
       "      <td>63.03</td>\n",
       "    </tr>\n",
       "    <tr>\n",
       "      <th>7</th>\n",
       "      <td>35</td>\n",
       "      <td>2</td>\n",
       "      <td>5</td>\n",
       "      <td>77.35</td>\n",
       "    </tr>\n",
       "    <tr>\n",
       "      <th>8</th>\n",
       "      <td>35</td>\n",
       "      <td>3</td>\n",
       "      <td>8</td>\n",
       "      <td>63.25</td>\n",
       "    </tr>\n",
       "    <tr>\n",
       "      <th>9</th>\n",
       "      <td>25</td>\n",
       "      <td>1</td>\n",
       "      <td>8</td>\n",
       "      <td>76.30</td>\n",
       "    </tr>\n",
       "    <tr>\n",
       "      <th>10</th>\n",
       "      <td>25</td>\n",
       "      <td>2</td>\n",
       "      <td>5</td>\n",
       "      <td>98.76</td>\n",
       "    </tr>\n",
       "    <tr>\n",
       "      <th>11</th>\n",
       "      <td>35</td>\n",
       "      <td>3</td>\n",
       "      <td>11</td>\n",
       "      <td>94.70</td>\n",
       "    </tr>\n",
       "  </tbody>\n",
       "</table>\n",
       "</div>"
      ],
      "text/plain": [
       "     A  E   N    Tmax\n",
       "0   25  1  11   67.67\n",
       "1   25  1   5  126.85\n",
       "2   25  2   8   72.71\n",
       "3   25  3  11  162.85\n",
       "4   25  3   5   94.85\n",
       "5   35  1   8   61.15\n",
       "6   35  2  11   63.03\n",
       "7   35  2   5   77.35\n",
       "8   35  3   8   63.25\n",
       "9   25  1   8   76.30\n",
       "10  25  2   5   98.76\n",
       "11  35  3  11   94.70"
      ]
     },
     "execution_count": 1,
     "metadata": {},
     "output_type": "execute_result"
    }
   ],
   "source": [
    "import pandas as pd\n",
    "database = pd.read_excel('database_TCC.xlsx')\n",
    "database = database[['A','E','N','Tmax']]\n",
    "database"
   ]
  },
  {
   "cell_type": "code",
   "execution_count": 2,
   "metadata": {},
   "outputs": [],
   "source": [
    "from sklearn.preprocessing import StandardScaler\n",
    "standardscaler = StandardScaler()\n",
    "standardscaler.fit(database)\n",
    "data = standardscaler.transform(database)\n",
    "database = pd.DataFrame(data,columns=database.columns)"
   ]
  },
  {
   "cell_type": "code",
   "execution_count": 7,
   "metadata": {},
   "outputs": [],
   "source": [
    "import pickle\n",
    "pickle.dump(standardscaler, open('standard_scaler_Tmax.pkl','wb'))"
   ]
  },
  {
   "cell_type": "code",
   "execution_count": 3,
   "metadata": {},
   "outputs": [],
   "source": [
    "from sklearn.metrics import r2_score,mean_squared_error,mean_absolute_error,max_error\n",
    "\n",
    "def split_x_and_y(database,x,y):\n",
    "  dataset_x = database[x]\n",
    "  dataset_y = database[y]\n",
    "  return dataset_x,dataset_y\n",
    "\n",
    "\n",
    "def scores(Y_true, Y_predicted):\n",
    "  r2 = r2_score(Y_true, Y_predicted)\n",
    "  meansquarederror = mean_squared_error(Y_true, Y_predicted)\n",
    "  meanabsoluteerror = mean_absolute_error(Y_true, Y_predicted)\n",
    "  maxerror = max_error(Y_true, Y_predicted)\n",
    "\n",
    "  print('r2:',r2,'meansquarederror:',meansquarederror,'meanabsoluteerror:',meanabsoluteerror,'maxerror:',maxerror)\n",
    "  return r2,meansquarederror,meanabsoluteerror,maxerror\n"
   ]
  },
  {
   "cell_type": "markdown",
   "metadata": {},
   "source": [
    "# Random Forest Regressor"
   ]
  },
  {
   "cell_type": "code",
   "execution_count": 9,
   "metadata": {},
   "outputs": [],
   "source": [
    "dataset_x,dataset_y = split_x_and_y(database,['A','E','N'],'Tmax')"
   ]
  },
  {
   "cell_type": "code",
   "execution_count": 10,
   "metadata": {},
   "outputs": [
    {
     "data": {
      "text/plain": [
       "0.8447830391182938"
      ]
     },
     "execution_count": 10,
     "metadata": {},
     "output_type": "execute_result"
    }
   ],
   "source": [
    "from sklearn.ensemble import RandomForestRegressor\n",
    "RFR = RandomForestRegressor(n_estimators=1000)\n",
    "RFR.fit(dataset_x,dataset_y)\n",
    "RFR.score(dataset_x,dataset_y)"
   ]
  },
  {
   "cell_type": "code",
   "execution_count": 11,
   "metadata": {},
   "outputs": [
    {
     "data": {
      "text/plain": [
       "0.7053810307734065"
      ]
     },
     "execution_count": 11,
     "metadata": {},
     "output_type": "execute_result"
    }
   ],
   "source": [
    "dataset_x,dataset_y = split_x_and_y(database.iloc[[0,1,2,3,4,5,6,7,8]],['A','E','N'],'Tmax')\n",
    "\n",
    "test_x,test_y = split_x_and_y(database.iloc[[9,10,11]],['A','E','N'],'Tmax')\n",
    "\n",
    "from sklearn.ensemble import RandomForestRegressor\n",
    "RFR = RandomForestRegressor(n_estimators=3000,criterion='absolute_error',random_state=100)\n",
    "RFR.fit(dataset_x,dataset_y)\n",
    "RFR.score(test_x,test_y)"
   ]
  },
  {
   "cell_type": "code",
   "execution_count": 5,
   "metadata": {},
   "outputs": [
    {
     "data": {
      "text/plain": [
       "array([0.21169354, 0.38198803, 0.40631843])"
      ]
     },
     "execution_count": 5,
     "metadata": {},
     "output_type": "execute_result"
    }
   ],
   "source": [
    "RFR.feature_importances_"
   ]
  },
  {
   "cell_type": "code",
   "execution_count": 12,
   "metadata": {},
   "outputs": [],
   "source": [
    "import pickle\n",
    "pickle.dump(RFR, open('Random_Forest_Regressor_Tmax.pkl', 'wb'))"
   ]
  },
  {
   "cell_type": "markdown",
   "metadata": {},
   "source": [
    "# SVM"
   ]
  },
  {
   "cell_type": "code",
   "execution_count": 125,
   "metadata": {},
   "outputs": [
    {
     "data": {
      "text/plain": [
       "0.6006148480401164"
      ]
     },
     "execution_count": 125,
     "metadata": {},
     "output_type": "execute_result"
    }
   ],
   "source": [
    "dataset_x,dataset_y = split_x_and_y(database.iloc[[0,1,2,3,4,5,6,7,8]],['A','E','N'],'Tmax')\n",
    "\n",
    "test_x,test_y = split_x_and_y(database.iloc[[9,10,11]],['A','E','N'],'Tmax')\n",
    "\n",
    "from sklearn import svm\n",
    "from sklearn.model_selection import GridSearchCV\n",
    "\n",
    "svr = svm.SVR(C=4,kernel ='rbf',gamma='scale')\n",
    "\n",
    "svr.fit(dataset_x,dataset_y)\n",
    "svr.score(test_x,test_y)"
   ]
  },
  {
   "cell_type": "markdown",
   "metadata": {},
   "source": [
    "# MLP"
   ]
  },
  {
   "cell_type": "code",
   "execution_count": 17,
   "metadata": {},
   "outputs": [
    {
     "data": {
      "text/plain": [
       "0.830254490027388"
      ]
     },
     "execution_count": 17,
     "metadata": {},
     "output_type": "execute_result"
    }
   ],
   "source": [
    "dataset_x,dataset_y = split_x_and_y(database.iloc[[0,1,2,3,4,5,6,7,8]],['A','E','N'],'Tmax')\n",
    "\n",
    "test_x,test_y = split_x_and_y(database.iloc[[9,10,11]],['A','E','N'],'Tmax')\n",
    "\n",
    "from sklearn.neural_network import MLPRegressor\n",
    "MLP = MLPRegressor(max_iter=1000,hidden_layer_sizes=(64,32),activation='relu',solver='adam',learning_rate='constant',momentum=0.9,beta_1=0.6,beta_2=0.959,random_state = 100)\n",
    "MLP.fit(dataset_x,dataset_y)\n",
    "MLP.score(test_x,test_y)"
   ]
  },
  {
   "cell_type": "markdown",
   "metadata": {},
   "source": [
    "# Polynomial with Linear"
   ]
  },
  {
   "cell_type": "code",
   "execution_count": 16,
   "metadata": {},
   "outputs": [
    {
     "data": {
      "text/plain": [
       "0.2550390584768786"
      ]
     },
     "execution_count": 16,
     "metadata": {},
     "output_type": "execute_result"
    }
   ],
   "source": [
    "dataset_x,dataset_y = split_x_and_y(database.iloc[[0,1,2,3,4,5,6,7,8]],['A','E','N'],'Tmax')\n",
    "\n",
    "test_x,test_y = split_x_and_y(database.iloc[[9,10,11]],['A','E','N'],'Tmax')\n",
    "\n",
    "from sklearn.preprocessing import PolynomialFeatures\n",
    "from sklearn.linear_model import LinearRegression\n",
    "\n",
    "poly = PolynomialFeatures(4)\n",
    "LR = LinearRegression()\n",
    "\n",
    "dataset_x_transformed = poly.fit_transform(dataset_x)\n",
    "test_x_transformed = poly.fit_transform(test_x)\n",
    "\n",
    "LR.fit(dataset_x_transformed,dataset_y)\n",
    "LR.score(test_x_transformed,test_y)"
   ]
  },
  {
   "cell_type": "markdown",
   "metadata": {},
   "source": [
    "# Keras"
   ]
  },
  {
   "cell_type": "code",
   "execution_count": 88,
   "metadata": {},
   "outputs": [
    {
     "name": "stdout",
     "output_type": "stream",
     "text": [
      "Epoch 1/100\n",
      "1/1 [==============================] - 1s 591ms/step - loss: 1.8846 - mse: 1.8846 - val_loss: 0.1420 - val_mse: 0.1420\n",
      "Epoch 2/100\n",
      "1/1 [==============================] - 0s 28ms/step - loss: 2.2860 - mse: 2.2860 - val_loss: 0.1609 - val_mse: 0.1609\n",
      "Epoch 3/100\n",
      "1/1 [==============================] - 0s 43ms/step - loss: 2.3233 - mse: 2.3233 - val_loss: 0.1840 - val_mse: 0.1840\n",
      "Epoch 4/100\n",
      "1/1 [==============================] - 0s 31ms/step - loss: 2.2541 - mse: 2.2541 - val_loss: 0.2051 - val_mse: 0.2051\n",
      "Epoch 5/100\n",
      "1/1 [==============================] - 0s 34ms/step - loss: 2.3392 - mse: 2.3392 - val_loss: 0.2260 - val_mse: 0.2260\n",
      "Epoch 6/100\n",
      "1/1 [==============================] - 0s 30ms/step - loss: 1.8813 - mse: 1.8813 - val_loss: 0.2459 - val_mse: 0.2459\n",
      "Epoch 7/100\n",
      "1/1 [==============================] - 0s 41ms/step - loss: 1.8183 - mse: 1.8183 - val_loss: 0.2649 - val_mse: 0.2649\n",
      "Epoch 8/100\n",
      "1/1 [==============================] - 0s 39ms/step - loss: 1.7107 - mse: 1.7107 - val_loss: 0.2823 - val_mse: 0.2823\n",
      "Epoch 9/100\n",
      "1/1 [==============================] - 0s 31ms/step - loss: 1.8751 - mse: 1.8751 - val_loss: 0.2994 - val_mse: 0.2994\n",
      "Epoch 10/100\n",
      "1/1 [==============================] - 0s 37ms/step - loss: 1.4832 - mse: 1.4832 - val_loss: 0.3169 - val_mse: 0.3169\n",
      "Epoch 11/100\n",
      "1/1 [==============================] - 0s 30ms/step - loss: 1.6762 - mse: 1.6762 - val_loss: 0.3352 - val_mse: 0.3352\n",
      "Epoch 12/100\n",
      "1/1 [==============================] - 0s 32ms/step - loss: 1.4786 - mse: 1.4786 - val_loss: 0.3513 - val_mse: 0.3513\n",
      "Epoch 13/100\n",
      "1/1 [==============================] - 0s 28ms/step - loss: 1.6048 - mse: 1.6048 - val_loss: 0.3658 - val_mse: 0.3658\n",
      "Epoch 14/100\n",
      "1/1 [==============================] - 0s 37ms/step - loss: 1.4779 - mse: 1.4779 - val_loss: 0.3796 - val_mse: 0.3796\n",
      "Epoch 15/100\n",
      "1/1 [==============================] - 0s 27ms/step - loss: 1.4721 - mse: 1.4721 - val_loss: 0.3927 - val_mse: 0.3927\n",
      "Epoch 16/100\n",
      "1/1 [==============================] - 0s 31ms/step - loss: 1.6833 - mse: 1.6833 - val_loss: 0.4072 - val_mse: 0.4072\n",
      "Epoch 17/100\n",
      "1/1 [==============================] - 0s 32ms/step - loss: 1.5066 - mse: 1.5066 - val_loss: 0.4200 - val_mse: 0.4200\n",
      "Epoch 18/100\n",
      "1/1 [==============================] - 0s 25ms/step - loss: 1.1432 - mse: 1.1432 - val_loss: 0.4300 - val_mse: 0.4300\n",
      "Epoch 19/100\n",
      "1/1 [==============================] - 0s 31ms/step - loss: 1.1772 - mse: 1.1772 - val_loss: 0.4393 - val_mse: 0.4393\n",
      "Epoch 20/100\n",
      "1/1 [==============================] - 0s 30ms/step - loss: 1.2310 - mse: 1.2310 - val_loss: 0.4492 - val_mse: 0.4492\n",
      "Epoch 21/100\n",
      "1/1 [==============================] - 0s 23ms/step - loss: 1.4271 - mse: 1.4271 - val_loss: 0.4586 - val_mse: 0.4586\n",
      "Epoch 22/100\n",
      "1/1 [==============================] - 0s 24ms/step - loss: 1.1368 - mse: 1.1368 - val_loss: 0.4663 - val_mse: 0.4663\n",
      "Epoch 23/100\n",
      "1/1 [==============================] - 0s 23ms/step - loss: 1.0474 - mse: 1.0474 - val_loss: 0.4721 - val_mse: 0.4721\n",
      "Epoch 24/100\n",
      "1/1 [==============================] - 0s 31ms/step - loss: 1.0853 - mse: 1.0853 - val_loss: 0.4783 - val_mse: 0.4783\n",
      "Epoch 25/100\n",
      "1/1 [==============================] - 0s 29ms/step - loss: 1.4037 - mse: 1.4037 - val_loss: 0.4833 - val_mse: 0.4833\n",
      "Epoch 26/100\n",
      "1/1 [==============================] - 0s 26ms/step - loss: 1.0441 - mse: 1.0441 - val_loss: 0.4864 - val_mse: 0.4864\n",
      "Epoch 27/100\n",
      "1/1 [==============================] - 0s 25ms/step - loss: 1.1091 - mse: 1.1091 - val_loss: 0.4898 - val_mse: 0.4898\n",
      "Epoch 28/100\n",
      "1/1 [==============================] - 0s 26ms/step - loss: 1.1850 - mse: 1.1850 - val_loss: 0.4915 - val_mse: 0.4915\n",
      "Epoch 29/100\n",
      "1/1 [==============================] - 0s 26ms/step - loss: 1.4061 - mse: 1.4061 - val_loss: 0.4916 - val_mse: 0.4916\n",
      "Epoch 30/100\n",
      "1/1 [==============================] - 0s 22ms/step - loss: 1.1337 - mse: 1.1337 - val_loss: 0.4905 - val_mse: 0.4905\n",
      "Epoch 31/100\n",
      "1/1 [==============================] - 0s 24ms/step - loss: 0.9755 - mse: 0.9755 - val_loss: 0.4885 - val_mse: 0.4885\n",
      "Epoch 32/100\n",
      "1/1 [==============================] - 0s 24ms/step - loss: 1.0666 - mse: 1.0666 - val_loss: 0.4852 - val_mse: 0.4852\n",
      "Epoch 33/100\n",
      "1/1 [==============================] - 0s 24ms/step - loss: 1.0006 - mse: 1.0006 - val_loss: 0.4821 - val_mse: 0.4821\n",
      "Epoch 34/100\n",
      "1/1 [==============================] - 0s 28ms/step - loss: 0.9281 - mse: 0.9281 - val_loss: 0.4785 - val_mse: 0.4785\n",
      "Epoch 35/100\n",
      "1/1 [==============================] - 0s 29ms/step - loss: 0.9971 - mse: 0.9971 - val_loss: 0.4752 - val_mse: 0.4752\n",
      "Epoch 36/100\n",
      "1/1 [==============================] - 0s 25ms/step - loss: 0.9405 - mse: 0.9405 - val_loss: 0.4697 - val_mse: 0.4697\n",
      "Epoch 37/100\n",
      "1/1 [==============================] - 0s 21ms/step - loss: 0.9422 - mse: 0.9422 - val_loss: 0.4617 - val_mse: 0.4617\n",
      "Epoch 38/100\n",
      "1/1 [==============================] - 0s 28ms/step - loss: 1.3687 - mse: 1.3687 - val_loss: 0.4540 - val_mse: 0.4540\n",
      "Epoch 39/100\n",
      "1/1 [==============================] - 0s 42ms/step - loss: 1.1111 - mse: 1.1111 - val_loss: 0.4467 - val_mse: 0.4467\n",
      "Epoch 40/100\n",
      "1/1 [==============================] - 0s 36ms/step - loss: 0.7642 - mse: 0.7642 - val_loss: 0.4395 - val_mse: 0.4395\n",
      "Epoch 41/100\n",
      "1/1 [==============================] - 0s 32ms/step - loss: 0.9100 - mse: 0.9100 - val_loss: 0.4326 - val_mse: 0.4326\n",
      "Epoch 42/100\n",
      "1/1 [==============================] - 0s 31ms/step - loss: 0.7342 - mse: 0.7342 - val_loss: 0.4256 - val_mse: 0.4256\n",
      "Epoch 43/100\n",
      "1/1 [==============================] - 0s 30ms/step - loss: 1.2806 - mse: 1.2806 - val_loss: 0.4169 - val_mse: 0.4169\n",
      "Epoch 44/100\n",
      "1/1 [==============================] - 0s 31ms/step - loss: 1.0150 - mse: 1.0150 - val_loss: 0.4085 - val_mse: 0.4085\n",
      "Epoch 45/100\n",
      "1/1 [==============================] - 0s 37ms/step - loss: 0.5378 - mse: 0.5378 - val_loss: 0.4003 - val_mse: 0.4003\n",
      "Epoch 46/100\n",
      "1/1 [==============================] - 0s 39ms/step - loss: 0.7816 - mse: 0.7816 - val_loss: 0.3936 - val_mse: 0.3936\n",
      "Epoch 47/100\n",
      "1/1 [==============================] - 0s 36ms/step - loss: 0.8700 - mse: 0.8700 - val_loss: 0.3865 - val_mse: 0.3865\n",
      "Epoch 48/100\n",
      "1/1 [==============================] - 0s 31ms/step - loss: 0.8636 - mse: 0.8636 - val_loss: 0.3777 - val_mse: 0.3777\n",
      "Epoch 49/100\n",
      "1/1 [==============================] - 0s 36ms/step - loss: 0.6178 - mse: 0.6178 - val_loss: 0.3669 - val_mse: 0.3669\n",
      "Epoch 50/100\n",
      "1/1 [==============================] - 0s 26ms/step - loss: 0.6998 - mse: 0.6998 - val_loss: 0.3569 - val_mse: 0.3569\n",
      "Epoch 51/100\n",
      "1/1 [==============================] - 0s 26ms/step - loss: 0.6582 - mse: 0.6582 - val_loss: 0.3460 - val_mse: 0.3460\n",
      "Epoch 52/100\n",
      "1/1 [==============================] - 0s 23ms/step - loss: 0.4377 - mse: 0.4377 - val_loss: 0.3329 - val_mse: 0.3329\n",
      "Epoch 53/100\n",
      "1/1 [==============================] - 0s 22ms/step - loss: 0.7257 - mse: 0.7257 - val_loss: 0.3176 - val_mse: 0.3176\n",
      "Epoch 54/100\n",
      "1/1 [==============================] - 0s 26ms/step - loss: 0.7326 - mse: 0.7326 - val_loss: 0.3018 - val_mse: 0.3018\n",
      "Epoch 55/100\n",
      "1/1 [==============================] - 0s 23ms/step - loss: 0.6932 - mse: 0.6932 - val_loss: 0.2868 - val_mse: 0.2868\n",
      "Epoch 56/100\n",
      "1/1 [==============================] - 0s 25ms/step - loss: 0.4650 - mse: 0.4650 - val_loss: 0.2722 - val_mse: 0.2722\n",
      "Epoch 57/100\n",
      "1/1 [==============================] - 0s 22ms/step - loss: 0.5749 - mse: 0.5749 - val_loss: 0.2596 - val_mse: 0.2596\n",
      "Epoch 58/100\n",
      "1/1 [==============================] - 0s 25ms/step - loss: 0.6079 - mse: 0.6079 - val_loss: 0.2477 - val_mse: 0.2477\n",
      "Epoch 59/100\n",
      "1/1 [==============================] - 0s 24ms/step - loss: 0.7987 - mse: 0.7987 - val_loss: 0.2376 - val_mse: 0.2376\n",
      "Epoch 60/100\n",
      "1/1 [==============================] - 0s 25ms/step - loss: 0.2697 - mse: 0.2697 - val_loss: 0.2289 - val_mse: 0.2289\n",
      "Epoch 61/100\n",
      "1/1 [==============================] - 0s 22ms/step - loss: 0.7569 - mse: 0.7569 - val_loss: 0.2198 - val_mse: 0.2198\n",
      "Epoch 62/100\n",
      "1/1 [==============================] - 0s 25ms/step - loss: 0.3509 - mse: 0.3509 - val_loss: 0.2123 - val_mse: 0.2123\n",
      "Epoch 63/100\n",
      "1/1 [==============================] - 0s 34ms/step - loss: 0.6578 - mse: 0.6578 - val_loss: 0.2072 - val_mse: 0.2072\n",
      "Epoch 64/100\n",
      "1/1 [==============================] - 0s 33ms/step - loss: 0.6646 - mse: 0.6646 - val_loss: 0.2021 - val_mse: 0.2021\n",
      "Epoch 65/100\n",
      "1/1 [==============================] - 0s 33ms/step - loss: 0.4310 - mse: 0.4310 - val_loss: 0.1980 - val_mse: 0.1980\n",
      "Epoch 66/100\n",
      "1/1 [==============================] - 0s 28ms/step - loss: 0.6927 - mse: 0.6927 - val_loss: 0.1933 - val_mse: 0.1933\n",
      "Epoch 67/100\n",
      "1/1 [==============================] - 0s 24ms/step - loss: 0.2466 - mse: 0.2466 - val_loss: 0.1909 - val_mse: 0.1909\n",
      "Epoch 68/100\n",
      "1/1 [==============================] - 0s 23ms/step - loss: 0.4345 - mse: 0.4345 - val_loss: 0.1883 - val_mse: 0.1883\n",
      "Epoch 69/100\n",
      "1/1 [==============================] - 0s 27ms/step - loss: 0.5737 - mse: 0.5737 - val_loss: 0.1867 - val_mse: 0.1867\n",
      "Epoch 70/100\n",
      "1/1 [==============================] - 0s 19ms/step - loss: 0.8054 - mse: 0.8054 - val_loss: 0.1864 - val_mse: 0.1864\n",
      "Epoch 71/100\n",
      "1/1 [==============================] - 0s 31ms/step - loss: 0.7011 - mse: 0.7011 - val_loss: 0.1884 - val_mse: 0.1884\n",
      "Epoch 72/100\n",
      "1/1 [==============================] - 0s 38ms/step - loss: 0.3429 - mse: 0.3429 - val_loss: 0.1886 - val_mse: 0.1886\n",
      "Epoch 73/100\n",
      "1/1 [==============================] - 0s 28ms/step - loss: 0.6730 - mse: 0.6730 - val_loss: 0.1893 - val_mse: 0.1893\n",
      "Epoch 74/100\n",
      "1/1 [==============================] - 0s 39ms/step - loss: 0.4422 - mse: 0.4422 - val_loss: 0.1876 - val_mse: 0.1876\n",
      "Epoch 75/100\n",
      "1/1 [==============================] - 0s 28ms/step - loss: 0.3661 - mse: 0.3661 - val_loss: 0.1881 - val_mse: 0.1881\n",
      "Epoch 76/100\n",
      "1/1 [==============================] - 0s 29ms/step - loss: 0.7030 - mse: 0.7030 - val_loss: 0.1879 - val_mse: 0.1879\n",
      "Epoch 77/100\n",
      "1/1 [==============================] - 0s 27ms/step - loss: 0.9512 - mse: 0.9512 - val_loss: 0.1863 - val_mse: 0.1863\n",
      "Epoch 78/100\n",
      "1/1 [==============================] - 0s 33ms/step - loss: 0.3548 - mse: 0.3548 - val_loss: 0.1824 - val_mse: 0.1824\n",
      "Epoch 79/100\n",
      "1/1 [==============================] - 0s 28ms/step - loss: 0.4652 - mse: 0.4652 - val_loss: 0.1747 - val_mse: 0.1747\n",
      "Epoch 80/100\n",
      "1/1 [==============================] - 0s 40ms/step - loss: 0.6825 - mse: 0.6825 - val_loss: 0.1660 - val_mse: 0.1660\n",
      "Epoch 81/100\n",
      "1/1 [==============================] - 0s 33ms/step - loss: 0.4401 - mse: 0.4401 - val_loss: 0.1601 - val_mse: 0.1601\n",
      "Epoch 82/100\n",
      "1/1 [==============================] - 0s 33ms/step - loss: 0.3370 - mse: 0.3370 - val_loss: 0.1508 - val_mse: 0.1508\n",
      "Epoch 83/100\n",
      "1/1 [==============================] - 0s 26ms/step - loss: 0.2468 - mse: 0.2468 - val_loss: 0.1420 - val_mse: 0.1420\n",
      "Epoch 84/100\n",
      "1/1 [==============================] - 0s 25ms/step - loss: 0.5063 - mse: 0.5063 - val_loss: 0.1323 - val_mse: 0.1323\n",
      "Epoch 85/100\n",
      "1/1 [==============================] - 0s 24ms/step - loss: 0.2526 - mse: 0.2526 - val_loss: 0.1248 - val_mse: 0.1248\n",
      "Epoch 86/100\n",
      "1/1 [==============================] - 0s 24ms/step - loss: 0.3077 - mse: 0.3077 - val_loss: 0.1167 - val_mse: 0.1167\n",
      "Epoch 87/100\n",
      "1/1 [==============================] - 0s 23ms/step - loss: 0.8149 - mse: 0.8149 - val_loss: 0.1144 - val_mse: 0.1144\n",
      "Epoch 88/100\n",
      "1/1 [==============================] - 0s 23ms/step - loss: 0.4689 - mse: 0.4689 - val_loss: 0.1129 - val_mse: 0.1129\n",
      "Epoch 89/100\n",
      "1/1 [==============================] - 0s 21ms/step - loss: 0.3407 - mse: 0.3407 - val_loss: 0.1104 - val_mse: 0.1104\n",
      "Epoch 90/100\n",
      "1/1 [==============================] - 0s 29ms/step - loss: 0.3498 - mse: 0.3498 - val_loss: 0.1088 - val_mse: 0.1088\n",
      "Epoch 91/100\n",
      "1/1 [==============================] - 0s 42ms/step - loss: 0.3154 - mse: 0.3154 - val_loss: 0.1084 - val_mse: 0.1084\n",
      "Epoch 92/100\n",
      "1/1 [==============================] - 0s 29ms/step - loss: 0.1349 - mse: 0.1349 - val_loss: 0.1070 - val_mse: 0.1070\n",
      "Epoch 93/100\n",
      "1/1 [==============================] - 0s 23ms/step - loss: 0.1555 - mse: 0.1555 - val_loss: 0.1062 - val_mse: 0.1062\n",
      "Epoch 94/100\n",
      "1/1 [==============================] - 0s 26ms/step - loss: 0.7336 - mse: 0.7336 - val_loss: 0.1086 - val_mse: 0.1086\n",
      "Epoch 95/100\n",
      "1/1 [==============================] - 0s 23ms/step - loss: 0.2110 - mse: 0.2110 - val_loss: 0.1094 - val_mse: 0.1094\n",
      "Epoch 96/100\n",
      "1/1 [==============================] - 0s 27ms/step - loss: 0.2790 - mse: 0.2790 - val_loss: 0.1105 - val_mse: 0.1105\n",
      "Epoch 97/100\n",
      "1/1 [==============================] - 0s 24ms/step - loss: 0.1736 - mse: 0.1736 - val_loss: 0.1120 - val_mse: 0.1120\n",
      "Epoch 98/100\n",
      "1/1 [==============================] - 0s 25ms/step - loss: 0.3673 - mse: 0.3673 - val_loss: 0.1108 - val_mse: 0.1108\n",
      "Epoch 99/100\n",
      "1/1 [==============================] - 0s 25ms/step - loss: 0.1313 - mse: 0.1313 - val_loss: 0.1105 - val_mse: 0.1105\n",
      "Epoch 100/100\n",
      "1/1 [==============================] - 0s 23ms/step - loss: 0.7430 - mse: 0.7430 - val_loss: 0.1117 - val_mse: 0.1117\n"
     ]
    }
   ],
   "source": [
    "import tensorflow as tf\n",
    "from tensorflow import keras\n",
    "# from tensorflow.python.keras.layers import Dense\n",
    "import pandas as pd\n",
    "from tensorflow.keras import layers\n",
    "\n",
    "import keras\n",
    "from keras.models import Sequential\n",
    "from keras.layers import Dense\n",
    "\n",
    "variables,results = split_x_and_y(database.iloc[[0,1,2,3,4,5,6,7,8]],['A','E','N'],'Tmax')\n",
    "test_x,test_y = split_x_and_y(database.iloc[[9,10,11]],['A','E','N'],'Tmax')\n",
    "\n",
    "model = keras.Sequential([\n",
    "  layers.Dense(32, activation='relu', input_shape=[len(variables.keys())]),\n",
    "  layers.Dropout(0.3),\n",
    "  layers.Dense(64, activation='relu'),\n",
    "  # layers.Dense(256, activation='relu'),\n",
    "  # layers.Dense(128, activation='relu'),\n",
    "  layers.Dropout(0.3),\n",
    "  layers.Dense(64, activation='relu'),\n",
    "  layers.Dense(1)\n",
    "])\n",
    "\n",
    "# optimizer = tf.keras.optimizers.RMSprop(0.001)\n",
    "\n",
    "model.compile(optimizer='adam',loss='mean_squared_error',metrics=['mse'])\n",
    "\n",
    "history = model.fit(variables.values,results.values,epochs=100,validation_split=0.2)"
   ]
  },
  {
   "cell_type": "code",
   "execution_count": 89,
   "metadata": {},
   "outputs": [
    {
     "data": {
      "text/plain": [
       "<matplotlib.legend.Legend at 0x289bd655af0>"
      ]
     },
     "execution_count": 89,
     "metadata": {},
     "output_type": "execute_result"
    },
    {
     "data": {
      "image/png": "[encoded data removed]",
      "text/plain": [
       "<Figure size 432x288 with 1 Axes>"
      ]
     },
     "metadata": {
      "needs_background": "light"
     },
     "output_type": "display_data"
    }
   ],
   "source": [
    "import matplotlib.pyplot as plt\n",
    "plt.plot(history.history['loss'])\n",
    "plt.plot(history.history['val_loss'])\n",
    "plt.legend(['loss','val_loss'])"
   ]
  },
  {
   "cell_type": "code",
   "execution_count": 90,
   "metadata": {},
   "outputs": [
    {
     "name": "stdout",
     "output_type": "stream",
     "text": [
      "1/1 [==============================] - 0s 55ms/step\n"
     ]
    },
    {
     "data": {
      "text/plain": [
       "array([[ 25.        ,   1.        ,   8.        ,  94.7514009 ],\n",
       "       [ 25.        ,   2.        ,   5.        , 102.71698042],\n",
       "       [ 35.        ,   3.        ,  11.        ,  95.47709267]])"
      ]
     },
     "execution_count": 90,
     "metadata": {},
     "output_type": "execute_result"
    }
   ],
   "source": [
    "guess = model.predict(test_x.values)\n",
    "desnormalizar = test_x.copy()\n",
    "desnormalizar['Tmax'] = guess\n",
    "desnormalizado_teste = standardscaler.inverse_transform(desnormalizar)\n",
    "desnormalizado_teste"
   ]
  },
  {
   "cell_type": "code",
   "execution_count": 91,
   "metadata": {},
   "outputs": [
    {
     "data": {
      "text/plain": [
       "array([[25.  ,  1.  ,  8.  , 76.3 ],\n",
       "       [25.  ,  2.  ,  5.  , 98.76],\n",
       "       [35.  ,  3.  , 11.  , 94.7 ]])"
      ]
     },
     "execution_count": 91,
     "metadata": {},
     "output_type": "execute_result"
    }
   ],
   "source": [
    "desnormalizar = test_x.copy()\n",
    "desnormalizar['Tmax'] = test_y\n",
    "desnormalizado_resultado = standardscaler.inverse_transform(desnormalizar)\n",
    "desnormalizado_resultado"
   ]
  },
  {
   "cell_type": "code",
   "execution_count": 395,
   "metadata": {},
   "outputs": [
    {
     "name": "stdout",
     "output_type": "stream",
     "text": [
      "r2: 0.825284923165511 meansquarederror: 16.68519665631939 meanabsoluteerror: 3.659201678113812 maxerror: 5.168682866543691\n"
     ]
    },
    {
     "data": {
      "text/plain": [
       "(0.825284923165511, 16.68519665631939, 3.659201678113812, 5.168682866543691)"
      ]
     },
     "execution_count": 395,
     "metadata": {},
     "output_type": "execute_result"
    }
   ],
   "source": [
    "scores(desnormalizado_resultado[:,-1],desnormalizado_teste[:,-1])"
   ]
  },
  {
   "cell_type": "code",
   "execution_count": 80,
   "metadata": {},
   "outputs": [],
   "source": [
    "model.save(\"keras_model_Tmax.h5\")"
   ]
  }
 ],
 "metadata": {
  "kernelspec": {
   "display_name": "Python 3.8.8 ('base')",
   "language": "python",
   "name": "python3"
  },
  "language_info": {
   "codemirror_mode": {
    "name": "ipython",
    "version": 3
   },
   "file_extension": ".py",
   "mimetype": "text/x-python",
   "name": "python",
   "nbconvert_exporter": "python",
   "pygments_lexer": "ipython3",
   "version": "3.8.8"
  },
  "orig_nbformat": 4,
  "vscode": {
   "interpreter": {
    "hash": "edbada794071f9c875b2bc5e0e869a1d746a19a0ba8801f10239845106c51c5a"
   }
  }
 },
 "nbformat": 4,
 "nbformat_minor": 2
}
